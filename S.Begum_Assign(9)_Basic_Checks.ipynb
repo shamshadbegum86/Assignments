{
 "cells": [
  {
   "cell_type": "code",
   "execution_count": null,
   "id": "68912663",
   "metadata": {},
   "outputs": [],
   "source": [
    "#------------------> Basic Checks----------> (.txt_file's)"
   ]
  },
  {
   "cell_type": "code",
   "execution_count": null,
   "id": "b6976b12",
   "metadata": {},
   "outputs": [],
   "source": []
  },
  {
   "cell_type": "code",
   "execution_count": null,
   "id": "3f9bff1c",
   "metadata": {},
   "outputs": [],
   "source": [
    "# Task: Write a program\n",
    "\n",
    "# Q> create and import below files. print basic check of all files dataframe?\n",
    "\n",
    "# 1. Create a friend_names.csv file delimiter is comma(,)  (atleast 10 names, columns are FriendName,Quality)\n",
    "# 2. Create a family_members.txt file delimiter is star (*), (atleast 10 names, columns are FamilyMemberName*Relation)\n",
    "# 3. Create a Vegfood_items.txt file delimiter is pipe (|), (atleast 10 names, columns are VegFoodName*Taste)\n",
    "# 4. Create a NonVegfood_items.txt file delimiter is pipe (|), (atleast 10 names, columns are NonVegFoodName*Taste)\n",
    "# 5. Create a month_names.txt file delimiter is and (&), (atleast 12 names, columns are MonthName*Season)\n",
    "# 6. Create a colours_names.txt file delimiter is cap (^), (atleast 12 names, columns are colourName_in_English^colourName_in_Hindi^colourName_in_Telugu)\n",
    "# 7. Create a friend_names.xls file  (atleast 10 names, columns are FriendName,Quality)\n",
    "# 8. Create a family_members.xls file  (atleast 10 names, columns are FamilyMemberName*Relation)\n",
    "# 9. Create a Vegfood_items.xlsx file  (atleast 10 names, columns are VegFoodName*Taste)\n",
    "# 10. Create a NonVegfood_items.xlsx file  (atleast 10 names, columns are NonVegFoodName*Taste)\n",
    "# 11. Create a month_names.xlsx file (atleast 12 names, columns are MonthName*Season)\n",
    "# 12. Create a colours_names.xlsx file  (atleast 12 names, columns are colourName_in_English^colourName_in_Hindi^colourName_in_Telugu)"
   ]
  },
  {
   "cell_type": "code",
   "execution_count": null,
   "id": "4700cd84",
   "metadata": {},
   "outputs": [],
   "source": [
    "#1. Create a friend_names.csv file delimiter is comma(,)  (atleast 10 names, columns are FriendName,Quality)"
   ]
  },
  {
   "cell_type": "code",
   "execution_count": 1,
   "id": "0994d8be",
   "metadata": {},
   "outputs": [
    {
     "data": {
      "text/html": [
       "<div>\n",
       "<style scoped>\n",
       "    .dataframe tbody tr th:only-of-type {\n",
       "        vertical-align: middle;\n",
       "    }\n",
       "\n",
       "    .dataframe tbody tr th {\n",
       "        vertical-align: top;\n",
       "    }\n",
       "\n",
       "    .dataframe thead th {\n",
       "        text-align: right;\n",
       "    }\n",
       "</style>\n",
       "<table border=\"1\" class=\"dataframe\">\n",
       "  <thead>\n",
       "    <tr style=\"text-align: right;\">\n",
       "      <th></th>\n",
       "      <th>Friend_names</th>\n",
       "      <th>Quality</th>\n",
       "    </tr>\n",
       "  </thead>\n",
       "  <tbody>\n",
       "    <tr>\n",
       "      <th>0</th>\n",
       "      <td>Asha</td>\n",
       "      <td>Good</td>\n",
       "    </tr>\n",
       "    <tr>\n",
       "      <th>1</th>\n",
       "      <td>Bhavya</td>\n",
       "      <td>Funny</td>\n",
       "    </tr>\n",
       "    <tr>\n",
       "      <th>2</th>\n",
       "      <td>Chirusri</td>\n",
       "      <td>Active</td>\n",
       "    </tr>\n",
       "    <tr>\n",
       "      <th>3</th>\n",
       "      <td>Divya</td>\n",
       "      <td>Intelligent</td>\n",
       "    </tr>\n",
       "    <tr>\n",
       "      <th>4</th>\n",
       "      <td>Eswari</td>\n",
       "      <td>Innocent</td>\n",
       "    </tr>\n",
       "    <tr>\n",
       "      <th>5</th>\n",
       "      <td>Fharhana</td>\n",
       "      <td>Honest</td>\n",
       "    </tr>\n",
       "    <tr>\n",
       "      <th>6</th>\n",
       "      <td>Gamya</td>\n",
       "      <td>Clever</td>\n",
       "    </tr>\n",
       "    <tr>\n",
       "      <th>7</th>\n",
       "      <td>Hasini</td>\n",
       "      <td>Anger</td>\n",
       "    </tr>\n",
       "    <tr>\n",
       "      <th>8</th>\n",
       "      <td>Indira</td>\n",
       "      <td>Silent</td>\n",
       "    </tr>\n",
       "    <tr>\n",
       "      <th>9</th>\n",
       "      <td>Jaya</td>\n",
       "      <td>Topper</td>\n",
       "    </tr>\n",
       "  </tbody>\n",
       "</table>\n",
       "</div>"
      ],
      "text/plain": [
       "  Friend_names      Quality\n",
       "0         Asha         Good\n",
       "1       Bhavya        Funny\n",
       "2     Chirusri       Active\n",
       "3        Divya  Intelligent\n",
       "4       Eswari     Innocent\n",
       "5     Fharhana       Honest\n",
       "6        Gamya       Clever\n",
       "7       Hasini        Anger\n",
       "8       Indira       Silent\n",
       "9         Jaya       Topper"
      ]
     },
     "execution_count": 1,
     "metadata": {},
     "output_type": "execute_result"
    }
   ],
   "source": [
    "import pandas\n",
    "import pandas as pd\n",
    "Friend_names=pd.read_csv(r\"C:\\Users\\hp\\OneDrive\\Documents\\Begum_Pandas\\Friend_names.txt\")\n",
    "Friend_names"
   ]
  },
  {
   "cell_type": "code",
   "execution_count": null,
   "id": "5b9f84e8",
   "metadata": {},
   "outputs": [],
   "source": [
    "#--------------->Basic Checks\n",
    "\n",
    "[df.index\n",
    " df.shape\n",
    " df.head\n",
    " df.tail\n",
    " df.columns\n",
    " df.info()\n",
    " df.dtypes\n",
    " type(df)]"
   ]
  },
  {
   "cell_type": "code",
   "execution_count": null,
   "id": "0917d07d",
   "metadata": {},
   "outputs": [],
   "source": []
  },
  {
   "cell_type": "code",
   "execution_count": 2,
   "id": "2aad333a",
   "metadata": {},
   "outputs": [
    {
     "data": {
      "text/plain": [
       "RangeIndex(start=0, stop=10, step=1)"
      ]
     },
     "execution_count": 2,
     "metadata": {},
     "output_type": "execute_result"
    }
   ],
   "source": [
    "Friend_names.index"
   ]
  },
  {
   "cell_type": "code",
   "execution_count": 3,
   "id": "d1a44808",
   "metadata": {},
   "outputs": [
    {
     "data": {
      "text/plain": [
       "(10, 2)"
      ]
     },
     "execution_count": 3,
     "metadata": {},
     "output_type": "execute_result"
    }
   ],
   "source": [
    "Friend_names.shape"
   ]
  },
  {
   "cell_type": "code",
   "execution_count": 4,
   "id": "cee5d183",
   "metadata": {},
   "outputs": [
    {
     "data": {
      "text/html": [
       "<div>\n",
       "<style scoped>\n",
       "    .dataframe tbody tr th:only-of-type {\n",
       "        vertical-align: middle;\n",
       "    }\n",
       "\n",
       "    .dataframe tbody tr th {\n",
       "        vertical-align: top;\n",
       "    }\n",
       "\n",
       "    .dataframe thead th {\n",
       "        text-align: right;\n",
       "    }\n",
       "</style>\n",
       "<table border=\"1\" class=\"dataframe\">\n",
       "  <thead>\n",
       "    <tr style=\"text-align: right;\">\n",
       "      <th></th>\n",
       "      <th>Friend_names</th>\n",
       "      <th>Quality</th>\n",
       "    </tr>\n",
       "  </thead>\n",
       "  <tbody>\n",
       "    <tr>\n",
       "      <th>0</th>\n",
       "      <td>Asha</td>\n",
       "      <td>Good</td>\n",
       "    </tr>\n",
       "    <tr>\n",
       "      <th>1</th>\n",
       "      <td>Bhavya</td>\n",
       "      <td>Funny</td>\n",
       "    </tr>\n",
       "    <tr>\n",
       "      <th>2</th>\n",
       "      <td>Chirusri</td>\n",
       "      <td>Active</td>\n",
       "    </tr>\n",
       "    <tr>\n",
       "      <th>3</th>\n",
       "      <td>Divya</td>\n",
       "      <td>Intelligent</td>\n",
       "    </tr>\n",
       "    <tr>\n",
       "      <th>4</th>\n",
       "      <td>Eswari</td>\n",
       "      <td>Innocent</td>\n",
       "    </tr>\n",
       "  </tbody>\n",
       "</table>\n",
       "</div>"
      ],
      "text/plain": [
       "  Friend_names      Quality\n",
       "0         Asha         Good\n",
       "1       Bhavya        Funny\n",
       "2     Chirusri       Active\n",
       "3        Divya  Intelligent\n",
       "4       Eswari     Innocent"
      ]
     },
     "execution_count": 4,
     "metadata": {},
     "output_type": "execute_result"
    }
   ],
   "source": [
    "Friend_names.head()"
   ]
  },
  {
   "cell_type": "code",
   "execution_count": 5,
   "id": "c558ba5d",
   "metadata": {},
   "outputs": [
    {
     "data": {
      "text/html": [
       "<div>\n",
       "<style scoped>\n",
       "    .dataframe tbody tr th:only-of-type {\n",
       "        vertical-align: middle;\n",
       "    }\n",
       "\n",
       "    .dataframe tbody tr th {\n",
       "        vertical-align: top;\n",
       "    }\n",
       "\n",
       "    .dataframe thead th {\n",
       "        text-align: right;\n",
       "    }\n",
       "</style>\n",
       "<table border=\"1\" class=\"dataframe\">\n",
       "  <thead>\n",
       "    <tr style=\"text-align: right;\">\n",
       "      <th></th>\n",
       "      <th>Friend_names</th>\n",
       "      <th>Quality</th>\n",
       "    </tr>\n",
       "  </thead>\n",
       "  <tbody>\n",
       "    <tr>\n",
       "      <th>5</th>\n",
       "      <td>Fharhana</td>\n",
       "      <td>Honest</td>\n",
       "    </tr>\n",
       "    <tr>\n",
       "      <th>6</th>\n",
       "      <td>Gamya</td>\n",
       "      <td>Clever</td>\n",
       "    </tr>\n",
       "    <tr>\n",
       "      <th>7</th>\n",
       "      <td>Hasini</td>\n",
       "      <td>Anger</td>\n",
       "    </tr>\n",
       "    <tr>\n",
       "      <th>8</th>\n",
       "      <td>Indira</td>\n",
       "      <td>Silent</td>\n",
       "    </tr>\n",
       "    <tr>\n",
       "      <th>9</th>\n",
       "      <td>Jaya</td>\n",
       "      <td>Topper</td>\n",
       "    </tr>\n",
       "  </tbody>\n",
       "</table>\n",
       "</div>"
      ],
      "text/plain": [
       "  Friend_names Quality\n",
       "5     Fharhana  Honest\n",
       "6        Gamya  Clever\n",
       "7       Hasini   Anger\n",
       "8       Indira  Silent\n",
       "9         Jaya  Topper"
      ]
     },
     "execution_count": 5,
     "metadata": {},
     "output_type": "execute_result"
    }
   ],
   "source": [
    "Friend_names.tail()"
   ]
  },
  {
   "cell_type": "code",
   "execution_count": 6,
   "id": "47903c49",
   "metadata": {},
   "outputs": [
    {
     "data": {
      "text/plain": [
       "Index(['Friend_names', 'Quality'], dtype='object')"
      ]
     },
     "execution_count": 6,
     "metadata": {},
     "output_type": "execute_result"
    }
   ],
   "source": [
    "Friend_names.columns"
   ]
  },
  {
   "cell_type": "code",
   "execution_count": 7,
   "id": "56524d61",
   "metadata": {},
   "outputs": [
    {
     "name": "stdout",
     "output_type": "stream",
     "text": [
      "<class 'pandas.core.frame.DataFrame'>\n",
      "RangeIndex: 10 entries, 0 to 9\n",
      "Data columns (total 2 columns):\n",
      " #   Column        Non-Null Count  Dtype \n",
      "---  ------        --------------  ----- \n",
      " 0   Friend_names  10 non-null     object\n",
      " 1   Quality       10 non-null     object\n",
      "dtypes: object(2)\n",
      "memory usage: 288.0+ bytes\n"
     ]
    }
   ],
   "source": [
    "Friend_names.info()"
   ]
  },
  {
   "cell_type": "code",
   "execution_count": 8,
   "id": "6780ed5a",
   "metadata": {},
   "outputs": [
    {
     "data": {
      "text/plain": [
       "Friend_names    object\n",
       "Quality         object\n",
       "dtype: object"
      ]
     },
     "execution_count": 8,
     "metadata": {},
     "output_type": "execute_result"
    }
   ],
   "source": [
    "Friend_names.dtypes"
   ]
  },
  {
   "cell_type": "code",
   "execution_count": 10,
   "id": "6be920e4",
   "metadata": {},
   "outputs": [
    {
     "data": {
      "text/plain": [
       "pandas.core.frame.DataFrame"
      ]
     },
     "execution_count": 10,
     "metadata": {},
     "output_type": "execute_result"
    }
   ],
   "source": [
    "type(Friend_names)"
   ]
  },
  {
   "cell_type": "code",
   "execution_count": null,
   "id": "3c5766f4",
   "metadata": {},
   "outputs": [],
   "source": []
  },
  {
   "cell_type": "code",
   "execution_count": null,
   "id": "082ef1cc",
   "metadata": {},
   "outputs": [],
   "source": [
    "#2. Create a family_members.txt file delimiter is star (*), (atleast 10 names, columns are FamilyMemberName*Relation)"
   ]
  },
  {
   "cell_type": "code",
   "execution_count": 11,
   "id": "5fa0d377",
   "metadata": {},
   "outputs": [
    {
     "data": {
      "text/html": [
       "<div>\n",
       "<style scoped>\n",
       "    .dataframe tbody tr th:only-of-type {\n",
       "        vertical-align: middle;\n",
       "    }\n",
       "\n",
       "    .dataframe tbody tr th {\n",
       "        vertical-align: top;\n",
       "    }\n",
       "\n",
       "    .dataframe thead th {\n",
       "        text-align: right;\n",
       "    }\n",
       "</style>\n",
       "<table border=\"1\" class=\"dataframe\">\n",
       "  <thead>\n",
       "    <tr style=\"text-align: right;\">\n",
       "      <th></th>\n",
       "      <th>Family_member_names</th>\n",
       "      <th>Relation</th>\n",
       "    </tr>\n",
       "  </thead>\n",
       "  <tbody>\n",
       "    <tr>\n",
       "      <th>0</th>\n",
       "      <td>Md.Ali</td>\n",
       "      <td>Father</td>\n",
       "    </tr>\n",
       "    <tr>\n",
       "      <th>1</th>\n",
       "      <td>Balkis Jaha</td>\n",
       "      <td>Mother</td>\n",
       "    </tr>\n",
       "    <tr>\n",
       "      <th>2</th>\n",
       "      <td>Shahnaz Begum</td>\n",
       "      <td>Sister</td>\n",
       "    </tr>\n",
       "    <tr>\n",
       "      <th>3</th>\n",
       "      <td>Irfaan</td>\n",
       "      <td>Brother</td>\n",
       "    </tr>\n",
       "    <tr>\n",
       "      <th>4</th>\n",
       "      <td>Afzal Shaw</td>\n",
       "      <td>Brother</td>\n",
       "    </tr>\n",
       "    <tr>\n",
       "      <th>5</th>\n",
       "      <td>Shakeela Begum</td>\n",
       "      <td>Sister</td>\n",
       "    </tr>\n",
       "    <tr>\n",
       "      <th>6</th>\n",
       "      <td>Shamshad</td>\n",
       "      <td>Me</td>\n",
       "    </tr>\n",
       "    <tr>\n",
       "      <th>7</th>\n",
       "      <td>Md.Karamatulla</td>\n",
       "      <td>Husband</td>\n",
       "    </tr>\n",
       "    <tr>\n",
       "      <th>8</th>\n",
       "      <td>Shannu</td>\n",
       "      <td>Daughter</td>\n",
       "    </tr>\n",
       "    <tr>\n",
       "      <th>9</th>\n",
       "      <td>Bhanu</td>\n",
       "      <td>Daughter</td>\n",
       "    </tr>\n",
       "  </tbody>\n",
       "</table>\n",
       "</div>"
      ],
      "text/plain": [
       "  Family_member_names  Relation\n",
       "0              Md.Ali    Father\n",
       "1         Balkis Jaha    Mother\n",
       "2       Shahnaz Begum    Sister\n",
       "3              Irfaan   Brother\n",
       "4          Afzal Shaw   Brother\n",
       "5      Shakeela Begum    Sister\n",
       "6            Shamshad        Me\n",
       "7      Md.Karamatulla   Husband\n",
       "8              Shannu  Daughter\n",
       "9               Bhanu  Daughter"
      ]
     },
     "execution_count": 11,
     "metadata": {},
     "output_type": "execute_result"
    }
   ],
   "source": [
    "import pandas\n",
    "import pandas as pd\n",
    "Family_member_names=pd.read_csv(r\"C:\\Users\\hp\\OneDrive\\Documents\\Begum_Pandas\\Family_member_names.txt\",sep=\"*\")\n",
    "Family_member_names   "
   ]
  },
  {
   "cell_type": "code",
   "execution_count": 12,
   "id": "f9f28387",
   "metadata": {},
   "outputs": [
    {
     "data": {
      "text/plain": [
       "RangeIndex(start=0, stop=10, step=1)"
      ]
     },
     "execution_count": 12,
     "metadata": {},
     "output_type": "execute_result"
    }
   ],
   "source": [
    "Family_member_names.index"
   ]
  },
  {
   "cell_type": "code",
   "execution_count": 13,
   "id": "59d20786",
   "metadata": {},
   "outputs": [
    {
     "data": {
      "text/plain": [
       "(10, 2)"
      ]
     },
     "execution_count": 13,
     "metadata": {},
     "output_type": "execute_result"
    }
   ],
   "source": [
    "Family_member_names.shape"
   ]
  },
  {
   "cell_type": "code",
   "execution_count": 14,
   "id": "22e871c4",
   "metadata": {},
   "outputs": [
    {
     "data": {
      "text/html": [
       "<div>\n",
       "<style scoped>\n",
       "    .dataframe tbody tr th:only-of-type {\n",
       "        vertical-align: middle;\n",
       "    }\n",
       "\n",
       "    .dataframe tbody tr th {\n",
       "        vertical-align: top;\n",
       "    }\n",
       "\n",
       "    .dataframe thead th {\n",
       "        text-align: right;\n",
       "    }\n",
       "</style>\n",
       "<table border=\"1\" class=\"dataframe\">\n",
       "  <thead>\n",
       "    <tr style=\"text-align: right;\">\n",
       "      <th></th>\n",
       "      <th>Family_member_names</th>\n",
       "      <th>Relation</th>\n",
       "    </tr>\n",
       "  </thead>\n",
       "  <tbody>\n",
       "    <tr>\n",
       "      <th>0</th>\n",
       "      <td>Md.Ali</td>\n",
       "      <td>Father</td>\n",
       "    </tr>\n",
       "    <tr>\n",
       "      <th>1</th>\n",
       "      <td>Balkis Jaha</td>\n",
       "      <td>Mother</td>\n",
       "    </tr>\n",
       "    <tr>\n",
       "      <th>2</th>\n",
       "      <td>Shahnaz Begum</td>\n",
       "      <td>Sister</td>\n",
       "    </tr>\n",
       "    <tr>\n",
       "      <th>3</th>\n",
       "      <td>Irfaan</td>\n",
       "      <td>Brother</td>\n",
       "    </tr>\n",
       "    <tr>\n",
       "      <th>4</th>\n",
       "      <td>Afzal Shaw</td>\n",
       "      <td>Brother</td>\n",
       "    </tr>\n",
       "  </tbody>\n",
       "</table>\n",
       "</div>"
      ],
      "text/plain": [
       "  Family_member_names Relation\n",
       "0              Md.Ali   Father\n",
       "1         Balkis Jaha   Mother\n",
       "2       Shahnaz Begum   Sister\n",
       "3              Irfaan  Brother\n",
       "4          Afzal Shaw  Brother"
      ]
     },
     "execution_count": 14,
     "metadata": {},
     "output_type": "execute_result"
    }
   ],
   "source": [
    "Family_member_names.head()"
   ]
  },
  {
   "cell_type": "code",
   "execution_count": 15,
   "id": "444bece3",
   "metadata": {},
   "outputs": [
    {
     "data": {
      "text/html": [
       "<div>\n",
       "<style scoped>\n",
       "    .dataframe tbody tr th:only-of-type {\n",
       "        vertical-align: middle;\n",
       "    }\n",
       "\n",
       "    .dataframe tbody tr th {\n",
       "        vertical-align: top;\n",
       "    }\n",
       "\n",
       "    .dataframe thead th {\n",
       "        text-align: right;\n",
       "    }\n",
       "</style>\n",
       "<table border=\"1\" class=\"dataframe\">\n",
       "  <thead>\n",
       "    <tr style=\"text-align: right;\">\n",
       "      <th></th>\n",
       "      <th>Family_member_names</th>\n",
       "      <th>Relation</th>\n",
       "    </tr>\n",
       "  </thead>\n",
       "  <tbody>\n",
       "    <tr>\n",
       "      <th>5</th>\n",
       "      <td>Shakeela Begum</td>\n",
       "      <td>Sister</td>\n",
       "    </tr>\n",
       "    <tr>\n",
       "      <th>6</th>\n",
       "      <td>Shamshad</td>\n",
       "      <td>Me</td>\n",
       "    </tr>\n",
       "    <tr>\n",
       "      <th>7</th>\n",
       "      <td>Md.Karamatulla</td>\n",
       "      <td>Husband</td>\n",
       "    </tr>\n",
       "    <tr>\n",
       "      <th>8</th>\n",
       "      <td>Shannu</td>\n",
       "      <td>Daughter</td>\n",
       "    </tr>\n",
       "    <tr>\n",
       "      <th>9</th>\n",
       "      <td>Bhanu</td>\n",
       "      <td>Daughter</td>\n",
       "    </tr>\n",
       "  </tbody>\n",
       "</table>\n",
       "</div>"
      ],
      "text/plain": [
       "  Family_member_names  Relation\n",
       "5      Shakeela Begum    Sister\n",
       "6            Shamshad        Me\n",
       "7      Md.Karamatulla   Husband\n",
       "8              Shannu  Daughter\n",
       "9               Bhanu  Daughter"
      ]
     },
     "execution_count": 15,
     "metadata": {},
     "output_type": "execute_result"
    }
   ],
   "source": [
    "Family_member_names.tail()"
   ]
  },
  {
   "cell_type": "code",
   "execution_count": 16,
   "id": "7484182e",
   "metadata": {},
   "outputs": [
    {
     "data": {
      "text/plain": [
       "Index(['Family_member_names', 'Relation'], dtype='object')"
      ]
     },
     "execution_count": 16,
     "metadata": {},
     "output_type": "execute_result"
    }
   ],
   "source": [
    "Family_member_names.columns"
   ]
  },
  {
   "cell_type": "code",
   "execution_count": 17,
   "id": "e43140f5",
   "metadata": {},
   "outputs": [
    {
     "name": "stdout",
     "output_type": "stream",
     "text": [
      "<class 'pandas.core.frame.DataFrame'>\n",
      "RangeIndex: 10 entries, 0 to 9\n",
      "Data columns (total 2 columns):\n",
      " #   Column               Non-Null Count  Dtype \n",
      "---  ------               --------------  ----- \n",
      " 0   Family_member_names  10 non-null     object\n",
      " 1   Relation             10 non-null     object\n",
      "dtypes: object(2)\n",
      "memory usage: 288.0+ bytes\n"
     ]
    }
   ],
   "source": [
    "Family_member_names.info()"
   ]
  },
  {
   "cell_type": "code",
   "execution_count": 18,
   "id": "7b951a07",
   "metadata": {},
   "outputs": [
    {
     "data": {
      "text/plain": [
       "Family_member_names    object\n",
       "Relation               object\n",
       "dtype: object"
      ]
     },
     "execution_count": 18,
     "metadata": {},
     "output_type": "execute_result"
    }
   ],
   "source": [
    "Family_member_names.dtypes"
   ]
  },
  {
   "cell_type": "code",
   "execution_count": 19,
   "id": "e34b6608",
   "metadata": {},
   "outputs": [
    {
     "data": {
      "text/plain": [
       "pandas.core.frame.DataFrame"
      ]
     },
     "execution_count": 19,
     "metadata": {},
     "output_type": "execute_result"
    }
   ],
   "source": [
    "type(Family_member_names)"
   ]
  },
  {
   "cell_type": "code",
   "execution_count": null,
   "id": "348c5e31",
   "metadata": {},
   "outputs": [],
   "source": []
  },
  {
   "cell_type": "code",
   "execution_count": null,
   "id": "a1ee7779",
   "metadata": {},
   "outputs": [],
   "source": [
    "# 3. Create a Vegfood_items.txt file delimiter is pipe (|), (atleast 10 names, columns are VegFoodName*Taste)"
   ]
  },
  {
   "cell_type": "code",
   "execution_count": 20,
   "id": "9006bee5",
   "metadata": {},
   "outputs": [
    {
     "data": {
      "text/html": [
       "<div>\n",
       "<style scoped>\n",
       "    .dataframe tbody tr th:only-of-type {\n",
       "        vertical-align: middle;\n",
       "    }\n",
       "\n",
       "    .dataframe tbody tr th {\n",
       "        vertical-align: top;\n",
       "    }\n",
       "\n",
       "    .dataframe thead th {\n",
       "        text-align: right;\n",
       "    }\n",
       "</style>\n",
       "<table border=\"1\" class=\"dataframe\">\n",
       "  <thead>\n",
       "    <tr style=\"text-align: right;\">\n",
       "      <th></th>\n",
       "      <th>Veg.Food.Names</th>\n",
       "      <th>Taste</th>\n",
       "    </tr>\n",
       "  </thead>\n",
       "  <tbody>\n",
       "    <tr>\n",
       "      <th>0</th>\n",
       "      <td>Tomato Dal</td>\n",
       "      <td>Excellent</td>\n",
       "    </tr>\n",
       "    <tr>\n",
       "      <th>1</th>\n",
       "      <td>Aalu Fry</td>\n",
       "      <td>Spaicy</td>\n",
       "    </tr>\n",
       "    <tr>\n",
       "      <th>2</th>\n",
       "      <td>Potato Brinjaal Curry</td>\n",
       "      <td>Supper</td>\n",
       "    </tr>\n",
       "    <tr>\n",
       "      <th>3</th>\n",
       "      <td>Lady's Finger Fry</td>\n",
       "      <td>Spaicy</td>\n",
       "    </tr>\n",
       "    <tr>\n",
       "      <th>4</th>\n",
       "      <td>Tomato Curry</td>\n",
       "      <td>Good</td>\n",
       "    </tr>\n",
       "    <tr>\n",
       "      <th>5</th>\n",
       "      <td>Cabbage Fry</td>\n",
       "      <td>Cripcy</td>\n",
       "    </tr>\n",
       "    <tr>\n",
       "      <th>6</th>\n",
       "      <td>Rig Guard Dal</td>\n",
       "      <td>Supper</td>\n",
       "    </tr>\n",
       "    <tr>\n",
       "      <th>7</th>\n",
       "      <td>Sambar</td>\n",
       "      <td>Good</td>\n",
       "    </tr>\n",
       "    <tr>\n",
       "      <th>8</th>\n",
       "      <td>Gulab Jamun</td>\n",
       "      <td>Supper</td>\n",
       "    </tr>\n",
       "    <tr>\n",
       "      <th>9</th>\n",
       "      <td>Pulihora</td>\n",
       "      <td>Spaicy</td>\n",
       "    </tr>\n",
       "  </tbody>\n",
       "</table>\n",
       "</div>"
      ],
      "text/plain": [
       "          Veg.Food.Names      Taste\n",
       "0             Tomato Dal  Excellent\n",
       "1               Aalu Fry     Spaicy\n",
       "2  Potato Brinjaal Curry     Supper\n",
       "3      Lady's Finger Fry     Spaicy\n",
       "4           Tomato Curry       Good\n",
       "5            Cabbage Fry     Cripcy\n",
       "6          Rig Guard Dal     Supper\n",
       "7                 Sambar       Good\n",
       "8            Gulab Jamun     Supper\n",
       "9               Pulihora     Spaicy"
      ]
     },
     "execution_count": 20,
     "metadata": {},
     "output_type": "execute_result"
    }
   ],
   "source": [
    "import pandas\n",
    "import pandas as pd\n",
    "Vegfood_items=pd.read_csv(r\"C:\\Users\\hp\\OneDrive\\Documents\\Begum_Pandas\\Veg_Food_items.txt\",sep=\"|\")\n",
    "Vegfood_items"
   ]
  },
  {
   "cell_type": "code",
   "execution_count": 21,
   "id": "51b2f082",
   "metadata": {},
   "outputs": [
    {
     "data": {
      "text/plain": [
       "RangeIndex(start=0, stop=10, step=1)"
      ]
     },
     "execution_count": 21,
     "metadata": {},
     "output_type": "execute_result"
    }
   ],
   "source": [
    "Vegfood_items.index"
   ]
  },
  {
   "cell_type": "code",
   "execution_count": 22,
   "id": "4d56d048",
   "metadata": {},
   "outputs": [
    {
     "data": {
      "text/plain": [
       "(10, 2)"
      ]
     },
     "execution_count": 22,
     "metadata": {},
     "output_type": "execute_result"
    }
   ],
   "source": [
    "Vegfood_items.shape"
   ]
  },
  {
   "cell_type": "code",
   "execution_count": 23,
   "id": "5e817f9c",
   "metadata": {},
   "outputs": [
    {
     "data": {
      "text/html": [
       "<div>\n",
       "<style scoped>\n",
       "    .dataframe tbody tr th:only-of-type {\n",
       "        vertical-align: middle;\n",
       "    }\n",
       "\n",
       "    .dataframe tbody tr th {\n",
       "        vertical-align: top;\n",
       "    }\n",
       "\n",
       "    .dataframe thead th {\n",
       "        text-align: right;\n",
       "    }\n",
       "</style>\n",
       "<table border=\"1\" class=\"dataframe\">\n",
       "  <thead>\n",
       "    <tr style=\"text-align: right;\">\n",
       "      <th></th>\n",
       "      <th>Veg.Food.Names</th>\n",
       "      <th>Taste</th>\n",
       "    </tr>\n",
       "  </thead>\n",
       "  <tbody>\n",
       "    <tr>\n",
       "      <th>0</th>\n",
       "      <td>Tomato Dal</td>\n",
       "      <td>Excellent</td>\n",
       "    </tr>\n",
       "    <tr>\n",
       "      <th>1</th>\n",
       "      <td>Aalu Fry</td>\n",
       "      <td>Spaicy</td>\n",
       "    </tr>\n",
       "    <tr>\n",
       "      <th>2</th>\n",
       "      <td>Potato Brinjaal Curry</td>\n",
       "      <td>Supper</td>\n",
       "    </tr>\n",
       "    <tr>\n",
       "      <th>3</th>\n",
       "      <td>Lady's Finger Fry</td>\n",
       "      <td>Spaicy</td>\n",
       "    </tr>\n",
       "    <tr>\n",
       "      <th>4</th>\n",
       "      <td>Tomato Curry</td>\n",
       "      <td>Good</td>\n",
       "    </tr>\n",
       "  </tbody>\n",
       "</table>\n",
       "</div>"
      ],
      "text/plain": [
       "          Veg.Food.Names      Taste\n",
       "0             Tomato Dal  Excellent\n",
       "1               Aalu Fry     Spaicy\n",
       "2  Potato Brinjaal Curry     Supper\n",
       "3      Lady's Finger Fry     Spaicy\n",
       "4           Tomato Curry       Good"
      ]
     },
     "execution_count": 23,
     "metadata": {},
     "output_type": "execute_result"
    }
   ],
   "source": [
    "Vegfood_items.head()"
   ]
  },
  {
   "cell_type": "code",
   "execution_count": 24,
   "id": "e72d9877",
   "metadata": {},
   "outputs": [
    {
     "data": {
      "text/html": [
       "<div>\n",
       "<style scoped>\n",
       "    .dataframe tbody tr th:only-of-type {\n",
       "        vertical-align: middle;\n",
       "    }\n",
       "\n",
       "    .dataframe tbody tr th {\n",
       "        vertical-align: top;\n",
       "    }\n",
       "\n",
       "    .dataframe thead th {\n",
       "        text-align: right;\n",
       "    }\n",
       "</style>\n",
       "<table border=\"1\" class=\"dataframe\">\n",
       "  <thead>\n",
       "    <tr style=\"text-align: right;\">\n",
       "      <th></th>\n",
       "      <th>Veg.Food.Names</th>\n",
       "      <th>Taste</th>\n",
       "    </tr>\n",
       "  </thead>\n",
       "  <tbody>\n",
       "    <tr>\n",
       "      <th>5</th>\n",
       "      <td>Cabbage Fry</td>\n",
       "      <td>Cripcy</td>\n",
       "    </tr>\n",
       "    <tr>\n",
       "      <th>6</th>\n",
       "      <td>Rig Guard Dal</td>\n",
       "      <td>Supper</td>\n",
       "    </tr>\n",
       "    <tr>\n",
       "      <th>7</th>\n",
       "      <td>Sambar</td>\n",
       "      <td>Good</td>\n",
       "    </tr>\n",
       "    <tr>\n",
       "      <th>8</th>\n",
       "      <td>Gulab Jamun</td>\n",
       "      <td>Supper</td>\n",
       "    </tr>\n",
       "    <tr>\n",
       "      <th>9</th>\n",
       "      <td>Pulihora</td>\n",
       "      <td>Spaicy</td>\n",
       "    </tr>\n",
       "  </tbody>\n",
       "</table>\n",
       "</div>"
      ],
      "text/plain": [
       "  Veg.Food.Names   Taste\n",
       "5    Cabbage Fry  Cripcy\n",
       "6  Rig Guard Dal  Supper\n",
       "7         Sambar    Good\n",
       "8    Gulab Jamun  Supper\n",
       "9       Pulihora  Spaicy"
      ]
     },
     "execution_count": 24,
     "metadata": {},
     "output_type": "execute_result"
    }
   ],
   "source": [
    "Vegfood_items.tail()"
   ]
  },
  {
   "cell_type": "code",
   "execution_count": 25,
   "id": "740bad5d",
   "metadata": {},
   "outputs": [
    {
     "data": {
      "text/plain": [
       "Index(['Veg.Food.Names', 'Taste'], dtype='object')"
      ]
     },
     "execution_count": 25,
     "metadata": {},
     "output_type": "execute_result"
    }
   ],
   "source": [
    "Vegfood_items.columns"
   ]
  },
  {
   "cell_type": "code",
   "execution_count": 26,
   "id": "d9e38b71",
   "metadata": {},
   "outputs": [
    {
     "name": "stdout",
     "output_type": "stream",
     "text": [
      "<class 'pandas.core.frame.DataFrame'>\n",
      "RangeIndex: 10 entries, 0 to 9\n",
      "Data columns (total 2 columns):\n",
      " #   Column          Non-Null Count  Dtype \n",
      "---  ------          --------------  ----- \n",
      " 0   Veg.Food.Names  10 non-null     object\n",
      " 1   Taste           10 non-null     object\n",
      "dtypes: object(2)\n",
      "memory usage: 288.0+ bytes\n"
     ]
    }
   ],
   "source": [
    "Vegfood_items.info()"
   ]
  },
  {
   "cell_type": "code",
   "execution_count": 27,
   "id": "f481d065",
   "metadata": {},
   "outputs": [
    {
     "data": {
      "text/plain": [
       "Veg.Food.Names    object\n",
       "Taste             object\n",
       "dtype: object"
      ]
     },
     "execution_count": 27,
     "metadata": {},
     "output_type": "execute_result"
    }
   ],
   "source": [
    "Vegfood_items.dtypes"
   ]
  },
  {
   "cell_type": "code",
   "execution_count": 28,
   "id": "485cad8f",
   "metadata": {},
   "outputs": [
    {
     "data": {
      "text/plain": [
       "pandas.core.frame.DataFrame"
      ]
     },
     "execution_count": 28,
     "metadata": {},
     "output_type": "execute_result"
    }
   ],
   "source": [
    "type(Vegfood_items)"
   ]
  },
  {
   "cell_type": "code",
   "execution_count": null,
   "id": "4e68eeb2",
   "metadata": {},
   "outputs": [],
   "source": []
  },
  {
   "cell_type": "code",
   "execution_count": null,
   "id": "967bf9f7",
   "metadata": {},
   "outputs": [],
   "source": [
    "# 4. Create a NonVegfood_items.txt file delimiter is pipe (|), (atleast 10 names, columns are NonVegFoodName*Taste)"
   ]
  },
  {
   "cell_type": "code",
   "execution_count": 29,
   "id": "b362f93d",
   "metadata": {},
   "outputs": [
    {
     "data": {
      "text/html": [
       "<div>\n",
       "<style scoped>\n",
       "    .dataframe tbody tr th:only-of-type {\n",
       "        vertical-align: middle;\n",
       "    }\n",
       "\n",
       "    .dataframe tbody tr th {\n",
       "        vertical-align: top;\n",
       "    }\n",
       "\n",
       "    .dataframe thead th {\n",
       "        text-align: right;\n",
       "    }\n",
       "</style>\n",
       "<table border=\"1\" class=\"dataframe\">\n",
       "  <thead>\n",
       "    <tr style=\"text-align: right;\">\n",
       "      <th></th>\n",
       "      <th>Non.Veg.Food.Names</th>\n",
       "      <th>Taste</th>\n",
       "    </tr>\n",
       "  </thead>\n",
       "  <tbody>\n",
       "    <tr>\n",
       "      <th>0</th>\n",
       "      <td>Matton Curry</td>\n",
       "      <td>Excellent</td>\n",
       "    </tr>\n",
       "    <tr>\n",
       "      <th>1</th>\n",
       "      <td>Matton Khurma</td>\n",
       "      <td>Supper</td>\n",
       "    </tr>\n",
       "    <tr>\n",
       "      <th>2</th>\n",
       "      <td>Chicken Curry</td>\n",
       "      <td>Good</td>\n",
       "    </tr>\n",
       "    <tr>\n",
       "      <th>3</th>\n",
       "      <td>Matton Biryani</td>\n",
       "      <td>Excellent</td>\n",
       "    </tr>\n",
       "    <tr>\n",
       "      <th>4</th>\n",
       "      <td>Chicken Biryani</td>\n",
       "      <td>Supper</td>\n",
       "    </tr>\n",
       "    <tr>\n",
       "      <th>5</th>\n",
       "      <td>Chicken fry</td>\n",
       "      <td>Crepcy</td>\n",
       "    </tr>\n",
       "    <tr>\n",
       "      <th>6</th>\n",
       "      <td>Matton fry</td>\n",
       "      <td>Spicy</td>\n",
       "    </tr>\n",
       "    <tr>\n",
       "      <th>7</th>\n",
       "      <td>Fish  Curry</td>\n",
       "      <td>Supper</td>\n",
       "    </tr>\n",
       "    <tr>\n",
       "      <th>8</th>\n",
       "      <td>Fish fry</td>\n",
       "      <td>Spicy</td>\n",
       "    </tr>\n",
       "    <tr>\n",
       "      <th>9</th>\n",
       "      <td>Prawns fry</td>\n",
       "      <td>Good</td>\n",
       "    </tr>\n",
       "  </tbody>\n",
       "</table>\n",
       "</div>"
      ],
      "text/plain": [
       "  Non.Veg.Food.Names      Taste\n",
       "0       Matton Curry  Excellent\n",
       "1      Matton Khurma     Supper\n",
       "2      Chicken Curry       Good\n",
       "3     Matton Biryani  Excellent\n",
       "4    Chicken Biryani     Supper\n",
       "5        Chicken fry     Crepcy\n",
       "6         Matton fry      Spicy\n",
       "7        Fish  Curry     Supper\n",
       "8           Fish fry      Spicy\n",
       "9         Prawns fry       Good"
      ]
     },
     "execution_count": 29,
     "metadata": {},
     "output_type": "execute_result"
    }
   ],
   "source": [
    "import pandas\n",
    "import pandas as pd\n",
    "NonVeg_food_items=pd.read_csv(r\"C:\\Users\\hp\\OneDrive\\Documents\\Begum_Pandas\\NonVeg_Food_items.txt\",sep=\"|\")\n",
    "NonVeg_food_items"
   ]
  },
  {
   "cell_type": "code",
   "execution_count": 30,
   "id": "8b005976",
   "metadata": {},
   "outputs": [
    {
     "data": {
      "text/plain": [
       "RangeIndex(start=0, stop=10, step=1)"
      ]
     },
     "execution_count": 30,
     "metadata": {},
     "output_type": "execute_result"
    }
   ],
   "source": [
    "NonVeg_food_items.index"
   ]
  },
  {
   "cell_type": "code",
   "execution_count": 31,
   "id": "988d4bcf",
   "metadata": {},
   "outputs": [
    {
     "data": {
      "text/plain": [
       "(10, 2)"
      ]
     },
     "execution_count": 31,
     "metadata": {},
     "output_type": "execute_result"
    }
   ],
   "source": [
    "NonVeg_food_items.shape"
   ]
  },
  {
   "cell_type": "code",
   "execution_count": 32,
   "id": "ef4e125a",
   "metadata": {},
   "outputs": [
    {
     "data": {
      "text/html": [
       "<div>\n",
       "<style scoped>\n",
       "    .dataframe tbody tr th:only-of-type {\n",
       "        vertical-align: middle;\n",
       "    }\n",
       "\n",
       "    .dataframe tbody tr th {\n",
       "        vertical-align: top;\n",
       "    }\n",
       "\n",
       "    .dataframe thead th {\n",
       "        text-align: right;\n",
       "    }\n",
       "</style>\n",
       "<table border=\"1\" class=\"dataframe\">\n",
       "  <thead>\n",
       "    <tr style=\"text-align: right;\">\n",
       "      <th></th>\n",
       "      <th>Non.Veg.Food.Names</th>\n",
       "      <th>Taste</th>\n",
       "    </tr>\n",
       "  </thead>\n",
       "  <tbody>\n",
       "    <tr>\n",
       "      <th>0</th>\n",
       "      <td>Matton Curry</td>\n",
       "      <td>Excellent</td>\n",
       "    </tr>\n",
       "    <tr>\n",
       "      <th>1</th>\n",
       "      <td>Matton Khurma</td>\n",
       "      <td>Supper</td>\n",
       "    </tr>\n",
       "    <tr>\n",
       "      <th>2</th>\n",
       "      <td>Chicken Curry</td>\n",
       "      <td>Good</td>\n",
       "    </tr>\n",
       "    <tr>\n",
       "      <th>3</th>\n",
       "      <td>Matton Biryani</td>\n",
       "      <td>Excellent</td>\n",
       "    </tr>\n",
       "    <tr>\n",
       "      <th>4</th>\n",
       "      <td>Chicken Biryani</td>\n",
       "      <td>Supper</td>\n",
       "    </tr>\n",
       "  </tbody>\n",
       "</table>\n",
       "</div>"
      ],
      "text/plain": [
       "  Non.Veg.Food.Names      Taste\n",
       "0       Matton Curry  Excellent\n",
       "1      Matton Khurma     Supper\n",
       "2      Chicken Curry       Good\n",
       "3     Matton Biryani  Excellent\n",
       "4    Chicken Biryani     Supper"
      ]
     },
     "execution_count": 32,
     "metadata": {},
     "output_type": "execute_result"
    }
   ],
   "source": [
    "NonVeg_food_items.head()"
   ]
  },
  {
   "cell_type": "code",
   "execution_count": 33,
   "id": "50eb905f",
   "metadata": {},
   "outputs": [
    {
     "data": {
      "text/html": [
       "<div>\n",
       "<style scoped>\n",
       "    .dataframe tbody tr th:only-of-type {\n",
       "        vertical-align: middle;\n",
       "    }\n",
       "\n",
       "    .dataframe tbody tr th {\n",
       "        vertical-align: top;\n",
       "    }\n",
       "\n",
       "    .dataframe thead th {\n",
       "        text-align: right;\n",
       "    }\n",
       "</style>\n",
       "<table border=\"1\" class=\"dataframe\">\n",
       "  <thead>\n",
       "    <tr style=\"text-align: right;\">\n",
       "      <th></th>\n",
       "      <th>Non.Veg.Food.Names</th>\n",
       "      <th>Taste</th>\n",
       "    </tr>\n",
       "  </thead>\n",
       "  <tbody>\n",
       "    <tr>\n",
       "      <th>5</th>\n",
       "      <td>Chicken fry</td>\n",
       "      <td>Crepcy</td>\n",
       "    </tr>\n",
       "    <tr>\n",
       "      <th>6</th>\n",
       "      <td>Matton fry</td>\n",
       "      <td>Spicy</td>\n",
       "    </tr>\n",
       "    <tr>\n",
       "      <th>7</th>\n",
       "      <td>Fish  Curry</td>\n",
       "      <td>Supper</td>\n",
       "    </tr>\n",
       "    <tr>\n",
       "      <th>8</th>\n",
       "      <td>Fish fry</td>\n",
       "      <td>Spicy</td>\n",
       "    </tr>\n",
       "    <tr>\n",
       "      <th>9</th>\n",
       "      <td>Prawns fry</td>\n",
       "      <td>Good</td>\n",
       "    </tr>\n",
       "  </tbody>\n",
       "</table>\n",
       "</div>"
      ],
      "text/plain": [
       "  Non.Veg.Food.Names   Taste\n",
       "5        Chicken fry  Crepcy\n",
       "6         Matton fry   Spicy\n",
       "7        Fish  Curry  Supper\n",
       "8           Fish fry   Spicy\n",
       "9         Prawns fry    Good"
      ]
     },
     "execution_count": 33,
     "metadata": {},
     "output_type": "execute_result"
    }
   ],
   "source": [
    "NonVeg_food_items.tail()"
   ]
  },
  {
   "cell_type": "code",
   "execution_count": 34,
   "id": "32e1d13c",
   "metadata": {},
   "outputs": [
    {
     "data": {
      "text/plain": [
       "Index(['Non.Veg.Food.Names', 'Taste'], dtype='object')"
      ]
     },
     "execution_count": 34,
     "metadata": {},
     "output_type": "execute_result"
    }
   ],
   "source": [
    "NonVeg_food_items.columns"
   ]
  },
  {
   "cell_type": "code",
   "execution_count": 35,
   "id": "07bd6a3d",
   "metadata": {},
   "outputs": [
    {
     "name": "stdout",
     "output_type": "stream",
     "text": [
      "<class 'pandas.core.frame.DataFrame'>\n",
      "RangeIndex: 10 entries, 0 to 9\n",
      "Data columns (total 2 columns):\n",
      " #   Column              Non-Null Count  Dtype \n",
      "---  ------              --------------  ----- \n",
      " 0   Non.Veg.Food.Names  10 non-null     object\n",
      " 1   Taste               10 non-null     object\n",
      "dtypes: object(2)\n",
      "memory usage: 288.0+ bytes\n"
     ]
    }
   ],
   "source": [
    "NonVeg_food_items.info()"
   ]
  },
  {
   "cell_type": "code",
   "execution_count": 36,
   "id": "12a45a96",
   "metadata": {},
   "outputs": [
    {
     "data": {
      "text/plain": [
       "Non.Veg.Food.Names    object\n",
       "Taste                 object\n",
       "dtype: object"
      ]
     },
     "execution_count": 36,
     "metadata": {},
     "output_type": "execute_result"
    }
   ],
   "source": [
    "NonVeg_food_items.dtypes"
   ]
  },
  {
   "cell_type": "code",
   "execution_count": 37,
   "id": "07d11645",
   "metadata": {},
   "outputs": [
    {
     "data": {
      "text/plain": [
       "pandas.core.frame.DataFrame"
      ]
     },
     "execution_count": 37,
     "metadata": {},
     "output_type": "execute_result"
    }
   ],
   "source": [
    "type(NonVeg_food_items)"
   ]
  },
  {
   "cell_type": "code",
   "execution_count": null,
   "id": "51b6ac51",
   "metadata": {},
   "outputs": [],
   "source": []
  },
  {
   "cell_type": "code",
   "execution_count": null,
   "id": "193e6a25",
   "metadata": {},
   "outputs": [],
   "source": [
    "# 5. Create a month_names.txt file delimiter is and (&), (atleast 12 names, columns are MonthName*Season)"
   ]
  },
  {
   "cell_type": "code",
   "execution_count": 38,
   "id": "8856ed70",
   "metadata": {},
   "outputs": [
    {
     "data": {
      "text/html": [
       "<div>\n",
       "<style scoped>\n",
       "    .dataframe tbody tr th:only-of-type {\n",
       "        vertical-align: middle;\n",
       "    }\n",
       "\n",
       "    .dataframe tbody tr th {\n",
       "        vertical-align: top;\n",
       "    }\n",
       "\n",
       "    .dataframe thead th {\n",
       "        text-align: right;\n",
       "    }\n",
       "</style>\n",
       "<table border=\"1\" class=\"dataframe\">\n",
       "  <thead>\n",
       "    <tr style=\"text-align: right;\">\n",
       "      <th></th>\n",
       "      <th>Month names</th>\n",
       "      <th>Season</th>\n",
       "    </tr>\n",
       "  </thead>\n",
       "  <tbody>\n",
       "    <tr>\n",
       "      <th>0</th>\n",
       "      <td>January</td>\n",
       "      <td>Winter</td>\n",
       "    </tr>\n",
       "    <tr>\n",
       "      <th>1</th>\n",
       "      <td>February</td>\n",
       "      <td>Winter</td>\n",
       "    </tr>\n",
       "    <tr>\n",
       "      <th>2</th>\n",
       "      <td>March</td>\n",
       "      <td>Summer</td>\n",
       "    </tr>\n",
       "    <tr>\n",
       "      <th>3</th>\n",
       "      <td>April</td>\n",
       "      <td>Summer</td>\n",
       "    </tr>\n",
       "    <tr>\n",
       "      <th>4</th>\n",
       "      <td>May</td>\n",
       "      <td>Summer</td>\n",
       "    </tr>\n",
       "    <tr>\n",
       "      <th>5</th>\n",
       "      <td>June</td>\n",
       "      <td>Summer</td>\n",
       "    </tr>\n",
       "    <tr>\n",
       "      <th>6</th>\n",
       "      <td>July</td>\n",
       "      <td>Rainy</td>\n",
       "    </tr>\n",
       "    <tr>\n",
       "      <th>7</th>\n",
       "      <td>August</td>\n",
       "      <td>Rainy</td>\n",
       "    </tr>\n",
       "    <tr>\n",
       "      <th>8</th>\n",
       "      <td>September</td>\n",
       "      <td>Rainy</td>\n",
       "    </tr>\n",
       "    <tr>\n",
       "      <th>9</th>\n",
       "      <td>October</td>\n",
       "      <td>Rainy</td>\n",
       "    </tr>\n",
       "    <tr>\n",
       "      <th>10</th>\n",
       "      <td>November</td>\n",
       "      <td>Winter</td>\n",
       "    </tr>\n",
       "    <tr>\n",
       "      <th>11</th>\n",
       "      <td>December</td>\n",
       "      <td>Winter</td>\n",
       "    </tr>\n",
       "  </tbody>\n",
       "</table>\n",
       "</div>"
      ],
      "text/plain": [
       "   Month names  Season\n",
       "0      January  Winter\n",
       "1     February  Winter\n",
       "2        March  Summer\n",
       "3        April  Summer\n",
       "4          May  Summer\n",
       "5         June  Summer\n",
       "6         July   Rainy\n",
       "7       August   Rainy\n",
       "8    September   Rainy\n",
       "9      October   Rainy\n",
       "10    November  Winter\n",
       "11    December  Winter"
      ]
     },
     "execution_count": 38,
     "metadata": {},
     "output_type": "execute_result"
    }
   ],
   "source": [
    "import pandas\n",
    "import pandas as pd\n",
    "Month_names=pd.read_csv(r\"C:\\Users\\hp\\OneDrive\\Documents\\Begum_Pandas\\Month_names.txt\",sep=\"&\")\n",
    "Month_names"
   ]
  },
  {
   "cell_type": "code",
   "execution_count": 39,
   "id": "84c8076e",
   "metadata": {},
   "outputs": [
    {
     "data": {
      "text/plain": [
       "RangeIndex(start=0, stop=12, step=1)"
      ]
     },
     "execution_count": 39,
     "metadata": {},
     "output_type": "execute_result"
    }
   ],
   "source": [
    "Month_names.index"
   ]
  },
  {
   "cell_type": "code",
   "execution_count": 41,
   "id": "9b663195",
   "metadata": {},
   "outputs": [
    {
     "data": {
      "text/plain": [
       "(12, 2)"
      ]
     },
     "execution_count": 41,
     "metadata": {},
     "output_type": "execute_result"
    }
   ],
   "source": [
    "Month_names.shape"
   ]
  },
  {
   "cell_type": "code",
   "execution_count": 42,
   "id": "50df3383",
   "metadata": {},
   "outputs": [
    {
     "data": {
      "text/html": [
       "<div>\n",
       "<style scoped>\n",
       "    .dataframe tbody tr th:only-of-type {\n",
       "        vertical-align: middle;\n",
       "    }\n",
       "\n",
       "    .dataframe tbody tr th {\n",
       "        vertical-align: top;\n",
       "    }\n",
       "\n",
       "    .dataframe thead th {\n",
       "        text-align: right;\n",
       "    }\n",
       "</style>\n",
       "<table border=\"1\" class=\"dataframe\">\n",
       "  <thead>\n",
       "    <tr style=\"text-align: right;\">\n",
       "      <th></th>\n",
       "      <th>Month names</th>\n",
       "      <th>Season</th>\n",
       "    </tr>\n",
       "  </thead>\n",
       "  <tbody>\n",
       "    <tr>\n",
       "      <th>0</th>\n",
       "      <td>January</td>\n",
       "      <td>Winter</td>\n",
       "    </tr>\n",
       "    <tr>\n",
       "      <th>1</th>\n",
       "      <td>February</td>\n",
       "      <td>Winter</td>\n",
       "    </tr>\n",
       "    <tr>\n",
       "      <th>2</th>\n",
       "      <td>March</td>\n",
       "      <td>Summer</td>\n",
       "    </tr>\n",
       "    <tr>\n",
       "      <th>3</th>\n",
       "      <td>April</td>\n",
       "      <td>Summer</td>\n",
       "    </tr>\n",
       "    <tr>\n",
       "      <th>4</th>\n",
       "      <td>May</td>\n",
       "      <td>Summer</td>\n",
       "    </tr>\n",
       "  </tbody>\n",
       "</table>\n",
       "</div>"
      ],
      "text/plain": [
       "  Month names  Season\n",
       "0     January  Winter\n",
       "1    February  Winter\n",
       "2       March  Summer\n",
       "3       April  Summer\n",
       "4         May  Summer"
      ]
     },
     "execution_count": 42,
     "metadata": {},
     "output_type": "execute_result"
    }
   ],
   "source": [
    "Month_names.head()"
   ]
  },
  {
   "cell_type": "code",
   "execution_count": 43,
   "id": "21af534a",
   "metadata": {},
   "outputs": [
    {
     "data": {
      "text/html": [
       "<div>\n",
       "<style scoped>\n",
       "    .dataframe tbody tr th:only-of-type {\n",
       "        vertical-align: middle;\n",
       "    }\n",
       "\n",
       "    .dataframe tbody tr th {\n",
       "        vertical-align: top;\n",
       "    }\n",
       "\n",
       "    .dataframe thead th {\n",
       "        text-align: right;\n",
       "    }\n",
       "</style>\n",
       "<table border=\"1\" class=\"dataframe\">\n",
       "  <thead>\n",
       "    <tr style=\"text-align: right;\">\n",
       "      <th></th>\n",
       "      <th>Month names</th>\n",
       "      <th>Season</th>\n",
       "    </tr>\n",
       "  </thead>\n",
       "  <tbody>\n",
       "    <tr>\n",
       "      <th>7</th>\n",
       "      <td>August</td>\n",
       "      <td>Rainy</td>\n",
       "    </tr>\n",
       "    <tr>\n",
       "      <th>8</th>\n",
       "      <td>September</td>\n",
       "      <td>Rainy</td>\n",
       "    </tr>\n",
       "    <tr>\n",
       "      <th>9</th>\n",
       "      <td>October</td>\n",
       "      <td>Rainy</td>\n",
       "    </tr>\n",
       "    <tr>\n",
       "      <th>10</th>\n",
       "      <td>November</td>\n",
       "      <td>Winter</td>\n",
       "    </tr>\n",
       "    <tr>\n",
       "      <th>11</th>\n",
       "      <td>December</td>\n",
       "      <td>Winter</td>\n",
       "    </tr>\n",
       "  </tbody>\n",
       "</table>\n",
       "</div>"
      ],
      "text/plain": [
       "   Month names  Season\n",
       "7       August   Rainy\n",
       "8    September   Rainy\n",
       "9      October   Rainy\n",
       "10    November  Winter\n",
       "11    December  Winter"
      ]
     },
     "execution_count": 43,
     "metadata": {},
     "output_type": "execute_result"
    }
   ],
   "source": [
    "Month_names.tail()"
   ]
  },
  {
   "cell_type": "code",
   "execution_count": 44,
   "id": "ce204956",
   "metadata": {},
   "outputs": [
    {
     "data": {
      "text/plain": [
       "Index(['Month names', 'Season'], dtype='object')"
      ]
     },
     "execution_count": 44,
     "metadata": {},
     "output_type": "execute_result"
    }
   ],
   "source": [
    "Month_names.columns"
   ]
  },
  {
   "cell_type": "code",
   "execution_count": 45,
   "id": "af688a16",
   "metadata": {},
   "outputs": [
    {
     "name": "stdout",
     "output_type": "stream",
     "text": [
      "<class 'pandas.core.frame.DataFrame'>\n",
      "RangeIndex: 12 entries, 0 to 11\n",
      "Data columns (total 2 columns):\n",
      " #   Column       Non-Null Count  Dtype \n",
      "---  ------       --------------  ----- \n",
      " 0   Month names  12 non-null     object\n",
      " 1   Season       12 non-null     object\n",
      "dtypes: object(2)\n",
      "memory usage: 320.0+ bytes\n"
     ]
    }
   ],
   "source": [
    "Month_names.info()"
   ]
  },
  {
   "cell_type": "code",
   "execution_count": 46,
   "id": "a46835bc",
   "metadata": {},
   "outputs": [
    {
     "data": {
      "text/plain": [
       "Month names    object\n",
       "Season         object\n",
       "dtype: object"
      ]
     },
     "execution_count": 46,
     "metadata": {},
     "output_type": "execute_result"
    }
   ],
   "source": [
    "Month_names.dtypes"
   ]
  },
  {
   "cell_type": "code",
   "execution_count": 47,
   "id": "28f380b1",
   "metadata": {},
   "outputs": [
    {
     "data": {
      "text/plain": [
       "pandas.core.frame.DataFrame"
      ]
     },
     "execution_count": 47,
     "metadata": {},
     "output_type": "execute_result"
    }
   ],
   "source": [
    "type(Month_names)"
   ]
  },
  {
   "cell_type": "code",
   "execution_count": null,
   "id": "94060305",
   "metadata": {},
   "outputs": [],
   "source": []
  },
  {
   "cell_type": "code",
   "execution_count": null,
   "id": "92aee378",
   "metadata": {},
   "outputs": [],
   "source": [
    "# 6. Create a colours_names.txt file delimiter is cap (^), (atleast 12 names, columns are colourName_in_English^colourName_in_Hindi^colourName_in_Telugu)"
   ]
  },
  {
   "cell_type": "code",
   "execution_count": 48,
   "id": "69bfbecc",
   "metadata": {},
   "outputs": [
    {
     "data": {
      "text/html": [
       "<div>\n",
       "<style scoped>\n",
       "    .dataframe tbody tr th:only-of-type {\n",
       "        vertical-align: middle;\n",
       "    }\n",
       "\n",
       "    .dataframe tbody tr th {\n",
       "        vertical-align: top;\n",
       "    }\n",
       "\n",
       "    .dataframe thead th {\n",
       "        text-align: right;\n",
       "    }\n",
       "</style>\n",
       "<table border=\"1\" class=\"dataframe\">\n",
       "  <thead>\n",
       "    <tr style=\"text-align: right;\">\n",
       "      <th></th>\n",
       "      <th>Colour_Name_inEnglish</th>\n",
       "      <th>Colour_Name_inHindi</th>\n",
       "      <th>Colour_Name_inTelugu</th>\n",
       "    </tr>\n",
       "  </thead>\n",
       "  <tbody>\n",
       "    <tr>\n",
       "      <th>0</th>\n",
       "      <td>Yellow</td>\n",
       "      <td>Peela</td>\n",
       "      <td>Pasupu Rangu</td>\n",
       "    </tr>\n",
       "    <tr>\n",
       "      <th>1</th>\n",
       "      <td>Green</td>\n",
       "      <td>Hara</td>\n",
       "      <td>Aaku Pachcha Rangu</td>\n",
       "    </tr>\n",
       "    <tr>\n",
       "      <th>2</th>\n",
       "      <td>Orange</td>\n",
       "      <td>Narangi</td>\n",
       "      <td>Narinja Rangu</td>\n",
       "    </tr>\n",
       "    <tr>\n",
       "      <th>3</th>\n",
       "      <td>Voilet</td>\n",
       "      <td>Byngani</td>\n",
       "      <td>Vanga Putha Rangu</td>\n",
       "    </tr>\n",
       "    <tr>\n",
       "      <th>4</th>\n",
       "      <td>Red</td>\n",
       "      <td>Laal</td>\n",
       "      <td>Yerupu Rangu</td>\n",
       "    </tr>\n",
       "    <tr>\n",
       "      <th>5</th>\n",
       "      <td>Brown</td>\n",
       "      <td>Bhoora</td>\n",
       "      <td>Godhuma Rangu</td>\n",
       "    </tr>\n",
       "    <tr>\n",
       "      <th>6</th>\n",
       "      <td>White</td>\n",
       "      <td>Safed</td>\n",
       "      <td>Telupu Rangu</td>\n",
       "    </tr>\n",
       "    <tr>\n",
       "      <th>7</th>\n",
       "      <td>Pink</td>\n",
       "      <td>Gulabi</td>\n",
       "      <td>Roja Rangu</td>\n",
       "    </tr>\n",
       "    <tr>\n",
       "      <th>8</th>\n",
       "      <td>Black</td>\n",
       "      <td>Kala</td>\n",
       "      <td>Nalupu Rangu</td>\n",
       "    </tr>\n",
       "    <tr>\n",
       "      <th>9</th>\n",
       "      <td>Blue</td>\n",
       "      <td>Neela</td>\n",
       "      <td>Neeli Rangu</td>\n",
       "    </tr>\n",
       "  </tbody>\n",
       "</table>\n",
       "</div>"
      ],
      "text/plain": [
       "  Colour_Name_inEnglish Colour_Name_inHindi Colour_Name_inTelugu\n",
       "0                Yellow               Peela         Pasupu Rangu\n",
       "1                 Green                Hara   Aaku Pachcha Rangu\n",
       "2                Orange             Narangi        Narinja Rangu\n",
       "3                Voilet             Byngani    Vanga Putha Rangu\n",
       "4                   Red                Laal         Yerupu Rangu\n",
       "5                 Brown              Bhoora        Godhuma Rangu\n",
       "6                 White               Safed         Telupu Rangu\n",
       "7                  Pink              Gulabi           Roja Rangu\n",
       "8                 Black                Kala         Nalupu Rangu\n",
       "9                  Blue               Neela          Neeli Rangu"
      ]
     },
     "execution_count": 48,
     "metadata": {},
     "output_type": "execute_result"
    }
   ],
   "source": [
    "import pandas\n",
    "import pandas as pd\n",
    "Colour_names=pd.read_csv(r\"C:\\Users\\hp\\OneDrive\\Documents\\Begum_Pandas\\Colour_names.txt\",sep=\"^\")\n",
    "Colour_names"
   ]
  },
  {
   "cell_type": "code",
   "execution_count": 49,
   "id": "38dbe278",
   "metadata": {},
   "outputs": [
    {
     "data": {
      "text/plain": [
       "RangeIndex(start=0, stop=10, step=1)"
      ]
     },
     "execution_count": 49,
     "metadata": {},
     "output_type": "execute_result"
    }
   ],
   "source": [
    "Colour_names.index"
   ]
  },
  {
   "cell_type": "code",
   "execution_count": 50,
   "id": "7448124f",
   "metadata": {},
   "outputs": [
    {
     "data": {
      "text/plain": [
       "(10, 3)"
      ]
     },
     "execution_count": 50,
     "metadata": {},
     "output_type": "execute_result"
    }
   ],
   "source": [
    "Colour_names.shape"
   ]
  },
  {
   "cell_type": "code",
   "execution_count": 51,
   "id": "70a0c4ad",
   "metadata": {},
   "outputs": [
    {
     "data": {
      "text/html": [
       "<div>\n",
       "<style scoped>\n",
       "    .dataframe tbody tr th:only-of-type {\n",
       "        vertical-align: middle;\n",
       "    }\n",
       "\n",
       "    .dataframe tbody tr th {\n",
       "        vertical-align: top;\n",
       "    }\n",
       "\n",
       "    .dataframe thead th {\n",
       "        text-align: right;\n",
       "    }\n",
       "</style>\n",
       "<table border=\"1\" class=\"dataframe\">\n",
       "  <thead>\n",
       "    <tr style=\"text-align: right;\">\n",
       "      <th></th>\n",
       "      <th>Colour_Name_inEnglish</th>\n",
       "      <th>Colour_Name_inHindi</th>\n",
       "      <th>Colour_Name_inTelugu</th>\n",
       "    </tr>\n",
       "  </thead>\n",
       "  <tbody>\n",
       "    <tr>\n",
       "      <th>0</th>\n",
       "      <td>Yellow</td>\n",
       "      <td>Peela</td>\n",
       "      <td>Pasupu Rangu</td>\n",
       "    </tr>\n",
       "    <tr>\n",
       "      <th>1</th>\n",
       "      <td>Green</td>\n",
       "      <td>Hara</td>\n",
       "      <td>Aaku Pachcha Rangu</td>\n",
       "    </tr>\n",
       "    <tr>\n",
       "      <th>2</th>\n",
       "      <td>Orange</td>\n",
       "      <td>Narangi</td>\n",
       "      <td>Narinja Rangu</td>\n",
       "    </tr>\n",
       "    <tr>\n",
       "      <th>3</th>\n",
       "      <td>Voilet</td>\n",
       "      <td>Byngani</td>\n",
       "      <td>Vanga Putha Rangu</td>\n",
       "    </tr>\n",
       "    <tr>\n",
       "      <th>4</th>\n",
       "      <td>Red</td>\n",
       "      <td>Laal</td>\n",
       "      <td>Yerupu Rangu</td>\n",
       "    </tr>\n",
       "  </tbody>\n",
       "</table>\n",
       "</div>"
      ],
      "text/plain": [
       "  Colour_Name_inEnglish Colour_Name_inHindi Colour_Name_inTelugu\n",
       "0                Yellow               Peela         Pasupu Rangu\n",
       "1                 Green                Hara   Aaku Pachcha Rangu\n",
       "2                Orange             Narangi        Narinja Rangu\n",
       "3                Voilet             Byngani    Vanga Putha Rangu\n",
       "4                   Red                Laal         Yerupu Rangu"
      ]
     },
     "execution_count": 51,
     "metadata": {},
     "output_type": "execute_result"
    }
   ],
   "source": [
    "Colour_names.head()"
   ]
  },
  {
   "cell_type": "code",
   "execution_count": 52,
   "id": "e4deb59e",
   "metadata": {},
   "outputs": [
    {
     "data": {
      "text/html": [
       "<div>\n",
       "<style scoped>\n",
       "    .dataframe tbody tr th:only-of-type {\n",
       "        vertical-align: middle;\n",
       "    }\n",
       "\n",
       "    .dataframe tbody tr th {\n",
       "        vertical-align: top;\n",
       "    }\n",
       "\n",
       "    .dataframe thead th {\n",
       "        text-align: right;\n",
       "    }\n",
       "</style>\n",
       "<table border=\"1\" class=\"dataframe\">\n",
       "  <thead>\n",
       "    <tr style=\"text-align: right;\">\n",
       "      <th></th>\n",
       "      <th>Colour_Name_inEnglish</th>\n",
       "      <th>Colour_Name_inHindi</th>\n",
       "      <th>Colour_Name_inTelugu</th>\n",
       "    </tr>\n",
       "  </thead>\n",
       "  <tbody>\n",
       "    <tr>\n",
       "      <th>5</th>\n",
       "      <td>Brown</td>\n",
       "      <td>Bhoora</td>\n",
       "      <td>Godhuma Rangu</td>\n",
       "    </tr>\n",
       "    <tr>\n",
       "      <th>6</th>\n",
       "      <td>White</td>\n",
       "      <td>Safed</td>\n",
       "      <td>Telupu Rangu</td>\n",
       "    </tr>\n",
       "    <tr>\n",
       "      <th>7</th>\n",
       "      <td>Pink</td>\n",
       "      <td>Gulabi</td>\n",
       "      <td>Roja Rangu</td>\n",
       "    </tr>\n",
       "    <tr>\n",
       "      <th>8</th>\n",
       "      <td>Black</td>\n",
       "      <td>Kala</td>\n",
       "      <td>Nalupu Rangu</td>\n",
       "    </tr>\n",
       "    <tr>\n",
       "      <th>9</th>\n",
       "      <td>Blue</td>\n",
       "      <td>Neela</td>\n",
       "      <td>Neeli Rangu</td>\n",
       "    </tr>\n",
       "  </tbody>\n",
       "</table>\n",
       "</div>"
      ],
      "text/plain": [
       "  Colour_Name_inEnglish Colour_Name_inHindi Colour_Name_inTelugu\n",
       "5                 Brown              Bhoora        Godhuma Rangu\n",
       "6                 White               Safed         Telupu Rangu\n",
       "7                  Pink              Gulabi           Roja Rangu\n",
       "8                 Black                Kala         Nalupu Rangu\n",
       "9                  Blue               Neela          Neeli Rangu"
      ]
     },
     "execution_count": 52,
     "metadata": {},
     "output_type": "execute_result"
    }
   ],
   "source": [
    "Colour_names.tail()"
   ]
  },
  {
   "cell_type": "code",
   "execution_count": 53,
   "id": "b52401c2",
   "metadata": {},
   "outputs": [
    {
     "data": {
      "text/plain": [
       "Index(['Colour_Name_inEnglish', 'Colour_Name_inHindi', 'Colour_Name_inTelugu'], dtype='object')"
      ]
     },
     "execution_count": 53,
     "metadata": {},
     "output_type": "execute_result"
    }
   ],
   "source": [
    "Colour_names.columns"
   ]
  },
  {
   "cell_type": "code",
   "execution_count": 54,
   "id": "04dd894d",
   "metadata": {},
   "outputs": [
    {
     "name": "stdout",
     "output_type": "stream",
     "text": [
      "<class 'pandas.core.frame.DataFrame'>\n",
      "RangeIndex: 10 entries, 0 to 9\n",
      "Data columns (total 3 columns):\n",
      " #   Column                 Non-Null Count  Dtype \n",
      "---  ------                 --------------  ----- \n",
      " 0   Colour_Name_inEnglish  10 non-null     object\n",
      " 1   Colour_Name_inHindi    10 non-null     object\n",
      " 2   Colour_Name_inTelugu   10 non-null     object\n",
      "dtypes: object(3)\n",
      "memory usage: 368.0+ bytes\n"
     ]
    }
   ],
   "source": [
    "Colour_names.info()"
   ]
  },
  {
   "cell_type": "code",
   "execution_count": 55,
   "id": "b57a1c85",
   "metadata": {},
   "outputs": [
    {
     "data": {
      "text/plain": [
       "Colour_Name_inEnglish    object\n",
       "Colour_Name_inHindi      object\n",
       "Colour_Name_inTelugu     object\n",
       "dtype: object"
      ]
     },
     "execution_count": 55,
     "metadata": {},
     "output_type": "execute_result"
    }
   ],
   "source": [
    "Colour_names.dtypes"
   ]
  },
  {
   "cell_type": "code",
   "execution_count": 56,
   "id": "b05b7534",
   "metadata": {},
   "outputs": [
    {
     "data": {
      "text/plain": [
       "pandas.core.frame.DataFrame"
      ]
     },
     "execution_count": 56,
     "metadata": {},
     "output_type": "execute_result"
    }
   ],
   "source": [
    "type(Colour_names)"
   ]
  },
  {
   "cell_type": "code",
   "execution_count": null,
   "id": "95883546",
   "metadata": {},
   "outputs": [],
   "source": []
  },
  {
   "cell_type": "code",
   "execution_count": null,
   "id": "a8b1184d",
   "metadata": {},
   "outputs": [],
   "source": [
    "#------------------> Basic Checks ----------> (.xlsx file's)"
   ]
  },
  {
   "cell_type": "code",
   "execution_count": null,
   "id": "91c6dc05",
   "metadata": {},
   "outputs": [],
   "source": []
  },
  {
   "cell_type": "code",
   "execution_count": null,
   "id": "54f0f3e8",
   "metadata": {},
   "outputs": [],
   "source": [
    "# 7. Create a friend_names.xls file  (atleast 10 names, columns are FriendName,Quality)"
   ]
  },
  {
   "cell_type": "code",
   "execution_count": 57,
   "id": "5a77276c",
   "metadata": {},
   "outputs": [
    {
     "data": {
      "text/html": [
       "<div>\n",
       "<style scoped>\n",
       "    .dataframe tbody tr th:only-of-type {\n",
       "        vertical-align: middle;\n",
       "    }\n",
       "\n",
       "    .dataframe tbody tr th {\n",
       "        vertical-align: top;\n",
       "    }\n",
       "\n",
       "    .dataframe thead th {\n",
       "        text-align: right;\n",
       "    }\n",
       "</style>\n",
       "<table border=\"1\" class=\"dataframe\">\n",
       "  <thead>\n",
       "    <tr style=\"text-align: right;\">\n",
       "      <th></th>\n",
       "      <th>Friend Names</th>\n",
       "      <th>Quality</th>\n",
       "    </tr>\n",
       "  </thead>\n",
       "  <tbody>\n",
       "    <tr>\n",
       "      <th>0</th>\n",
       "      <td>Shabana</td>\n",
       "      <td>Clever</td>\n",
       "    </tr>\n",
       "    <tr>\n",
       "      <th>1</th>\n",
       "      <td>Kalyani</td>\n",
       "      <td>Innocent</td>\n",
       "    </tr>\n",
       "    <tr>\n",
       "      <th>2</th>\n",
       "      <td>Lavanya</td>\n",
       "      <td>Good</td>\n",
       "    </tr>\n",
       "    <tr>\n",
       "      <th>3</th>\n",
       "      <td>Radhika</td>\n",
       "      <td>Hard Working</td>\n",
       "    </tr>\n",
       "    <tr>\n",
       "      <th>4</th>\n",
       "      <td>Swapna</td>\n",
       "      <td>Topper</td>\n",
       "    </tr>\n",
       "    <tr>\n",
       "      <th>5</th>\n",
       "      <td>Aliya</td>\n",
       "      <td>Funny</td>\n",
       "    </tr>\n",
       "    <tr>\n",
       "      <th>6</th>\n",
       "      <td>Madhavi</td>\n",
       "      <td>Anger</td>\n",
       "    </tr>\n",
       "    <tr>\n",
       "      <th>7</th>\n",
       "      <td>Sabera</td>\n",
       "      <td>Silence</td>\n",
       "    </tr>\n",
       "    <tr>\n",
       "      <th>8</th>\n",
       "      <td>Janaki</td>\n",
       "      <td>Innocent</td>\n",
       "    </tr>\n",
       "    <tr>\n",
       "      <th>9</th>\n",
       "      <td>Smitha</td>\n",
       "      <td>Funny</td>\n",
       "    </tr>\n",
       "  </tbody>\n",
       "</table>\n",
       "</div>"
      ],
      "text/plain": [
       "  Friend Names       Quality\n",
       "0      Shabana        Clever\n",
       "1      Kalyani      Innocent\n",
       "2      Lavanya          Good\n",
       "3      Radhika  Hard Working\n",
       "4       Swapna        Topper\n",
       "5        Aliya         Funny\n",
       "6      Madhavi         Anger\n",
       "7       Sabera       Silence\n",
       "8       Janaki      Innocent\n",
       "9       Smitha         Funny"
      ]
     },
     "execution_count": 57,
     "metadata": {},
     "output_type": "execute_result"
    }
   ],
   "source": [
    "import pandas as pd\n",
    "Friend_names=pd.read_excel(r\"C:\\Users\\hp\\OneDrive\\Documents\\Begum_Pandas\\Friend_Names.xlsx\")\n",
    "Friend_names"
   ]
  },
  {
   "cell_type": "code",
   "execution_count": 58,
   "id": "73b4e139",
   "metadata": {},
   "outputs": [
    {
     "data": {
      "text/plain": [
       "RangeIndex(start=0, stop=10, step=1)"
      ]
     },
     "execution_count": 58,
     "metadata": {},
     "output_type": "execute_result"
    }
   ],
   "source": [
    "Friend_names.index"
   ]
  },
  {
   "cell_type": "code",
   "execution_count": 59,
   "id": "08c85584",
   "metadata": {},
   "outputs": [
    {
     "data": {
      "text/plain": [
       "(10, 2)"
      ]
     },
     "execution_count": 59,
     "metadata": {},
     "output_type": "execute_result"
    }
   ],
   "source": [
    "Friend_names.shape"
   ]
  },
  {
   "cell_type": "code",
   "execution_count": 60,
   "id": "fb3e4097",
   "metadata": {},
   "outputs": [
    {
     "data": {
      "text/html": [
       "<div>\n",
       "<style scoped>\n",
       "    .dataframe tbody tr th:only-of-type {\n",
       "        vertical-align: middle;\n",
       "    }\n",
       "\n",
       "    .dataframe tbody tr th {\n",
       "        vertical-align: top;\n",
       "    }\n",
       "\n",
       "    .dataframe thead th {\n",
       "        text-align: right;\n",
       "    }\n",
       "</style>\n",
       "<table border=\"1\" class=\"dataframe\">\n",
       "  <thead>\n",
       "    <tr style=\"text-align: right;\">\n",
       "      <th></th>\n",
       "      <th>Friend Names</th>\n",
       "      <th>Quality</th>\n",
       "    </tr>\n",
       "  </thead>\n",
       "  <tbody>\n",
       "    <tr>\n",
       "      <th>0</th>\n",
       "      <td>Shabana</td>\n",
       "      <td>Clever</td>\n",
       "    </tr>\n",
       "    <tr>\n",
       "      <th>1</th>\n",
       "      <td>Kalyani</td>\n",
       "      <td>Innocent</td>\n",
       "    </tr>\n",
       "    <tr>\n",
       "      <th>2</th>\n",
       "      <td>Lavanya</td>\n",
       "      <td>Good</td>\n",
       "    </tr>\n",
       "    <tr>\n",
       "      <th>3</th>\n",
       "      <td>Radhika</td>\n",
       "      <td>Hard Working</td>\n",
       "    </tr>\n",
       "    <tr>\n",
       "      <th>4</th>\n",
       "      <td>Swapna</td>\n",
       "      <td>Topper</td>\n",
       "    </tr>\n",
       "  </tbody>\n",
       "</table>\n",
       "</div>"
      ],
      "text/plain": [
       "  Friend Names       Quality\n",
       "0      Shabana        Clever\n",
       "1      Kalyani      Innocent\n",
       "2      Lavanya          Good\n",
       "3      Radhika  Hard Working\n",
       "4       Swapna        Topper"
      ]
     },
     "execution_count": 60,
     "metadata": {},
     "output_type": "execute_result"
    }
   ],
   "source": [
    "Friend_names.head()"
   ]
  },
  {
   "cell_type": "code",
   "execution_count": 61,
   "id": "a6ded2d2",
   "metadata": {},
   "outputs": [
    {
     "data": {
      "text/html": [
       "<div>\n",
       "<style scoped>\n",
       "    .dataframe tbody tr th:only-of-type {\n",
       "        vertical-align: middle;\n",
       "    }\n",
       "\n",
       "    .dataframe tbody tr th {\n",
       "        vertical-align: top;\n",
       "    }\n",
       "\n",
       "    .dataframe thead th {\n",
       "        text-align: right;\n",
       "    }\n",
       "</style>\n",
       "<table border=\"1\" class=\"dataframe\">\n",
       "  <thead>\n",
       "    <tr style=\"text-align: right;\">\n",
       "      <th></th>\n",
       "      <th>Friend Names</th>\n",
       "      <th>Quality</th>\n",
       "    </tr>\n",
       "  </thead>\n",
       "  <tbody>\n",
       "    <tr>\n",
       "      <th>5</th>\n",
       "      <td>Aliya</td>\n",
       "      <td>Funny</td>\n",
       "    </tr>\n",
       "    <tr>\n",
       "      <th>6</th>\n",
       "      <td>Madhavi</td>\n",
       "      <td>Anger</td>\n",
       "    </tr>\n",
       "    <tr>\n",
       "      <th>7</th>\n",
       "      <td>Sabera</td>\n",
       "      <td>Silence</td>\n",
       "    </tr>\n",
       "    <tr>\n",
       "      <th>8</th>\n",
       "      <td>Janaki</td>\n",
       "      <td>Innocent</td>\n",
       "    </tr>\n",
       "    <tr>\n",
       "      <th>9</th>\n",
       "      <td>Smitha</td>\n",
       "      <td>Funny</td>\n",
       "    </tr>\n",
       "  </tbody>\n",
       "</table>\n",
       "</div>"
      ],
      "text/plain": [
       "  Friend Names   Quality\n",
       "5        Aliya     Funny\n",
       "6      Madhavi     Anger\n",
       "7       Sabera   Silence\n",
       "8       Janaki  Innocent\n",
       "9       Smitha     Funny"
      ]
     },
     "execution_count": 61,
     "metadata": {},
     "output_type": "execute_result"
    }
   ],
   "source": [
    "Friend_names.tail()"
   ]
  },
  {
   "cell_type": "code",
   "execution_count": 62,
   "id": "0234af44",
   "metadata": {},
   "outputs": [
    {
     "data": {
      "text/plain": [
       "Index(['Friend Names', 'Quality'], dtype='object')"
      ]
     },
     "execution_count": 62,
     "metadata": {},
     "output_type": "execute_result"
    }
   ],
   "source": [
    "Friend_names.columns"
   ]
  },
  {
   "cell_type": "code",
   "execution_count": 63,
   "id": "2da26f29",
   "metadata": {},
   "outputs": [
    {
     "name": "stdout",
     "output_type": "stream",
     "text": [
      "<class 'pandas.core.frame.DataFrame'>\n",
      "RangeIndex: 10 entries, 0 to 9\n",
      "Data columns (total 2 columns):\n",
      " #   Column        Non-Null Count  Dtype \n",
      "---  ------        --------------  ----- \n",
      " 0   Friend Names  10 non-null     object\n",
      " 1   Quality       10 non-null     object\n",
      "dtypes: object(2)\n",
      "memory usage: 288.0+ bytes\n"
     ]
    }
   ],
   "source": [
    "Friend_names.info()"
   ]
  },
  {
   "cell_type": "code",
   "execution_count": 64,
   "id": "0a597ecf",
   "metadata": {},
   "outputs": [
    {
     "data": {
      "text/plain": [
       "Friend Names    object\n",
       "Quality         object\n",
       "dtype: object"
      ]
     },
     "execution_count": 64,
     "metadata": {},
     "output_type": "execute_result"
    }
   ],
   "source": [
    "Friend_names.dtypes"
   ]
  },
  {
   "cell_type": "code",
   "execution_count": 65,
   "id": "559ff93a",
   "metadata": {},
   "outputs": [
    {
     "data": {
      "text/plain": [
       "pandas.core.frame.DataFrame"
      ]
     },
     "execution_count": 65,
     "metadata": {},
     "output_type": "execute_result"
    }
   ],
   "source": [
    "type(Friend_names)"
   ]
  },
  {
   "cell_type": "code",
   "execution_count": null,
   "id": "2990ade8",
   "metadata": {},
   "outputs": [],
   "source": []
  },
  {
   "cell_type": "code",
   "execution_count": null,
   "id": "e93a7bfd",
   "metadata": {},
   "outputs": [],
   "source": [
    "# 8. Create a family_members.xls file  (atleast 10 names, columns are FamilyMemberName*Relation)"
   ]
  },
  {
   "cell_type": "code",
   "execution_count": 66,
   "id": "8200bd2a",
   "metadata": {},
   "outputs": [
    {
     "data": {
      "text/html": [
       "<div>\n",
       "<style scoped>\n",
       "    .dataframe tbody tr th:only-of-type {\n",
       "        vertical-align: middle;\n",
       "    }\n",
       "\n",
       "    .dataframe tbody tr th {\n",
       "        vertical-align: top;\n",
       "    }\n",
       "\n",
       "    .dataframe thead th {\n",
       "        text-align: right;\n",
       "    }\n",
       "</style>\n",
       "<table border=\"1\" class=\"dataframe\">\n",
       "  <thead>\n",
       "    <tr style=\"text-align: right;\">\n",
       "      <th></th>\n",
       "      <th>Family.member.Names</th>\n",
       "      <th>Relation</th>\n",
       "    </tr>\n",
       "  </thead>\n",
       "  <tbody>\n",
       "    <tr>\n",
       "      <th>0</th>\n",
       "      <td>Mohammad Ali</td>\n",
       "      <td>Father</td>\n",
       "    </tr>\n",
       "    <tr>\n",
       "      <th>1</th>\n",
       "      <td>Balkis Jaha</td>\n",
       "      <td>Mother</td>\n",
       "    </tr>\n",
       "    <tr>\n",
       "      <th>2</th>\n",
       "      <td>Shahnaz Begum</td>\n",
       "      <td>Sister</td>\n",
       "    </tr>\n",
       "    <tr>\n",
       "      <th>3</th>\n",
       "      <td>Irfan</td>\n",
       "      <td>Brother</td>\n",
       "    </tr>\n",
       "    <tr>\n",
       "      <th>4</th>\n",
       "      <td>Afzal Shaw</td>\n",
       "      <td>Brother</td>\n",
       "    </tr>\n",
       "    <tr>\n",
       "      <th>5</th>\n",
       "      <td>Shakeela</td>\n",
       "      <td>Sister</td>\n",
       "    </tr>\n",
       "    <tr>\n",
       "      <th>6</th>\n",
       "      <td>Md. Karaqmatulla</td>\n",
       "      <td>Husband</td>\n",
       "    </tr>\n",
       "    <tr>\n",
       "      <th>7</th>\n",
       "      <td>Shamshad</td>\n",
       "      <td>Me</td>\n",
       "    </tr>\n",
       "    <tr>\n",
       "      <th>8</th>\n",
       "      <td>Shannu</td>\n",
       "      <td>Daughter</td>\n",
       "    </tr>\n",
       "    <tr>\n",
       "      <th>9</th>\n",
       "      <td>Bhanu</td>\n",
       "      <td>Daughter</td>\n",
       "    </tr>\n",
       "  </tbody>\n",
       "</table>\n",
       "</div>"
      ],
      "text/plain": [
       "  Family.member.Names  Relation\n",
       "0        Mohammad Ali    Father\n",
       "1         Balkis Jaha    Mother\n",
       "2       Shahnaz Begum    Sister\n",
       "3               Irfan   Brother\n",
       "4          Afzal Shaw   Brother\n",
       "5            Shakeela    Sister\n",
       "6    Md. Karaqmatulla   Husband\n",
       "7            Shamshad        Me\n",
       "8              Shannu  Daughter\n",
       "9               Bhanu  Daughter"
      ]
     },
     "execution_count": 66,
     "metadata": {},
     "output_type": "execute_result"
    }
   ],
   "source": [
    "import pandas as pd\n",
    "family_members=pd.read_excel(r\"C:\\Users\\hp\\OneDrive\\Documents\\Begum_Pandas\\family_members.xlsx\")\n",
    "family_members"
   ]
  },
  {
   "cell_type": "code",
   "execution_count": 67,
   "id": "cc3eef9d",
   "metadata": {},
   "outputs": [
    {
     "data": {
      "text/plain": [
       "RangeIndex(start=0, stop=10, step=1)"
      ]
     },
     "execution_count": 67,
     "metadata": {},
     "output_type": "execute_result"
    }
   ],
   "source": [
    "family_members.index"
   ]
  },
  {
   "cell_type": "code",
   "execution_count": 68,
   "id": "ca8655fe",
   "metadata": {},
   "outputs": [
    {
     "data": {
      "text/plain": [
       "(10, 2)"
      ]
     },
     "execution_count": 68,
     "metadata": {},
     "output_type": "execute_result"
    }
   ],
   "source": [
    "family_members.shape"
   ]
  },
  {
   "cell_type": "code",
   "execution_count": 69,
   "id": "26d0bad8",
   "metadata": {},
   "outputs": [
    {
     "data": {
      "text/html": [
       "<div>\n",
       "<style scoped>\n",
       "    .dataframe tbody tr th:only-of-type {\n",
       "        vertical-align: middle;\n",
       "    }\n",
       "\n",
       "    .dataframe tbody tr th {\n",
       "        vertical-align: top;\n",
       "    }\n",
       "\n",
       "    .dataframe thead th {\n",
       "        text-align: right;\n",
       "    }\n",
       "</style>\n",
       "<table border=\"1\" class=\"dataframe\">\n",
       "  <thead>\n",
       "    <tr style=\"text-align: right;\">\n",
       "      <th></th>\n",
       "      <th>Family.member.Names</th>\n",
       "      <th>Relation</th>\n",
       "    </tr>\n",
       "  </thead>\n",
       "  <tbody>\n",
       "    <tr>\n",
       "      <th>0</th>\n",
       "      <td>Mohammad Ali</td>\n",
       "      <td>Father</td>\n",
       "    </tr>\n",
       "    <tr>\n",
       "      <th>1</th>\n",
       "      <td>Balkis Jaha</td>\n",
       "      <td>Mother</td>\n",
       "    </tr>\n",
       "    <tr>\n",
       "      <th>2</th>\n",
       "      <td>Shahnaz Begum</td>\n",
       "      <td>Sister</td>\n",
       "    </tr>\n",
       "    <tr>\n",
       "      <th>3</th>\n",
       "      <td>Irfan</td>\n",
       "      <td>Brother</td>\n",
       "    </tr>\n",
       "    <tr>\n",
       "      <th>4</th>\n",
       "      <td>Afzal Shaw</td>\n",
       "      <td>Brother</td>\n",
       "    </tr>\n",
       "  </tbody>\n",
       "</table>\n",
       "</div>"
      ],
      "text/plain": [
       "  Family.member.Names Relation\n",
       "0        Mohammad Ali   Father\n",
       "1         Balkis Jaha   Mother\n",
       "2       Shahnaz Begum   Sister\n",
       "3               Irfan  Brother\n",
       "4          Afzal Shaw  Brother"
      ]
     },
     "execution_count": 69,
     "metadata": {},
     "output_type": "execute_result"
    }
   ],
   "source": [
    "family_members.head()"
   ]
  },
  {
   "cell_type": "code",
   "execution_count": 70,
   "id": "a4c410d4",
   "metadata": {},
   "outputs": [
    {
     "data": {
      "text/html": [
       "<div>\n",
       "<style scoped>\n",
       "    .dataframe tbody tr th:only-of-type {\n",
       "        vertical-align: middle;\n",
       "    }\n",
       "\n",
       "    .dataframe tbody tr th {\n",
       "        vertical-align: top;\n",
       "    }\n",
       "\n",
       "    .dataframe thead th {\n",
       "        text-align: right;\n",
       "    }\n",
       "</style>\n",
       "<table border=\"1\" class=\"dataframe\">\n",
       "  <thead>\n",
       "    <tr style=\"text-align: right;\">\n",
       "      <th></th>\n",
       "      <th>Family.member.Names</th>\n",
       "      <th>Relation</th>\n",
       "    </tr>\n",
       "  </thead>\n",
       "  <tbody>\n",
       "    <tr>\n",
       "      <th>5</th>\n",
       "      <td>Shakeela</td>\n",
       "      <td>Sister</td>\n",
       "    </tr>\n",
       "    <tr>\n",
       "      <th>6</th>\n",
       "      <td>Md. Karaqmatulla</td>\n",
       "      <td>Husband</td>\n",
       "    </tr>\n",
       "    <tr>\n",
       "      <th>7</th>\n",
       "      <td>Shamshad</td>\n",
       "      <td>Me</td>\n",
       "    </tr>\n",
       "    <tr>\n",
       "      <th>8</th>\n",
       "      <td>Shannu</td>\n",
       "      <td>Daughter</td>\n",
       "    </tr>\n",
       "    <tr>\n",
       "      <th>9</th>\n",
       "      <td>Bhanu</td>\n",
       "      <td>Daughter</td>\n",
       "    </tr>\n",
       "  </tbody>\n",
       "</table>\n",
       "</div>"
      ],
      "text/plain": [
       "  Family.member.Names  Relation\n",
       "5            Shakeela    Sister\n",
       "6    Md. Karaqmatulla   Husband\n",
       "7            Shamshad        Me\n",
       "8              Shannu  Daughter\n",
       "9               Bhanu  Daughter"
      ]
     },
     "execution_count": 70,
     "metadata": {},
     "output_type": "execute_result"
    }
   ],
   "source": [
    "family_members.tail()"
   ]
  },
  {
   "cell_type": "code",
   "execution_count": 71,
   "id": "179cff36",
   "metadata": {},
   "outputs": [
    {
     "data": {
      "text/plain": [
       "Index(['Family.member.Names', 'Relation'], dtype='object')"
      ]
     },
     "execution_count": 71,
     "metadata": {},
     "output_type": "execute_result"
    }
   ],
   "source": [
    "family_members.columns"
   ]
  },
  {
   "cell_type": "code",
   "execution_count": 72,
   "id": "30e0a9d6",
   "metadata": {},
   "outputs": [
    {
     "name": "stdout",
     "output_type": "stream",
     "text": [
      "<class 'pandas.core.frame.DataFrame'>\n",
      "RangeIndex: 10 entries, 0 to 9\n",
      "Data columns (total 2 columns):\n",
      " #   Column               Non-Null Count  Dtype \n",
      "---  ------               --------------  ----- \n",
      " 0   Family.member.Names  10 non-null     object\n",
      " 1   Relation             10 non-null     object\n",
      "dtypes: object(2)\n",
      "memory usage: 288.0+ bytes\n"
     ]
    }
   ],
   "source": [
    "family_members.info()"
   ]
  },
  {
   "cell_type": "code",
   "execution_count": 73,
   "id": "1e17d8c5",
   "metadata": {},
   "outputs": [
    {
     "data": {
      "text/plain": [
       "Family.member.Names    object\n",
       "Relation               object\n",
       "dtype: object"
      ]
     },
     "execution_count": 73,
     "metadata": {},
     "output_type": "execute_result"
    }
   ],
   "source": [
    "family_members.dtypes"
   ]
  },
  {
   "cell_type": "code",
   "execution_count": 74,
   "id": "1e0d462c",
   "metadata": {},
   "outputs": [
    {
     "data": {
      "text/plain": [
       "pandas.core.frame.DataFrame"
      ]
     },
     "execution_count": 74,
     "metadata": {},
     "output_type": "execute_result"
    }
   ],
   "source": [
    "type(family_members)"
   ]
  },
  {
   "cell_type": "code",
   "execution_count": null,
   "id": "5b81325e",
   "metadata": {},
   "outputs": [],
   "source": []
  },
  {
   "cell_type": "code",
   "execution_count": null,
   "id": "71451bc9",
   "metadata": {},
   "outputs": [],
   "source": [
    "# 9. Create a Vegfood_items.xlsx file  (atleast 10 names, columns are VegFoodName*Taste)"
   ]
  },
  {
   "cell_type": "code",
   "execution_count": 75,
   "id": "08d7e9d2",
   "metadata": {},
   "outputs": [
    {
     "data": {
      "text/html": [
       "<div>\n",
       "<style scoped>\n",
       "    .dataframe tbody tr th:only-of-type {\n",
       "        vertical-align: middle;\n",
       "    }\n",
       "\n",
       "    .dataframe tbody tr th {\n",
       "        vertical-align: top;\n",
       "    }\n",
       "\n",
       "    .dataframe thead th {\n",
       "        text-align: right;\n",
       "    }\n",
       "</style>\n",
       "<table border=\"1\" class=\"dataframe\">\n",
       "  <thead>\n",
       "    <tr style=\"text-align: right;\">\n",
       "      <th></th>\n",
       "      <th>Veg.Food&gt;Names</th>\n",
       "      <th>Taste</th>\n",
       "    </tr>\n",
       "  </thead>\n",
       "  <tbody>\n",
       "    <tr>\n",
       "      <th>0</th>\n",
       "      <td>Potato fry</td>\n",
       "      <td>Spicy</td>\n",
       "    </tr>\n",
       "    <tr>\n",
       "      <th>1</th>\n",
       "      <td>Tomato dal</td>\n",
       "      <td>Excellent</td>\n",
       "    </tr>\n",
       "    <tr>\n",
       "      <th>2</th>\n",
       "      <td>Pudina Chatny</td>\n",
       "      <td>Cricy</td>\n",
       "    </tr>\n",
       "    <tr>\n",
       "      <th>3</th>\n",
       "      <td>Cabbage dal</td>\n",
       "      <td>Good</td>\n",
       "    </tr>\n",
       "    <tr>\n",
       "      <th>4</th>\n",
       "      <td>Lady's finger fry</td>\n",
       "      <td>Spicy</td>\n",
       "    </tr>\n",
       "    <tr>\n",
       "      <th>5</th>\n",
       "      <td>Tomato Curry</td>\n",
       "      <td>Good</td>\n",
       "    </tr>\n",
       "    <tr>\n",
       "      <th>6</th>\n",
       "      <td>Brinjal Curry</td>\n",
       "      <td>Supper</td>\n",
       "    </tr>\n",
       "    <tr>\n",
       "      <th>7</th>\n",
       "      <td>Sambar</td>\n",
       "      <td>Good</td>\n",
       "    </tr>\n",
       "    <tr>\n",
       "      <th>8</th>\n",
       "      <td>Rig Guard Dal</td>\n",
       "      <td>Supper</td>\n",
       "    </tr>\n",
       "    <tr>\n",
       "      <th>9</th>\n",
       "      <td>Gulab Jamun</td>\n",
       "      <td>Excellent</td>\n",
       "    </tr>\n",
       "  </tbody>\n",
       "</table>\n",
       "</div>"
      ],
      "text/plain": [
       "      Veg.Food>Names      Taste\n",
       "0         Potato fry      Spicy\n",
       "1         Tomato dal  Excellent\n",
       "2      Pudina Chatny      Cricy\n",
       "3        Cabbage dal       Good\n",
       "4  Lady's finger fry      Spicy\n",
       "5       Tomato Curry       Good\n",
       "6      Brinjal Curry     Supper\n",
       "7             Sambar       Good\n",
       "8      Rig Guard Dal     Supper\n",
       "9        Gulab Jamun  Excellent"
      ]
     },
     "execution_count": 75,
     "metadata": {},
     "output_type": "execute_result"
    }
   ],
   "source": [
    "import pandas as pd\n",
    "Vegfood_items=pd.read_excel(r\"C:\\Users\\hp\\OneDrive\\Documents\\Begum_Pandas\\Vegfood_items.xlsx\")\n",
    "Vegfood_items"
   ]
  },
  {
   "cell_type": "code",
   "execution_count": 76,
   "id": "c9b96c74",
   "metadata": {},
   "outputs": [
    {
     "data": {
      "text/plain": [
       "RangeIndex(start=0, stop=10, step=1)"
      ]
     },
     "execution_count": 76,
     "metadata": {},
     "output_type": "execute_result"
    }
   ],
   "source": [
    "Vegfood_items.index"
   ]
  },
  {
   "cell_type": "code",
   "execution_count": 77,
   "id": "b61d33b5",
   "metadata": {},
   "outputs": [
    {
     "data": {
      "text/plain": [
       "(10, 2)"
      ]
     },
     "execution_count": 77,
     "metadata": {},
     "output_type": "execute_result"
    }
   ],
   "source": [
    "Vegfood_items.shape"
   ]
  },
  {
   "cell_type": "code",
   "execution_count": 78,
   "id": "2181a81d",
   "metadata": {},
   "outputs": [
    {
     "data": {
      "text/html": [
       "<div>\n",
       "<style scoped>\n",
       "    .dataframe tbody tr th:only-of-type {\n",
       "        vertical-align: middle;\n",
       "    }\n",
       "\n",
       "    .dataframe tbody tr th {\n",
       "        vertical-align: top;\n",
       "    }\n",
       "\n",
       "    .dataframe thead th {\n",
       "        text-align: right;\n",
       "    }\n",
       "</style>\n",
       "<table border=\"1\" class=\"dataframe\">\n",
       "  <thead>\n",
       "    <tr style=\"text-align: right;\">\n",
       "      <th></th>\n",
       "      <th>Veg.Food&gt;Names</th>\n",
       "      <th>Taste</th>\n",
       "    </tr>\n",
       "  </thead>\n",
       "  <tbody>\n",
       "    <tr>\n",
       "      <th>0</th>\n",
       "      <td>Potato fry</td>\n",
       "      <td>Spicy</td>\n",
       "    </tr>\n",
       "    <tr>\n",
       "      <th>1</th>\n",
       "      <td>Tomato dal</td>\n",
       "      <td>Excellent</td>\n",
       "    </tr>\n",
       "    <tr>\n",
       "      <th>2</th>\n",
       "      <td>Pudina Chatny</td>\n",
       "      <td>Cricy</td>\n",
       "    </tr>\n",
       "    <tr>\n",
       "      <th>3</th>\n",
       "      <td>Cabbage dal</td>\n",
       "      <td>Good</td>\n",
       "    </tr>\n",
       "    <tr>\n",
       "      <th>4</th>\n",
       "      <td>Lady's finger fry</td>\n",
       "      <td>Spicy</td>\n",
       "    </tr>\n",
       "  </tbody>\n",
       "</table>\n",
       "</div>"
      ],
      "text/plain": [
       "      Veg.Food>Names      Taste\n",
       "0         Potato fry      Spicy\n",
       "1         Tomato dal  Excellent\n",
       "2      Pudina Chatny      Cricy\n",
       "3        Cabbage dal       Good\n",
       "4  Lady's finger fry      Spicy"
      ]
     },
     "execution_count": 78,
     "metadata": {},
     "output_type": "execute_result"
    }
   ],
   "source": [
    "Vegfood_items.head()"
   ]
  },
  {
   "cell_type": "code",
   "execution_count": 79,
   "id": "32e17c61",
   "metadata": {},
   "outputs": [
    {
     "data": {
      "text/html": [
       "<div>\n",
       "<style scoped>\n",
       "    .dataframe tbody tr th:only-of-type {\n",
       "        vertical-align: middle;\n",
       "    }\n",
       "\n",
       "    .dataframe tbody tr th {\n",
       "        vertical-align: top;\n",
       "    }\n",
       "\n",
       "    .dataframe thead th {\n",
       "        text-align: right;\n",
       "    }\n",
       "</style>\n",
       "<table border=\"1\" class=\"dataframe\">\n",
       "  <thead>\n",
       "    <tr style=\"text-align: right;\">\n",
       "      <th></th>\n",
       "      <th>Veg.Food&gt;Names</th>\n",
       "      <th>Taste</th>\n",
       "    </tr>\n",
       "  </thead>\n",
       "  <tbody>\n",
       "    <tr>\n",
       "      <th>5</th>\n",
       "      <td>Tomato Curry</td>\n",
       "      <td>Good</td>\n",
       "    </tr>\n",
       "    <tr>\n",
       "      <th>6</th>\n",
       "      <td>Brinjal Curry</td>\n",
       "      <td>Supper</td>\n",
       "    </tr>\n",
       "    <tr>\n",
       "      <th>7</th>\n",
       "      <td>Sambar</td>\n",
       "      <td>Good</td>\n",
       "    </tr>\n",
       "    <tr>\n",
       "      <th>8</th>\n",
       "      <td>Rig Guard Dal</td>\n",
       "      <td>Supper</td>\n",
       "    </tr>\n",
       "    <tr>\n",
       "      <th>9</th>\n",
       "      <td>Gulab Jamun</td>\n",
       "      <td>Excellent</td>\n",
       "    </tr>\n",
       "  </tbody>\n",
       "</table>\n",
       "</div>"
      ],
      "text/plain": [
       "  Veg.Food>Names      Taste\n",
       "5   Tomato Curry       Good\n",
       "6  Brinjal Curry     Supper\n",
       "7         Sambar       Good\n",
       "8  Rig Guard Dal     Supper\n",
       "9    Gulab Jamun  Excellent"
      ]
     },
     "execution_count": 79,
     "metadata": {},
     "output_type": "execute_result"
    }
   ],
   "source": [
    "Vegfood_items.tail()"
   ]
  },
  {
   "cell_type": "code",
   "execution_count": 80,
   "id": "b1315e9d",
   "metadata": {},
   "outputs": [
    {
     "data": {
      "text/plain": [
       "Index(['Veg.Food>Names', 'Taste'], dtype='object')"
      ]
     },
     "execution_count": 80,
     "metadata": {},
     "output_type": "execute_result"
    }
   ],
   "source": [
    "Vegfood_items.columns"
   ]
  },
  {
   "cell_type": "code",
   "execution_count": 81,
   "id": "6577307d",
   "metadata": {},
   "outputs": [
    {
     "name": "stdout",
     "output_type": "stream",
     "text": [
      "<class 'pandas.core.frame.DataFrame'>\n",
      "RangeIndex: 10 entries, 0 to 9\n",
      "Data columns (total 2 columns):\n",
      " #   Column          Non-Null Count  Dtype \n",
      "---  ------          --------------  ----- \n",
      " 0   Veg.Food>Names  10 non-null     object\n",
      " 1   Taste           10 non-null     object\n",
      "dtypes: object(2)\n",
      "memory usage: 288.0+ bytes\n"
     ]
    }
   ],
   "source": [
    "Vegfood_items.info()"
   ]
  },
  {
   "cell_type": "code",
   "execution_count": 82,
   "id": "dc376283",
   "metadata": {},
   "outputs": [
    {
     "data": {
      "text/plain": [
       "Veg.Food>Names    object\n",
       "Taste             object\n",
       "dtype: object"
      ]
     },
     "execution_count": 82,
     "metadata": {},
     "output_type": "execute_result"
    }
   ],
   "source": [
    "Vegfood_items.dtypes"
   ]
  },
  {
   "cell_type": "code",
   "execution_count": 83,
   "id": "955e4707",
   "metadata": {},
   "outputs": [
    {
     "data": {
      "text/plain": [
       "pandas.core.frame.DataFrame"
      ]
     },
     "execution_count": 83,
     "metadata": {},
     "output_type": "execute_result"
    }
   ],
   "source": [
    "type(Vegfood_items)"
   ]
  },
  {
   "cell_type": "code",
   "execution_count": null,
   "id": "2d0844cb",
   "metadata": {},
   "outputs": [],
   "source": []
  },
  {
   "cell_type": "code",
   "execution_count": null,
   "id": "13a553a8",
   "metadata": {},
   "outputs": [],
   "source": [
    "# 10. Create a NonVegfood_items.xlsx file  (atleast 10 names, columns are NonVegFoodName*Taste)"
   ]
  },
  {
   "cell_type": "code",
   "execution_count": 84,
   "id": "699c13ca",
   "metadata": {},
   "outputs": [
    {
     "data": {
      "text/html": [
       "<div>\n",
       "<style scoped>\n",
       "    .dataframe tbody tr th:only-of-type {\n",
       "        vertical-align: middle;\n",
       "    }\n",
       "\n",
       "    .dataframe tbody tr th {\n",
       "        vertical-align: top;\n",
       "    }\n",
       "\n",
       "    .dataframe thead th {\n",
       "        text-align: right;\n",
       "    }\n",
       "</style>\n",
       "<table border=\"1\" class=\"dataframe\">\n",
       "  <thead>\n",
       "    <tr style=\"text-align: right;\">\n",
       "      <th></th>\n",
       "      <th>NonVeg_Food_items</th>\n",
       "      <th>Taste</th>\n",
       "    </tr>\n",
       "  </thead>\n",
       "  <tbody>\n",
       "    <tr>\n",
       "      <th>0</th>\n",
       "      <td>Matton Curry</td>\n",
       "      <td>Supper</td>\n",
       "    </tr>\n",
       "    <tr>\n",
       "      <th>1</th>\n",
       "      <td>Chicken Curry</td>\n",
       "      <td>Good</td>\n",
       "    </tr>\n",
       "    <tr>\n",
       "      <th>2</th>\n",
       "      <td>Matton Khurma</td>\n",
       "      <td>Supper</td>\n",
       "    </tr>\n",
       "    <tr>\n",
       "      <th>3</th>\n",
       "      <td>Matton Biryani</td>\n",
       "      <td>Excellent</td>\n",
       "    </tr>\n",
       "    <tr>\n",
       "      <th>4</th>\n",
       "      <td>Chicken Biryani</td>\n",
       "      <td>Excellent</td>\n",
       "    </tr>\n",
       "    <tr>\n",
       "      <th>5</th>\n",
       "      <td>Chicken fry</td>\n",
       "      <td>Spicy</td>\n",
       "    </tr>\n",
       "    <tr>\n",
       "      <th>6</th>\n",
       "      <td>Matton fry</td>\n",
       "      <td>Spicy</td>\n",
       "    </tr>\n",
       "    <tr>\n",
       "      <th>7</th>\n",
       "      <td>Fish  Curry</td>\n",
       "      <td>Good</td>\n",
       "    </tr>\n",
       "    <tr>\n",
       "      <th>8</th>\n",
       "      <td>Fish fry</td>\n",
       "      <td>Crunchy</td>\n",
       "    </tr>\n",
       "    <tr>\n",
       "      <th>9</th>\n",
       "      <td>Prawns fry</td>\n",
       "      <td>Spicy</td>\n",
       "    </tr>\n",
       "  </tbody>\n",
       "</table>\n",
       "</div>"
      ],
      "text/plain": [
       "  NonVeg_Food_items      Taste\n",
       "0      Matton Curry     Supper\n",
       "1     Chicken Curry       Good\n",
       "2     Matton Khurma     Supper\n",
       "3    Matton Biryani  Excellent\n",
       "4   Chicken Biryani  Excellent\n",
       "5       Chicken fry      Spicy\n",
       "6        Matton fry      Spicy\n",
       "7       Fish  Curry       Good\n",
       "8          Fish fry    Crunchy\n",
       "9        Prawns fry      Spicy"
      ]
     },
     "execution_count": 84,
     "metadata": {},
     "output_type": "execute_result"
    }
   ],
   "source": [
    "import pandas as pd\n",
    "NonVegfood_items=pd.read_excel(r\"C:\\Users\\hp\\OneDrive\\Documents\\Begum_Pandas\\NonVeg_Food_items.xlsx\")\n",
    "NonVegfood_items"
   ]
  },
  {
   "cell_type": "code",
   "execution_count": 85,
   "id": "9a76c89d",
   "metadata": {},
   "outputs": [
    {
     "data": {
      "text/plain": [
       "RangeIndex(start=0, stop=10, step=1)"
      ]
     },
     "execution_count": 85,
     "metadata": {},
     "output_type": "execute_result"
    }
   ],
   "source": [
    "NonVegfood_items.index"
   ]
  },
  {
   "cell_type": "code",
   "execution_count": 86,
   "id": "dfafe543",
   "metadata": {},
   "outputs": [
    {
     "data": {
      "text/plain": [
       "(10, 2)"
      ]
     },
     "execution_count": 86,
     "metadata": {},
     "output_type": "execute_result"
    }
   ],
   "source": [
    "NonVegfood_items.shape"
   ]
  },
  {
   "cell_type": "code",
   "execution_count": 87,
   "id": "15f1539f",
   "metadata": {},
   "outputs": [
    {
     "data": {
      "text/html": [
       "<div>\n",
       "<style scoped>\n",
       "    .dataframe tbody tr th:only-of-type {\n",
       "        vertical-align: middle;\n",
       "    }\n",
       "\n",
       "    .dataframe tbody tr th {\n",
       "        vertical-align: top;\n",
       "    }\n",
       "\n",
       "    .dataframe thead th {\n",
       "        text-align: right;\n",
       "    }\n",
       "</style>\n",
       "<table border=\"1\" class=\"dataframe\">\n",
       "  <thead>\n",
       "    <tr style=\"text-align: right;\">\n",
       "      <th></th>\n",
       "      <th>NonVeg_Food_items</th>\n",
       "      <th>Taste</th>\n",
       "    </tr>\n",
       "  </thead>\n",
       "  <tbody>\n",
       "    <tr>\n",
       "      <th>0</th>\n",
       "      <td>Matton Curry</td>\n",
       "      <td>Supper</td>\n",
       "    </tr>\n",
       "    <tr>\n",
       "      <th>1</th>\n",
       "      <td>Chicken Curry</td>\n",
       "      <td>Good</td>\n",
       "    </tr>\n",
       "    <tr>\n",
       "      <th>2</th>\n",
       "      <td>Matton Khurma</td>\n",
       "      <td>Supper</td>\n",
       "    </tr>\n",
       "    <tr>\n",
       "      <th>3</th>\n",
       "      <td>Matton Biryani</td>\n",
       "      <td>Excellent</td>\n",
       "    </tr>\n",
       "    <tr>\n",
       "      <th>4</th>\n",
       "      <td>Chicken Biryani</td>\n",
       "      <td>Excellent</td>\n",
       "    </tr>\n",
       "  </tbody>\n",
       "</table>\n",
       "</div>"
      ],
      "text/plain": [
       "  NonVeg_Food_items      Taste\n",
       "0      Matton Curry     Supper\n",
       "1     Chicken Curry       Good\n",
       "2     Matton Khurma     Supper\n",
       "3    Matton Biryani  Excellent\n",
       "4   Chicken Biryani  Excellent"
      ]
     },
     "execution_count": 87,
     "metadata": {},
     "output_type": "execute_result"
    }
   ],
   "source": [
    "NonVegfood_items.head()"
   ]
  },
  {
   "cell_type": "code",
   "execution_count": 88,
   "id": "18f93cb3",
   "metadata": {},
   "outputs": [
    {
     "data": {
      "text/html": [
       "<div>\n",
       "<style scoped>\n",
       "    .dataframe tbody tr th:only-of-type {\n",
       "        vertical-align: middle;\n",
       "    }\n",
       "\n",
       "    .dataframe tbody tr th {\n",
       "        vertical-align: top;\n",
       "    }\n",
       "\n",
       "    .dataframe thead th {\n",
       "        text-align: right;\n",
       "    }\n",
       "</style>\n",
       "<table border=\"1\" class=\"dataframe\">\n",
       "  <thead>\n",
       "    <tr style=\"text-align: right;\">\n",
       "      <th></th>\n",
       "      <th>NonVeg_Food_items</th>\n",
       "      <th>Taste</th>\n",
       "    </tr>\n",
       "  </thead>\n",
       "  <tbody>\n",
       "    <tr>\n",
       "      <th>5</th>\n",
       "      <td>Chicken fry</td>\n",
       "      <td>Spicy</td>\n",
       "    </tr>\n",
       "    <tr>\n",
       "      <th>6</th>\n",
       "      <td>Matton fry</td>\n",
       "      <td>Spicy</td>\n",
       "    </tr>\n",
       "    <tr>\n",
       "      <th>7</th>\n",
       "      <td>Fish  Curry</td>\n",
       "      <td>Good</td>\n",
       "    </tr>\n",
       "    <tr>\n",
       "      <th>8</th>\n",
       "      <td>Fish fry</td>\n",
       "      <td>Crunchy</td>\n",
       "    </tr>\n",
       "    <tr>\n",
       "      <th>9</th>\n",
       "      <td>Prawns fry</td>\n",
       "      <td>Spicy</td>\n",
       "    </tr>\n",
       "  </tbody>\n",
       "</table>\n",
       "</div>"
      ],
      "text/plain": [
       "  NonVeg_Food_items    Taste\n",
       "5       Chicken fry    Spicy\n",
       "6        Matton fry    Spicy\n",
       "7       Fish  Curry     Good\n",
       "8          Fish fry  Crunchy\n",
       "9        Prawns fry    Spicy"
      ]
     },
     "execution_count": 88,
     "metadata": {},
     "output_type": "execute_result"
    }
   ],
   "source": [
    "NonVegfood_items.tail()"
   ]
  },
  {
   "cell_type": "code",
   "execution_count": 89,
   "id": "c608a113",
   "metadata": {},
   "outputs": [
    {
     "data": {
      "text/plain": [
       "Index(['NonVeg_Food_items', 'Taste'], dtype='object')"
      ]
     },
     "execution_count": 89,
     "metadata": {},
     "output_type": "execute_result"
    }
   ],
   "source": [
    "NonVegfood_items.columns"
   ]
  },
  {
   "cell_type": "code",
   "execution_count": 91,
   "id": "47b6fc77",
   "metadata": {},
   "outputs": [
    {
     "name": "stdout",
     "output_type": "stream",
     "text": [
      "<class 'pandas.core.frame.DataFrame'>\n",
      "RangeIndex: 10 entries, 0 to 9\n",
      "Data columns (total 2 columns):\n",
      " #   Column             Non-Null Count  Dtype \n",
      "---  ------             --------------  ----- \n",
      " 0   NonVeg_Food_items  10 non-null     object\n",
      " 1   Taste              10 non-null     object\n",
      "dtypes: object(2)\n",
      "memory usage: 288.0+ bytes\n"
     ]
    }
   ],
   "source": [
    "NonVegfood_items.info()"
   ]
  },
  {
   "cell_type": "code",
   "execution_count": 92,
   "id": "4a69b1f8",
   "metadata": {},
   "outputs": [
    {
     "data": {
      "text/plain": [
       "NonVeg_Food_items    object\n",
       "Taste                object\n",
       "dtype: object"
      ]
     },
     "execution_count": 92,
     "metadata": {},
     "output_type": "execute_result"
    }
   ],
   "source": [
    "NonVegfood_items.dtypes"
   ]
  },
  {
   "cell_type": "code",
   "execution_count": 93,
   "id": "3e1d643a",
   "metadata": {},
   "outputs": [
    {
     "data": {
      "text/plain": [
       "pandas.core.frame.DataFrame"
      ]
     },
     "execution_count": 93,
     "metadata": {},
     "output_type": "execute_result"
    }
   ],
   "source": [
    "type(NonVegfood_items)"
   ]
  },
  {
   "cell_type": "code",
   "execution_count": null,
   "id": "5882d435",
   "metadata": {},
   "outputs": [],
   "source": []
  },
  {
   "cell_type": "code",
   "execution_count": null,
   "id": "969fab3c",
   "metadata": {},
   "outputs": [],
   "source": [
    "# 11. Create a month_names.xlsx file (atleast 12 names, columns are MonthName*Season)"
   ]
  },
  {
   "cell_type": "code",
   "execution_count": 94,
   "id": "bb98e85b",
   "metadata": {},
   "outputs": [
    {
     "data": {
      "text/html": [
       "<div>\n",
       "<style scoped>\n",
       "    .dataframe tbody tr th:only-of-type {\n",
       "        vertical-align: middle;\n",
       "    }\n",
       "\n",
       "    .dataframe tbody tr th {\n",
       "        vertical-align: top;\n",
       "    }\n",
       "\n",
       "    .dataframe thead th {\n",
       "        text-align: right;\n",
       "    }\n",
       "</style>\n",
       "<table border=\"1\" class=\"dataframe\">\n",
       "  <thead>\n",
       "    <tr style=\"text-align: right;\">\n",
       "      <th></th>\n",
       "      <th>MonthName</th>\n",
       "      <th>Season</th>\n",
       "    </tr>\n",
       "  </thead>\n",
       "  <tbody>\n",
       "    <tr>\n",
       "      <th>0</th>\n",
       "      <td>January</td>\n",
       "      <td>Winter</td>\n",
       "    </tr>\n",
       "    <tr>\n",
       "      <th>1</th>\n",
       "      <td>February</td>\n",
       "      <td>Winter</td>\n",
       "    </tr>\n",
       "    <tr>\n",
       "      <th>2</th>\n",
       "      <td>March</td>\n",
       "      <td>Summer</td>\n",
       "    </tr>\n",
       "    <tr>\n",
       "      <th>3</th>\n",
       "      <td>April</td>\n",
       "      <td>Summer</td>\n",
       "    </tr>\n",
       "    <tr>\n",
       "      <th>4</th>\n",
       "      <td>May</td>\n",
       "      <td>Summer</td>\n",
       "    </tr>\n",
       "    <tr>\n",
       "      <th>5</th>\n",
       "      <td>June</td>\n",
       "      <td>Summer</td>\n",
       "    </tr>\n",
       "    <tr>\n",
       "      <th>6</th>\n",
       "      <td>July</td>\n",
       "      <td>Rainy</td>\n",
       "    </tr>\n",
       "    <tr>\n",
       "      <th>7</th>\n",
       "      <td>August</td>\n",
       "      <td>Rainy</td>\n",
       "    </tr>\n",
       "    <tr>\n",
       "      <th>8</th>\n",
       "      <td>September</td>\n",
       "      <td>Rainy</td>\n",
       "    </tr>\n",
       "    <tr>\n",
       "      <th>9</th>\n",
       "      <td>October</td>\n",
       "      <td>Rainy</td>\n",
       "    </tr>\n",
       "    <tr>\n",
       "      <th>10</th>\n",
       "      <td>November</td>\n",
       "      <td>Winter</td>\n",
       "    </tr>\n",
       "    <tr>\n",
       "      <th>11</th>\n",
       "      <td>December</td>\n",
       "      <td>Winter</td>\n",
       "    </tr>\n",
       "  </tbody>\n",
       "</table>\n",
       "</div>"
      ],
      "text/plain": [
       "    MonthName  Season\n",
       "0     January  Winter\n",
       "1    February  Winter\n",
       "2       March  Summer\n",
       "3       April  Summer\n",
       "4         May  Summer\n",
       "5        June  Summer\n",
       "6        July   Rainy\n",
       "7      August   Rainy\n",
       "8   September   Rainy\n",
       "9     October   Rainy\n",
       "10   November  Winter\n",
       "11   December  Winter"
      ]
     },
     "execution_count": 94,
     "metadata": {},
     "output_type": "execute_result"
    }
   ],
   "source": [
    "import pandas as pd\n",
    "Month_names=pd.read_excel(r\"C:\\Users\\hp\\OneDrive\\Documents\\Begum_Pandas\\Month_Names.xlsx\")\n",
    "Month_names"
   ]
  },
  {
   "cell_type": "code",
   "execution_count": 95,
   "id": "5608ebba",
   "metadata": {},
   "outputs": [
    {
     "data": {
      "text/plain": [
       "RangeIndex(start=0, stop=12, step=1)"
      ]
     },
     "execution_count": 95,
     "metadata": {},
     "output_type": "execute_result"
    }
   ],
   "source": [
    "Month_names.index"
   ]
  },
  {
   "cell_type": "code",
   "execution_count": 96,
   "id": "83b12482",
   "metadata": {},
   "outputs": [
    {
     "data": {
      "text/plain": [
       "(12, 2)"
      ]
     },
     "execution_count": 96,
     "metadata": {},
     "output_type": "execute_result"
    }
   ],
   "source": [
    "Month_names.shape"
   ]
  },
  {
   "cell_type": "code",
   "execution_count": 97,
   "id": "f56545d3",
   "metadata": {},
   "outputs": [
    {
     "data": {
      "text/html": [
       "<div>\n",
       "<style scoped>\n",
       "    .dataframe tbody tr th:only-of-type {\n",
       "        vertical-align: middle;\n",
       "    }\n",
       "\n",
       "    .dataframe tbody tr th {\n",
       "        vertical-align: top;\n",
       "    }\n",
       "\n",
       "    .dataframe thead th {\n",
       "        text-align: right;\n",
       "    }\n",
       "</style>\n",
       "<table border=\"1\" class=\"dataframe\">\n",
       "  <thead>\n",
       "    <tr style=\"text-align: right;\">\n",
       "      <th></th>\n",
       "      <th>MonthName</th>\n",
       "      <th>Season</th>\n",
       "    </tr>\n",
       "  </thead>\n",
       "  <tbody>\n",
       "    <tr>\n",
       "      <th>0</th>\n",
       "      <td>January</td>\n",
       "      <td>Winter</td>\n",
       "    </tr>\n",
       "    <tr>\n",
       "      <th>1</th>\n",
       "      <td>February</td>\n",
       "      <td>Winter</td>\n",
       "    </tr>\n",
       "    <tr>\n",
       "      <th>2</th>\n",
       "      <td>March</td>\n",
       "      <td>Summer</td>\n",
       "    </tr>\n",
       "    <tr>\n",
       "      <th>3</th>\n",
       "      <td>April</td>\n",
       "      <td>Summer</td>\n",
       "    </tr>\n",
       "    <tr>\n",
       "      <th>4</th>\n",
       "      <td>May</td>\n",
       "      <td>Summer</td>\n",
       "    </tr>\n",
       "  </tbody>\n",
       "</table>\n",
       "</div>"
      ],
      "text/plain": [
       "   MonthName  Season\n",
       "0    January  Winter\n",
       "1   February  Winter\n",
       "2      March  Summer\n",
       "3      April  Summer\n",
       "4        May  Summer"
      ]
     },
     "execution_count": 97,
     "metadata": {},
     "output_type": "execute_result"
    }
   ],
   "source": [
    "Month_names.head()"
   ]
  },
  {
   "cell_type": "code",
   "execution_count": 98,
   "id": "32595e34",
   "metadata": {},
   "outputs": [
    {
     "data": {
      "text/html": [
       "<div>\n",
       "<style scoped>\n",
       "    .dataframe tbody tr th:only-of-type {\n",
       "        vertical-align: middle;\n",
       "    }\n",
       "\n",
       "    .dataframe tbody tr th {\n",
       "        vertical-align: top;\n",
       "    }\n",
       "\n",
       "    .dataframe thead th {\n",
       "        text-align: right;\n",
       "    }\n",
       "</style>\n",
       "<table border=\"1\" class=\"dataframe\">\n",
       "  <thead>\n",
       "    <tr style=\"text-align: right;\">\n",
       "      <th></th>\n",
       "      <th>MonthName</th>\n",
       "      <th>Season</th>\n",
       "    </tr>\n",
       "  </thead>\n",
       "  <tbody>\n",
       "    <tr>\n",
       "      <th>7</th>\n",
       "      <td>August</td>\n",
       "      <td>Rainy</td>\n",
       "    </tr>\n",
       "    <tr>\n",
       "      <th>8</th>\n",
       "      <td>September</td>\n",
       "      <td>Rainy</td>\n",
       "    </tr>\n",
       "    <tr>\n",
       "      <th>9</th>\n",
       "      <td>October</td>\n",
       "      <td>Rainy</td>\n",
       "    </tr>\n",
       "    <tr>\n",
       "      <th>10</th>\n",
       "      <td>November</td>\n",
       "      <td>Winter</td>\n",
       "    </tr>\n",
       "    <tr>\n",
       "      <th>11</th>\n",
       "      <td>December</td>\n",
       "      <td>Winter</td>\n",
       "    </tr>\n",
       "  </tbody>\n",
       "</table>\n",
       "</div>"
      ],
      "text/plain": [
       "    MonthName  Season\n",
       "7      August   Rainy\n",
       "8   September   Rainy\n",
       "9     October   Rainy\n",
       "10   November  Winter\n",
       "11   December  Winter"
      ]
     },
     "execution_count": 98,
     "metadata": {},
     "output_type": "execute_result"
    }
   ],
   "source": [
    "Month_names.tail()"
   ]
  },
  {
   "cell_type": "code",
   "execution_count": 99,
   "id": "fcac1be0",
   "metadata": {},
   "outputs": [
    {
     "data": {
      "text/plain": [
       "Index([' MonthName', 'Season'], dtype='object')"
      ]
     },
     "execution_count": 99,
     "metadata": {},
     "output_type": "execute_result"
    }
   ],
   "source": [
    "Month_names.columns"
   ]
  },
  {
   "cell_type": "code",
   "execution_count": 100,
   "id": "bcff541f",
   "metadata": {},
   "outputs": [
    {
     "name": "stdout",
     "output_type": "stream",
     "text": [
      "<class 'pandas.core.frame.DataFrame'>\n",
      "RangeIndex: 12 entries, 0 to 11\n",
      "Data columns (total 2 columns):\n",
      " #   Column      Non-Null Count  Dtype \n",
      "---  ------      --------------  ----- \n",
      " 0    MonthName  12 non-null     object\n",
      " 1   Season      12 non-null     object\n",
      "dtypes: object(2)\n",
      "memory usage: 320.0+ bytes\n"
     ]
    }
   ],
   "source": [
    "Month_names.info()"
   ]
  },
  {
   "cell_type": "code",
   "execution_count": 101,
   "id": "9e99a8bd",
   "metadata": {},
   "outputs": [
    {
     "data": {
      "text/plain": [
       " MonthName    object\n",
       "Season        object\n",
       "dtype: object"
      ]
     },
     "execution_count": 101,
     "metadata": {},
     "output_type": "execute_result"
    }
   ],
   "source": [
    "Month_names.dtypes"
   ]
  },
  {
   "cell_type": "code",
   "execution_count": 102,
   "id": "2973094f",
   "metadata": {},
   "outputs": [
    {
     "data": {
      "text/plain": [
       "pandas.core.frame.DataFrame"
      ]
     },
     "execution_count": 102,
     "metadata": {},
     "output_type": "execute_result"
    }
   ],
   "source": [
    "type(Month_names)"
   ]
  },
  {
   "cell_type": "code",
   "execution_count": null,
   "id": "e620cdc5",
   "metadata": {},
   "outputs": [],
   "source": []
  },
  {
   "cell_type": "code",
   "execution_count": null,
   "id": "7c95f2d9",
   "metadata": {},
   "outputs": [],
   "source": [
    "# 12. Create a colours_names.xlsx file  (atleast 12 names, columns are colourName_in_English^colourName_in_Hindi^colourName_in_Telugu)"
   ]
  },
  {
   "cell_type": "code",
   "execution_count": 103,
   "id": "295c5639",
   "metadata": {},
   "outputs": [
    {
     "data": {
      "text/html": [
       "<div>\n",
       "<style scoped>\n",
       "    .dataframe tbody tr th:only-of-type {\n",
       "        vertical-align: middle;\n",
       "    }\n",
       "\n",
       "    .dataframe tbody tr th {\n",
       "        vertical-align: top;\n",
       "    }\n",
       "\n",
       "    .dataframe thead th {\n",
       "        text-align: right;\n",
       "    }\n",
       "</style>\n",
       "<table border=\"1\" class=\"dataframe\">\n",
       "  <thead>\n",
       "    <tr style=\"text-align: right;\">\n",
       "      <th></th>\n",
       "      <th>Colour_Name_inEnglish</th>\n",
       "      <th>Colour_Name_inHindi</th>\n",
       "      <th>Colour_Name_inTelugu</th>\n",
       "    </tr>\n",
       "  </thead>\n",
       "  <tbody>\n",
       "    <tr>\n",
       "      <th>0</th>\n",
       "      <td>Yellow</td>\n",
       "      <td>Peela</td>\n",
       "      <td>Pasupu Rangu</td>\n",
       "    </tr>\n",
       "    <tr>\n",
       "      <th>1</th>\n",
       "      <td>Green</td>\n",
       "      <td>Hara</td>\n",
       "      <td>Aaku Pachcha Rangu</td>\n",
       "    </tr>\n",
       "    <tr>\n",
       "      <th>2</th>\n",
       "      <td>Orange</td>\n",
       "      <td>Narangi</td>\n",
       "      <td>Narinja Rangu</td>\n",
       "    </tr>\n",
       "    <tr>\n",
       "      <th>3</th>\n",
       "      <td>Voilet</td>\n",
       "      <td>Byngani</td>\n",
       "      <td>Vanga Putha Rangu</td>\n",
       "    </tr>\n",
       "    <tr>\n",
       "      <th>4</th>\n",
       "      <td>Red</td>\n",
       "      <td>Laal</td>\n",
       "      <td>Yerupu Rangu</td>\n",
       "    </tr>\n",
       "    <tr>\n",
       "      <th>5</th>\n",
       "      <td>Brown</td>\n",
       "      <td>Bhoora</td>\n",
       "      <td>Godhuma Rangu</td>\n",
       "    </tr>\n",
       "    <tr>\n",
       "      <th>6</th>\n",
       "      <td>White</td>\n",
       "      <td>Safed</td>\n",
       "      <td>RanguTelupu</td>\n",
       "    </tr>\n",
       "    <tr>\n",
       "      <th>7</th>\n",
       "      <td>Pink</td>\n",
       "      <td>Gulabi</td>\n",
       "      <td>Roja Rangu</td>\n",
       "    </tr>\n",
       "    <tr>\n",
       "      <th>8</th>\n",
       "      <td>Black</td>\n",
       "      <td>Kala</td>\n",
       "      <td>Nalupu Rangu</td>\n",
       "    </tr>\n",
       "    <tr>\n",
       "      <th>9</th>\n",
       "      <td>Blue</td>\n",
       "      <td>Neela</td>\n",
       "      <td>Neeli Rangu</td>\n",
       "    </tr>\n",
       "  </tbody>\n",
       "</table>\n",
       "</div>"
      ],
      "text/plain": [
       "  Colour_Name_inEnglish Colour_Name_inHindi Colour_Name_inTelugu\n",
       "0                Yellow               Peela         Pasupu Rangu\n",
       "1                 Green                Hara   Aaku Pachcha Rangu\n",
       "2                Orange             Narangi        Narinja Rangu\n",
       "3                Voilet             Byngani    Vanga Putha Rangu\n",
       "4                   Red                Laal         Yerupu Rangu\n",
       "5                 Brown              Bhoora        Godhuma Rangu\n",
       "6                 White               Safed          RanguTelupu\n",
       "7                  Pink              Gulabi           Roja Rangu\n",
       "8                 Black                Kala         Nalupu Rangu\n",
       "9                  Blue               Neela          Neeli Rangu"
      ]
     },
     "execution_count": 103,
     "metadata": {},
     "output_type": "execute_result"
    }
   ],
   "source": [
    "import pandas as pd\n",
    "Colours_names=pd.read_excel(r\"C:\\Users\\hp\\OneDrive\\Documents\\Begum_Pandas\\Colour_names.xlsx\")\n",
    "Colours_names"
   ]
  },
  {
   "cell_type": "code",
   "execution_count": 104,
   "id": "ae322514",
   "metadata": {},
   "outputs": [
    {
     "data": {
      "text/plain": [
       "RangeIndex(start=0, stop=10, step=1)"
      ]
     },
     "execution_count": 104,
     "metadata": {},
     "output_type": "execute_result"
    }
   ],
   "source": [
    "Colours_names.index"
   ]
  },
  {
   "cell_type": "code",
   "execution_count": 105,
   "id": "747d19a2",
   "metadata": {},
   "outputs": [
    {
     "data": {
      "text/plain": [
       "(10, 3)"
      ]
     },
     "execution_count": 105,
     "metadata": {},
     "output_type": "execute_result"
    }
   ],
   "source": [
    "Colours_names.shape"
   ]
  },
  {
   "cell_type": "code",
   "execution_count": 106,
   "id": "39582bb3",
   "metadata": {},
   "outputs": [
    {
     "data": {
      "text/html": [
       "<div>\n",
       "<style scoped>\n",
       "    .dataframe tbody tr th:only-of-type {\n",
       "        vertical-align: middle;\n",
       "    }\n",
       "\n",
       "    .dataframe tbody tr th {\n",
       "        vertical-align: top;\n",
       "    }\n",
       "\n",
       "    .dataframe thead th {\n",
       "        text-align: right;\n",
       "    }\n",
       "</style>\n",
       "<table border=\"1\" class=\"dataframe\">\n",
       "  <thead>\n",
       "    <tr style=\"text-align: right;\">\n",
       "      <th></th>\n",
       "      <th>Colour_Name_inEnglish</th>\n",
       "      <th>Colour_Name_inHindi</th>\n",
       "      <th>Colour_Name_inTelugu</th>\n",
       "    </tr>\n",
       "  </thead>\n",
       "  <tbody>\n",
       "    <tr>\n",
       "      <th>0</th>\n",
       "      <td>Yellow</td>\n",
       "      <td>Peela</td>\n",
       "      <td>Pasupu Rangu</td>\n",
       "    </tr>\n",
       "    <tr>\n",
       "      <th>1</th>\n",
       "      <td>Green</td>\n",
       "      <td>Hara</td>\n",
       "      <td>Aaku Pachcha Rangu</td>\n",
       "    </tr>\n",
       "    <tr>\n",
       "      <th>2</th>\n",
       "      <td>Orange</td>\n",
       "      <td>Narangi</td>\n",
       "      <td>Narinja Rangu</td>\n",
       "    </tr>\n",
       "    <tr>\n",
       "      <th>3</th>\n",
       "      <td>Voilet</td>\n",
       "      <td>Byngani</td>\n",
       "      <td>Vanga Putha Rangu</td>\n",
       "    </tr>\n",
       "    <tr>\n",
       "      <th>4</th>\n",
       "      <td>Red</td>\n",
       "      <td>Laal</td>\n",
       "      <td>Yerupu Rangu</td>\n",
       "    </tr>\n",
       "  </tbody>\n",
       "</table>\n",
       "</div>"
      ],
      "text/plain": [
       "  Colour_Name_inEnglish Colour_Name_inHindi Colour_Name_inTelugu\n",
       "0                Yellow               Peela         Pasupu Rangu\n",
       "1                 Green                Hara   Aaku Pachcha Rangu\n",
       "2                Orange             Narangi        Narinja Rangu\n",
       "3                Voilet             Byngani    Vanga Putha Rangu\n",
       "4                   Red                Laal         Yerupu Rangu"
      ]
     },
     "execution_count": 106,
     "metadata": {},
     "output_type": "execute_result"
    }
   ],
   "source": [
    "Colours_names.head()"
   ]
  },
  {
   "cell_type": "code",
   "execution_count": 107,
   "id": "4fa429c0",
   "metadata": {},
   "outputs": [
    {
     "data": {
      "text/html": [
       "<div>\n",
       "<style scoped>\n",
       "    .dataframe tbody tr th:only-of-type {\n",
       "        vertical-align: middle;\n",
       "    }\n",
       "\n",
       "    .dataframe tbody tr th {\n",
       "        vertical-align: top;\n",
       "    }\n",
       "\n",
       "    .dataframe thead th {\n",
       "        text-align: right;\n",
       "    }\n",
       "</style>\n",
       "<table border=\"1\" class=\"dataframe\">\n",
       "  <thead>\n",
       "    <tr style=\"text-align: right;\">\n",
       "      <th></th>\n",
       "      <th>Colour_Name_inEnglish</th>\n",
       "      <th>Colour_Name_inHindi</th>\n",
       "      <th>Colour_Name_inTelugu</th>\n",
       "    </tr>\n",
       "  </thead>\n",
       "  <tbody>\n",
       "    <tr>\n",
       "      <th>5</th>\n",
       "      <td>Brown</td>\n",
       "      <td>Bhoora</td>\n",
       "      <td>Godhuma Rangu</td>\n",
       "    </tr>\n",
       "    <tr>\n",
       "      <th>6</th>\n",
       "      <td>White</td>\n",
       "      <td>Safed</td>\n",
       "      <td>RanguTelupu</td>\n",
       "    </tr>\n",
       "    <tr>\n",
       "      <th>7</th>\n",
       "      <td>Pink</td>\n",
       "      <td>Gulabi</td>\n",
       "      <td>Roja Rangu</td>\n",
       "    </tr>\n",
       "    <tr>\n",
       "      <th>8</th>\n",
       "      <td>Black</td>\n",
       "      <td>Kala</td>\n",
       "      <td>Nalupu Rangu</td>\n",
       "    </tr>\n",
       "    <tr>\n",
       "      <th>9</th>\n",
       "      <td>Blue</td>\n",
       "      <td>Neela</td>\n",
       "      <td>Neeli Rangu</td>\n",
       "    </tr>\n",
       "  </tbody>\n",
       "</table>\n",
       "</div>"
      ],
      "text/plain": [
       "  Colour_Name_inEnglish Colour_Name_inHindi Colour_Name_inTelugu\n",
       "5                 Brown              Bhoora        Godhuma Rangu\n",
       "6                 White               Safed          RanguTelupu\n",
       "7                  Pink              Gulabi           Roja Rangu\n",
       "8                 Black                Kala         Nalupu Rangu\n",
       "9                  Blue               Neela          Neeli Rangu"
      ]
     },
     "execution_count": 107,
     "metadata": {},
     "output_type": "execute_result"
    }
   ],
   "source": [
    "Colours_names.tail()"
   ]
  },
  {
   "cell_type": "code",
   "execution_count": 108,
   "id": "3f60df71",
   "metadata": {},
   "outputs": [
    {
     "data": {
      "text/plain": [
       "Index(['Colour_Name_inEnglish', 'Colour_Name_inHindi', 'Colour_Name_inTelugu'], dtype='object')"
      ]
     },
     "execution_count": 108,
     "metadata": {},
     "output_type": "execute_result"
    }
   ],
   "source": [
    "Colours_names.columns"
   ]
  },
  {
   "cell_type": "code",
   "execution_count": 109,
   "id": "1a1512ae",
   "metadata": {},
   "outputs": [
    {
     "name": "stdout",
     "output_type": "stream",
     "text": [
      "<class 'pandas.core.frame.DataFrame'>\n",
      "RangeIndex: 10 entries, 0 to 9\n",
      "Data columns (total 3 columns):\n",
      " #   Column                 Non-Null Count  Dtype \n",
      "---  ------                 --------------  ----- \n",
      " 0   Colour_Name_inEnglish  10 non-null     object\n",
      " 1   Colour_Name_inHindi    10 non-null     object\n",
      " 2   Colour_Name_inTelugu   10 non-null     object\n",
      "dtypes: object(3)\n",
      "memory usage: 368.0+ bytes\n"
     ]
    }
   ],
   "source": [
    "Colours_names.info()"
   ]
  },
  {
   "cell_type": "code",
   "execution_count": 110,
   "id": "f44423b2",
   "metadata": {},
   "outputs": [
    {
     "data": {
      "text/plain": [
       "Colour_Name_inEnglish    object\n",
       "Colour_Name_inHindi      object\n",
       "Colour_Name_inTelugu     object\n",
       "dtype: object"
      ]
     },
     "execution_count": 110,
     "metadata": {},
     "output_type": "execute_result"
    }
   ],
   "source": [
    "Colours_names.dtypes"
   ]
  },
  {
   "cell_type": "code",
   "execution_count": 111,
   "id": "a1877e09",
   "metadata": {},
   "outputs": [
    {
     "data": {
      "text/plain": [
       "pandas.core.frame.DataFrame"
      ]
     },
     "execution_count": 111,
     "metadata": {},
     "output_type": "execute_result"
    }
   ],
   "source": [
    "type(Colours_names)"
   ]
  },
  {
   "cell_type": "code",
   "execution_count": null,
   "id": "aac8bacc",
   "metadata": {},
   "outputs": [],
   "source": []
  },
  {
   "cell_type": "code",
   "execution_count": null,
   "id": "8892491c",
   "metadata": {},
   "outputs": [],
   "source": []
  },
  {
   "cell_type": "code",
   "execution_count": null,
   "id": "a0cf42a6",
   "metadata": {},
   "outputs": [],
   "source": []
  }
 ],
 "metadata": {
  "kernelspec": {
   "display_name": "Python 3 (ipykernel)",
   "language": "python",
   "name": "python3"
  },
  "language_info": {
   "codemirror_mode": {
    "name": "ipython",
    "version": 3
   },
   "file_extension": ".py",
   "mimetype": "text/x-python",
   "name": "python",
   "nbconvert_exporter": "python",
   "pygments_lexer": "ipython3",
   "version": "3.10.9"
  }
 },
 "nbformat": 4,
 "nbformat_minor": 5
}
