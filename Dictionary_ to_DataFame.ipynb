{
 "cells": [
  {
   "cell_type": "code",
   "execution_count": null,
   "id": "1c0c38f5",
   "metadata": {},
   "outputs": [],
   "source": [
    "# --------> dictionary to Create Data Fame"
   ]
  },
  {
   "cell_type": "code",
   "execution_count": null,
   "id": "5a0bd2ac",
   "metadata": {},
   "outputs": [],
   "source": []
  },
  {
   "cell_type": "code",
   "execution_count": 1,
   "id": "fc1c74ab",
   "metadata": {},
   "outputs": [
    {
     "data": {
      "text/plain": [
       "{'Family_members': ['Md.Ali',\n",
       "  'Balkis Jaha',\n",
       "  'Shahnaz Begum',\n",
       "  'Irfan',\n",
       "  'Afzal Shaw',\n",
       "  'Shakeela Begum',\n",
       "  'Shamshad Begum',\n",
       "  'Md.Karamatulla',\n",
       "  'Shannu',\n",
       "  'Banu']}"
      ]
     },
     "execution_count": 1,
     "metadata": {},
     "output_type": "execute_result"
    }
   ],
   "source": [
    "dict={\"Family_members\":[\"Md.Ali\",\"Balkis Jaha\",\"Shahnaz Begum\",\"Irfan\",\"Afzal Shaw\",\"Shakeela Begum\",\"Shamshad Begum\",\"Md.Karamatulla\",\"Shannu\",\"Banu\"]}\n",
    "dict "
   ]
  },
  {
   "cell_type": "code",
   "execution_count": null,
   "id": "94135156",
   "metadata": {},
   "outputs": [],
   "source": []
  },
  {
   "cell_type": "code",
   "execution_count": 4,
   "id": "9b8ff795",
   "metadata": {},
   "outputs": [
    {
     "data": {
      "text/html": [
       "<div>\n",
       "<style scoped>\n",
       "    .dataframe tbody tr th:only-of-type {\n",
       "        vertical-align: middle;\n",
       "    }\n",
       "\n",
       "    .dataframe tbody tr th {\n",
       "        vertical-align: top;\n",
       "    }\n",
       "\n",
       "    .dataframe thead th {\n",
       "        text-align: right;\n",
       "    }\n",
       "</style>\n",
       "<table border=\"1\" class=\"dataframe\">\n",
       "  <thead>\n",
       "    <tr style=\"text-align: right;\">\n",
       "      <th></th>\n",
       "      <th>Family_members</th>\n",
       "    </tr>\n",
       "  </thead>\n",
       "  <tbody>\n",
       "    <tr>\n",
       "      <th>0</th>\n",
       "      <td>Md.Ali</td>\n",
       "    </tr>\n",
       "    <tr>\n",
       "      <th>1</th>\n",
       "      <td>Balkis Jaha</td>\n",
       "    </tr>\n",
       "    <tr>\n",
       "      <th>2</th>\n",
       "      <td>Shahnaz Begum</td>\n",
       "    </tr>\n",
       "    <tr>\n",
       "      <th>3</th>\n",
       "      <td>Irfan</td>\n",
       "    </tr>\n",
       "    <tr>\n",
       "      <th>4</th>\n",
       "      <td>Afzal Shaw</td>\n",
       "    </tr>\n",
       "    <tr>\n",
       "      <th>5</th>\n",
       "      <td>Shakeela Begum</td>\n",
       "    </tr>\n",
       "    <tr>\n",
       "      <th>6</th>\n",
       "      <td>Shamshad Begum</td>\n",
       "    </tr>\n",
       "    <tr>\n",
       "      <th>7</th>\n",
       "      <td>Md.Karamatulla</td>\n",
       "    </tr>\n",
       "    <tr>\n",
       "      <th>8</th>\n",
       "      <td>Shannu</td>\n",
       "    </tr>\n",
       "    <tr>\n",
       "      <th>9</th>\n",
       "      <td>Banu</td>\n",
       "    </tr>\n",
       "  </tbody>\n",
       "</table>\n",
       "</div>"
      ],
      "text/plain": [
       "   Family_members\n",
       "0          Md.Ali\n",
       "1     Balkis Jaha\n",
       "2   Shahnaz Begum\n",
       "3           Irfan\n",
       "4      Afzal Shaw\n",
       "5  Shakeela Begum\n",
       "6  Shamshad Begum\n",
       "7  Md.Karamatulla\n",
       "8          Shannu\n",
       "9            Banu"
      ]
     },
     "execution_count": 4,
     "metadata": {},
     "output_type": "execute_result"
    }
   ],
   "source": [
    "import pandas\n",
    "import pandas as pd\n",
    "df_fmember=pd.DataFrame(dict)\n",
    "df_fmember"
   ]
  },
  {
   "cell_type": "code",
   "execution_count": null,
   "id": "815f9c22",
   "metadata": {},
   "outputs": [],
   "source": []
  },
  {
   "cell_type": "code",
   "execution_count": 8,
   "id": "ea2eb73d",
   "metadata": {},
   "outputs": [
    {
     "data": {
      "text/plain": [
       "{'Family_members': ['Md.Ali',\n",
       "  'Balkis Jaha',\n",
       "  'Shahnaz Begum',\n",
       "  'Irfan',\n",
       "  'Afzal Shaw',\n",
       "  'Shakeela Begum',\n",
       "  'Shamshad Begum',\n",
       "  'Md.Karamatulla',\n",
       "  'Shannu',\n",
       "  'Banu'],\n",
       " 'Relations': ['Father',\n",
       "  'Mother',\n",
       "  'Sister',\n",
       "  'Brother',\n",
       "  'Brother',\n",
       "  'Sister',\n",
       "  'Me',\n",
       "  'Husband',\n",
       "  'Daugher',\n",
       "  'Daughter']}"
      ]
     },
     "execution_count": 8,
     "metadata": {},
     "output_type": "execute_result"
    }
   ],
   "source": [
    "dict_Re={\"Family_members\":[\"Md.Ali\",\"Balkis Jaha\",\"Shahnaz Begum\",\"Irfan\",\"Afzal Shaw\",\"Shakeela Begum\",\"Shamshad Begum\",\"Md.Karamatulla\",\"Shannu\",\"Banu\"], \"Relations\":[\"Father\",\"Mother\",\"Sister\",\"Brother\",\"Brother\",\"Sister\",\"Me\",\"Husband\",\"Daugher\",\"Daughter\"]}\n",
    "dict_Re"
   ]
  },
  {
   "cell_type": "code",
   "execution_count": null,
   "id": "cc9db2ff",
   "metadata": {},
   "outputs": [],
   "source": []
  },
  {
   "cell_type": "code",
   "execution_count": 9,
   "id": "d39efb16",
   "metadata": {},
   "outputs": [
    {
     "data": {
      "text/html": [
       "<div>\n",
       "<style scoped>\n",
       "    .dataframe tbody tr th:only-of-type {\n",
       "        vertical-align: middle;\n",
       "    }\n",
       "\n",
       "    .dataframe tbody tr th {\n",
       "        vertical-align: top;\n",
       "    }\n",
       "\n",
       "    .dataframe thead th {\n",
       "        text-align: right;\n",
       "    }\n",
       "</style>\n",
       "<table border=\"1\" class=\"dataframe\">\n",
       "  <thead>\n",
       "    <tr style=\"text-align: right;\">\n",
       "      <th></th>\n",
       "      <th>Family_members</th>\n",
       "      <th>Relations</th>\n",
       "    </tr>\n",
       "  </thead>\n",
       "  <tbody>\n",
       "    <tr>\n",
       "      <th>0</th>\n",
       "      <td>Md.Ali</td>\n",
       "      <td>Father</td>\n",
       "    </tr>\n",
       "    <tr>\n",
       "      <th>1</th>\n",
       "      <td>Balkis Jaha</td>\n",
       "      <td>Mother</td>\n",
       "    </tr>\n",
       "    <tr>\n",
       "      <th>2</th>\n",
       "      <td>Shahnaz Begum</td>\n",
       "      <td>Sister</td>\n",
       "    </tr>\n",
       "    <tr>\n",
       "      <th>3</th>\n",
       "      <td>Irfan</td>\n",
       "      <td>Brother</td>\n",
       "    </tr>\n",
       "    <tr>\n",
       "      <th>4</th>\n",
       "      <td>Afzal Shaw</td>\n",
       "      <td>Brother</td>\n",
       "    </tr>\n",
       "    <tr>\n",
       "      <th>5</th>\n",
       "      <td>Shakeela Begum</td>\n",
       "      <td>Sister</td>\n",
       "    </tr>\n",
       "    <tr>\n",
       "      <th>6</th>\n",
       "      <td>Shamshad Begum</td>\n",
       "      <td>Me</td>\n",
       "    </tr>\n",
       "    <tr>\n",
       "      <th>7</th>\n",
       "      <td>Md.Karamatulla</td>\n",
       "      <td>Husband</td>\n",
       "    </tr>\n",
       "    <tr>\n",
       "      <th>8</th>\n",
       "      <td>Shannu</td>\n",
       "      <td>Daugher</td>\n",
       "    </tr>\n",
       "    <tr>\n",
       "      <th>9</th>\n",
       "      <td>Banu</td>\n",
       "      <td>Daughter</td>\n",
       "    </tr>\n",
       "  </tbody>\n",
       "</table>\n",
       "</div>"
      ],
      "text/plain": [
       "   Family_members Relations\n",
       "0          Md.Ali    Father\n",
       "1     Balkis Jaha    Mother\n",
       "2   Shahnaz Begum    Sister\n",
       "3           Irfan   Brother\n",
       "4      Afzal Shaw   Brother\n",
       "5  Shakeela Begum    Sister\n",
       "6  Shamshad Begum        Me\n",
       "7  Md.Karamatulla   Husband\n",
       "8          Shannu   Daugher\n",
       "9            Banu  Daughter"
      ]
     },
     "execution_count": 9,
     "metadata": {},
     "output_type": "execute_result"
    }
   ],
   "source": [
    "df_Relations=pd.DataFrame(dict_Re)\n",
    "df_Relations"
   ]
  },
  {
   "cell_type": "code",
   "execution_count": null,
   "id": "4b95a70b",
   "metadata": {},
   "outputs": [],
   "source": []
  },
  {
   "cell_type": "code",
   "execution_count": 10,
   "id": "320b2487",
   "metadata": {},
   "outputs": [
    {
     "data": {
      "text/plain": [
       "{'Friend_names': ['Ravi',\n",
       "  'Shekar',\n",
       "  'Aliya',\n",
       "  'Perveen',\n",
       "  'Khamurunnisa',\n",
       "  'Salma',\n",
       "  'Radha',\n",
       "  'Sridevi',\n",
       "  'Abbas',\n",
       "  'Jarina'],\n",
       " 'Quality': ['Talk Active',\n",
       "  'Anger',\n",
       "  'Intelligent',\n",
       "  'Funny',\n",
       "  'Good',\n",
       "  'Innocent',\n",
       "  'Claver',\n",
       "  'Singer',\n",
       "  'Hard Working',\n",
       "  'Help full']}"
      ]
     },
     "execution_count": 10,
     "metadata": {},
     "output_type": "execute_result"
    }
   ],
   "source": [
    "dict_Fn={\"Friend_names\": [\"Ravi\",\"Shekar\",\"Aliya\",\"Perveen\",\"Khamurunnisa\",\"Salma\",\"Radha\",\"Sridevi\",\"Abbas\",\"Jarina\"], \"Quality\" : [\"Talk Active\", \"Anger\", \"Intelligent\", \"Funny\", \"Good\", \"Innocent\", \"Claver\", \"Singer\",\"Hard Working\",\"Help full\"]}\n",
    "dict_Fn"
   ]
  },
  {
   "cell_type": "code",
   "execution_count": null,
   "id": "cd20fc14",
   "metadata": {},
   "outputs": [],
   "source": []
  },
  {
   "cell_type": "code",
   "execution_count": 11,
   "id": "d89d9918",
   "metadata": {},
   "outputs": [
    {
     "data": {
      "text/html": [
       "<div>\n",
       "<style scoped>\n",
       "    .dataframe tbody tr th:only-of-type {\n",
       "        vertical-align: middle;\n",
       "    }\n",
       "\n",
       "    .dataframe tbody tr th {\n",
       "        vertical-align: top;\n",
       "    }\n",
       "\n",
       "    .dataframe thead th {\n",
       "        text-align: right;\n",
       "    }\n",
       "</style>\n",
       "<table border=\"1\" class=\"dataframe\">\n",
       "  <thead>\n",
       "    <tr style=\"text-align: right;\">\n",
       "      <th></th>\n",
       "      <th>Friend_names</th>\n",
       "      <th>Quality</th>\n",
       "    </tr>\n",
       "  </thead>\n",
       "  <tbody>\n",
       "    <tr>\n",
       "      <th>0</th>\n",
       "      <td>Ravi</td>\n",
       "      <td>Talk Active</td>\n",
       "    </tr>\n",
       "    <tr>\n",
       "      <th>1</th>\n",
       "      <td>Shekar</td>\n",
       "      <td>Anger</td>\n",
       "    </tr>\n",
       "    <tr>\n",
       "      <th>2</th>\n",
       "      <td>Aliya</td>\n",
       "      <td>Intelligent</td>\n",
       "    </tr>\n",
       "    <tr>\n",
       "      <th>3</th>\n",
       "      <td>Perveen</td>\n",
       "      <td>Funny</td>\n",
       "    </tr>\n",
       "    <tr>\n",
       "      <th>4</th>\n",
       "      <td>Khamurunnisa</td>\n",
       "      <td>Good</td>\n",
       "    </tr>\n",
       "    <tr>\n",
       "      <th>5</th>\n",
       "      <td>Salma</td>\n",
       "      <td>Innocent</td>\n",
       "    </tr>\n",
       "    <tr>\n",
       "      <th>6</th>\n",
       "      <td>Radha</td>\n",
       "      <td>Claver</td>\n",
       "    </tr>\n",
       "    <tr>\n",
       "      <th>7</th>\n",
       "      <td>Sridevi</td>\n",
       "      <td>Singer</td>\n",
       "    </tr>\n",
       "    <tr>\n",
       "      <th>8</th>\n",
       "      <td>Abbas</td>\n",
       "      <td>Hard Working</td>\n",
       "    </tr>\n",
       "    <tr>\n",
       "      <th>9</th>\n",
       "      <td>Jarina</td>\n",
       "      <td>Help full</td>\n",
       "    </tr>\n",
       "  </tbody>\n",
       "</table>\n",
       "</div>"
      ],
      "text/plain": [
       "   Friend_names       Quality\n",
       "0          Ravi   Talk Active\n",
       "1        Shekar         Anger\n",
       "2         Aliya   Intelligent\n",
       "3       Perveen         Funny\n",
       "4  Khamurunnisa          Good\n",
       "5         Salma      Innocent\n",
       "6         Radha        Claver\n",
       "7       Sridevi        Singer\n",
       "8         Abbas  Hard Working\n",
       "9        Jarina     Help full"
      ]
     },
     "execution_count": 11,
     "metadata": {},
     "output_type": "execute_result"
    }
   ],
   "source": [
    "df_Fname=pd.DataFrame(dict_Fn)\n",
    "df_Fname"
   ]
  },
  {
   "cell_type": "code",
   "execution_count": null,
   "id": "94433fa0",
   "metadata": {},
   "outputs": [],
   "source": []
  },
  {
   "cell_type": "code",
   "execution_count": 12,
   "id": "00a76628",
   "metadata": {},
   "outputs": [
    {
     "data": {
      "text/plain": [
       "{'Veg_items': ['Potato Fry',\n",
       "  'Tomato Dal',\n",
       "  'Pudina Chatny',\n",
       "  'Cabbage Dal',\n",
       "  \"Lady's Finger Fry\",\n",
       "  'Potato Tomato Curry',\n",
       "  'Brinjal Curry',\n",
       "  'Tomato Curry',\n",
       "  'Sambar',\n",
       "  'Ridge Guard Curry'],\n",
       " 'Rating': [2, 1, 5, 7, 3, 8, 4, 9, 6, 10]}"
      ]
     },
     "execution_count": 12,
     "metadata": {},
     "output_type": "execute_result"
    }
   ],
   "source": [
    "dict_Veg={\"Veg_items\" : [\"Potato Fry\",\"Tomato Dal\",\"Pudina Chatny\",\"Cabbage Dal\",\"Lady's Finger Fry\",\"Potato Tomato Curry\",\"Brinjal Curry\",\"Tomato Curry\",\"Sambar\",\"Ridge Guard Curry\"],\"Rating\":[2,1,5,7,3,8,4,9,6,10]}\n",
    "dict_Veg"
   ]
  },
  {
   "cell_type": "code",
   "execution_count": null,
   "id": "4a4b9682",
   "metadata": {},
   "outputs": [],
   "source": []
  },
  {
   "cell_type": "code",
   "execution_count": 13,
   "id": "db99836e",
   "metadata": {},
   "outputs": [
    {
     "data": {
      "text/html": [
       "<div>\n",
       "<style scoped>\n",
       "    .dataframe tbody tr th:only-of-type {\n",
       "        vertical-align: middle;\n",
       "    }\n",
       "\n",
       "    .dataframe tbody tr th {\n",
       "        vertical-align: top;\n",
       "    }\n",
       "\n",
       "    .dataframe thead th {\n",
       "        text-align: right;\n",
       "    }\n",
       "</style>\n",
       "<table border=\"1\" class=\"dataframe\">\n",
       "  <thead>\n",
       "    <tr style=\"text-align: right;\">\n",
       "      <th></th>\n",
       "      <th>Veg_items</th>\n",
       "      <th>Rating</th>\n",
       "    </tr>\n",
       "  </thead>\n",
       "  <tbody>\n",
       "    <tr>\n",
       "      <th>0</th>\n",
       "      <td>Potato Fry</td>\n",
       "      <td>2</td>\n",
       "    </tr>\n",
       "    <tr>\n",
       "      <th>1</th>\n",
       "      <td>Tomato Dal</td>\n",
       "      <td>1</td>\n",
       "    </tr>\n",
       "    <tr>\n",
       "      <th>2</th>\n",
       "      <td>Pudina Chatny</td>\n",
       "      <td>5</td>\n",
       "    </tr>\n",
       "    <tr>\n",
       "      <th>3</th>\n",
       "      <td>Cabbage Dal</td>\n",
       "      <td>7</td>\n",
       "    </tr>\n",
       "    <tr>\n",
       "      <th>4</th>\n",
       "      <td>Lady's Finger Fry</td>\n",
       "      <td>3</td>\n",
       "    </tr>\n",
       "    <tr>\n",
       "      <th>5</th>\n",
       "      <td>Potato Tomato Curry</td>\n",
       "      <td>8</td>\n",
       "    </tr>\n",
       "    <tr>\n",
       "      <th>6</th>\n",
       "      <td>Brinjal Curry</td>\n",
       "      <td>4</td>\n",
       "    </tr>\n",
       "    <tr>\n",
       "      <th>7</th>\n",
       "      <td>Tomato Curry</td>\n",
       "      <td>9</td>\n",
       "    </tr>\n",
       "    <tr>\n",
       "      <th>8</th>\n",
       "      <td>Sambar</td>\n",
       "      <td>6</td>\n",
       "    </tr>\n",
       "    <tr>\n",
       "      <th>9</th>\n",
       "      <td>Ridge Guard Curry</td>\n",
       "      <td>10</td>\n",
       "    </tr>\n",
       "  </tbody>\n",
       "</table>\n",
       "</div>"
      ],
      "text/plain": [
       "             Veg_items  Rating\n",
       "0           Potato Fry       2\n",
       "1           Tomato Dal       1\n",
       "2        Pudina Chatny       5\n",
       "3          Cabbage Dal       7\n",
       "4    Lady's Finger Fry       3\n",
       "5  Potato Tomato Curry       8\n",
       "6        Brinjal Curry       4\n",
       "7         Tomato Curry       9\n",
       "8               Sambar       6\n",
       "9    Ridge Guard Curry      10"
      ]
     },
     "execution_count": 13,
     "metadata": {},
     "output_type": "execute_result"
    }
   ],
   "source": [
    "df_V=pd.DataFrame(dict_Veg)\n",
    "df_V"
   ]
  },
  {
   "cell_type": "code",
   "execution_count": null,
   "id": "ee3d27e9",
   "metadata": {},
   "outputs": [],
   "source": []
  },
  {
   "cell_type": "code",
   "execution_count": 14,
   "id": "102c7dd3",
   "metadata": {},
   "outputs": [
    {
     "data": {
      "text/plain": [
       "{'NVeg_items': ['Matton Curry',\n",
       "  'Chicken Curry',\n",
       "  'Matton Khurma',\n",
       "  'Matton Biryani',\n",
       "  'Chicken Biryani',\n",
       "  'Chicken fry',\n",
       "  'Matton fry',\n",
       "  'Fish  Curry',\n",
       "  'Fish fry',\n",
       "  'Prawns fry'],\n",
       " 'Rating': [4, 10, 3, 1, 2, 8, 5, 7, 6, 9]}"
      ]
     },
     "execution_count": 14,
     "metadata": {},
     "output_type": "execute_result"
    }
   ],
   "source": [
    "dict_NVeg={\"NVeg_items\" :[\"Matton Curry\",\"Chicken Curry\",\"Matton Khurma\",\"Matton Biryani\",\"Chicken Biryani\",\"Chicken fry\",\"Matton fry\",\"Fish  Curry\",\"Fish fry\",\"Prawns fry\"],\"Rating\":[4,10,3,1,2,8,5,7,6,9]}\n",
    "dict_NVeg"
   ]
  },
  {
   "cell_type": "code",
   "execution_count": null,
   "id": "84392d43",
   "metadata": {},
   "outputs": [],
   "source": []
  },
  {
   "cell_type": "code",
   "execution_count": 15,
   "id": "6e7960da",
   "metadata": {},
   "outputs": [
    {
     "data": {
      "text/html": [
       "<div>\n",
       "<style scoped>\n",
       "    .dataframe tbody tr th:only-of-type {\n",
       "        vertical-align: middle;\n",
       "    }\n",
       "\n",
       "    .dataframe tbody tr th {\n",
       "        vertical-align: top;\n",
       "    }\n",
       "\n",
       "    .dataframe thead th {\n",
       "        text-align: right;\n",
       "    }\n",
       "</style>\n",
       "<table border=\"1\" class=\"dataframe\">\n",
       "  <thead>\n",
       "    <tr style=\"text-align: right;\">\n",
       "      <th></th>\n",
       "      <th>NVeg_items</th>\n",
       "      <th>Rating</th>\n",
       "    </tr>\n",
       "  </thead>\n",
       "  <tbody>\n",
       "    <tr>\n",
       "      <th>0</th>\n",
       "      <td>Matton Curry</td>\n",
       "      <td>4</td>\n",
       "    </tr>\n",
       "    <tr>\n",
       "      <th>1</th>\n",
       "      <td>Chicken Curry</td>\n",
       "      <td>10</td>\n",
       "    </tr>\n",
       "    <tr>\n",
       "      <th>2</th>\n",
       "      <td>Matton Khurma</td>\n",
       "      <td>3</td>\n",
       "    </tr>\n",
       "    <tr>\n",
       "      <th>3</th>\n",
       "      <td>Matton Biryani</td>\n",
       "      <td>1</td>\n",
       "    </tr>\n",
       "    <tr>\n",
       "      <th>4</th>\n",
       "      <td>Chicken Biryani</td>\n",
       "      <td>2</td>\n",
       "    </tr>\n",
       "    <tr>\n",
       "      <th>5</th>\n",
       "      <td>Chicken fry</td>\n",
       "      <td>8</td>\n",
       "    </tr>\n",
       "    <tr>\n",
       "      <th>6</th>\n",
       "      <td>Matton fry</td>\n",
       "      <td>5</td>\n",
       "    </tr>\n",
       "    <tr>\n",
       "      <th>7</th>\n",
       "      <td>Fish  Curry</td>\n",
       "      <td>7</td>\n",
       "    </tr>\n",
       "    <tr>\n",
       "      <th>8</th>\n",
       "      <td>Fish fry</td>\n",
       "      <td>6</td>\n",
       "    </tr>\n",
       "    <tr>\n",
       "      <th>9</th>\n",
       "      <td>Prawns fry</td>\n",
       "      <td>9</td>\n",
       "    </tr>\n",
       "  </tbody>\n",
       "</table>\n",
       "</div>"
      ],
      "text/plain": [
       "        NVeg_items  Rating\n",
       "0     Matton Curry       4\n",
       "1    Chicken Curry      10\n",
       "2    Matton Khurma       3\n",
       "3   Matton Biryani       1\n",
       "4  Chicken Biryani       2\n",
       "5      Chicken fry       8\n",
       "6       Matton fry       5\n",
       "7      Fish  Curry       7\n",
       "8         Fish fry       6\n",
       "9       Prawns fry       9"
      ]
     },
     "execution_count": 15,
     "metadata": {},
     "output_type": "execute_result"
    }
   ],
   "source": [
    "df_NV=pd.DataFrame(dict_NVeg)\n",
    "df_NV"
   ]
  },
  {
   "cell_type": "code",
   "execution_count": null,
   "id": "571e7686",
   "metadata": {},
   "outputs": [],
   "source": []
  },
  {
   "cell_type": "code",
   "execution_count": 16,
   "id": "894893c7",
   "metadata": {},
   "outputs": [
    {
     "data": {
      "text/plain": [
       "{'City_names': ['Delhi',\n",
       "  'Mumbai',\n",
       "  'Kolkata',\n",
       "  'Chennai',\n",
       "  'Lacknow',\n",
       "  'Hyderabad',\n",
       "  'Varanasi',\n",
       "  'Bangalure',\n",
       "  'Ahmedabad',\n",
       "  'Surat'],\n",
       " 'Rating': [4, 6, 3, 5, 8, 2, 7, 1, 9, 10]}"
      ]
     },
     "execution_count": 16,
     "metadata": {},
     "output_type": "execute_result"
    }
   ],
   "source": [
    "dict_Fdesti={\"City_names\" :[\"Delhi\",\"Mumbai\",\"Kolkata\",\"Chennai\",\"Lacknow\",\"Hyderabad\",\"Varanasi\",\"Bangalure\",\"Ahmedabad\",\"Surat\"],\"Rating\":[4,6,3,5,8,2,7,1,9,10]}\n",
    "dict_Fdesti"
   ]
  },
  {
   "cell_type": "code",
   "execution_count": null,
   "id": "fa811056",
   "metadata": {},
   "outputs": [],
   "source": []
  },
  {
   "cell_type": "code",
   "execution_count": 17,
   "id": "5b4def70",
   "metadata": {},
   "outputs": [
    {
     "data": {
      "text/html": [
       "<div>\n",
       "<style scoped>\n",
       "    .dataframe tbody tr th:only-of-type {\n",
       "        vertical-align: middle;\n",
       "    }\n",
       "\n",
       "    .dataframe tbody tr th {\n",
       "        vertical-align: top;\n",
       "    }\n",
       "\n",
       "    .dataframe thead th {\n",
       "        text-align: right;\n",
       "    }\n",
       "</style>\n",
       "<table border=\"1\" class=\"dataframe\">\n",
       "  <thead>\n",
       "    <tr style=\"text-align: right;\">\n",
       "      <th></th>\n",
       "      <th>City_names</th>\n",
       "      <th>Rating</th>\n",
       "    </tr>\n",
       "  </thead>\n",
       "  <tbody>\n",
       "    <tr>\n",
       "      <th>0</th>\n",
       "      <td>Delhi</td>\n",
       "      <td>4</td>\n",
       "    </tr>\n",
       "    <tr>\n",
       "      <th>1</th>\n",
       "      <td>Mumbai</td>\n",
       "      <td>6</td>\n",
       "    </tr>\n",
       "    <tr>\n",
       "      <th>2</th>\n",
       "      <td>Kolkata</td>\n",
       "      <td>3</td>\n",
       "    </tr>\n",
       "    <tr>\n",
       "      <th>3</th>\n",
       "      <td>Chennai</td>\n",
       "      <td>5</td>\n",
       "    </tr>\n",
       "    <tr>\n",
       "      <th>4</th>\n",
       "      <td>Lacknow</td>\n",
       "      <td>8</td>\n",
       "    </tr>\n",
       "    <tr>\n",
       "      <th>5</th>\n",
       "      <td>Hyderabad</td>\n",
       "      <td>2</td>\n",
       "    </tr>\n",
       "    <tr>\n",
       "      <th>6</th>\n",
       "      <td>Varanasi</td>\n",
       "      <td>7</td>\n",
       "    </tr>\n",
       "    <tr>\n",
       "      <th>7</th>\n",
       "      <td>Bangalure</td>\n",
       "      <td>1</td>\n",
       "    </tr>\n",
       "    <tr>\n",
       "      <th>8</th>\n",
       "      <td>Ahmedabad</td>\n",
       "      <td>9</td>\n",
       "    </tr>\n",
       "    <tr>\n",
       "      <th>9</th>\n",
       "      <td>Surat</td>\n",
       "      <td>10</td>\n",
       "    </tr>\n",
       "  </tbody>\n",
       "</table>\n",
       "</div>"
      ],
      "text/plain": [
       "  City_names  Rating\n",
       "0      Delhi       4\n",
       "1     Mumbai       6\n",
       "2    Kolkata       3\n",
       "3    Chennai       5\n",
       "4    Lacknow       8\n",
       "5  Hyderabad       2\n",
       "6   Varanasi       7\n",
       "7  Bangalure       1\n",
       "8  Ahmedabad       9\n",
       "9      Surat      10"
      ]
     },
     "execution_count": 17,
     "metadata": {},
     "output_type": "execute_result"
    }
   ],
   "source": [
    "df_Cname=pd.DataFrame(dict_Fdesti)\n",
    "df_Cname"
   ]
  },
  {
   "cell_type": "code",
   "execution_count": null,
   "id": "c491fc02",
   "metadata": {},
   "outputs": [],
   "source": []
  },
  {
   "cell_type": "code",
   "execution_count": null,
   "id": "e5f3853e",
   "metadata": {},
   "outputs": [],
   "source": []
  },
  {
   "cell_type": "code",
   "execution_count": null,
   "id": "b6c47350",
   "metadata": {},
   "outputs": [],
   "source": []
  }
 ],
 "metadata": {
  "kernelspec": {
   "display_name": "Python 3 (ipykernel)",
   "language": "python",
   "name": "python3"
  },
  "language_info": {
   "codemirror_mode": {
    "name": "ipython",
    "version": 3
   },
   "file_extension": ".py",
   "mimetype": "text/x-python",
   "name": "python",
   "nbconvert_exporter": "python",
   "pygments_lexer": "ipython3",
   "version": "3.10.9"
  }
 },
 "nbformat": 4,
 "nbformat_minor": 5
}
