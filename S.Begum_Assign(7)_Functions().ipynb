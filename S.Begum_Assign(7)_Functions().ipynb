{
 "cells": [
  {
   "cell_type": "code",
   "execution_count": null,
   "id": "b5686923",
   "metadata": {},
   "outputs": [],
   "source": [
    "#-------------------> Functions()"
   ]
  },
  {
   "cell_type": "code",
   "execution_count": null,
   "id": "404be704",
   "metadata": {},
   "outputs": [],
   "source": []
  },
  {
   "cell_type": "code",
   "execution_count": null,
   "id": "8064fd04",
   "metadata": {},
   "outputs": [],
   "source": [
    "# Scenario1:\n",
    "# credit card offer.\n",
    "# if your salary is less than 10000.  credit limit 10 times of your salary. \n",
    "# if your salary is 10000 to 30000.  Credit limit is 20 time of your salary.\n",
    "# if your salary is more than 30000.  Credit limit is 30 times of your salary."
   ]
  },
  {
   "cell_type": "code",
   "execution_count": 1,
   "id": "29d17cc7",
   "metadata": {},
   "outputs": [],
   "source": [
    "def credit_card_offer(salary):\n",
    "    \n",
    "    if salary<10000:\n",
    "        credit_limit=salary*10\n",
    "    elif salary>=10000 and salary<=30000:\n",
    "        credit_limit=salary*20\n",
    "    elif salary>30000:\n",
    "        credit_limit=salary*30\n",
    "    return credit_limit\n",
    "            "
   ]
  },
  {
   "cell_type": "code",
   "execution_count": 2,
   "id": "d1a73c17",
   "metadata": {},
   "outputs": [
    {
     "data": {
      "text/plain": [
       "90000"
      ]
     },
     "execution_count": 2,
     "metadata": {},
     "output_type": "execute_result"
    }
   ],
   "source": [
    "credit_card_offer(9000)"
   ]
  },
  {
   "cell_type": "code",
   "execution_count": 3,
   "id": "5c89b1a3",
   "metadata": {},
   "outputs": [
    {
     "data": {
      "text/plain": [
       "400000"
      ]
     },
     "execution_count": 3,
     "metadata": {},
     "output_type": "execute_result"
    }
   ],
   "source": [
    "credit_card_offer(20000)"
   ]
  },
  {
   "cell_type": "code",
   "execution_count": 4,
   "id": "9bbc4e36",
   "metadata": {},
   "outputs": [
    {
     "data": {
      "text/plain": [
       "1200000"
      ]
     },
     "execution_count": 4,
     "metadata": {},
     "output_type": "execute_result"
    }
   ],
   "source": [
    "credit_card_offer(40000)"
   ]
  },
  {
   "cell_type": "code",
   "execution_count": null,
   "id": "fe4b735a",
   "metadata": {},
   "outputs": [],
   "source": []
  },
  {
   "cell_type": "code",
   "execution_count": null,
   "id": "358c8959",
   "metadata": {},
   "outputs": [],
   "source": [
    "# Scenario2:\n",
    "# DMart discount offer. \n",
    "# if your purchase amount is less than 20000. discount is 20%.\n",
    "# if your purchase amount is 20000 to 40000. discount is 30%. \n",
    "# if your purchase amount is more than 50000. discount is 40%.\n"
   ]
  },
  {
   "cell_type": "code",
   "execution_count": 5,
   "id": "966be61b",
   "metadata": {},
   "outputs": [],
   "source": [
    "def  DMart_discount_offer(p_amount):\n",
    "    \n",
    "    if p_amount<20000:\n",
    "        discount=p_amount*0.2\n",
    "    elif p_amount>=20000 and p_amount<=40000:\n",
    "        discount=p_amount*0.3\n",
    "    elif p_amount>=50000:\n",
    "        discount=p_amount*0.4\n",
    "    return discount"
   ]
  },
  {
   "cell_type": "code",
   "execution_count": 6,
   "id": "d85bba2b",
   "metadata": {},
   "outputs": [
    {
     "data": {
      "text/plain": [
       "2000.0"
      ]
     },
     "execution_count": 6,
     "metadata": {},
     "output_type": "execute_result"
    }
   ],
   "source": [
    " DMart_discount_offer(10000)"
   ]
  },
  {
   "cell_type": "code",
   "execution_count": 7,
   "id": "1be36614",
   "metadata": {},
   "outputs": [
    {
     "data": {
      "text/plain": [
       "9000.0"
      ]
     },
     "execution_count": 7,
     "metadata": {},
     "output_type": "execute_result"
    }
   ],
   "source": [
    "DMart_discount_offer(30000)"
   ]
  },
  {
   "cell_type": "code",
   "execution_count": 8,
   "id": "400457e7",
   "metadata": {},
   "outputs": [
    {
     "data": {
      "text/plain": [
       "24000.0"
      ]
     },
     "execution_count": 8,
     "metadata": {},
     "output_type": "execute_result"
    }
   ],
   "source": [
    "DMart_discount_offer(60000)"
   ]
  },
  {
   "cell_type": "code",
   "execution_count": null,
   "id": "c1013ebc",
   "metadata": {},
   "outputs": [],
   "source": []
  },
  {
   "cell_type": "code",
   "execution_count": null,
   "id": "c8ccf822",
   "metadata": {},
   "outputs": [],
   "source": [
    "# Scenario3:\n",
    "# Amazom online offer. \n",
    "# if product is electoric type then 20% discount. \n",
    "# if product is cloth type then 30% discount. \n",
    "# if product is footware then 40% discount."
   ]
  },
  {
   "cell_type": "code",
   "execution_count": 9,
   "id": "a1e65cc9",
   "metadata": {},
   "outputs": [],
   "source": [
    "def Amazom_online_offer(Product_type,discount,amount): \n",
    "    \n",
    "    if Product_type==\"Electoric\":\n",
    "        discount=amount*0.2\n",
    "    elif Product_type==\"Cloth\":\n",
    "          discount=amount*0.3\n",
    "    elif Product_type==\"Footware\":\n",
    "          discount=amount*0.4\n",
    "    return discount   "
   ]
  },
  {
   "cell_type": "code",
   "execution_count": 10,
   "id": "88a48c9d",
   "metadata": {},
   "outputs": [
    {
     "data": {
      "text/plain": [
       "6000.0"
      ]
     },
     "execution_count": 10,
     "metadata": {},
     "output_type": "execute_result"
    }
   ],
   "source": [
    "Amazom_online_offer('Electoric',0.2,30000)"
   ]
  },
  {
   "cell_type": "code",
   "execution_count": 11,
   "id": "ddc490c8",
   "metadata": {},
   "outputs": [
    {
     "data": {
      "text/plain": [
       "7500.0"
      ]
     },
     "execution_count": 11,
     "metadata": {},
     "output_type": "execute_result"
    }
   ],
   "source": [
    "Amazom_online_offer('Cloth',0.3,25000)"
   ]
  },
  {
   "cell_type": "code",
   "execution_count": 12,
   "id": "94675b6d",
   "metadata": {},
   "outputs": [
    {
     "data": {
      "text/plain": [
       "400.0"
      ]
     },
     "execution_count": 12,
     "metadata": {},
     "output_type": "execute_result"
    }
   ],
   "source": [
    "Amazom_online_offer('Footware',0.4,1000)"
   ]
  },
  {
   "cell_type": "code",
   "execution_count": null,
   "id": "157b7906",
   "metadata": {},
   "outputs": [],
   "source": []
  },
  {
   "cell_type": "code",
   "execution_count": null,
   "id": "f6c8b242",
   "metadata": {},
   "outputs": [],
   "source": []
  },
  {
   "cell_type": "code",
   "execution_count": null,
   "id": "0355ce2a",
   "metadata": {},
   "outputs": [],
   "source": []
  }
 ],
 "metadata": {
  "kernelspec": {
   "display_name": "Python 3 (ipykernel)",
   "language": "python",
   "name": "python3"
  },
  "language_info": {
   "codemirror_mode": {
    "name": "ipython",
    "version": 3
   },
   "file_extension": ".py",
   "mimetype": "text/x-python",
   "name": "python",
   "nbconvert_exporter": "python",
   "pygments_lexer": "ipython3",
   "version": "3.10.9"
  }
 },
 "nbformat": 4,
 "nbformat_minor": 5
}
