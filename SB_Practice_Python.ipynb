{
 "cells": [
  {
   "cell_type": "code",
   "execution_count": null,
   "id": "39c474ef",
   "metadata": {},
   "outputs": [],
   "source": [
    "#----->int"
   ]
  },
  {
   "cell_type": "code",
   "execution_count": null,
   "id": "eca14871",
   "metadata": {},
   "outputs": [],
   "source": []
  },
  {
   "cell_type": "code",
   "execution_count": 1,
   "id": "1bd27409",
   "metadata": {},
   "outputs": [
    {
     "data": {
      "text/plain": [
       "50"
      ]
     },
     "execution_count": 1,
     "metadata": {},
     "output_type": "execute_result"
    }
   ],
   "source": [
    "a=50\n",
    "a"
   ]
  },
  {
   "cell_type": "code",
   "execution_count": 2,
   "id": "7f30c4ec",
   "metadata": {},
   "outputs": [
    {
     "name": "stdout",
     "output_type": "stream",
     "text": [
      "50\n"
     ]
    }
   ],
   "source": [
    "print(a)"
   ]
  },
  {
   "cell_type": "code",
   "execution_count": 3,
   "id": "ecfcd147",
   "metadata": {},
   "outputs": [
    {
     "name": "stdout",
     "output_type": "stream",
     "text": [
      "a = 50\n"
     ]
    }
   ],
   "source": [
    "print(\"a =\",50)"
   ]
  },
  {
   "cell_type": "code",
   "execution_count": 4,
   "id": "08826118",
   "metadata": {},
   "outputs": [
    {
     "data": {
      "text/plain": [
       "int"
      ]
     },
     "execution_count": 4,
     "metadata": {},
     "output_type": "execute_result"
    }
   ],
   "source": [
    "type(a)"
   ]
  },
  {
   "cell_type": "code",
   "execution_count": null,
   "id": "f5d28390",
   "metadata": {},
   "outputs": [],
   "source": [
    "#------>float"
   ]
  },
  {
   "cell_type": "code",
   "execution_count": null,
   "id": "e75e7c10",
   "metadata": {},
   "outputs": [],
   "source": []
  },
  {
   "cell_type": "code",
   "execution_count": 5,
   "id": "69b584ae",
   "metadata": {},
   "outputs": [
    {
     "data": {
      "text/plain": [
       "'100.4567'"
      ]
     },
     "execution_count": 5,
     "metadata": {},
     "output_type": "execute_result"
    }
   ],
   "source": [
    "x='100.4567'\n",
    "x"
   ]
  },
  {
   "cell_type": "code",
   "execution_count": 6,
   "id": "88b328a7",
   "metadata": {},
   "outputs": [
    {
     "data": {
      "text/plain": [
       "'100.4567'"
      ]
     },
     "execution_count": 6,
     "metadata": {},
     "output_type": "execute_result"
    }
   ],
   "source": [
    "x"
   ]
  },
  {
   "cell_type": "code",
   "execution_count": 7,
   "id": "b50b9139",
   "metadata": {},
   "outputs": [
    {
     "name": "stdout",
     "output_type": "stream",
     "text": [
      "x= 100.4567\n"
     ]
    }
   ],
   "source": [
    "print('x=',100.4567)"
   ]
  },
  {
   "cell_type": "code",
   "execution_count": 8,
   "id": "9985a104",
   "metadata": {},
   "outputs": [
    {
     "data": {
      "text/plain": [
       "str"
      ]
     },
     "execution_count": 8,
     "metadata": {},
     "output_type": "execute_result"
    }
   ],
   "source": [
    "type(x)"
   ]
  },
  {
   "cell_type": "code",
   "execution_count": null,
   "id": "dc93fb09",
   "metadata": {},
   "outputs": [],
   "source": [
    "#-------->str"
   ]
  },
  {
   "cell_type": "code",
   "execution_count": null,
   "id": "6122a259",
   "metadata": {},
   "outputs": [],
   "source": []
  },
  {
   "cell_type": "code",
   "execution_count": 9,
   "id": "156b5a5f",
   "metadata": {},
   "outputs": [
    {
     "data": {
      "text/plain": [
       "'Shamshad Begum'"
      ]
     },
     "execution_count": 9,
     "metadata": {},
     "output_type": "execute_result"
    }
   ],
   "source": [
    "Name=\"Shamshad Begum\"\n",
    "Name"
   ]
  },
  {
   "cell_type": "code",
   "execution_count": 11,
   "id": "888aaf72",
   "metadata": {},
   "outputs": [
    {
     "name": "stdout",
     "output_type": "stream",
     "text": [
      "My Name is: Shamshad Begum\n"
     ]
    }
   ],
   "source": [
    "print('My Name is:',Name)"
   ]
  },
  {
   "cell_type": "code",
   "execution_count": 12,
   "id": "b6f271b8",
   "metadata": {},
   "outputs": [
    {
     "data": {
      "text/plain": [
       "str"
      ]
     },
     "execution_count": 12,
     "metadata": {},
     "output_type": "execute_result"
    }
   ],
   "source": [
    "type(Name)"
   ]
  },
  {
   "cell_type": "code",
   "execution_count": null,
   "id": "4dbc52f1",
   "metadata": {},
   "outputs": [],
   "source": [
    "#-------> list[]"
   ]
  },
  {
   "cell_type": "code",
   "execution_count": null,
   "id": "036f7b77",
   "metadata": {},
   "outputs": [],
   "source": []
  },
  {
   "cell_type": "code",
   "execution_count": 13,
   "id": "fa2441d5",
   "metadata": {},
   "outputs": [
    {
     "data": {
      "text/plain": [
       "['Abida', 'Bhavya', 'Chandani', 'Dhanushka', 'Eswari']"
      ]
     },
     "execution_count": 13,
     "metadata": {},
     "output_type": "execute_result"
    }
   ],
   "source": [
    "Names=[\"Abida\",\"Bhavya\",\"Chandani\",\"Dhanushka\",\"Eswari\"]\n",
    "Names"
   ]
  },
  {
   "cell_type": "code",
   "execution_count": 14,
   "id": "164cf6dc",
   "metadata": {},
   "outputs": [
    {
     "data": {
      "text/plain": [
       "['Abida', 'Bhavya', 'Chandusmani', 'Dhanushka', 'Eswari']"
      ]
     },
     "execution_count": 14,
     "metadata": {},
     "output_type": "execute_result"
    }
   ],
   "source": [
    "Names[2]='Chandusmani'\n",
    "Names"
   ]
  },
  {
   "cell_type": "code",
   "execution_count": 15,
   "id": "05515757",
   "metadata": {},
   "outputs": [
    {
     "name": "stdout",
     "output_type": "stream",
     "text": [
      "My Friends Names are: ['Abida', 'Bhavya', 'Chandusmani', 'Dhanushka', 'Eswari']\n"
     ]
    }
   ],
   "source": [
    "print('My Friends Names are:',Names)"
   ]
  },
  {
   "cell_type": "code",
   "execution_count": 16,
   "id": "9107e5f5",
   "metadata": {},
   "outputs": [
    {
     "data": {
      "text/plain": [
       "['Abida', 'Bhavya', 'Chandusmani', 'Dhanushka', 'Lakshmi']"
      ]
     },
     "execution_count": 16,
     "metadata": {},
     "output_type": "execute_result"
    }
   ],
   "source": [
    "Names[4]='Lakshmi'\n",
    "Names"
   ]
  },
  {
   "cell_type": "code",
   "execution_count": 17,
   "id": "b2ec5f38",
   "metadata": {},
   "outputs": [
    {
     "data": {
      "text/plain": [
       "['Abida', 'Bhavya', 'Chandusmani', 'Dhanushka']"
      ]
     },
     "execution_count": 17,
     "metadata": {},
     "output_type": "execute_result"
    }
   ],
   "source": [
    "Names[0:4]"
   ]
  },
  {
   "cell_type": "code",
   "execution_count": 18,
   "id": "adcdd99a",
   "metadata": {},
   "outputs": [
    {
     "data": {
      "text/plain": [
       "['Abida', 'Bhavya', 'Chandusmani']"
      ]
     },
     "execution_count": 18,
     "metadata": {},
     "output_type": "execute_result"
    }
   ],
   "source": [
    "Names[0:3]"
   ]
  },
  {
   "cell_type": "code",
   "execution_count": 19,
   "id": "8b911adc",
   "metadata": {},
   "outputs": [
    {
     "data": {
      "text/plain": [
       "['Abida', 'Bhavya']"
      ]
     },
     "execution_count": 19,
     "metadata": {},
     "output_type": "execute_result"
    }
   ],
   "source": [
    "Names[0:2]"
   ]
  },
  {
   "cell_type": "code",
   "execution_count": 20,
   "id": "54a3fe39",
   "metadata": {},
   "outputs": [
    {
     "data": {
      "text/plain": [
       "'Abida'"
      ]
     },
     "execution_count": 20,
     "metadata": {},
     "output_type": "execute_result"
    }
   ],
   "source": [
    "Names[0]"
   ]
  },
  {
   "cell_type": "code",
   "execution_count": 21,
   "id": "9ae0c78a",
   "metadata": {},
   "outputs": [
    {
     "data": {
      "text/plain": [
       "'Bhavya'"
      ]
     },
     "execution_count": 21,
     "metadata": {},
     "output_type": "execute_result"
    }
   ],
   "source": [
    "Names[1]"
   ]
  },
  {
   "cell_type": "code",
   "execution_count": null,
   "id": "82e0b485",
   "metadata": {},
   "outputs": [],
   "source": [
    "#-------> tuple()"
   ]
  },
  {
   "cell_type": "code",
   "execution_count": null,
   "id": "998d278a",
   "metadata": {},
   "outputs": [],
   "source": []
  },
  {
   "cell_type": "code",
   "execution_count": 22,
   "id": "ada6a8bd",
   "metadata": {},
   "outputs": [
    {
     "data": {
      "text/plain": [
       "('Aliya', 'Banu', 'Chiru', 'Divya', 'Sultana')"
      ]
     },
     "execution_count": 22,
     "metadata": {},
     "output_type": "execute_result"
    }
   ],
   "source": [
    "friend_names=('Aliya','Banu','Chiru','Divya','Sultana')\n",
    "friend_names"
   ]
  },
  {
   "cell_type": "code",
   "execution_count": 23,
   "id": "aafb6277",
   "metadata": {},
   "outputs": [
    {
     "data": {
      "text/plain": [
       "('Aliya', 'Banu', 'Chiru', 'Divya', 'Sultana')"
      ]
     },
     "execution_count": 23,
     "metadata": {},
     "output_type": "execute_result"
    }
   ],
   "source": [
    "friend_names"
   ]
  },
  {
   "cell_type": "code",
   "execution_count": null,
   "id": "9dc6eacc",
   "metadata": {},
   "outputs": [],
   "source": [
    "#------->set"
   ]
  },
  {
   "cell_type": "code",
   "execution_count": 1,
   "id": "99e064ce",
   "metadata": {},
   "outputs": [
    {
     "data": {
      "text/plain": [
       "{1, 2, 3, 4, 5, 6, 7, 8, 9, 10}"
      ]
     },
     "execution_count": 1,
     "metadata": {},
     "output_type": "execute_result"
    }
   ],
   "source": [
    "Numbers={7,4,8,3,6,2,10,1,5,9}\n",
    "Numbers"
   ]
  },
  {
   "cell_type": "code",
   "execution_count": 2,
   "id": "fe33af75",
   "metadata": {},
   "outputs": [
    {
     "data": {
      "text/plain": [
       "{1, 2, 3, 4, 5, 6, 7, 8, 9, 10}"
      ]
     },
     "execution_count": 2,
     "metadata": {},
     "output_type": "execute_result"
    }
   ],
   "source": [
    "Numbers"
   ]
  },
  {
   "cell_type": "code",
   "execution_count": null,
   "id": "94d2b3c7",
   "metadata": {},
   "outputs": [],
   "source": [
    "#--------->dictt"
   ]
  },
  {
   "cell_type": "code",
   "execution_count": 9,
   "id": "8d8970a7",
   "metadata": {},
   "outputs": [
    {
     "data": {
      "text/plain": [
       "{'Fruits': ['Apple', 'Grapes', 'Mango', 'Banana', 'Orange'],\n",
       " 'Rating': [50, 80, 60, 40, 90]}"
      ]
     },
     "execution_count": 9,
     "metadata": {},
     "output_type": "execute_result"
    }
   ],
   "source": [
    "dict={\"Fruits\":[\"Apple\",\"Grapes\",\"Mango\",\"Banana\",\"Orange\"],\"Rating\":[50,80,60,40,90]}\n",
    "dict"
   ]
  },
  {
   "cell_type": "code",
   "execution_count": 10,
   "id": "d2e872ad",
   "metadata": {},
   "outputs": [
    {
     "name": "stdout",
     "output_type": "stream",
     "text": [
      "{'Fruits': ['Apple', 'Grapes', 'Mango', 'Banana', 'Orange'], 'Rating': [50, 80, 60, 40, 90]}\n"
     ]
    }
   ],
   "source": [
    "print(dict)"
   ]
  },
  {
   "cell_type": "code",
   "execution_count": 12,
   "id": "3abdbf97",
   "metadata": {},
   "outputs": [
    {
     "data": {
      "text/plain": [
       "{'Friends_names': ['Shahanaz',\n",
       "  'Sabeeha',\n",
       "  'Sakeena',\n",
       "  'Sabera',\n",
       "  'Salma',\n",
       "  'Sultana',\n",
       "  'Shakeela',\n",
       "  'Salma',\n",
       "  'Shafiya',\n",
       "  'Shaheda'],\n",
       " 'Ranks': [10, 9, 8, 7, 6, 5, 4, 3, 2, 1]}"
      ]
     },
     "execution_count": 12,
     "metadata": {},
     "output_type": "execute_result"
    }
   ],
   "source": [
    "dict={\"Friends_names\":[\"Shahanaz\",\"Sabeeha\",\"Sakeena\",\"Sabera\",\"Salma\",\"Sultana\",\"Shakeela\",\"Salma\",\"Shafiya\",\"Shaheda\"],\"Ranks\":[10,9,8,7,6,5,4,3,2,1]}\n",
    "dict"
   ]
  },
  {
   "cell_type": "code",
   "execution_count": 13,
   "id": "4ce3190e",
   "metadata": {},
   "outputs": [
    {
     "name": "stdout",
     "output_type": "stream",
     "text": [
      "{'Friends_names': ['Shahanaz', 'Sabeeha', 'Sakeena', 'Sabera', 'Salma', 'Sultana', 'Shakeela', 'Salma', 'Shafiya', 'Shaheda'], 'Ranks': [10, 9, 8, 7, 6, 5, 4, 3, 2, 1]}\n"
     ]
    }
   ],
   "source": [
    "print(dict)"
   ]
  },
  {
   "cell_type": "code",
   "execution_count": 14,
   "id": "0c026b83",
   "metadata": {},
   "outputs": [
    {
     "name": "stdout",
     "output_type": "stream",
     "text": [
      "My Friends Names and Ranks are: {'Friends_names': ['Shahanaz', 'Sabeeha', 'Sakeena', 'Sabera', 'Salma', 'Sultana', 'Shakeela', 'Salma', 'Shafiya', 'Shaheda'], 'Ranks': [10, 9, 8, 7, 6, 5, 4, 3, 2, 1]}\n"
     ]
    }
   ],
   "source": [
    "print(\"My Friends Names and Ranks are:\",dict)"
   ]
  },
  {
   "cell_type": "code",
   "execution_count": null,
   "id": "92a675b7",
   "metadata": {},
   "outputs": [],
   "source": []
  },
  {
   "cell_type": "code",
   "execution_count": null,
   "id": "482d1ca2",
   "metadata": {},
   "outputs": [],
   "source": []
  },
  {
   "cell_type": "code",
   "execution_count": null,
   "id": "9db2dedf",
   "metadata": {},
   "outputs": [],
   "source": []
  },
  {
   "cell_type": "code",
   "execution_count": null,
   "id": "774932bf",
   "metadata": {},
   "outputs": [],
   "source": []
  },
  {
   "cell_type": "code",
   "execution_count": null,
   "id": "5e0cc7b9",
   "metadata": {},
   "outputs": [],
   "source": []
  }
 ],
 "metadata": {
  "kernelspec": {
   "display_name": "Python 3 (ipykernel)",
   "language": "python",
   "name": "python3"
  },
  "language_info": {
   "codemirror_mode": {
    "name": "ipython",
    "version": 3
   },
   "file_extension": ".py",
   "mimetype": "text/x-python",
   "name": "python",
   "nbconvert_exporter": "python",
   "pygments_lexer": "ipython3",
   "version": "3.10.9"
  }
 },
 "nbformat": 4,
 "nbformat_minor": 5
}
