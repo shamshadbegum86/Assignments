{
 "cells": [
  {
   "cell_type": "code",
   "execution_count": null,
   "id": "f3a15599",
   "metadata": {},
   "outputs": [],
   "source": [
    "#-----------------------> Create Variables"
   ]
  },
  {
   "cell_type": "code",
   "execution_count": null,
   "id": "dfb8ccbc",
   "metadata": {},
   "outputs": [],
   "source": []
  },
  {
   "cell_type": "code",
   "execution_count": null,
   "id": "7769e073",
   "metadata": {},
   "outputs": [],
   "source": [
    "#1. Create a 10 variables with your friend names?"
   ]
  },
  {
   "cell_type": "code",
   "execution_count": 1,
   "id": "850ce822",
   "metadata": {},
   "outputs": [],
   "source": [
    "friend_name1=\"Radhika\""
   ]
  },
  {
   "cell_type": "code",
   "execution_count": 2,
   "id": "83a9a6eb",
   "metadata": {},
   "outputs": [
    {
     "data": {
      "text/plain": [
       "'Radhika'"
      ]
     },
     "execution_count": 2,
     "metadata": {},
     "output_type": "execute_result"
    }
   ],
   "source": [
    "friend_name1"
   ]
  },
  {
   "cell_type": "code",
   "execution_count": 3,
   "id": "6c816117",
   "metadata": {},
   "outputs": [
    {
     "data": {
      "text/plain": [
       "'Swapna'"
      ]
     },
     "execution_count": 3,
     "metadata": {},
     "output_type": "execute_result"
    }
   ],
   "source": [
    "friend_name2=\"Swapna\"\n",
    "friend_name2"
   ]
  },
  {
   "cell_type": "code",
   "execution_count": 4,
   "id": "5eaffdd9",
   "metadata": {},
   "outputs": [
    {
     "data": {
      "text/plain": [
       "'Lakshmi'"
      ]
     },
     "execution_count": 4,
     "metadata": {},
     "output_type": "execute_result"
    }
   ],
   "source": [
    "friend_name3=\"Lakshmi\"\n",
    "friend_name3"
   ]
  },
  {
   "cell_type": "code",
   "execution_count": 5,
   "id": "16aa7325",
   "metadata": {},
   "outputs": [
    {
     "data": {
      "text/plain": [
       "'Aliya'"
      ]
     },
     "execution_count": 5,
     "metadata": {},
     "output_type": "execute_result"
    }
   ],
   "source": [
    "friend_name4=\"Aliya\"\n",
    "friend_name4"
   ]
  },
  {
   "cell_type": "code",
   "execution_count": 6,
   "id": "57c00f83",
   "metadata": {},
   "outputs": [
    {
     "data": {
      "text/plain": [
       "'Mallika'"
      ]
     },
     "execution_count": 6,
     "metadata": {},
     "output_type": "execute_result"
    }
   ],
   "source": [
    "friend_name5=\"Mallika\"\n",
    "friend_name5"
   ]
  },
  {
   "cell_type": "code",
   "execution_count": 7,
   "id": "bc0ac6bb",
   "metadata": {},
   "outputs": [
    {
     "data": {
      "text/plain": [
       "'Gamya'"
      ]
     },
     "execution_count": 7,
     "metadata": {},
     "output_type": "execute_result"
    }
   ],
   "source": [
    "friend_name6=\"Gamya\"\n",
    "friend_name6"
   ]
  },
  {
   "cell_type": "code",
   "execution_count": 8,
   "id": "969c316c",
   "metadata": {},
   "outputs": [
    {
     "data": {
      "text/plain": [
       "'Revathi'"
      ]
     },
     "execution_count": 8,
     "metadata": {},
     "output_type": "execute_result"
    }
   ],
   "source": [
    "friend_name7=\"Revathi\"\n",
    "friend_name7"
   ]
  },
  {
   "cell_type": "code",
   "execution_count": 9,
   "id": "b7a95487",
   "metadata": {},
   "outputs": [
    {
     "data": {
      "text/plain": [
       "'Shabana'"
      ]
     },
     "execution_count": 9,
     "metadata": {},
     "output_type": "execute_result"
    }
   ],
   "source": [
    "friend_name8=\"Shabana\"\n",
    "friend_name8"
   ]
  },
  {
   "cell_type": "code",
   "execution_count": 10,
   "id": "5c35aa00",
   "metadata": {},
   "outputs": [
    {
     "data": {
      "text/plain": [
       "'Glori'"
      ]
     },
     "execution_count": 10,
     "metadata": {},
     "output_type": "execute_result"
    }
   ],
   "source": [
    "friend_name9=\"Glori\"\n",
    "friend_name9"
   ]
  },
  {
   "cell_type": "code",
   "execution_count": 11,
   "id": "9ce0dba4",
   "metadata": {},
   "outputs": [],
   "source": [
    "friend_name10=\"Devika\""
   ]
  },
  {
   "cell_type": "code",
   "execution_count": 12,
   "id": "b553a5d2",
   "metadata": {},
   "outputs": [
    {
     "data": {
      "text/plain": [
       "'Devika'"
      ]
     },
     "execution_count": 12,
     "metadata": {},
     "output_type": "execute_result"
    }
   ],
   "source": [
    "friend_name10"
   ]
  },
  {
   "cell_type": "code",
   "execution_count": null,
   "id": "536123aa",
   "metadata": {},
   "outputs": [],
   "source": []
  },
  {
   "cell_type": "code",
   "execution_count": null,
   "id": "61336064",
   "metadata": {},
   "outputs": [],
   "source": [
    "#2. Create a 10 variables with your family member names?\n"
   ]
  },
  {
   "cell_type": "code",
   "execution_count": 18,
   "id": "b0cc48c3",
   "metadata": {},
   "outputs": [],
   "source": [
    "family_member1=\"Md.Ali\""
   ]
  },
  {
   "cell_type": "code",
   "execution_count": 19,
   "id": "ffc36e89",
   "metadata": {},
   "outputs": [
    {
     "data": {
      "text/plain": [
       "'Md.Ali'"
      ]
     },
     "execution_count": 19,
     "metadata": {},
     "output_type": "execute_result"
    }
   ],
   "source": [
    "family_member1"
   ]
  },
  {
   "cell_type": "code",
   "execution_count": 20,
   "id": "fcfc5e02",
   "metadata": {},
   "outputs": [],
   "source": [
    "family_member2=\"Balkis Jaha\""
   ]
  },
  {
   "cell_type": "code",
   "execution_count": 21,
   "id": "89511fa3",
   "metadata": {},
   "outputs": [
    {
     "data": {
      "text/plain": [
       "'Balkis Jaha'"
      ]
     },
     "execution_count": 21,
     "metadata": {},
     "output_type": "execute_result"
    }
   ],
   "source": [
    "family_member2"
   ]
  },
  {
   "cell_type": "code",
   "execution_count": 22,
   "id": "90cf00c0",
   "metadata": {},
   "outputs": [
    {
     "data": {
      "text/plain": [
       "'Shahnaz Begum'"
      ]
     },
     "execution_count": 22,
     "metadata": {},
     "output_type": "execute_result"
    }
   ],
   "source": [
    "family_member3=\"Shahnaz Begum\"\n",
    "family_member3"
   ]
  },
  {
   "cell_type": "code",
   "execution_count": 23,
   "id": "0f1ad705",
   "metadata": {},
   "outputs": [
    {
     "data": {
      "text/plain": [
       "'Irfan'"
      ]
     },
     "execution_count": 23,
     "metadata": {},
     "output_type": "execute_result"
    }
   ],
   "source": [
    "family_member4=\"Irfan\"\n",
    "family_member4"
   ]
  },
  {
   "cell_type": "code",
   "execution_count": 24,
   "id": "33c8161b",
   "metadata": {},
   "outputs": [
    {
     "data": {
      "text/plain": [
       "'Afzal Shaw'"
      ]
     },
     "execution_count": 24,
     "metadata": {},
     "output_type": "execute_result"
    }
   ],
   "source": [
    "family_member5=\"Afzal Shaw\"\n",
    "family_member5"
   ]
  },
  {
   "cell_type": "code",
   "execution_count": 25,
   "id": "66e45cb4",
   "metadata": {},
   "outputs": [
    {
     "data": {
      "text/plain": [
       "'Shakeela Begum'"
      ]
     },
     "execution_count": 25,
     "metadata": {},
     "output_type": "execute_result"
    }
   ],
   "source": [
    "family_member6=\"Shakeela Begum\"\n",
    "family_member6"
   ]
  },
  {
   "cell_type": "code",
   "execution_count": 26,
   "id": "d4e9e9b4",
   "metadata": {},
   "outputs": [
    {
     "data": {
      "text/plain": [
       "'Shamshad Begum'"
      ]
     },
     "execution_count": 26,
     "metadata": {},
     "output_type": "execute_result"
    }
   ],
   "source": [
    "family_member7=\"Shamshad Begum\"\n",
    "family_member7"
   ]
  },
  {
   "cell_type": "code",
   "execution_count": 28,
   "id": "7dafc778",
   "metadata": {},
   "outputs": [
    {
     "data": {
      "text/plain": [
       "'Karamatulla'"
      ]
     },
     "execution_count": 28,
     "metadata": {},
     "output_type": "execute_result"
    }
   ],
   "source": [
    "family_member8=\"Karamatulla\"\n",
    "family_member8"
   ]
  },
  {
   "cell_type": "code",
   "execution_count": 29,
   "id": "865272a8",
   "metadata": {},
   "outputs": [
    {
     "data": {
      "text/plain": [
       "'Shannu'"
      ]
     },
     "execution_count": 29,
     "metadata": {},
     "output_type": "execute_result"
    }
   ],
   "source": [
    "family_member9=\"Shannu\"\n",
    "family_member9"
   ]
  },
  {
   "cell_type": "code",
   "execution_count": 30,
   "id": "0d5137a3",
   "metadata": {},
   "outputs": [
    {
     "data": {
      "text/plain": [
       "'Banu'"
      ]
     },
     "execution_count": 30,
     "metadata": {},
     "output_type": "execute_result"
    }
   ],
   "source": [
    "family_member10=\"Banu\"\n",
    "family_member10"
   ]
  },
  {
   "cell_type": "code",
   "execution_count": null,
   "id": "3994702a",
   "metadata": {},
   "outputs": [],
   "source": []
  },
  {
   "cell_type": "code",
   "execution_count": null,
   "id": "a7e70f15",
   "metadata": {},
   "outputs": [],
   "source": [
    "#3. Create a 10 variables with favorite food names?\n"
   ]
  },
  {
   "cell_type": "code",
   "execution_count": 32,
   "id": "2f02bdff",
   "metadata": {},
   "outputs": [
    {
     "data": {
      "text/plain": [
       "'Potato Fry'"
      ]
     },
     "execution_count": 32,
     "metadata": {},
     "output_type": "execute_result"
    }
   ],
   "source": [
    "f_name1=\"Potato Fry\"\n",
    "f_name1"
   ]
  },
  {
   "cell_type": "code",
   "execution_count": 33,
   "id": "59be94cc",
   "metadata": {},
   "outputs": [
    {
     "data": {
      "text/plain": [
       "'Pulihora'"
      ]
     },
     "execution_count": 33,
     "metadata": {},
     "output_type": "execute_result"
    }
   ],
   "source": [
    "f_name2=\"Pulihora\"\n",
    "f_name2"
   ]
  },
  {
   "cell_type": "code",
   "execution_count": 34,
   "id": "b70ada2f",
   "metadata": {},
   "outputs": [
    {
     "data": {
      "text/plain": [
       "'Idly'"
      ]
     },
     "execution_count": 34,
     "metadata": {},
     "output_type": "execute_result"
    }
   ],
   "source": [
    "f_name3=\"Idly\"\n",
    "f_name3"
   ]
  },
  {
   "cell_type": "code",
   "execution_count": 35,
   "id": "ecef8ecc",
   "metadata": {},
   "outputs": [
    {
     "data": {
      "text/plain": [
       "'Apple'"
      ]
     },
     "execution_count": 35,
     "metadata": {},
     "output_type": "execute_result"
    }
   ],
   "source": [
    "f_name4=\"Apple\"\n",
    "f_name4"
   ]
  },
  {
   "cell_type": "code",
   "execution_count": 36,
   "id": "f4a3e2a6",
   "metadata": {},
   "outputs": [
    {
     "data": {
      "text/plain": [
       "'Grapes'"
      ]
     },
     "execution_count": 36,
     "metadata": {},
     "output_type": "execute_result"
    }
   ],
   "source": [
    "f_name5=\"Grapes\"\n",
    "f_name5"
   ]
  },
  {
   "cell_type": "code",
   "execution_count": 37,
   "id": "a07c65e3",
   "metadata": {},
   "outputs": [
    {
     "data": {
      "text/plain": [
       "'Tomato Chatny'"
      ]
     },
     "execution_count": 37,
     "metadata": {},
     "output_type": "execute_result"
    }
   ],
   "source": [
    "f_name6=\"Tomato Chatny\"\n",
    "f_name6"
   ]
  },
  {
   "cell_type": "code",
   "execution_count": 38,
   "id": "952ac60b",
   "metadata": {},
   "outputs": [
    {
     "data": {
      "text/plain": [
       "'Onion Dosa'"
      ]
     },
     "execution_count": 38,
     "metadata": {},
     "output_type": "execute_result"
    }
   ],
   "source": [
    "f_name7=\"Onion Dosa\"\n",
    "f_name7"
   ]
  },
  {
   "cell_type": "code",
   "execution_count": 39,
   "id": "174dcc38",
   "metadata": {},
   "outputs": [
    {
     "data": {
      "text/plain": [
       "'Gulab Jamoon'"
      ]
     },
     "execution_count": 39,
     "metadata": {},
     "output_type": "execute_result"
    }
   ],
   "source": [
    "f_name8=\"Gulab Jamoon\"\n",
    "f_name8"
   ]
  },
  {
   "cell_type": "code",
   "execution_count": 40,
   "id": "65f8249c",
   "metadata": {},
   "outputs": [
    {
     "data": {
      "text/plain": [
       "'Dry Fruits'"
      ]
     },
     "execution_count": 40,
     "metadata": {},
     "output_type": "execute_result"
    }
   ],
   "source": [
    "f_name9=\"Dry Fruits\"\n",
    "f_name9"
   ]
  },
  {
   "cell_type": "code",
   "execution_count": 41,
   "id": "d39be493",
   "metadata": {},
   "outputs": [
    {
     "data": {
      "text/plain": [
       "'Semiya Payasam'"
      ]
     },
     "execution_count": 41,
     "metadata": {},
     "output_type": "execute_result"
    }
   ],
   "source": [
    "f_name10=\"Semiya Payasam\"\n",
    "f_name10"
   ]
  },
  {
   "cell_type": "code",
   "execution_count": null,
   "id": "2f66204d",
   "metadata": {},
   "outputs": [],
   "source": []
  },
  {
   "cell_type": "code",
   "execution_count": null,
   "id": "9e49ece6",
   "metadata": {},
   "outputs": [],
   "source": [
    "#4. Create a 10 variables with colour  names?\n"
   ]
  },
  {
   "cell_type": "code",
   "execution_count": 42,
   "id": "d3a12afc",
   "metadata": {},
   "outputs": [
    {
     "data": {
      "text/plain": [
       "'Red'"
      ]
     },
     "execution_count": 42,
     "metadata": {},
     "output_type": "execute_result"
    }
   ],
   "source": [
    "Colour_name1=\"Red\"\n",
    "Colour_name1"
   ]
  },
  {
   "cell_type": "code",
   "execution_count": 43,
   "id": "86a9d97f",
   "metadata": {},
   "outputs": [
    {
     "data": {
      "text/plain": [
       "'Yellow'"
      ]
     },
     "execution_count": 43,
     "metadata": {},
     "output_type": "execute_result"
    }
   ],
   "source": [
    "Colour_name2=\"Yellow\"\n",
    "Colour_name2"
   ]
  },
  {
   "cell_type": "code",
   "execution_count": 44,
   "id": "da0906d8",
   "metadata": {},
   "outputs": [
    {
     "data": {
      "text/plain": [
       "'Pink'"
      ]
     },
     "execution_count": 44,
     "metadata": {},
     "output_type": "execute_result"
    }
   ],
   "source": [
    "Colour_name3=\"Pink\"\n",
    "Colour_name3"
   ]
  },
  {
   "cell_type": "code",
   "execution_count": 45,
   "id": "4387ebf7",
   "metadata": {},
   "outputs": [
    {
     "data": {
      "text/plain": [
       "'Brown'"
      ]
     },
     "execution_count": 45,
     "metadata": {},
     "output_type": "execute_result"
    }
   ],
   "source": [
    "Colour_name4=\"Brown\"\n",
    "Colour_name4"
   ]
  },
  {
   "cell_type": "code",
   "execution_count": 46,
   "id": "9a761368",
   "metadata": {},
   "outputs": [
    {
     "data": {
      "text/plain": [
       "'Green'"
      ]
     },
     "execution_count": 46,
     "metadata": {},
     "output_type": "execute_result"
    }
   ],
   "source": [
    "Colour_name5=\"Green\"\n",
    "Colour_name5"
   ]
  },
  {
   "cell_type": "code",
   "execution_count": 47,
   "id": "3f958868",
   "metadata": {},
   "outputs": [
    {
     "data": {
      "text/plain": [
       "'Blue'"
      ]
     },
     "execution_count": 47,
     "metadata": {},
     "output_type": "execute_result"
    }
   ],
   "source": [
    "Colour_name6=\"Blue\"\n",
    "Colour_name6"
   ]
  },
  {
   "cell_type": "code",
   "execution_count": 48,
   "id": "d3f828af",
   "metadata": {},
   "outputs": [
    {
     "data": {
      "text/plain": [
       "'Voilet'"
      ]
     },
     "execution_count": 48,
     "metadata": {},
     "output_type": "execute_result"
    }
   ],
   "source": [
    "Colour_name7=\"Voilet\"\n",
    "Colour_name7"
   ]
  },
  {
   "cell_type": "code",
   "execution_count": 49,
   "id": "7af9239c",
   "metadata": {},
   "outputs": [
    {
     "data": {
      "text/plain": [
       "'Orange'"
      ]
     },
     "execution_count": 49,
     "metadata": {},
     "output_type": "execute_result"
    }
   ],
   "source": [
    "Colour_name8=\"Orange\"\n",
    "Colour_name8"
   ]
  },
  {
   "cell_type": "code",
   "execution_count": 50,
   "id": "022331d9",
   "metadata": {},
   "outputs": [
    {
     "data": {
      "text/plain": [
       "'White'"
      ]
     },
     "execution_count": 50,
     "metadata": {},
     "output_type": "execute_result"
    }
   ],
   "source": [
    "Colour_name9=\"White\"\n",
    "Colour_name9"
   ]
  },
  {
   "cell_type": "code",
   "execution_count": 51,
   "id": "321905f4",
   "metadata": {},
   "outputs": [
    {
     "data": {
      "text/plain": [
       "'Black'"
      ]
     },
     "execution_count": 51,
     "metadata": {},
     "output_type": "execute_result"
    }
   ],
   "source": [
    "Colour_name10=\"Black\"\n",
    "Colour_name10"
   ]
  },
  {
   "cell_type": "code",
   "execution_count": null,
   "id": "285de3c2",
   "metadata": {},
   "outputs": [],
   "source": []
  },
  {
   "cell_type": "code",
   "execution_count": null,
   "id": "5586c339",
   "metadata": {},
   "outputs": [],
   "source": [
    "#5. Create a 12 variables with month  names?\n"
   ]
  },
  {
   "cell_type": "code",
   "execution_count": 52,
   "id": "4f039229",
   "metadata": {},
   "outputs": [
    {
     "data": {
      "text/plain": [
       "'January'"
      ]
     },
     "execution_count": 52,
     "metadata": {},
     "output_type": "execute_result"
    }
   ],
   "source": [
    "Month_name1=\"January\"\n",
    "Month_name1"
   ]
  },
  {
   "cell_type": "code",
   "execution_count": 53,
   "id": "cdcf9c24",
   "metadata": {},
   "outputs": [
    {
     "data": {
      "text/plain": [
       "'February'"
      ]
     },
     "execution_count": 53,
     "metadata": {},
     "output_type": "execute_result"
    }
   ],
   "source": [
    "Month_name2=\"February\"\n",
    "Month_name2"
   ]
  },
  {
   "cell_type": "code",
   "execution_count": 55,
   "id": "6301e8f9",
   "metadata": {},
   "outputs": [
    {
     "data": {
      "text/plain": [
       "'March'"
      ]
     },
     "execution_count": 55,
     "metadata": {},
     "output_type": "execute_result"
    }
   ],
   "source": [
    "Month_name3=\"March\"\n",
    "Month_name3"
   ]
  },
  {
   "cell_type": "code",
   "execution_count": 56,
   "id": "59154467",
   "metadata": {},
   "outputs": [
    {
     "data": {
      "text/plain": [
       "'April'"
      ]
     },
     "execution_count": 56,
     "metadata": {},
     "output_type": "execute_result"
    }
   ],
   "source": [
    "Month_name4=\"April\"\n",
    "Month_name4"
   ]
  },
  {
   "cell_type": "code",
   "execution_count": 57,
   "id": "d15d26e3",
   "metadata": {},
   "outputs": [
    {
     "data": {
      "text/plain": [
       "'May'"
      ]
     },
     "execution_count": 57,
     "metadata": {},
     "output_type": "execute_result"
    }
   ],
   "source": [
    "Month_name5=\"May\"\n",
    "Month_name5"
   ]
  },
  {
   "cell_type": "code",
   "execution_count": 58,
   "id": "e6e50c24",
   "metadata": {},
   "outputs": [
    {
     "data": {
      "text/plain": [
       "'June'"
      ]
     },
     "execution_count": 58,
     "metadata": {},
     "output_type": "execute_result"
    }
   ],
   "source": [
    "Month_name6=\"June\"\n",
    "Month_name6"
   ]
  },
  {
   "cell_type": "code",
   "execution_count": 59,
   "id": "6bdec59f",
   "metadata": {},
   "outputs": [
    {
     "data": {
      "text/plain": [
       "'July'"
      ]
     },
     "execution_count": 59,
     "metadata": {},
     "output_type": "execute_result"
    }
   ],
   "source": [
    "Month_name7=\"July\"\n",
    "Month_name7"
   ]
  },
  {
   "cell_type": "code",
   "execution_count": 60,
   "id": "aed7b7a3",
   "metadata": {},
   "outputs": [
    {
     "data": {
      "text/plain": [
       "'August'"
      ]
     },
     "execution_count": 60,
     "metadata": {},
     "output_type": "execute_result"
    }
   ],
   "source": [
    "Month_name8=\"August\"\n",
    "Month_name8"
   ]
  },
  {
   "cell_type": "code",
   "execution_count": 61,
   "id": "4872f428",
   "metadata": {
    "scrolled": true
   },
   "outputs": [
    {
     "data": {
      "text/plain": [
       "'September'"
      ]
     },
     "execution_count": 61,
     "metadata": {},
     "output_type": "execute_result"
    }
   ],
   "source": [
    "Month_name9=\"September\"\n",
    "Month_name9"
   ]
  },
  {
   "cell_type": "code",
   "execution_count": 62,
   "id": "547f1015",
   "metadata": {},
   "outputs": [
    {
     "data": {
      "text/plain": [
       "'October'"
      ]
     },
     "execution_count": 62,
     "metadata": {},
     "output_type": "execute_result"
    }
   ],
   "source": [
    "Month_name10=\"October\"\n",
    "Month_name10"
   ]
  },
  {
   "cell_type": "code",
   "execution_count": 63,
   "id": "5653d903",
   "metadata": {},
   "outputs": [
    {
     "data": {
      "text/plain": [
       "'November'"
      ]
     },
     "execution_count": 63,
     "metadata": {},
     "output_type": "execute_result"
    }
   ],
   "source": [
    "Month_name11=\"November\"\n",
    "Month_name11"
   ]
  },
  {
   "cell_type": "code",
   "execution_count": 65,
   "id": "077a12b1",
   "metadata": {},
   "outputs": [
    {
     "data": {
      "text/plain": [
       "'December'"
      ]
     },
     "execution_count": 65,
     "metadata": {},
     "output_type": "execute_result"
    }
   ],
   "source": [
    "Month_name12=\"December\"\n",
    "Month_name12"
   ]
  },
  {
   "cell_type": "code",
   "execution_count": null,
   "id": "98be374d",
   "metadata": {},
   "outputs": [],
   "source": []
  },
  {
   "cell_type": "code",
   "execution_count": null,
   "id": "35980803",
   "metadata": {},
   "outputs": [],
   "source": [
    "#6. Create a 10 variables with game  names?"
   ]
  },
  {
   "cell_type": "code",
   "execution_count": 69,
   "id": "4633788b",
   "metadata": {},
   "outputs": [
    {
     "data": {
      "text/plain": [
       "'Cricket'"
      ]
     },
     "execution_count": 69,
     "metadata": {},
     "output_type": "execute_result"
    }
   ],
   "source": [
    "G_Name1=\"Cricket\"\n",
    "G_Name1"
   ]
  },
  {
   "cell_type": "code",
   "execution_count": 70,
   "id": "764ce07a",
   "metadata": {},
   "outputs": [
    {
     "data": {
      "text/plain": [
       "'Hockey'"
      ]
     },
     "execution_count": 70,
     "metadata": {},
     "output_type": "execute_result"
    }
   ],
   "source": [
    "G_Name2=\"Hockey\"\n",
    "G_Name2"
   ]
  },
  {
   "cell_type": "code",
   "execution_count": 71,
   "id": "49e67898",
   "metadata": {},
   "outputs": [
    {
     "data": {
      "text/plain": [
       "'Foot Ball'"
      ]
     },
     "execution_count": 71,
     "metadata": {},
     "output_type": "execute_result"
    }
   ],
   "source": [
    "G_Name3=\"Foot Ball\"\n",
    "G_Name3"
   ]
  },
  {
   "cell_type": "code",
   "execution_count": 72,
   "id": "6a98aec8",
   "metadata": {},
   "outputs": [
    {
     "data": {
      "text/plain": [
       "'Basket Ball'"
      ]
     },
     "execution_count": 72,
     "metadata": {},
     "output_type": "execute_result"
    }
   ],
   "source": [
    "G_Name4=\"Basket Ball\"\n",
    "G_Name4"
   ]
  },
  {
   "cell_type": "code",
   "execution_count": 73,
   "id": "652e2250",
   "metadata": {},
   "outputs": [
    {
     "data": {
      "text/plain": [
       "'Chess'"
      ]
     },
     "execution_count": 73,
     "metadata": {},
     "output_type": "execute_result"
    }
   ],
   "source": [
    "G_Name5=\"Chess\"\n",
    "G_Name5"
   ]
  },
  {
   "cell_type": "code",
   "execution_count": 74,
   "id": "0bf2553c",
   "metadata": {},
   "outputs": [
    {
     "data": {
      "text/plain": [
       "'Tennis'"
      ]
     },
     "execution_count": 74,
     "metadata": {},
     "output_type": "execute_result"
    }
   ],
   "source": [
    "G_Name6=\"Tennis\"\n",
    "G_Name6"
   ]
  },
  {
   "cell_type": "code",
   "execution_count": 75,
   "id": "47eafaa0",
   "metadata": {},
   "outputs": [
    {
     "data": {
      "text/plain": [
       "'Boxing'"
      ]
     },
     "execution_count": 75,
     "metadata": {},
     "output_type": "execute_result"
    }
   ],
   "source": [
    "G_Name7=\"Boxing\"\n",
    "G_Name7"
   ]
  },
  {
   "cell_type": "code",
   "execution_count": 76,
   "id": "8ac52eed",
   "metadata": {},
   "outputs": [
    {
     "data": {
      "text/plain": [
       "'Golf'"
      ]
     },
     "execution_count": 76,
     "metadata": {},
     "output_type": "execute_result"
    }
   ],
   "source": [
    "G_Name8=\"Golf\"\n",
    "G_Name8"
   ]
  },
  {
   "cell_type": "code",
   "execution_count": 77,
   "id": "03e4c3af",
   "metadata": {},
   "outputs": [
    {
     "data": {
      "text/plain": [
       "'Badminton'"
      ]
     },
     "execution_count": 77,
     "metadata": {},
     "output_type": "execute_result"
    }
   ],
   "source": [
    "G_Name9=\"Badminton\"\n",
    "G_Name9"
   ]
  },
  {
   "cell_type": "code",
   "execution_count": 78,
   "id": "39712da4",
   "metadata": {},
   "outputs": [
    {
     "data": {
      "text/plain": [
       "'Rugby'"
      ]
     },
     "execution_count": 78,
     "metadata": {},
     "output_type": "execute_result"
    }
   ],
   "source": [
    "G_Name10=\"Rugby\"\n",
    "G_Name10"
   ]
  },
  {
   "cell_type": "code",
   "execution_count": null,
   "id": "85d35b1c",
   "metadata": {},
   "outputs": [],
   "source": []
  },
  {
   "cell_type": "code",
   "execution_count": null,
   "id": "197a5e5b",
   "metadata": {},
   "outputs": [],
   "source": [
    "#7. Create a 10 variables with city  names?\n"
   ]
  },
  {
   "cell_type": "code",
   "execution_count": 79,
   "id": "6eab6d95",
   "metadata": {},
   "outputs": [
    {
     "data": {
      "text/plain": [
       "'Delhi'"
      ]
     },
     "execution_count": 79,
     "metadata": {},
     "output_type": "execute_result"
    }
   ],
   "source": [
    "City_name1=\"Delhi\"\n",
    "City_name1"
   ]
  },
  {
   "cell_type": "code",
   "execution_count": 80,
   "id": "daec20e1",
   "metadata": {},
   "outputs": [
    {
     "data": {
      "text/plain": [
       "'Mumbai'"
      ]
     },
     "execution_count": 80,
     "metadata": {},
     "output_type": "execute_result"
    }
   ],
   "source": [
    "City_name2=\"Mumbai\"\n",
    "City_name2"
   ]
  },
  {
   "cell_type": "code",
   "execution_count": 81,
   "id": "6b9338b6",
   "metadata": {},
   "outputs": [
    {
     "data": {
      "text/plain": [
       "'Kolkata'"
      ]
     },
     "execution_count": 81,
     "metadata": {},
     "output_type": "execute_result"
    }
   ],
   "source": [
    "City_name3=\"Kolkata\"\n",
    "City_name3"
   ]
  },
  {
   "cell_type": "code",
   "execution_count": 82,
   "id": "6c43564b",
   "metadata": {},
   "outputs": [
    {
     "data": {
      "text/plain": [
       "'Chennai'"
      ]
     },
     "execution_count": 82,
     "metadata": {},
     "output_type": "execute_result"
    }
   ],
   "source": [
    "City_name4=\"Chennai\"\n",
    "City_name4"
   ]
  },
  {
   "cell_type": "code",
   "execution_count": 83,
   "id": "45c1fc22",
   "metadata": {},
   "outputs": [
    {
     "data": {
      "text/plain": [
       "'Lacknow'"
      ]
     },
     "execution_count": 83,
     "metadata": {},
     "output_type": "execute_result"
    }
   ],
   "source": [
    "City_name5=\"Lacknow\"\n",
    "City_name5"
   ]
  },
  {
   "cell_type": "code",
   "execution_count": 84,
   "id": "208874ff",
   "metadata": {},
   "outputs": [
    {
     "data": {
      "text/plain": [
       "'Hyderabad'"
      ]
     },
     "execution_count": 84,
     "metadata": {},
     "output_type": "execute_result"
    }
   ],
   "source": [
    "City_name6=\"Hyderabad\"\n",
    "City_name6"
   ]
  },
  {
   "cell_type": "code",
   "execution_count": 85,
   "id": "1fb85844",
   "metadata": {},
   "outputs": [
    {
     "data": {
      "text/plain": [
       "'Varanasi'"
      ]
     },
     "execution_count": 85,
     "metadata": {},
     "output_type": "execute_result"
    }
   ],
   "source": [
    "City_name7=\"Varanasi\"\n",
    "City_name7"
   ]
  },
  {
   "cell_type": "code",
   "execution_count": 86,
   "id": "7867b2db",
   "metadata": {},
   "outputs": [
    {
     "data": {
      "text/plain": [
       "'Bangalure'"
      ]
     },
     "execution_count": 86,
     "metadata": {},
     "output_type": "execute_result"
    }
   ],
   "source": [
    "City_name8=\"Bangalure\"\n",
    "City_name8"
   ]
  },
  {
   "cell_type": "code",
   "execution_count": 87,
   "id": "223e7cba",
   "metadata": {},
   "outputs": [
    {
     "data": {
      "text/plain": [
       "'Ahmedabad'"
      ]
     },
     "execution_count": 87,
     "metadata": {},
     "output_type": "execute_result"
    }
   ],
   "source": [
    "City_name9=\"Ahmedabad\"\n",
    "City_name9"
   ]
  },
  {
   "cell_type": "code",
   "execution_count": 88,
   "id": "c005779b",
   "metadata": {},
   "outputs": [
    {
     "data": {
      "text/plain": [
       "'Surat'"
      ]
     },
     "execution_count": 88,
     "metadata": {},
     "output_type": "execute_result"
    }
   ],
   "source": [
    "City_name10=\"Surat\"\n",
    "City_name10"
   ]
  },
  {
   "cell_type": "code",
   "execution_count": null,
   "id": "6ce27ff2",
   "metadata": {},
   "outputs": [],
   "source": []
  },
  {
   "cell_type": "code",
   "execution_count": null,
   "id": "3726af07",
   "metadata": {},
   "outputs": [],
   "source": [
    "#----------------------> list[]"
   ]
  },
  {
   "cell_type": "code",
   "execution_count": null,
   "id": "6c6f7ceb",
   "metadata": {},
   "outputs": [],
   "source": [
    "#8. Create a list (friend_names) with your friend names (10 names)?\n"
   ]
  },
  {
   "cell_type": "code",
   "execution_count": 90,
   "id": "65d46021",
   "metadata": {},
   "outputs": [
    {
     "data": {
      "text/plain": [
       "['Shabana',\n",
       " 'Rehana',\n",
       " 'Aliya',\n",
       " 'Hamida',\n",
       " 'Sabera',\n",
       " 'Sony',\n",
       " 'Raziya',\n",
       " 'Mallika',\n",
       " 'Shafheka',\n",
       " 'Hanima']"
      ]
     },
     "execution_count": 90,
     "metadata": {},
     "output_type": "execute_result"
    }
   ],
   "source": [
    "friend_names=[\"Shabana\",\"Rehana\",\"Aliya\",\"Hamida\",\"Sabera\",\"Sony\",\"Raziya\",\"Mallika\",\"Shafheka\",\"Hanima\"]\n",
    "friend_names"
   ]
  },
  {
   "cell_type": "code",
   "execution_count": 91,
   "id": "4937527d",
   "metadata": {},
   "outputs": [
    {
     "data": {
      "text/plain": [
       "['Shabana',\n",
       " 'Hanima',\n",
       " 'Rehana',\n",
       " 'Mallika',\n",
       " 'Aliya',\n",
       " 'Hamida',\n",
       " 'Sabera',\n",
       " 'Sony',\n",
       " 'Raziya',\n",
       " 'Mallika',\n",
       " 'Shafheka',\n",
       " 'Hanima']"
      ]
     },
     "execution_count": 91,
     "metadata": {},
     "output_type": "execute_result"
    }
   ],
   "source": [
    "friend_names1=[\"Shabana\",\"Hanima\",\"Rehana\",\"Mallika\",\"Aliya\",\"Hamida\",\"Sabera\",\"Sony\",\"Raziya\",\"Mallika\",\"Shafheka\",\"Hanima\"]\n",
    "friend_names1"
   ]
  },
  {
   "cell_type": "code",
   "execution_count": null,
   "id": "b1ff897d",
   "metadata": {},
   "outputs": [],
   "source": []
  },
  {
   "cell_type": "code",
   "execution_count": null,
   "id": "d16f8668",
   "metadata": {},
   "outputs": [],
   "source": [
    "#----------------------> tuple()"
   ]
  },
  {
   "cell_type": "code",
   "execution_count": null,
   "id": "f979342e",
   "metadata": {},
   "outputs": [],
   "source": [
    "#9. Create a tuple (family_members) with your family members?\n"
   ]
  },
  {
   "cell_type": "code",
   "execution_count": 93,
   "id": "621298cb",
   "metadata": {},
   "outputs": [
    {
     "data": {
      "text/plain": [
       "('Md.Ali',\n",
       " 'Balkis Jaha',\n",
       " 'Shahnaz Begum',\n",
       " 'Irfan',\n",
       " 'Afzal Shaw',\n",
       " 'Shakeela Begum',\n",
       " 'Shamshad Begum',\n",
       " 'Md.Karamatulla',\n",
       " 'Shannu',\n",
       " 'Banu')"
      ]
     },
     "execution_count": 93,
     "metadata": {},
     "output_type": "execute_result"
    }
   ],
   "source": [
    "family_members=(\"Md.Ali\",\"Balkis Jaha\",\"Shahnaz Begum\",\"Irfan\",\"Afzal Shaw\",\"Shakeela Begum\",\"Shamshad Begum\",\"Md.Karamatulla\",\"Shannu\",\"Banu\")\n",
    "family_members"
   ]
  },
  {
   "cell_type": "code",
   "execution_count": 94,
   "id": "4603cffe",
   "metadata": {},
   "outputs": [
    {
     "data": {
      "text/plain": [
       "('Md.Ali',\n",
       " 'Balkis Jaha',\n",
       " 'Shahnaz Begum',\n",
       " 'Irfan',\n",
       " 'Afzal Shaw',\n",
       " 'Shamshad Begum',\n",
       " 'Shakeela Begum',\n",
       " 'Shamshad Begum',\n",
       " 'Irfan',\n",
       " 'Md.Karamatulla',\n",
       " 'Shannu',\n",
       " 'Banu')"
      ]
     },
     "execution_count": 94,
     "metadata": {},
     "output_type": "execute_result"
    }
   ],
   "source": [
    "tuple=(\"Md.Ali\",\"Balkis Jaha\",\"Shahnaz Begum\",\"Irfan\",\"Afzal Shaw\",\"Shamshad Begum\",\"Shakeela Begum\",\"Shamshad Begum\",\"Irfan\",\"Md.Karamatulla\",\"Shannu\",\"Banu\")\n",
    "tuple"
   ]
  },
  {
   "cell_type": "code",
   "execution_count": null,
   "id": "1ef038d0",
   "metadata": {},
   "outputs": [],
   "source": []
  },
  {
   "cell_type": "code",
   "execution_count": null,
   "id": "36a40350",
   "metadata": {},
   "outputs": [],
   "source": [
    "#-------------------------> set{}"
   ]
  },
  {
   "cell_type": "code",
   "execution_count": null,
   "id": "e42f0d5b",
   "metadata": {},
   "outputs": [],
   "source": [
    "#10. Create a set (colours) with colour names(10 names)?"
   ]
  },
  {
   "cell_type": "code",
   "execution_count": 95,
   "id": "95df6517",
   "metadata": {},
   "outputs": [
    {
     "data": {
      "text/plain": [
       "{'Black',\n",
       " 'Blue',\n",
       " 'Brown',\n",
       " 'Green',\n",
       " 'Orange',\n",
       " 'Pink',\n",
       " 'Red',\n",
       " 'Voilet',\n",
       " 'White',\n",
       " 'Yellow'}"
      ]
     },
     "execution_count": 95,
     "metadata": {},
     "output_type": "execute_result"
    }
   ],
   "source": [
    "Colour_names={\"Pink\",\"Yellow\",\"Red\",\"Blue\",\"Green\",\"Brown\",\"Voilet\",\"Orange\",\"White\",\"Black\"}\n",
    "Colour_names"
   ]
  },
  {
   "cell_type": "code",
   "execution_count": null,
   "id": "0b6ae694",
   "metadata": {},
   "outputs": [],
   "source": [
    "#11. month_names=[1,9,10,5,3,2,7,8,6,4] , sort the list--> write a program?\n",
    "expected output: month_names=[1,2,3,4,5,6,7,8,9,10]\n"
   ]
  },
  {
   "cell_type": "code",
   "execution_count": 97,
   "id": "da35c661",
   "metadata": {},
   "outputs": [
    {
     "data": {
      "text/plain": [
       "{1, 2, 3, 4, 5, 6, 7, 8, 9, 10}"
      ]
     },
     "execution_count": 97,
     "metadata": {},
     "output_type": "execute_result"
    }
   ],
   "source": [
    "month_names={1,9,10,5,3,2,7,8,6,4} \n",
    "month_names"
   ]
  },
  {
   "cell_type": "code",
   "execution_count": null,
   "id": "2df32353",
   "metadata": {},
   "outputs": [],
   "source": [
    "#12. tollywood_heros=[\"chiru\", \"balaya\", \"nag\",\"venky\",\"powerstar\",\"superstar\",\"ntr\",\"ramcharan\"], write a program?\n",
    "expected output:tollywood_heros=[\"chiranjeevi\", \"balakrishan\", \"nagarjuna\",\"venky\",\"pawan kalyan\",\"maheshbabu\",\"NT rama rao\",\"ramcharan\"]"
   ]
  },
  {
   "cell_type": "code",
   "execution_count": 1,
   "id": "e667c974",
   "metadata": {},
   "outputs": [
    {
     "data": {
      "text/plain": [
       "['chiru',\n",
       " 'balaya',\n",
       " 'nag',\n",
       " 'venky',\n",
       " 'powerstar',\n",
       " 'superstar',\n",
       " 'ntr',\n",
       " 'ramcharan']"
      ]
     },
     "execution_count": 1,
     "metadata": {},
     "output_type": "execute_result"
    }
   ],
   "source": [
    "tollywood_heros=[\"chiru\", \"balaya\", \"nag\",\"venky\",\"powerstar\",\"superstar\",\"ntr\",\"ramcharan\"]\n",
    "tollywood_heros"
   ]
  },
  {
   "cell_type": "code",
   "execution_count": 2,
   "id": "1caa4d05",
   "metadata": {},
   "outputs": [
    {
     "data": {
      "text/plain": [
       "'chiranjeevi'"
      ]
     },
     "execution_count": 2,
     "metadata": {},
     "output_type": "execute_result"
    }
   ],
   "source": [
    "tollywood_heros[0]=\"chiranjeevi\"\n",
    "tollywood_heros[0]"
   ]
  },
  {
   "cell_type": "code",
   "execution_count": 3,
   "id": "3494ebd8",
   "metadata": {},
   "outputs": [
    {
     "data": {
      "text/plain": [
       "'balakrishan'"
      ]
     },
     "execution_count": 3,
     "metadata": {},
     "output_type": "execute_result"
    }
   ],
   "source": [
    "tollywood_heros[1]=\"balakrishan\"\n",
    "tollywood_heros[1]"
   ]
  },
  {
   "cell_type": "code",
   "execution_count": 4,
   "id": "de02f7b4",
   "metadata": {},
   "outputs": [
    {
     "data": {
      "text/plain": [
       "'nagarjuna'"
      ]
     },
     "execution_count": 4,
     "metadata": {},
     "output_type": "execute_result"
    }
   ],
   "source": [
    "tollywood_heros[2]=\"nagarjuna\"\n",
    "tollywood_heros[2]"
   ]
  },
  {
   "cell_type": "code",
   "execution_count": 5,
   "id": "14323fde",
   "metadata": {},
   "outputs": [
    {
     "data": {
      "text/plain": [
       "'venky'"
      ]
     },
     "execution_count": 5,
     "metadata": {},
     "output_type": "execute_result"
    }
   ],
   "source": [
    "tollywood_heros[3]=\"venky\"\n",
    "tollywood_heros[3]"
   ]
  },
  {
   "cell_type": "code",
   "execution_count": 6,
   "id": "3427580e",
   "metadata": {},
   "outputs": [
    {
     "data": {
      "text/plain": [
       "'pawan kalyan'"
      ]
     },
     "execution_count": 6,
     "metadata": {},
     "output_type": "execute_result"
    }
   ],
   "source": [
    "tollywood_heros[4]=\"pawan kalyan\"\n",
    "tollywood_heros[4]"
   ]
  },
  {
   "cell_type": "code",
   "execution_count": 7,
   "id": "cc1819b6",
   "metadata": {},
   "outputs": [
    {
     "data": {
      "text/plain": [
       "'maheshbabu'"
      ]
     },
     "execution_count": 7,
     "metadata": {},
     "output_type": "execute_result"
    }
   ],
   "source": [
    "tollywood_heros[5]=\"maheshbabu\"\n",
    "tollywood_heros[5]"
   ]
  },
  {
   "cell_type": "code",
   "execution_count": 8,
   "id": "66d04df5",
   "metadata": {},
   "outputs": [
    {
     "data": {
      "text/plain": [
       "'NT rama rao'"
      ]
     },
     "execution_count": 8,
     "metadata": {},
     "output_type": "execute_result"
    }
   ],
   "source": [
    "tollywood_heros[6]=\"NT rama rao\"\n",
    "tollywood_heros[6]"
   ]
  },
  {
   "cell_type": "code",
   "execution_count": 9,
   "id": "2f3811db",
   "metadata": {},
   "outputs": [
    {
     "data": {
      "text/plain": [
       "'ramcharan'"
      ]
     },
     "execution_count": 9,
     "metadata": {},
     "output_type": "execute_result"
    }
   ],
   "source": [
    "tollywood_heros[7]=\"ramcharan\"\n",
    "tollywood_heros[7]"
   ]
  },
  {
   "cell_type": "code",
   "execution_count": null,
   "id": "d5ca7498",
   "metadata": {},
   "outputs": [],
   "source": []
  },
  {
   "cell_type": "code",
   "execution_count": null,
   "id": "c5dbdfc0",
   "metadata": {},
   "outputs": [],
   "source": [
    "#-------------------------> set{}"
   ]
  },
  {
   "cell_type": "code",
   "execution_count": null,
   "id": "c068f651",
   "metadata": {},
   "outputs": [],
   "source": [
    "#13. bollywood_heros=[\"sharukkhan\", \"salmankhan\", \"salmankhan\",\"amirkhan\",\"HrithikRoshan\",\"Amitabh Bachchan\",\"Akshay Kumar\",\"amirkhan\"], write a program to remove duplicates?"
   ]
  },
  {
   "cell_type": "code",
   "execution_count": 14,
   "id": "7246c0a3",
   "metadata": {},
   "outputs": [],
   "source": [
    "bollywood_heros={\"sharukkhan\", \"salmankhan\", \"salmankhan\",\"amirkhan\",\"HrithikRoshan\",\"Amitabh Bachchan\",\"Akshay Kumar\",\"amirkhan\"}"
   ]
  },
  {
   "cell_type": "code",
   "execution_count": 15,
   "id": "4a69a50e",
   "metadata": {},
   "outputs": [
    {
     "data": {
      "text/plain": [
       "{'Akshay Kumar',\n",
       " 'Amitabh Bachchan',\n",
       " 'HrithikRoshan',\n",
       " 'amirkhan',\n",
       " 'salmankhan',\n",
       " 'sharukkhan'}"
      ]
     },
     "execution_count": 15,
     "metadata": {},
     "output_type": "execute_result"
    }
   ],
   "source": [
    "bollywood_heros"
   ]
  },
  {
   "cell_type": "code",
   "execution_count": 22,
   "id": "dc7cbd13",
   "metadata": {},
   "outputs": [],
   "source": [
    "#14. breakfast_items=[\"upma\",\"dosa\",\"idly\",\"puri\",\"punugulu\",\"roti\",\"chapathi\", \"parota\",\"mysoor baji\",\"minapa baji\"], print your favorite breakfast itme?\n",
    "# example: My Favorite breakfast time is mysoor baji"
   ]
  },
  {
   "cell_type": "code",
   "execution_count": 20,
   "id": "c8576883",
   "metadata": {},
   "outputs": [],
   "source": [
    " breakfast_items=[\"upma\",\"dosa\",\"idly\",\"puri\",\"punugulu\",\"roti\",\"chapathi\", \"parota\",\"mysoor baji\",\"minapa baji\"]\n",
    " "
   ]
  },
  {
   "cell_type": "code",
   "execution_count": 21,
   "id": "331a3fa1",
   "metadata": {},
   "outputs": [
    {
     "data": {
      "text/plain": [
       "['upma',\n",
       " 'dosa',\n",
       " 'idly',\n",
       " 'puri',\n",
       " 'punugulu',\n",
       " 'roti',\n",
       " 'chapathi',\n",
       " 'parota',\n",
       " 'mysoor baji',\n",
       " 'minapa baji']"
      ]
     },
     "execution_count": 21,
     "metadata": {},
     "output_type": "execute_result"
    }
   ],
   "source": [
    "breakfast_items"
   ]
  },
  {
   "cell_type": "code",
   "execution_count": 23,
   "id": "7b653dd1",
   "metadata": {},
   "outputs": [
    {
     "name": "stdout",
     "output_type": "stream",
     "text": [
      "My Favorite breakfast iten is: mysoor baji\n"
     ]
    }
   ],
   "source": [
    "print(\"My Favorite breakfast iten is:\",breakfast_items[8])"
   ]
  },
  {
   "cell_type": "code",
   "execution_count": null,
   "id": "f2a3e66e",
   "metadata": {},
   "outputs": [],
   "source": []
  },
  {
   "cell_type": "code",
   "execution_count": null,
   "id": "fe28a19b",
   "metadata": {},
   "outputs": [],
   "source": []
  },
  {
   "cell_type": "code",
   "execution_count": null,
   "id": "965b6734",
   "metadata": {},
   "outputs": [],
   "source": []
  }
 ],
 "metadata": {
  "kernelspec": {
   "display_name": "Python 3 (ipykernel)",
   "language": "python",
   "name": "python3"
  },
  "language_info": {
   "codemirror_mode": {
    "name": "ipython",
    "version": 3
   },
   "file_extension": ".py",
   "mimetype": "text/x-python",
   "name": "python",
   "nbconvert_exporter": "python",
   "pygments_lexer": "ipython3",
   "version": "3.10.9"
  }
 },
 "nbformat": 4,
 "nbformat_minor": 5
}
