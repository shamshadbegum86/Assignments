{
 "cells": [
  {
   "cell_type": "code",
   "execution_count": 1,
   "id": "8810ee05",
   "metadata": {},
   "outputs": [
    {
     "name": "stdout",
     "output_type": "stream",
     "text": [
      "My Friends Names are: Ramya Devika Radhika Salma Revathi\n"
     ]
    }
   ],
   "source": [
    "f1=\"Ramya\"\n",
    "f2=\"Devika\"\n",
    "f3=\"Radhika\"\n",
    "f4=\"Salma\"\n",
    "f5=\"Revathi\"\n",
    "print(\"My Friends Names are:\",f1,f2,f3,f4,f5)"
   ]
  },
  {
   "cell_type": "code",
   "execution_count": 2,
   "id": "dfa66b5a",
   "metadata": {},
   "outputs": [
    {
     "data": {
      "text/plain": [
       "['Shahanaz', 'Shabana', 'Shamahad', 'Shaheena', 'Shakeera']"
      ]
     },
     "execution_count": 2,
     "metadata": {},
     "output_type": "execute_result"
    }
   ],
   "source": [
    "f_names=[\"Shahanaz\",\"Shabana\",\"Shamahad\",\"Shaheena\",\"Shakeera\"]\n",
    "f_names"
   ]
  },
  {
   "cell_type": "code",
   "execution_count": 3,
   "id": "0db6fdf8",
   "metadata": {},
   "outputs": [
    {
     "data": {
      "text/plain": [
       "list"
      ]
     },
     "execution_count": 3,
     "metadata": {},
     "output_type": "execute_result"
    }
   ],
   "source": [
    "type(f_names)"
   ]
  },
  {
   "cell_type": "code",
   "execution_count": 4,
   "id": "48bf5c3b",
   "metadata": {},
   "outputs": [
    {
     "data": {
      "text/plain": [
       "['Raji',\n",
       " 'Sowmya',\n",
       " 'Lakshmi',\n",
       " 'Devika',\n",
       " 'Rajini',\n",
       " 'Swathi',\n",
       " 'Glori',\n",
       " 'Jaya',\n",
       " 'Nagamani',\n",
       " 'Suseela']"
      ]
     },
     "execution_count": 4,
     "metadata": {},
     "output_type": "execute_result"
    }
   ],
   "source": [
    "lst=[\"Raji\",\"Sowmya\",\"Lakshmi\",\"Devika\",\"Rajini\",\"Swathi\",\"Glori\",\"Jaya\",\"Nagamani\",\"Suseela\"]\n",
    "lst"
   ]
  },
  {
   "cell_type": "code",
   "execution_count": 5,
   "id": "2c6926e3",
   "metadata": {},
   "outputs": [
    {
     "data": {
      "text/plain": [
       "'Raji'"
      ]
     },
     "execution_count": 5,
     "metadata": {},
     "output_type": "execute_result"
    }
   ],
   "source": [
    "lst[0]"
   ]
  },
  {
   "cell_type": "code",
   "execution_count": 6,
   "id": "2751bd88",
   "metadata": {},
   "outputs": [
    {
     "data": {
      "text/plain": [
       "'Lakshmi'"
      ]
     },
     "execution_count": 6,
     "metadata": {},
     "output_type": "execute_result"
    }
   ],
   "source": [
    "lst[2]"
   ]
  },
  {
   "cell_type": "code",
   "execution_count": 7,
   "id": "7a64924d",
   "metadata": {},
   "outputs": [
    {
     "data": {
      "text/plain": [
       "'Nagamani'"
      ]
     },
     "execution_count": 7,
     "metadata": {},
     "output_type": "execute_result"
    }
   ],
   "source": [
    "lst[-2]"
   ]
  },
  {
   "cell_type": "code",
   "execution_count": 8,
   "id": "7a36d838",
   "metadata": {},
   "outputs": [
    {
     "data": {
      "text/plain": [
       "'Rajini'"
      ]
     },
     "execution_count": 8,
     "metadata": {},
     "output_type": "execute_result"
    }
   ],
   "source": [
    "lst[4]"
   ]
  },
  {
   "cell_type": "code",
   "execution_count": 9,
   "id": "abb4dbbb",
   "metadata": {},
   "outputs": [
    {
     "data": {
      "text/plain": [
       "'Glori'"
      ]
     },
     "execution_count": 9,
     "metadata": {},
     "output_type": "execute_result"
    }
   ],
   "source": [
    "lst[-4]"
   ]
  },
  {
   "cell_type": "code",
   "execution_count": 10,
   "id": "cb3b651e",
   "metadata": {},
   "outputs": [
    {
     "data": {
      "text/plain": [
       "['Raji', 'Sowmya', 'Lakshmi', 'Devika']"
      ]
     },
     "execution_count": 10,
     "metadata": {},
     "output_type": "execute_result"
    }
   ],
   "source": [
    "lst[0:4]"
   ]
  },
  {
   "cell_type": "code",
   "execution_count": 11,
   "id": "6771becc",
   "metadata": {},
   "outputs": [
    {
     "data": {
      "text/plain": [
       "['Lakshmi', 'Devika']"
      ]
     },
     "execution_count": 11,
     "metadata": {},
     "output_type": "execute_result"
    }
   ],
   "source": [
    "lst[2:4]"
   ]
  },
  {
   "cell_type": "code",
   "execution_count": 12,
   "id": "369bdfde",
   "metadata": {},
   "outputs": [
    {
     "data": {
      "text/plain": [
       "['Raji', 'Sowmya', 'Lakshmi', 'Devika', 'Rajini', 'Swathi', 'Glori']"
      ]
     },
     "execution_count": 12,
     "metadata": {},
     "output_type": "execute_result"
    }
   ],
   "source": [
    "lst[0:-3]"
   ]
  },
  {
   "cell_type": "code",
   "execution_count": 13,
   "id": "99485a96",
   "metadata": {},
   "outputs": [
    {
     "data": {
      "text/plain": [
       "['Raji', 'Sowmya', 'Lakshmi', 'Devika', 'Rajini']"
      ]
     },
     "execution_count": 13,
     "metadata": {},
     "output_type": "execute_result"
    }
   ],
   "source": [
    "lst[0:-5]"
   ]
  },
  {
   "cell_type": "code",
   "execution_count": 14,
   "id": "cce3a39c",
   "metadata": {},
   "outputs": [
    {
     "data": {
      "text/plain": [
       "['Devika', 'Rajini', 'Swathi', 'Glori', 'Jaya', 'Nagamani', 'Suseela']"
      ]
     },
     "execution_count": 14,
     "metadata": {},
     "output_type": "execute_result"
    }
   ],
   "source": [
    "lst[3:]"
   ]
  },
  {
   "cell_type": "code",
   "execution_count": 15,
   "id": "3ecb4d94",
   "metadata": {},
   "outputs": [
    {
     "data": {
      "text/plain": [
       "['Jaya', 'Nagamani', 'Suseela']"
      ]
     },
     "execution_count": 15,
     "metadata": {},
     "output_type": "execute_result"
    }
   ],
   "source": [
    "lst[-3:]"
   ]
  },
  {
   "cell_type": "code",
   "execution_count": 16,
   "id": "ace48a0f",
   "metadata": {},
   "outputs": [
    {
     "data": {
      "text/plain": [
       "[10, 11, 12, 13, 14, 15]"
      ]
     },
     "execution_count": 16,
     "metadata": {},
     "output_type": "execute_result"
    }
   ],
   "source": [
    "x=[10,11,12,13,14,15]\n",
    "x"
   ]
  },
  {
   "cell_type": "code",
   "execution_count": 17,
   "id": "c36a3ffb",
   "metadata": {},
   "outputs": [
    {
     "name": "stdout",
     "output_type": "stream",
     "text": [
      "10\n"
     ]
    }
   ],
   "source": [
    "print(x[0])"
   ]
  },
  {
   "cell_type": "code",
   "execution_count": 18,
   "id": "733b9814",
   "metadata": {},
   "outputs": [
    {
     "name": "stdout",
     "output_type": "stream",
     "text": [
      "13\n"
     ]
    }
   ],
   "source": [
    "print(x[3])"
   ]
  },
  {
   "cell_type": "code",
   "execution_count": 19,
   "id": "20328174",
   "metadata": {},
   "outputs": [
    {
     "data": {
      "text/plain": [
       "[1, 2, 3, 4]"
      ]
     },
     "execution_count": 19,
     "metadata": {},
     "output_type": "execute_result"
    }
   ],
   "source": [
    "x=[1,2,3,4]\n",
    "x"
   ]
  },
  {
   "cell_type": "code",
   "execution_count": 20,
   "id": "a4c46374",
   "metadata": {},
   "outputs": [],
   "source": [
    "x.append(5)"
   ]
  },
  {
   "cell_type": "code",
   "execution_count": 21,
   "id": "a45ebc07",
   "metadata": {},
   "outputs": [
    {
     "data": {
      "text/plain": [
       "[1, 3, 4, 5]"
      ]
     },
     "execution_count": 21,
     "metadata": {},
     "output_type": "execute_result"
    }
   ],
   "source": [
    "y=[1,3,4,5]\n",
    "y"
   ]
  },
  {
   "cell_type": "code",
   "execution_count": 22,
   "id": "aaea5090",
   "metadata": {},
   "outputs": [],
   "source": [
    "y.insert(1,2)"
   ]
  },
  {
   "cell_type": "code",
   "execution_count": 23,
   "id": "44f4232a",
   "metadata": {},
   "outputs": [],
   "source": [
    "z=[6,7,8]"
   ]
  },
  {
   "cell_type": "code",
   "execution_count": 24,
   "id": "5416ed6c",
   "metadata": {},
   "outputs": [],
   "source": [
    "y.extend(z)"
   ]
  },
  {
   "cell_type": "code",
   "execution_count": null,
   "id": "9bc157f6",
   "metadata": {},
   "outputs": [],
   "source": []
  },
  {
   "cell_type": "code",
   "execution_count": 25,
   "id": "a12c53b9",
   "metadata": {},
   "outputs": [
    {
     "name": "stdout",
     "output_type": "stream",
     "text": [
      "0\n",
      "1\n",
      "2\n",
      "3\n",
      "4\n",
      "5\n",
      "6\n",
      "7\n",
      "8\n",
      "9\n",
      "10\n"
     ]
    }
   ],
   "source": [
    "i=0\n",
    "while i<=10:\n",
    "    print(i)\n",
    "    i+=1"
   ]
  },
  {
   "cell_type": "code",
   "execution_count": 26,
   "id": "8a071c63",
   "metadata": {},
   "outputs": [
    {
     "name": "stdout",
     "output_type": "stream",
     "text": [
      "1\n",
      "2\n",
      "3\n",
      "4\n",
      "5\n",
      "6\n",
      "7\n",
      "8\n"
     ]
    }
   ],
   "source": [
    "i=1\n",
    "while i<10:\n",
    "    print(i)\n",
    "    i=i+1\n",
    "    if i==9:\n",
    "        break"
   ]
  },
  {
   "cell_type": "code",
   "execution_count": null,
   "id": "0b0ff08c",
   "metadata": {},
   "outputs": [],
   "source": []
  },
  {
   "cell_type": "code",
   "execution_count": null,
   "id": "145c301e",
   "metadata": {},
   "outputs": [],
   "source": []
  }
 ],
 "metadata": {
  "kernelspec": {
   "display_name": "Python 3 (ipykernel)",
   "language": "python",
   "name": "python3"
  },
  "language_info": {
   "codemirror_mode": {
    "name": "ipython",
    "version": 3
   },
   "file_extension": ".py",
   "mimetype": "text/x-python",
   "name": "python",
   "nbconvert_exporter": "python",
   "pygments_lexer": "ipython3",
   "version": "3.10.9"
  }
 },
 "nbformat": 4,
 "nbformat_minor": 5
}
