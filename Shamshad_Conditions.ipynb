{
 "cells": [
  {
   "cell_type": "code",
   "execution_count": null,
   "id": "0771bf9b",
   "metadata": {},
   "outputs": [],
   "source": [
    "Conditions"
   ]
  },
  {
   "cell_type": "code",
   "execution_count": null,
   "id": "3d5e6fe5",
   "metadata": {},
   "outputs": [],
   "source": [
    "if--- true \n",
    "if else---true or flase\n",
    "if elif else----morethan conditions"
   ]
  },
  {
   "cell_type": "code",
   "execution_count": null,
   "id": "5996ccae",
   "metadata": {},
   "outputs": [],
   "source": [
    "one condition\n",
    "if--->"
   ]
  },
  {
   "cell_type": "code",
   "execution_count": null,
   "id": "5a3b750a",
   "metadata": {},
   "outputs": [],
   "source": [
    "syntax\n",
    "\n",
    "if condition:\n",
    "    statements\n",
    "    statements"
   ]
  },
  {
   "cell_type": "code",
   "execution_count": null,
   "id": "2edc58ee",
   "metadata": {},
   "outputs": [],
   "source": [
    "conditions\n",
    "3\n",
    "continues variable/regular variable\n",
    "comparision variable/value\n",
    "comparision operator"
   ]
  },
  {
   "cell_type": "code",
   "execution_count": 2,
   "id": "b023edac",
   "metadata": {},
   "outputs": [
    {
     "name": "stdout",
     "output_type": "stream",
     "text": [
      "No  Profit 10\n"
     ]
    }
   ],
   "source": [
    "milk_sale=10\n",
    "\n",
    "if milk_sale==10:\n",
    "    print(\"No  Profit\",milk_sale)"
   ]
  },
  {
   "cell_type": "code",
   "execution_count": null,
   "id": "07664526",
   "metadata": {},
   "outputs": [],
   "source": []
  },
  {
   "cell_type": "code",
   "execution_count": 3,
   "id": "c8c001bb",
   "metadata": {},
   "outputs": [
    {
     "data": {
      "text/plain": [
       "20"
      ]
     },
     "execution_count": 3,
     "metadata": {},
     "output_type": "execute_result"
    }
   ],
   "source": [
    "milk_sales=20\n",
    "milk_sales"
   ]
  },
  {
   "cell_type": "code",
   "execution_count": 4,
   "id": "c0b7b2c0",
   "metadata": {},
   "outputs": [
    {
     "data": {
      "text/plain": [
       "25"
      ]
     },
     "execution_count": 4,
     "metadata": {},
     "output_type": "execute_result"
    }
   ],
   "source": [
    "comparision_value=25\n",
    "comparision_value"
   ]
  },
  {
   "cell_type": "code",
   "execution_count": null,
   "id": "59674432",
   "metadata": {},
   "outputs": [],
   "source": []
  },
  {
   "cell_type": "code",
   "execution_count": 4,
   "id": "d3f2052f",
   "metadata": {},
   "outputs": [
    {
     "name": "stdout",
     "output_type": "stream",
     "text": [
      "bb\n",
      "cc\n",
      "dd\n",
      "aa\n"
     ]
    }
   ],
   "source": [
    "lst={\"aa\",\"bb\",\"cc\",\"dd\"}\n",
    "\n",
    "for S in lst:\n",
    "    print(S)"
   ]
  },
  {
   "cell_type": "code",
   "execution_count": null,
   "id": "309d3069",
   "metadata": {},
   "outputs": [],
   "source": [
    "range(st,ed,inc)"
   ]
  },
  {
   "cell_type": "code",
   "execution_count": 5,
   "id": "2a9406e4",
   "metadata": {},
   "outputs": [
    {
     "data": {
      "text/plain": [
       "range(5, 60, 3)"
      ]
     },
     "execution_count": 5,
     "metadata": {},
     "output_type": "execute_result"
    }
   ],
   "source": [
    "range(5,60,3)"
   ]
  },
  {
   "cell_type": "code",
   "execution_count": 6,
   "id": "384f82d6",
   "metadata": {},
   "outputs": [
    {
     "name": "stdout",
     "output_type": "stream",
     "text": [
      "5\n",
      "8\n",
      "11\n",
      "14\n",
      "17\n",
      "20\n",
      "23\n",
      "26\n",
      "29\n",
      "32\n",
      "35\n",
      "38\n",
      "41\n",
      "44\n",
      "47\n",
      "50\n",
      "53\n",
      "56\n",
      "59\n"
     ]
    }
   ],
   "source": [
    "range(5,60,3)\n",
    "\n",
    "for SB in range(5,60,3):\n",
    "    print(SB)"
   ]
  },
  {
   "cell_type": "code",
   "execution_count": null,
   "id": "7853cb8f",
   "metadata": {},
   "outputs": [],
   "source": []
  },
  {
   "cell_type": "code",
   "execution_count": null,
   "id": "b0d890d6",
   "metadata": {},
   "outputs": [],
   "source": []
  },
  {
   "cell_type": "code",
   "execution_count": 9,
   "id": "4dafb5c7",
   "metadata": {},
   "outputs": [
    {
     "name": "stdout",
     "output_type": "stream",
     "text": [
      "Diary Milk 120\n"
     ]
    }
   ],
   "source": [
    "Chocolates=120\n",
    "\n",
    "if Chocolates>100:\n",
    "    print(\"Diary Milk\",Chocolates)\n",
    "elif Chocolates>75:\n",
    "    print(\"Mango Chocolates\",Chocolates)\n",
    "elif Chocolates>55:\n",
    "    print(\"Coconut Chocolates\",Chocolates)\n",
    "elif  Chocolates>25:\n",
    "    print(\"Jelly  Chocolates\", Chocolates)\n",
    "else:\n",
    "    print(\"Five Star Chocolates\",Chocolates)"
   ]
  },
  {
   "cell_type": "code",
   "execution_count": 10,
   "id": "79d12cd7",
   "metadata": {},
   "outputs": [
    {
     "name": "stdout",
     "output_type": "stream",
     "text": [
      "Five Star Chocolates 20\n"
     ]
    }
   ],
   "source": [
    "Chocolates=20\n",
    "\n",
    "if Chocolates>100:\n",
    "    print(\"Diary Milk\",Chocolates)\n",
    "elif Chocolates>75:\n",
    "    print(\"Mango Chocolates\",Chocolates)\n",
    "elif Chocolates>55:\n",
    "    print(\"Coconut Chocolates\",Chocolates)\n",
    "elif  Chocolates>25:\n",
    "    print(\"Jelly  Chocolates\", Chocolates)\n",
    "else:\n",
    "    print(\"Five Star Chocolates\",Chocolates)"
   ]
  },
  {
   "cell_type": "code",
   "execution_count": 11,
   "id": "2bc008a4",
   "metadata": {},
   "outputs": [
    {
     "name": "stdout",
     "output_type": "stream",
     "text": [
      "Coconut Chocolates 70\n"
     ]
    }
   ],
   "source": [
    "Chocolates=70\n",
    "\n",
    "if Chocolates>100:\n",
    "    print(\"Diary Milk\",Chocolates)\n",
    "elif Chocolates>75:\n",
    "    print(\"Mango Chocolates\",Chocolates)\n",
    "elif Chocolates>55:\n",
    "    print(\"Coconut Chocolates\",Chocolates)\n",
    "elif  Chocolates>25:\n",
    "    print(\"Jelly  Chocolates\", Chocolates)\n",
    "else:\n",
    "    print(\"Five Star Chocolates\",Chocolates)"
   ]
  },
  {
   "cell_type": "code",
   "execution_count": 4,
   "id": "ade33d26",
   "metadata": {},
   "outputs": [
    {
     "name": "stdout",
     "output_type": "stream",
     "text": [
      "Matton delivery to Begum\n"
     ]
    }
   ],
   "source": [
    "Customer=\"Begum\"\n",
    "Nveg_food=\"Matton\"\n",
    "if Customer==\"Hamida\" and Nveg_food==\"Chicken\":\n",
    "    print(Nveg_food,\"delivery to \",Customer)\n",
    "elif Customer==\"Begum\" and Nveg_food==\"Matton\":\n",
    "    print(Nveg_food,\"delivery to\",Customer)\n",
    "else:\n",
    "    print(\"No Customer and No Food available\")\n",
    "\n"
   ]
  },
  {
   "cell_type": "code",
   "execution_count": 5,
   "id": "62e87e6e",
   "metadata": {},
   "outputs": [
    {
     "name": "stdout",
     "output_type": "stream",
     "text": [
      "Chicken delivery to  Hamida\n"
     ]
    }
   ],
   "source": [
    "Customer=\"Hamida\"\n",
    "Nveg_food=\"Chicken\"\n",
    "if Customer==\"Hamida\" and Nveg_food==\"Chicken\":\n",
    "    print(Nveg_food,\"delivery to \",Customer)\n",
    "elif Customer==\"Begum\" and Nveg_food==\"Matton\":\n",
    "    print(Nveg_food,\"delivery to\",Customer)\n",
    "else:\n",
    "    print(\"No Customer and No Food available\")\n"
   ]
  },
  {
   "cell_type": "code",
   "execution_count": null,
   "id": "dae7a79e",
   "metadata": {},
   "outputs": [],
   "source": [
    "Customer=[\"Abidunnisa\",\"Hamidunnisa\",\"Khamurunnisa\",\"Basheerunnisa\",\"Jaibunnisa\".\"Ashrafunnisa\",\"Kareemunnisa\",\"Shakeerunnisa\".\"Ameerunnisa\",\"Nazeerunnisa\"]\n",
    "Non_Veg_Foods=[\"Matton Curry\",\"Matton Khurma\",\"Chicken Curry\",\"Chicken Khurma\",\"Matton Fry\".\"Chicken Fry\",\"Fish Curry\",\"Fish Fry\",\"Prawns Curry\",\"Prawns Fry\"]"
   ]
  },
  {
   "cell_type": "code",
   "execution_count": 2,
   "id": "219ad537",
   "metadata": {},
   "outputs": [],
   "source": [
    "def Nonveg_Delivery(Nonveg):\n",
    "    \n",
    "    for Non in Nonveg:\n",
    "        if Non==\"Matton Curry\":\n",
    "            print(\"Delivery to Abidunnisa\",Non)\n",
    "        elif Non==\"Matton Khurma\":\n",
    "            print(\"Delivery to Hamidunnisa\",Non)\n",
    "        elif Non==\"Chicken_Curry\":\n",
    "            print(\"Delivery to Khamurunnisa\",Non)\n",
    "        elif Non ==\"Chicken Khurma\":\n",
    "            print(\"Delivery to Basheerunnisa\",Non)\n",
    "        elif Non==\"Matton Fry\":\n",
    "            print(\"Delivery to Jaibunnisa\",Non)\n",
    "        elif Non==\"Chicken Fry\":\n",
    "            print(\"Delivery to Ashrafunnisa\",Non)\n",
    "        elif Non==\"Fish Curry\":\n",
    "            print(\"Delivery to Kareemunnisa\",Non)\n",
    "        elif Non==\"Fish Fry\":\n",
    "            print(\"Delivery to Shakeerunnisa\",Non)\n",
    "        elif Non==\"Prawns Curry\":\n",
    "            print(\"Delivery to Ameerunnisa\",Non)\n",
    "        elif Non==\"Prawns Fry\":\n",
    "            print(\"Delivery to Nazeerunnisa\",Non)\n",
    "        else:\n",
    "            print(\"No Delivery\")\n",
    "    "
   ]
  },
  {
   "cell_type": "code",
   "execution_count": null,
   "id": "e762a347",
   "metadata": {},
   "outputs": [],
   "source": []
  },
  {
   "cell_type": "code",
   "execution_count": null,
   "id": "21f59105",
   "metadata": {},
   "outputs": [],
   "source": []
  },
  {
   "cell_type": "code",
   "execution_count": null,
   "id": "64a9be6d",
   "metadata": {},
   "outputs": [],
   "source": []
  }
 ],
 "metadata": {
  "kernelspec": {
   "display_name": "Python 3 (ipykernel)",
   "language": "python",
   "name": "python3"
  },
  "language_info": {
   "codemirror_mode": {
    "name": "ipython",
    "version": 3
   },
   "file_extension": ".py",
   "mimetype": "text/x-python",
   "name": "python",
   "nbconvert_exporter": "python",
   "pygments_lexer": "ipython3",
   "version": "3.10.9"
  }
 },
 "nbformat": 4,
 "nbformat_minor": 5
}
