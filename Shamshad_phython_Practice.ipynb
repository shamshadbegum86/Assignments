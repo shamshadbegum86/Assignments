{
 "cells": [
  {
   "cell_type": "code",
   "execution_count": 1,
   "id": "d618ba80",
   "metadata": {},
   "outputs": [],
   "source": [
    "#------------------------------->1. list[]"
   ]
  },
  {
   "cell_type": "code",
   "execution_count": 2,
   "id": "18430520",
   "metadata": {},
   "outputs": [],
   "source": [
    "#1. Create a list (friend_names) with your friend names (10 names)?"
   ]
  },
  {
   "cell_type": "code",
   "execution_count": 3,
   "id": "ab3b3ab1",
   "metadata": {},
   "outputs": [],
   "source": [
    "list=['Lalitha', 'Swapna', 'Dhanushka', 'Rajeswari', 'Sowmya', 'Devika', 'Jabeena', 'Hanima', 'Munni', 'Parveen']"
   ]
  },
  {
   "cell_type": "code",
   "execution_count": 4,
   "id": "e792dc12",
   "metadata": {},
   "outputs": [
    {
     "name": "stdout",
     "output_type": "stream",
     "text": [
      "['Lalitha', 'Swapna', 'Dhanushka', 'Rajeswari', 'Sowmya', 'Devika', 'Jabeena', 'Hanima', 'Munni', 'Parveen']\n"
     ]
    }
   ],
   "source": [
    "print(list)"
   ]
  },
  {
   "cell_type": "code",
   "execution_count": null,
   "id": "e032e1fb",
   "metadata": {},
   "outputs": [],
   "source": []
  },
  {
   "cell_type": "code",
   "execution_count": 5,
   "id": "8cf7dbed",
   "metadata": {},
   "outputs": [],
   "source": [
    "#------------------------------->2. tuple()"
   ]
  },
  {
   "cell_type": "code",
   "execution_count": 6,
   "id": "dcbfdc65",
   "metadata": {},
   "outputs": [],
   "source": [
    "#2. Create a tuple (family_members) with your family members?"
   ]
  },
  {
   "cell_type": "code",
   "execution_count": 7,
   "id": "cddc21de",
   "metadata": {},
   "outputs": [],
   "source": [
    "tuple=(\"Mohammad Ali\",\"Balkis Jaha\",\"Shahanaz Begum\",\"Abdul Haffiz\",\"Yunus Pasha\",\"Hamidunnisa\",\"Afzal Shaw\",\"Arifa\",\"Shakeela\",\"Md. Sirajuddin\")"
   ]
  },
  {
   "cell_type": "code",
   "execution_count": 8,
   "id": "9694e6f3",
   "metadata": {},
   "outputs": [
    {
     "name": "stdout",
     "output_type": "stream",
     "text": [
      "('Mohammad Ali', 'Balkis Jaha', 'Shahanaz Begum', 'Abdul Haffiz', 'Yunus Pasha', 'Hamidunnisa', 'Afzal Shaw', 'Arifa', 'Shakeela', 'Md. Sirajuddin')\n"
     ]
    }
   ],
   "source": [
    "print(tuple)"
   ]
  },
  {
   "cell_type": "code",
   "execution_count": null,
   "id": "c4473c2d",
   "metadata": {},
   "outputs": [],
   "source": []
  },
  {
   "cell_type": "code",
   "execution_count": 9,
   "id": "428a1e78",
   "metadata": {},
   "outputs": [],
   "source": [
    "#-------------------------------->3. set{}"
   ]
  },
  {
   "cell_type": "code",
   "execution_count": 10,
   "id": "f31acc04",
   "metadata": {},
   "outputs": [],
   "source": [
    "#3. Create a set (colours) with colour names(10 names)?"
   ]
  },
  {
   "cell_type": "code",
   "execution_count": 11,
   "id": "123922b1",
   "metadata": {},
   "outputs": [],
   "source": [
    "set={\"Red\",\"Green\",\"Yellow\",\"Brown\",\"White\",\"Blue\",\"Black\",\"Voilet\",\"Orange\",\"Pink\"}"
   ]
  },
  {
   "cell_type": "code",
   "execution_count": 12,
   "id": "a73f5f0a",
   "metadata": {},
   "outputs": [
    {
     "name": "stdout",
     "output_type": "stream",
     "text": [
      "{'Blue', 'Black', 'White', 'Yellow', 'Red', 'Pink', 'Voilet', 'Green', 'Brown', 'Orange'}\n"
     ]
    }
   ],
   "source": [
    "print(set)"
   ]
  },
  {
   "cell_type": "code",
   "execution_count": 13,
   "id": "b686d24f",
   "metadata": {},
   "outputs": [],
   "source": [
    "#4. month_names=[1,9,10,5,3,2,7,8,6,4] , sort the list--> write a program?"
   ]
  },
  {
   "cell_type": "code",
   "execution_count": 14,
   "id": "80e043f0",
   "metadata": {},
   "outputs": [],
   "source": [
    "set={2,4,10,5,3,7,9,1,6,8}"
   ]
  },
  {
   "cell_type": "code",
   "execution_count": 15,
   "id": "85432ecd",
   "metadata": {},
   "outputs": [
    {
     "name": "stdout",
     "output_type": "stream",
     "text": [
      "{1, 2, 3, 4, 5, 6, 7, 8, 9, 10}\n"
     ]
    }
   ],
   "source": [
    "print(set)"
   ]
  },
  {
   "cell_type": "code",
   "execution_count": null,
   "id": "6f72021d",
   "metadata": {},
   "outputs": [],
   "source": []
  },
  {
   "cell_type": "code",
   "execution_count": 1,
   "id": "bf6087df",
   "metadata": {},
   "outputs": [],
   "source": [
    "#--------------------------------->4. Dictionary{}"
   ]
  },
  {
   "cell_type": "code",
   "execution_count": null,
   "id": "812a8b11",
   "metadata": {},
   "outputs": [],
   "source": [
    "#5. Create a dict with your family members(at least 10 names)?"
   ]
  },
  {
   "cell_type": "code",
   "execution_count": 2,
   "id": "2c7f1c8a",
   "metadata": {},
   "outputs": [
    {
     "data": {
      "text/plain": [
       "{'family members': ['Mohammad Ali',\n",
       "  'Balkis Jaha',\n",
       "  'Shahanaz Begum',\n",
       "  'Abdul Haffiz',\n",
       "  'Afzal Shaw',\n",
       "  'Arifa',\n",
       "  'Md. Karamatulla',\n",
       "  'Shannu',\n",
       "  'Bhanu',\n",
       "  'Shakeela Begum',\n",
       "  'Md. Sirajuddin']}"
      ]
     },
     "execution_count": 2,
     "metadata": {},
     "output_type": "execute_result"
    }
   ],
   "source": [
    "dict={\"family members\":[\"Mohammad Ali\",\"Balkis Jaha\",\"Shahanaz Begum\",\"Abdul Haffiz\",\"Afzal Shaw\",\"Arifa\",\"Md. Karamatulla\",\"Shannu\",\"Bhanu\",\"Shakeela Begum\",\"Md. Sirajuddin\"]}\n",
    "dict"
   ]
  },
  {
   "cell_type": "code",
   "execution_count": 3,
   "id": "79a492f8",
   "metadata": {},
   "outputs": [
    {
     "data": {
      "text/plain": [
       "{'family members': ['Mohammad Ali',\n",
       "  'Balkis Jaha',\n",
       "  'Shahanaz Begum',\n",
       "  'Abdul Haffiz',\n",
       "  'Afzal Shaw',\n",
       "  'Arifa',\n",
       "  'Md. Karamatulla',\n",
       "  'Shannu',\n",
       "  'Bhanu',\n",
       "  'Shakeela Begum',\n",
       "  'Md. Sirajuddin']}"
      ]
     },
     "execution_count": 3,
     "metadata": {},
     "output_type": "execute_result"
    }
   ],
   "source": [
    "dict"
   ]
  },
  {
   "cell_type": "code",
   "execution_count": 4,
   "id": "b558fed1",
   "metadata": {},
   "outputs": [
    {
     "name": "stdout",
     "output_type": "stream",
     "text": [
      "{'family members': ['Mohammad Ali', 'Balkis Jaha', 'Shahanaz Begum', 'Abdul Haffiz', 'Afzal Shaw', 'Arifa', 'Md. Karamatulla', 'Shannu', 'Bhanu', 'Shakeela Begum', 'Md. Sirajuddin']}\n"
     ]
    }
   ],
   "source": [
    "print(dict)"
   ]
  },
  {
   "cell_type": "code",
   "execution_count": 5,
   "id": "1d418964",
   "metadata": {},
   "outputs": [
    {
     "data": {
      "text/plain": [
       "{'family members': ['Mohammad Ali',\n",
       "  'Balkis Jaha',\n",
       "  'Shahanaz Begum',\n",
       "  'Abdul Haffiz',\n",
       "  'Afzal Shaw',\n",
       "  'Arifa',\n",
       "  'Md. Karamatulla',\n",
       "  'Shannu',\n",
       "  'Bhanu',\n",
       "  'Shakeela Begum',\n",
       "  'Md. Sirajuddin'],\n",
       " 'Relation': ['Father',\n",
       "  'Mother',\n",
       "  'Sister',\n",
       "  'Brother-in-law',\n",
       "  'Brother',\n",
       "  'Sister-in-law',\n",
       "  'Husbend',\n",
       "  'Daughter',\n",
       "  'Daughter',\n",
       "  'Sister',\n",
       "  'Brother-in-law']}"
      ]
     },
     "execution_count": 5,
     "metadata": {},
     "output_type": "execute_result"
    }
   ],
   "source": [
    "dict={\"family members\":[\"Mohammad Ali\",\"Balkis Jaha\",\"Shahanaz Begum\",\"Abdul Haffiz\",\"Afzal Shaw\",\"Arifa\",\"Md. Karamatulla\",\"Shannu\",\"Bhanu\",\"Shakeela Begum\",\"Md. Sirajuddin\"],\"Relation\":[\"Father\",\"Mother\",\"Sister\",\"Brother-in-law\",\"Brother\",\"Sister-in-law\",\"Husbend\",\"Daughter\",\"Daughter\",\"Sister\",\"Brother-in-law\"]}\n",
    "dict"
   ]
  },
  {
   "cell_type": "code",
   "execution_count": 6,
   "id": "1b7306a1",
   "metadata": {},
   "outputs": [
    {
     "name": "stdout",
     "output_type": "stream",
     "text": [
      "{'family members': ['Mohammad Ali', 'Balkis Jaha', 'Shahanaz Begum', 'Abdul Haffiz', 'Afzal Shaw', 'Arifa', 'Md. Karamatulla', 'Shannu', 'Bhanu', 'Shakeela Begum', 'Md. Sirajuddin'], 'Relation': ['Father', 'Mother', 'Sister', 'Brother-in-law', 'Brother', 'Sister-in-law', 'Husbend', 'Daughter', 'Daughter', 'Sister', 'Brother-in-law']}\n"
     ]
    }
   ],
   "source": [
    "print(dict)"
   ]
  },
  {
   "cell_type": "code",
   "execution_count": 7,
   "id": "0a42073e",
   "metadata": {},
   "outputs": [
    {
     "data": {
      "text/html": [
       "<div>\n",
       "<style scoped>\n",
       "    .dataframe tbody tr th:only-of-type {\n",
       "        vertical-align: middle;\n",
       "    }\n",
       "\n",
       "    .dataframe tbody tr th {\n",
       "        vertical-align: top;\n",
       "    }\n",
       "\n",
       "    .dataframe thead th {\n",
       "        text-align: right;\n",
       "    }\n",
       "</style>\n",
       "<table border=\"1\" class=\"dataframe\">\n",
       "  <thead>\n",
       "    <tr style=\"text-align: right;\">\n",
       "      <th></th>\n",
       "      <th>family members</th>\n",
       "      <th>Relation</th>\n",
       "    </tr>\n",
       "  </thead>\n",
       "  <tbody>\n",
       "    <tr>\n",
       "      <th>0</th>\n",
       "      <td>Mohammad Ali</td>\n",
       "      <td>Father</td>\n",
       "    </tr>\n",
       "    <tr>\n",
       "      <th>1</th>\n",
       "      <td>Balkis Jaha</td>\n",
       "      <td>Mother</td>\n",
       "    </tr>\n",
       "    <tr>\n",
       "      <th>2</th>\n",
       "      <td>Shahanaz Begum</td>\n",
       "      <td>Sister</td>\n",
       "    </tr>\n",
       "    <tr>\n",
       "      <th>3</th>\n",
       "      <td>Abdul Haffiz</td>\n",
       "      <td>Brother-in-law</td>\n",
       "    </tr>\n",
       "    <tr>\n",
       "      <th>4</th>\n",
       "      <td>Afzal Shaw</td>\n",
       "      <td>Brother</td>\n",
       "    </tr>\n",
       "    <tr>\n",
       "      <th>5</th>\n",
       "      <td>Arifa</td>\n",
       "      <td>Sister-in-law</td>\n",
       "    </tr>\n",
       "    <tr>\n",
       "      <th>6</th>\n",
       "      <td>Md. Karamatulla</td>\n",
       "      <td>Husbend</td>\n",
       "    </tr>\n",
       "    <tr>\n",
       "      <th>7</th>\n",
       "      <td>Shannu</td>\n",
       "      <td>Daughter</td>\n",
       "    </tr>\n",
       "    <tr>\n",
       "      <th>8</th>\n",
       "      <td>Bhanu</td>\n",
       "      <td>Daughter</td>\n",
       "    </tr>\n",
       "    <tr>\n",
       "      <th>9</th>\n",
       "      <td>Shakeela Begum</td>\n",
       "      <td>Sister</td>\n",
       "    </tr>\n",
       "    <tr>\n",
       "      <th>10</th>\n",
       "      <td>Md. Sirajuddin</td>\n",
       "      <td>Brother-in-law</td>\n",
       "    </tr>\n",
       "  </tbody>\n",
       "</table>\n",
       "</div>"
      ],
      "text/plain": [
       "     family members        Relation\n",
       "0      Mohammad Ali          Father\n",
       "1       Balkis Jaha          Mother\n",
       "2    Shahanaz Begum          Sister\n",
       "3      Abdul Haffiz  Brother-in-law\n",
       "4        Afzal Shaw         Brother\n",
       "5             Arifa   Sister-in-law\n",
       "6   Md. Karamatulla         Husbend\n",
       "7            Shannu        Daughter\n",
       "8             Bhanu        Daughter\n",
       "9    Shakeela Begum          Sister\n",
       "10   Md. Sirajuddin  Brother-in-law"
      ]
     },
     "execution_count": 7,
     "metadata": {},
     "output_type": "execute_result"
    }
   ],
   "source": [
    "import pandas as pd\n",
    "df=pd.DataFrame(dict)\n",
    "df"
   ]
  },
  {
   "cell_type": "code",
   "execution_count": 8,
   "id": "91b8fecc",
   "metadata": {},
   "outputs": [
    {
     "data": {
      "text/plain": [
       "Index(['family members', 'Relation'], dtype='object')"
      ]
     },
     "execution_count": 8,
     "metadata": {},
     "output_type": "execute_result"
    }
   ],
   "source": [
    "df.keys()"
   ]
  },
  {
   "cell_type": "code",
   "execution_count": null,
   "id": "9a5021c8",
   "metadata": {},
   "outputs": [],
   "source": []
  },
  {
   "cell_type": "code",
   "execution_count": 9,
   "id": "a8c2437f",
   "metadata": {},
   "outputs": [],
   "source": [
    "#------------------------5. slicing"
   ]
  },
  {
   "cell_type": "code",
   "execution_count": 10,
   "id": "6c388e54",
   "metadata": {},
   "outputs": [
    {
     "data": {
      "text/plain": [
       "'Mohammad Ali'"
      ]
     },
     "execution_count": 10,
     "metadata": {},
     "output_type": "execute_result"
    }
   ],
   "source": [
    "df[\"family members\"][0]"
   ]
  },
  {
   "cell_type": "code",
   "execution_count": 11,
   "id": "7a4c9e77",
   "metadata": {},
   "outputs": [
    {
     "data": {
      "text/plain": [
       "'Balkis Jaha'"
      ]
     },
     "execution_count": 11,
     "metadata": {},
     "output_type": "execute_result"
    }
   ],
   "source": [
    "df[\"family members\"][1]"
   ]
  },
  {
   "cell_type": "code",
   "execution_count": 12,
   "id": "363f3497",
   "metadata": {
    "scrolled": false
   },
   "outputs": [
    {
     "data": {
      "text/plain": [
       "'Father'"
      ]
     },
     "execution_count": 12,
     "metadata": {},
     "output_type": "execute_result"
    }
   ],
   "source": [
    "df[\"Relation\"][0]"
   ]
  },
  {
   "cell_type": "code",
   "execution_count": 13,
   "id": "90f5af32",
   "metadata": {},
   "outputs": [
    {
     "data": {
      "text/plain": [
       "'Mother'"
      ]
     },
     "execution_count": 13,
     "metadata": {},
     "output_type": "execute_result"
    }
   ],
   "source": [
    "df[\"Relation\"][1]"
   ]
  },
  {
   "cell_type": "code",
   "execution_count": 14,
   "id": "0516f944",
   "metadata": {},
   "outputs": [
    {
     "data": {
      "text/plain": [
       "'Md. Karamatulla'"
      ]
     },
     "execution_count": 14,
     "metadata": {},
     "output_type": "execute_result"
    }
   ],
   "source": [
    "df[\"family members\"][6]"
   ]
  },
  {
   "cell_type": "code",
   "execution_count": 15,
   "id": "1c6858b3",
   "metadata": {},
   "outputs": [
    {
     "data": {
      "text/plain": [
       "'Husbend'"
      ]
     },
     "execution_count": 15,
     "metadata": {},
     "output_type": "execute_result"
    }
   ],
   "source": [
    "df[\"Relation\"][6]"
   ]
  },
  {
   "cell_type": "code",
   "execution_count": 16,
   "id": "a3042699",
   "metadata": {},
   "outputs": [
    {
     "data": {
      "text/plain": [
       "'Bhanu'"
      ]
     },
     "execution_count": 16,
     "metadata": {},
     "output_type": "execute_result"
    }
   ],
   "source": [
    "df[\"family members\"][8]"
   ]
  },
  {
   "cell_type": "code",
   "execution_count": 17,
   "id": "ac43a90a",
   "metadata": {},
   "outputs": [
    {
     "data": {
      "text/plain": [
       "'Daughter'"
      ]
     },
     "execution_count": 17,
     "metadata": {},
     "output_type": "execute_result"
    }
   ],
   "source": [
    "df[\"Relation\"][8]"
   ]
  },
  {
   "cell_type": "code",
   "execution_count": 18,
   "id": "595faf15",
   "metadata": {},
   "outputs": [
    {
     "data": {
      "text/plain": [
       "0      Mohammad Ali\n",
       "1       Balkis Jaha\n",
       "2    Shahanaz Begum\n",
       "3      Abdul Haffiz\n",
       "4        Afzal Shaw\n",
       "5             Arifa\n",
       "Name: family members, dtype: object"
      ]
     },
     "execution_count": 18,
     "metadata": {},
     "output_type": "execute_result"
    }
   ],
   "source": [
    "df[\"family members\"][0:6]"
   ]
  },
  {
   "cell_type": "code",
   "execution_count": 19,
   "id": "4c366389",
   "metadata": {},
   "outputs": [
    {
     "data": {
      "text/plain": [
       "0            Father\n",
       "1            Mother\n",
       "2           Sistetr\n",
       "3    Brother-in-law\n",
       "4           Brother\n",
       "5     Sister-in-law\n",
       "Name: Relation, dtype: object"
      ]
     },
     "execution_count": 19,
     "metadata": {},
     "output_type": "execute_result"
    }
   ],
   "source": [
    "df[\"Relation\"][0:6]"
   ]
  },
  {
   "cell_type": "code",
   "execution_count": 20,
   "id": "6fe2d1e6",
   "metadata": {},
   "outputs": [
    {
     "data": {
      "text/plain": [
       "6     Md. Karamatulla\n",
       "7              Shannu\n",
       "8               Bhanu\n",
       "9      Shakeela Begum\n",
       "10     Md. Sirajuddin\n",
       "Name: family members, dtype: object"
      ]
     },
     "execution_count": 20,
     "metadata": {},
     "output_type": "execute_result"
    }
   ],
   "source": [
    "df[\"family members\"][6:11]"
   ]
  },
  {
   "cell_type": "code",
   "execution_count": 21,
   "id": "5e5109b4",
   "metadata": {},
   "outputs": [
    {
     "data": {
      "text/plain": [
       "6            Husbend\n",
       "7           Daughter\n",
       "8           Daughter\n",
       "9             Sister\n",
       "10    Brother-in-law\n",
       "Name: Relation, dtype: object"
      ]
     },
     "execution_count": 21,
     "metadata": {},
     "output_type": "execute_result"
    }
   ],
   "source": [
    "df[\"Relation\"][6:11]"
   ]
  },
  {
   "cell_type": "code",
   "execution_count": 22,
   "id": "586daf01",
   "metadata": {},
   "outputs": [
    {
     "data": {
      "text/plain": [
       "0      Mohammad Ali\n",
       "1       Balkis Jaha\n",
       "2    Shahanaz Begum\n",
       "3      Abdul Haffiz\n",
       "4        Afzal Shaw\n",
       "5             Arifa\n",
       "Name: family members, dtype: object"
      ]
     },
     "execution_count": 22,
     "metadata": {},
     "output_type": "execute_result"
    }
   ],
   "source": [
    "df[\"family members\"][:-5]"
   ]
  },
  {
   "cell_type": "code",
   "execution_count": 23,
   "id": "2d24fcce",
   "metadata": {},
   "outputs": [
    {
     "data": {
      "text/plain": [
       "0            Father\n",
       "1            Mother\n",
       "2           Sistetr\n",
       "3    Brother-in-law\n",
       "4           Brother\n",
       "5     Sister-in-law\n",
       "Name: Relation, dtype: object"
      ]
     },
     "execution_count": 23,
     "metadata": {},
     "output_type": "execute_result"
    }
   ],
   "source": [
    "df[\"Relation\"][:-5]"
   ]
  },
  {
   "cell_type": "code",
   "execution_count": 24,
   "id": "d232a23b",
   "metadata": {},
   "outputs": [
    {
     "data": {
      "text/plain": [
       "6     Md. Karamatulla\n",
       "7              Shannu\n",
       "8               Bhanu\n",
       "9      Shakeela Begum\n",
       "10     Md. Sirajuddin\n",
       "Name: family members, dtype: object"
      ]
     },
     "execution_count": 24,
     "metadata": {},
     "output_type": "execute_result"
    }
   ],
   "source": [
    "df[\"family members\"][-5:]"
   ]
  },
  {
   "cell_type": "code",
   "execution_count": 25,
   "id": "82dfc6c2",
   "metadata": {},
   "outputs": [
    {
     "data": {
      "text/plain": [
       "6            Husbend\n",
       "7           Daughter\n",
       "8           Daughter\n",
       "9             Sister\n",
       "10    Brother-in-law\n",
       "Name: Relation, dtype: object"
      ]
     },
     "execution_count": 25,
     "metadata": {},
     "output_type": "execute_result"
    }
   ],
   "source": [
    "df[\"Relation\"][-5:]"
   ]
  },
  {
   "cell_type": "code",
   "execution_count": 26,
   "id": "0b4ecd8f",
   "metadata": {},
   "outputs": [
    {
     "data": {
      "text/plain": [
       "6    Md. Karamatulla\n",
       "7             Shannu\n",
       "8              Bhanu\n",
       "Name: family members, dtype: object"
      ]
     },
     "execution_count": 26,
     "metadata": {},
     "output_type": "execute_result"
    }
   ],
   "source": [
    "df[\"family members\"][6:9]"
   ]
  },
  {
   "cell_type": "code",
   "execution_count": 27,
   "id": "1bb70c2e",
   "metadata": {},
   "outputs": [
    {
     "data": {
      "text/plain": [
       "6     Husbend\n",
       "7    Daughter\n",
       "8    Daughter\n",
       "Name: Relation, dtype: object"
      ]
     },
     "execution_count": 27,
     "metadata": {},
     "output_type": "execute_result"
    }
   ],
   "source": [
    "df[\"Relation\"][6:9]"
   ]
  },
  {
   "cell_type": "code",
   "execution_count": null,
   "id": "8d840a2d",
   "metadata": {},
   "outputs": [],
   "source": []
  },
  {
   "cell_type": "code",
   "execution_count": 1,
   "id": "018523d1",
   "metadata": {},
   "outputs": [],
   "source": [
    "#------------------------->6.conditions"
   ]
  },
  {
   "cell_type": "code",
   "execution_count": null,
   "id": "59386f26",
   "metadata": {},
   "outputs": [],
   "source": [
    "1.#Write a program,  my age is more than 20 print teen_age other wise print younge_age?\n",
    "#a.my_age is 20, who am i? Expected output: you are teen_age\n",
    "#b.my_age is 30, who am i? Expected output: you are younge_age\n",
    "#c.my_age is 10, who am i? \n",
    "#d.my_age is 40, who am i? "
   ]
  },
  {
   "cell_type": "code",
   "execution_count": 2,
   "id": "34368b57",
   "metadata": {},
   "outputs": [
    {
     "name": "stdout",
     "output_type": "stream",
     "text": [
      "You are Teen_age\n"
     ]
    }
   ],
   "source": [
    "my_age=20\n",
    "\n",
    "if my_age==20:\n",
    "    print(\"You are Teen_age\")\n",
    "else:\n",
    "    print(\"You are Younge_age\")"
   ]
  },
  {
   "cell_type": "code",
   "execution_count": 3,
   "id": "43edfffa",
   "metadata": {},
   "outputs": [
    {
     "name": "stdout",
     "output_type": "stream",
     "text": [
      "You are Younge_age\n"
     ]
    }
   ],
   "source": [
    "my_age=30\n",
    "\n",
    "if my_age==30:\n",
    "    print(\"You are Younge_age\")\n",
    "else:\n",
    "    print(\"You are Teen_age\")"
   ]
  },
  {
   "cell_type": "code",
   "execution_count": 4,
   "id": "1b0ecf6f",
   "metadata": {},
   "outputs": [
    {
     "name": "stdout",
     "output_type": "stream",
     "text": [
      "You are Children\n"
     ]
    }
   ],
   "source": [
    "my_age=10\n",
    "\n",
    "if my_age==10:\n",
    "    print(\"You are Children\")\n",
    "else:\n",
    "    print(\"You are Younge_age\")"
   ]
  },
  {
   "cell_type": "code",
   "execution_count": 5,
   "id": "b719e953",
   "metadata": {},
   "outputs": [
    {
     "name": "stdout",
     "output_type": "stream",
     "text": [
      "You are Middle_age\n"
     ]
    }
   ],
   "source": [
    "my_age=40\n",
    "\n",
    "if my_age==40:\n",
    "    print(\"You are Middle_age\")\n",
    "else:\n",
    "    print(\"You are Younge_age\")"
   ]
  },
  {
   "cell_type": "code",
   "execution_count": null,
   "id": "4afd4bcb",
   "metadata": {},
   "outputs": [],
   "source": []
  },
  {
   "cell_type": "code",
   "execution_count": 6,
   "id": "180006f3",
   "metadata": {},
   "outputs": [
    {
     "name": "stdout",
     "output_type": "stream",
     "text": [
      "Weekday\n"
     ]
    }
   ],
   "source": [
    "#2.Write a program today is Monday/Tuesday/Wendsday/Thursday/Friday print weekday otherwise print weekend?\n",
    "\n",
    "Today=\"Monday\"\n",
    "\n",
    "if Today==\"Monday\":\n",
    "    print(\"Weekday\")\n",
    "    \n",
    "elif Today==\"Tuesday\":\n",
    "    print(\"Weekday\")  \n",
    "    \n",
    "elif Today==\"Wendsday\":\n",
    "    print(\"Weekday\")  \n",
    "    \n",
    "elif Today==\"Thursday\":\n",
    "    print(\"Weekday\")  \n",
    "    \n",
    "elif Today==\"Friday\":\n",
    "    print(\"Weekday\")  \n",
    "    \n",
    "else:\n",
    "    print(\"Weekend\")         "
   ]
  },
  {
   "cell_type": "code",
   "execution_count": 7,
   "id": "f3dd8d1e",
   "metadata": {},
   "outputs": [
    {
     "name": "stdout",
     "output_type": "stream",
     "text": [
      "Weekend\n"
     ]
    }
   ],
   "source": [
    "\n",
    "Today=\"Saturday\"\n",
    "\n",
    "if Today==\"Monday\":\n",
    "    print(\"Weekday\")\n",
    "    \n",
    "elif Today==\"Tuesday\":\n",
    "    print(\"Weekday\")  \n",
    "    \n",
    "elif Today==\"Wendsday\":\n",
    "    print(\"Weekday\")  \n",
    "    \n",
    "elif Today==\"Thursday\":\n",
    "    print(\"Weekday\")  \n",
    "    \n",
    "elif Today==\"Friday\":\n",
    "    print(\"Weekday\")  \n",
    "    \n",
    "else:\n",
    "    print(\"Weekend\")     "
   ]
  },
  {
   "cell_type": "code",
   "execution_count": 8,
   "id": "44b6b359",
   "metadata": {},
   "outputs": [
    {
     "name": "stdout",
     "output_type": "stream",
     "text": [
      "Weekday\n"
     ]
    }
   ],
   "source": [
    "Today=\"Friday\"\n",
    "\n",
    "if Today==\"Monday\":\n",
    "    print(\"Weekday\")\n",
    "    \n",
    "elif Today==\"Tuesday\":\n",
    "    print(\"Weekday\")  \n",
    "    \n",
    "elif Today==\"Wendsday\":\n",
    "    print(\"Weekday\")  \n",
    "    \n",
    "elif Today==\"Thursday\":\n",
    "    print(\"Weekday\")  \n",
    "    \n",
    "elif Today==\"Friday\":\n",
    "    print(\"Weekday\")  \n",
    "    \n",
    "else:\n",
    "    print(\"Weekend\")  "
   ]
  },
  {
   "cell_type": "code",
   "execution_count": null,
   "id": "66f7a049",
   "metadata": {},
   "outputs": [],
   "source": []
  },
  {
   "cell_type": "code",
   "execution_count": 9,
   "id": "f03cc3c1",
   "metadata": {},
   "outputs": [
    {
     "name": "stdout",
     "output_type": "stream",
     "text": [
      "I Lost\n"
     ]
    }
   ],
   "source": [
    "#Task_3:\n",
    "#Scenario1: Today my business income is 10/- if my income is more than 10/- then print \"i am profitable\" otherwise print \"i lost\"\n",
    "#ఈ రోజు నా ఆదాయం 10. నా ఆదాయం 10 కంటే ఎక్కువ ఉంటే ప్రింట్ నేను లాభదాయకంగా ఉన్నాను లేకపోతే నేను పోగొట్టుకున్నాను.\n",
    "\n",
    "My_income=10\n",
    "\n",
    "if My_income>10:\n",
    "    print(\"I am Profitable\")\n",
    "else:\n",
    "    print(\"I Lost\")"
   ]
  },
  {
   "cell_type": "code",
   "execution_count": 10,
   "id": "589c1246",
   "metadata": {},
   "outputs": [
    {
     "name": "stdout",
     "output_type": "stream",
     "text": [
      "I am Profitable\n"
     ]
    }
   ],
   "source": [
    "My_income=60\n",
    "\n",
    "if My_income>10:\n",
    "    print(\"I am Profitable\")\n",
    "else:\n",
    "    print(\"I Lost\")"
   ]
  },
  {
   "cell_type": "code",
   "execution_count": 11,
   "id": "685f28ba",
   "metadata": {},
   "outputs": [
    {
     "name": "stdout",
     "output_type": "stream",
     "text": [
      "I am Elder\n"
     ]
    }
   ],
   "source": [
    "#Scenario2: your age is more than your sister age then print \"i am elder\" otherwise print \"i am younger\"\n",
    "#మీ వయస్సు మీ సోదరి వయస్సు కంటే ఎక్కువగా ఉంటే, నేను పెద్దవాడిని అని ముద్రించండి లేకపోతే నేను చిన్నవాడిని అని ముద్రించండి\n",
    "\n",
    "Your_age=35\n",
    "Sister_age=25\n",
    "\n",
    "if Your_age>Sister_age:\n",
    "    \n",
    "    print(\"I am Elder\")\n",
    "else:\n",
    "    print(\"I am Younger\")"
   ]
  },
  {
   "cell_type": "code",
   "execution_count": 12,
   "id": "5ff059d3",
   "metadata": {},
   "outputs": [
    {
     "name": "stdout",
     "output_type": "stream",
     "text": [
      "I am Younger\n"
     ]
    }
   ],
   "source": [
    "Your_age=35\n",
    "Sister_age=45\n",
    "\n",
    "if Your_age>Sister_age:\n",
    "    \n",
    "    print(\"I am Elder\")\n",
    "else:\n",
    "    print(\"I am Younger\")"
   ]
  },
  {
   "cell_type": "code",
   "execution_count": null,
   "id": "db44fb15",
   "metadata": {},
   "outputs": [],
   "source": []
  },
  {
   "cell_type": "code",
   "execution_count": 13,
   "id": "8aec98b6",
   "metadata": {},
   "outputs": [
    {
     "name": "stdout",
     "output_type": "stream",
     "text": [
      "Discount : 30%\n"
     ]
    }
   ],
   "source": [
    "#Scenario3:festival offer in my shop. \n",
    "#purchase amount more than 100 then print 30% discount.\n",
    "# purchase amount less than 50 then print 10% discount \n",
    "#otherwise print 20% discount.\t\n",
    "# నా దుకాణంలో పండుగ ఆఫర్. కొనుగోలు మొత్తం 100 కంటే ఎక్కువ, ఆపై ప్రింట్ 30% తగ్గింపు. 50 కంటే తక్కువ మొత్తాన్ని కొనుగోలు చేసి, ఆపై 10% తగ్గింపును ప్రింట్ చేయండి లేకపోతే 20% తగ్గింపును ప్రింట్ చేయండి\n",
    "#मेरी दुकान में त्योहार की पेशकश। खरीद राशि 100 से अधिक तो 30% छूट प्रिंट करें। खरीद राशि 50 से कम है तो 10%\n",
    "\n",
    "Pur_amount=150\n",
    "\n",
    "if Pur_amount>100:\n",
    "    \n",
    "    print(\"Discount : 30%\")\n",
    "    \n",
    "elif Pur_amount<50:\n",
    "    \n",
    "    print(\"Discount : 10%\")\n",
    "    \n",
    "else:\n",
    "    print(\"Discount : 20%\")"
   ]
  },
  {
   "cell_type": "code",
   "execution_count": 14,
   "id": "9ff2d139",
   "metadata": {},
   "outputs": [
    {
     "name": "stdout",
     "output_type": "stream",
     "text": [
      "Discount : 10%\n"
     ]
    }
   ],
   "source": [
    "Pur_amount=40\n",
    "\n",
    "if Pur_amount>100:\n",
    "    \n",
    "    print(\"Discount : 30%\")\n",
    "    \n",
    "elif Pur_amount<50:\n",
    "    \n",
    "    print(\"Discount : 10%\")\n",
    "    \n",
    "else:\n",
    "    print(\"Discount : 20%\")"
   ]
  },
  {
   "cell_type": "code",
   "execution_count": 15,
   "id": "42d1e534",
   "metadata": {},
   "outputs": [
    {
     "name": "stdout",
     "output_type": "stream",
     "text": [
      "Discount : 20%\n"
     ]
    }
   ],
   "source": [
    "Pur_amount=80\n",
    "\n",
    "if Pur_amount>100:\n",
    "    \n",
    "    print(\"Discount : 30%\")\n",
    "    \n",
    "elif Pur_amount<50:\n",
    "    \n",
    "    print(\"Discount : 10%\")\n",
    "    \n",
    "else:\n",
    "    print(\"Discount : 20%\")"
   ]
  },
  {
   "cell_type": "code",
   "execution_count": null,
   "id": "63c5f624",
   "metadata": {},
   "outputs": [],
   "source": []
  },
  {
   "cell_type": "code",
   "execution_count": 17,
   "id": "9f1840fc",
   "metadata": {},
   "outputs": [
    {
     "name": "stdout",
     "output_type": "stream",
     "text": [
      "Bench\n"
     ]
    }
   ],
   "source": [
    "#Scenario4:my movie theater prices. price is 140 print balcony. price is 50 print chair. price is 100 print bench\n",
    " #నా సినిమా థియేటర్ ధరలు. ధర 140 ప్రింట్ బాల్కనీ. ధర 50 ప్రింట్ కుర్చీ. ధర 100 ప్రింట్ బెంచ్\n",
    "    \n",
    "Price=100\n",
    "\n",
    "if Price==140:\n",
    "    \n",
    "    print(\"Balcony\")\n",
    "    \n",
    "elif Price==50:\n",
    "    \n",
    "    print(\"Chair\")\n",
    "    \n",
    "elif Price==100:\n",
    "    \n",
    "    print(\"Bench\")        "
   ]
  },
  {
   "cell_type": "code",
   "execution_count": 19,
   "id": "b7dc8fb6",
   "metadata": {},
   "outputs": [
    {
     "name": "stdout",
     "output_type": "stream",
     "text": [
      "Balcony\n"
     ]
    }
   ],
   "source": [
    "Price=140\n",
    "\n",
    "if Price==140:\n",
    "    \n",
    "    print(\"Balcony\")\n",
    "    \n",
    "elif Price==50:\n",
    "    \n",
    "    print(\"Chair\")\n",
    "    \n",
    "elif Price==100:\n",
    "    \n",
    "    print(\"Bench\")        "
   ]
  },
  {
   "cell_type": "code",
   "execution_count": 20,
   "id": "d4cedfc8",
   "metadata": {},
   "outputs": [
    {
     "name": "stdout",
     "output_type": "stream",
     "text": [
      "Chair\n"
     ]
    }
   ],
   "source": [
    "Price=50\n",
    "\n",
    "if Price==140:\n",
    "    \n",
    "    print(\"Balcony\")\n",
    "    \n",
    "elif Price==50:\n",
    "    \n",
    "    print(\"Chair\")\n",
    "    \n",
    "elif Price==100:\n",
    "    \n",
    "    print(\"Bench\")        "
   ]
  },
  {
   "cell_type": "code",
   "execution_count": null,
   "id": "908e2e8d",
   "metadata": {},
   "outputs": [],
   "source": []
  },
  {
   "cell_type": "code",
   "execution_count": 21,
   "id": "789f6c4c",
   "metadata": {},
   "outputs": [
    {
     "name": "stdout",
     "output_type": "stream",
     "text": [
      "Bike and Scooty\n"
     ]
    }
   ],
   "source": [
    "#Scenario5: my showroom vehicle types. \n",
    "#if vehicle type is two wheeler print bike and scooty. \n",
    "#if vehicle type is four wheeler print car, loory, van and zeep\n",
    "#నా షోరూమ్ వాహనాల రకాలు. వాహనం రకం టూ వీలర్ ప్రింట్ బైక్ మరియు స్కూటీ అయితే. వాహనం రకం ఫోర్ వీలర్ ప్రింట్ కారు అయితే, లూరీ, వ్యాన్ మరియు జీప్\n",
    "\n",
    "Vehicle=\"Two Wheeler\"\n",
    "\n",
    "if Vehicle==\"Two Wheeler\":\n",
    "    \n",
    "    print(\"Bike and Scooty\")\n",
    "    \n",
    "elif Vehicle==\"Four Wheeler\":\n",
    "    \n",
    "    print(\"Car, Loory, Van and Zeep\")\n",
    "    \n",
    "else:\n",
    "     print(\"No Available\")\n",
    "     "
   ]
  },
  {
   "cell_type": "code",
   "execution_count": 22,
   "id": "2efffe83",
   "metadata": {},
   "outputs": [
    {
     "name": "stdout",
     "output_type": "stream",
     "text": [
      "Bike and Scooty\n"
     ]
    }
   ],
   "source": [
    "Vehicle=\"Two Wheeler\"\n",
    "\n",
    "if Vehicle==\"Two Wheeler\":\n",
    "    \n",
    "    print(\"Bike and Scooty\")\n",
    "    \n",
    "else:\n",
    "    \n",
    "    print(\"Car, Loory, Van and Zeep\")\n",
    "    "
   ]
  },
  {
   "cell_type": "code",
   "execution_count": 23,
   "id": "88f66fa6",
   "metadata": {},
   "outputs": [
    {
     "name": "stdout",
     "output_type": "stream",
     "text": [
      "Car, Loory, Van and Zeep\n"
     ]
    }
   ],
   "source": [
    "Vehicle=\"Four Wheeler\"\n",
    "\n",
    "if Vehicle==\"Two Wheeler\":\n",
    "    \n",
    "    print(\"Bike and Scooty\")\n",
    "    \n",
    "else:\n",
    "    \n",
    "    print(\"Car, Loory, Van and Zeep\")"
   ]
  },
  {
   "cell_type": "code",
   "execution_count": null,
   "id": "37c1b75b",
   "metadata": {},
   "outputs": [],
   "source": []
  },
  {
   "cell_type": "code",
   "execution_count": 24,
   "id": "4fc4204f",
   "metadata": {},
   "outputs": [],
   "source": [
    "#-------------------->7. list[] ---------> with in  loops "
   ]
  },
  {
   "cell_type": "code",
   "execution_count": 26,
   "id": "69ef116f",
   "metadata": {},
   "outputs": [
    {
     "name": "stdout",
     "output_type": "stream",
     "text": [
      "************* My Friend Name is ************* Lalitha\n",
      "************* My Friend Name is ************* Swapna\n",
      "************* My Friend Name is ************* Dhanushka\n",
      "************* My Friend Name is ************* Rajeswari\n",
      "************* My Friend Name is ************* Sowmya\n",
      "************* My Friend Name is ************* Devika\n",
      "************* My Friend Name is ************* Jabeena\n",
      "************* My Friend Name is ************* Hanima\n",
      "************* My Friend Name is ************* Munni\n",
      "************* My Friend Name is ************* Parveen\n"
     ]
    }
   ],
   "source": [
    "#1.Create a list(friend_names) with your friends names(atleaste 10 names)?\n",
    "#print all names with in loop \n",
    "#Expected Output: my friend name is \"ravi\"\n",
    "#my friend name is \"shanker\"\n",
    "\n",
    "list=[\"Lalitha\",\"Swapna\",\"Dhanushka\",\"Rajeswari\",\"Sowmya\",\"Devika\",\"Jabeena\",\"Hanima\",\"Munni\",\"Parveen\"]\n",
    "\n",
    "for friend_names in list:\n",
    "    \n",
    "    print(\"************* My Friend Name is *************\",friend_names)"
   ]
  },
  {
   "cell_type": "code",
   "execution_count": 27,
   "id": "76ca16a0",
   "metadata": {},
   "outputs": [
    {
     "name": "stdout",
     "output_type": "stream",
     "text": [
      "&&&&&&&&&&&&&& My Family Members Names are &&&&&&&&&&&&&&& Mohammad Ali\n",
      "&&&&&&&&&&&&&& My Family Members Names are &&&&&&&&&&&&&&& Balkis Jaha\n",
      "&&&&&&&&&&&&&& My Family Members Names are &&&&&&&&&&&&&&& Shahanaz Begum\n",
      "&&&&&&&&&&&&&& My Family Members Names are &&&&&&&&&&&&&&& Abdul Haffiz\n",
      "&&&&&&&&&&&&&& My Family Members Names are &&&&&&&&&&&&&&& Afzal Shaw\n",
      "&&&&&&&&&&&&&& My Family Members Names are &&&&&&&&&&&&&&& Arifa\n",
      "&&&&&&&&&&&&&& My Family Members Names are &&&&&&&&&&&&&&& Md. Karamatulla\n",
      "&&&&&&&&&&&&&& My Family Members Names are &&&&&&&&&&&&&&& Shannu\n",
      "&&&&&&&&&&&&&& My Family Members Names are &&&&&&&&&&&&&&& Bhanu\n",
      "&&&&&&&&&&&&&& My Family Members Names are &&&&&&&&&&&&&&& Shakeela Begum\n",
      "&&&&&&&&&&&&&& My Family Members Names are &&&&&&&&&&&&&&& Md. Sirajuddin\n"
     ]
    }
   ],
   "source": [
    "#2.Create a list(family_members) with your family members names(atleaste 10 names)?\n",
    "#print all names with in loop \n",
    "\n",
    "list=[\"Mohammad Ali\",\"Balkis Jaha\",\"Shahanaz Begum\",\"Abdul Haffiz\",\"Afzal Shaw\",\"Arifa\",\"Md. Karamatulla\",\"Shannu\",\"Bhanu\",\"Shakeela Begum\",\"Md. Sirajuddin\"]\n",
    "\n",
    "for Shamshad in list:\n",
    "    \n",
    "    print(\"&&&&&&&&&&&&&& My Family Members Names are &&&&&&&&&&&&&&&\",Shamshad)"
   ]
  },
  {
   "cell_type": "code",
   "execution_count": 28,
   "id": "636aa018",
   "metadata": {},
   "outputs": [
    {
     "name": "stdout",
     "output_type": "stream",
     "text": [
      "%%%%%%%%%%%%%%%%%% My Favorite Veg Food Names %%%%%%%%%%%%%%%% Tomato\n",
      "%%%%%%%%%%%%%%%%%% My Favorite Veg Food Names %%%%%%%%%%%%%%%% Lady's finger\n",
      "%%%%%%%%%%%%%%%%%% My Favorite Veg Food Names %%%%%%%%%%%%%%%% Brinjal\n",
      "%%%%%%%%%%%%%%%%%% My Favorite Veg Food Names %%%%%%%%%%%%%%%% Potato\n",
      "%%%%%%%%%%%%%%%%%% My Favorite Veg Food Names %%%%%%%%%%%%%%%% Bitter gourd\n",
      "%%%%%%%%%%%%%%%%%% My Favorite Veg Food Names %%%%%%%%%%%%%%%% Bottle gourd\n",
      "%%%%%%%%%%%%%%%%%% My Favorite Veg Food Names %%%%%%%%%%%%%%%% Sanke gourd\n",
      "%%%%%%%%%%%%%%%%%% My Favorite Veg Food Names %%%%%%%%%%%%%%%% Cabbage\n",
      "%%%%%%%%%%%%%%%%%% My Favorite Veg Food Names %%%%%%%%%%%%%%%% Cucumber\n",
      "%%%%%%%%%%%%%%%%%% My Favorite Veg Food Names %%%%%%%%%%%%%%%% Capsicum\n"
     ]
    }
   ],
   "source": [
    "#3.Create a list(food_names) with your favorite food names(atleaste 10 names only veg)?\n",
    "#print all names with in loop \n",
    "\n",
    "list=[\"Tomato\",\"Lady's finger\",\"Brinjal\",\"Potato\",\"Bitter gourd\",\"Bottle gourd\",\"Sanke gourd\",\"Cabbage\",\"Cucumber\",\"Capsicum\"]\n",
    "\n",
    "for Begum in list:\n",
    "    \n",
    "    print(\"%%%%%%%%%%%%%%%%%% My Favorite Veg Food Names %%%%%%%%%%%%%%%%\",Begum )"
   ]
  },
  {
   "cell_type": "code",
   "execution_count": null,
   "id": "d6336e71",
   "metadata": {},
   "outputs": [],
   "source": []
  },
  {
   "cell_type": "code",
   "execution_count": null,
   "id": "73812766",
   "metadata": {},
   "outputs": [],
   "source": [
    "#--------------------->8. tuple()----------->with in loops"
   ]
  },
  {
   "cell_type": "code",
   "execution_count": 1,
   "id": "1f63a2e4",
   "metadata": {},
   "outputs": [
    {
     "name": "stdout",
     "output_type": "stream",
     "text": [
      "@@@@@@@@@@@@@@@@@@@@ My Favorite Non_Veg Food Names @@@@@@@@@@@@@@@@@@ Matton Biryani\n",
      "@@@@@@@@@@@@@@@@@@@@ My Favorite Non_Veg Food Names @@@@@@@@@@@@@@@@@@ Matton Khurma\n",
      "@@@@@@@@@@@@@@@@@@@@ My Favorite Non_Veg Food Names @@@@@@@@@@@@@@@@@@ Fish Curry\n",
      "@@@@@@@@@@@@@@@@@@@@ My Favorite Non_Veg Food Names @@@@@@@@@@@@@@@@@@ Prawns Curry\n",
      "@@@@@@@@@@@@@@@@@@@@ My Favorite Non_Veg Food Names @@@@@@@@@@@@@@@@@@ Chicken Biryani\n",
      "@@@@@@@@@@@@@@@@@@@@ My Favorite Non_Veg Food Names @@@@@@@@@@@@@@@@@@ Matton Fry\n",
      "@@@@@@@@@@@@@@@@@@@@ My Favorite Non_Veg Food Names @@@@@@@@@@@@@@@@@@ Chicken Fry\n",
      "@@@@@@@@@@@@@@@@@@@@ My Favorite Non_Veg Food Names @@@@@@@@@@@@@@@@@@ Fish Fry\n",
      "@@@@@@@@@@@@@@@@@@@@ My Favorite Non_Veg Food Names @@@@@@@@@@@@@@@@@@ Prawns Fry\n",
      "@@@@@@@@@@@@@@@@@@@@ My Favorite Non_Veg Food Names @@@@@@@@@@@@@@@@@@ Kheema\n"
     ]
    }
   ],
   "source": [
    "#4.Create a tuple(food_names) with your favorite food names(atleaste 10 names only nonveg)?\n",
    "#print all names with in loop \n",
    "\n",
    "tuple=(\"Matton Biryani\",\"Matton Khurma\",\"Fish Curry\",\"Prawns Curry\",\"Chicken Biryani\",\"Matton Fry\",\"Chicken Fry\",\"Fish Fry\",\"Prawns Fry\",\"Kheema\")\n",
    "\n",
    "for S_Begum in tuple:\n",
    "    \n",
    "    print(\"@@@@@@@@@@@@@@@@@@@@ My Favorite Non_Veg Food Names @@@@@@@@@@@@@@@@@@\", S_Begum)"
   ]
  },
  {
   "cell_type": "code",
   "execution_count": null,
   "id": "ddf1a6ac",
   "metadata": {},
   "outputs": [],
   "source": []
  },
  {
   "cell_type": "code",
   "execution_count": null,
   "id": "c386f8e5",
   "metadata": {},
   "outputs": [],
   "source": [
    "#--------------------->9. set{}-----------> with in loops"
   ]
  },
  {
   "cell_type": "code",
   "execution_count": 2,
   "id": "b6f09ac0",
   "metadata": {},
   "outputs": [
    {
     "name": "stdout",
     "output_type": "stream",
     "text": [
      "################### Colour Name ################# Pink\n",
      "################### Colour Name ################# Red\n",
      "################### Colour Name ################# Orange\n",
      "################### Colour Name ################# Yellow\n",
      "################### Colour Name ################# Voilet\n",
      "################### Colour Name ################# White\n",
      "################### Colour Name ################# Green\n",
      "################### Colour Name ################# Black\n",
      "################### Colour Name ################# Brown\n",
      "################### Colour Name ################# Blue\n"
     ]
    }
   ],
   "source": [
    "#5.Create a set(colour_names) with your colour names(atleaste 10 names)?\n",
    "#print all names with in loop \n",
    "\n",
    "set={\"Red\",\"Green\",\"Blue\",\"Yellow\",\"Pink\",\"Orange\",\"Brown\",\"Voilet\",\"White\",\"Black\"}\n",
    "     \n",
    "for Shammu in set:\n",
    "     \n",
    "    print(\"################### Colour Name #################\",Shammu)  "
   ]
  },
  {
   "cell_type": "code",
   "execution_count": null,
   "id": "5863956f",
   "metadata": {},
   "outputs": [],
   "source": []
  },
  {
   "cell_type": "code",
   "execution_count": null,
   "id": "3e79ea0d",
   "metadata": {},
   "outputs": [],
   "source": [
    "#---------------> list[] --------------->with in loop"
   ]
  },
  {
   "cell_type": "code",
   "execution_count": 3,
   "id": "7f5e10c6",
   "metadata": {},
   "outputs": [
    {
     "name": "stdout",
     "output_type": "stream",
     "text": [
      "!!!!!!!!!!!!!!! My Favorite Flowers Names are !!!!!!!!!!!!!!!!! Rose\n",
      "!!!!!!!!!!!!!!! My Favorite Flowers Names are !!!!!!!!!!!!!!!!! Lily\n",
      "!!!!!!!!!!!!!!! My Favorite Flowers Names are !!!!!!!!!!!!!!!!! Jasmine\n",
      "!!!!!!!!!!!!!!! My Favorite Flowers Names are !!!!!!!!!!!!!!!!! Mari Gold\n",
      "!!!!!!!!!!!!!!! My Favorite Flowers Names are !!!!!!!!!!!!!!!!! Lotus\n",
      "!!!!!!!!!!!!!!! My Favorite Flowers Names are !!!!!!!!!!!!!!!!! Champa\n",
      "!!!!!!!!!!!!!!! My Favorite Flowers Names are !!!!!!!!!!!!!!!!! Sunflower\n",
      "!!!!!!!!!!!!!!! My Favorite Flowers Names are !!!!!!!!!!!!!!!!! Hibiscus\n",
      "!!!!!!!!!!!!!!! My Favorite Flowers Names are !!!!!!!!!!!!!!!!! Tulip\n",
      "!!!!!!!!!!!!!!! My Favorite Flowers Names are !!!!!!!!!!!!!!!!! Dahlia\n"
     ]
    }
   ],
   "source": [
    "#6.Creat a list(flower_names) with your favorite flower names(atleast 10 names)?\n",
    "#print all names with in loop\n",
    "\n",
    "list=[\"Rose\",\"Lily\",\"Jasmine\",\"Mari Gold\",\"Lotus\",\"Champa\",\"Sunflower\",\"Hibiscus\",\"Tulip\",\"Dahlia\"]\n",
    "\n",
    "for Begum in list:\n",
    "    \n",
    "    print (\"!!!!!!!!!!!!!!! My Favorite Flowers Names are !!!!!!!!!!!!!!!!!\",Begum)"
   ]
  },
  {
   "cell_type": "code",
   "execution_count": 4,
   "id": "a3921371",
   "metadata": {},
   "outputs": [
    {
     "name": "stdout",
     "output_type": "stream",
     "text": [
      "$$$$$$$$$$$$$$$$ Month Names are $$$$$$$$$$$$$$$$$ January\n",
      "$$$$$$$$$$$$$$$$ Month Names are $$$$$$$$$$$$$$$$$ February\n",
      "$$$$$$$$$$$$$$$$ Month Names are $$$$$$$$$$$$$$$$$ March\n",
      "$$$$$$$$$$$$$$$$ Month Names are $$$$$$$$$$$$$$$$$ April\n",
      "$$$$$$$$$$$$$$$$ Month Names are $$$$$$$$$$$$$$$$$ May\n",
      "$$$$$$$$$$$$$$$$ Month Names are $$$$$$$$$$$$$$$$$ June\n",
      "$$$$$$$$$$$$$$$$ Month Names are $$$$$$$$$$$$$$$$$ July\n",
      "$$$$$$$$$$$$$$$$ Month Names are $$$$$$$$$$$$$$$$$ August\n",
      "$$$$$$$$$$$$$$$$ Month Names are $$$$$$$$$$$$$$$$$ September\n",
      "$$$$$$$$$$$$$$$$ Month Names are $$$$$$$$$$$$$$$$$ October\n",
      "$$$$$$$$$$$$$$$$ Month Names are $$$$$$$$$$$$$$$$$ November\n",
      "$$$$$$$$$$$$$$$$ Month Names are $$$$$$$$$$$$$$$$$ December\n"
     ]
    }
   ],
   "source": [
    "#7.Create a list(month_names) with your month names(atleaste 10 names)?\n",
    "#print all names with in loop\n",
    "\n",
    "list=[\"January\",\"February\",\"March\",\"April\",\"May\",\"June\",\"July\",\"August\",\"September\",\"October\",\"November\",\"December\"]\n",
    "\n",
    "for SB in list:\n",
    "    \n",
    "    print(\"$$$$$$$$$$$$$$$$ Month Names are $$$$$$$$$$$$$$$$$\",SB)"
   ]
  },
  {
   "cell_type": "code",
   "execution_count": null,
   "id": "198112a0",
   "metadata": {},
   "outputs": [],
   "source": [
    "#range"
   ]
  },
  {
   "cell_type": "code",
   "execution_count": 5,
   "id": "354d7586",
   "metadata": {},
   "outputs": [
    {
     "name": "stdout",
     "output_type": "stream",
     "text": [
      "0\n",
      "7\n",
      "14\n",
      "21\n",
      "28\n",
      "35\n",
      "42\n",
      "49\n",
      "56\n",
      "63\n",
      "70\n"
     ]
    }
   ],
   "source": [
    "#8.print 7th table (1 to 70)\n",
    "\n",
    "range(0,75,7)\n",
    "\n",
    "for S in range(0,75,7):\n",
    "    \n",
    "    print(S)"
   ]
  },
  {
   "cell_type": "code",
   "execution_count": 8,
   "id": "b1fe56b1",
   "metadata": {},
   "outputs": [
    {
     "name": "stdout",
     "output_type": "stream",
     "text": [
      "0\n",
      "13\n",
      "26\n",
      "39\n",
      "52\n",
      "65\n",
      "78\n",
      "91\n",
      "104\n",
      "117\n",
      "130\n"
     ]
    }
   ],
   "source": [
    "#9.print 13th table (1 to 130)\n",
    "\n",
    "range(0,135,13)\n",
    "\n",
    "for S in range(0,135,13):\n",
    "    \n",
    "    print(S)"
   ]
  },
  {
   "cell_type": "code",
   "execution_count": 10,
   "id": "48ca6243",
   "metadata": {},
   "outputs": [
    {
     "name": "stdout",
     "output_type": "stream",
     "text": [
      "0\n",
      "14\n",
      "28\n",
      "42\n",
      "56\n",
      "70\n",
      "84\n",
      "98\n",
      "112\n",
      "126\n",
      "140\n"
     ]
    }
   ],
   "source": [
    "#11.print 14th table (1 to 140)\n",
    "\n",
    "range(0,145,14)\n",
    "\n",
    "for SB in range(0,145,14):\n",
    "    \n",
    "    print(SB)"
   ]
  },
  {
   "cell_type": "code",
   "execution_count": 11,
   "id": "4168721d",
   "metadata": {},
   "outputs": [
    {
     "name": "stdout",
     "output_type": "stream",
     "text": [
      "0\n",
      "9\n",
      "18\n",
      "27\n",
      "36\n",
      "45\n",
      "54\n",
      "63\n",
      "72\n",
      "81\n",
      "90\n"
     ]
    }
   ],
   "source": [
    "#10.print 9th table (1 to 90)\n",
    "\n",
    "range(0,95,9)\n",
    "\n",
    "for B in range(0,95,9):\n",
    "    \n",
    "    print(B)"
   ]
  },
  {
   "cell_type": "code",
   "execution_count": null,
   "id": "ab1a08c1",
   "metadata": {},
   "outputs": [],
   "source": []
  },
  {
   "cell_type": "code",
   "execution_count": 1,
   "id": "4c71dc12",
   "metadata": {},
   "outputs": [
    {
     "name": "stdout",
     "output_type": "stream",
     "text": [
      "0\n",
      "5\n",
      "10\n",
      "15\n",
      "20\n",
      "25\n",
      "30\n",
      "35\n",
      "40\n",
      "45\n",
      "50\n",
      "55\n",
      "60\n",
      "65\n",
      "70\n",
      "75\n",
      "80\n",
      "85\n",
      "90\n",
      "95\n",
      "100\n",
      "105\n",
      "110\n",
      "115\n",
      "120\n",
      "125\n",
      "130\n",
      "135\n",
      "140\n",
      "145\n",
      "150\n",
      "155\n",
      "160\n",
      "165\n",
      "170\n",
      "175\n",
      "180\n",
      "185\n",
      "190\n",
      "195\n",
      "200\n",
      "205\n",
      "210\n",
      "215\n",
      "220\n",
      "225\n",
      "230\n",
      "235\n",
      "240\n",
      "245\n",
      "250\n",
      "255\n",
      "260\n",
      "265\n",
      "270\n",
      "275\n",
      "280\n",
      "285\n",
      "290\n",
      "295\n"
     ]
    }
   ],
   "source": [
    "range(0,300,5)\n",
    "\n",
    "for Shamshad in range(0,300,5):\n",
    "    \n",
    "    print(Shamshad)"
   ]
  },
  {
   "cell_type": "code",
   "execution_count": null,
   "id": "6e42bae0",
   "metadata": {},
   "outputs": [],
   "source": [
    "#tuple"
   ]
  },
  {
   "cell_type": "code",
   "execution_count": 2,
   "id": "ed377ca3",
   "metadata": {},
   "outputs": [
    {
     "name": "stdout",
     "output_type": "stream",
     "text": [
      "Kkr\n",
      "Rcb\n",
      "Csk\n",
      "Srh\n"
     ]
    }
   ],
   "source": [
    "Ipl=(\"Kkr\",\"Rcb\",\"Csk\",\"Srh\")\n",
    "\n",
    "for SB in Ipl:\n",
    "    \n",
    "    print(SB)"
   ]
  },
  {
   "cell_type": "code",
   "execution_count": 3,
   "id": "2117c8ee",
   "metadata": {},
   "outputs": [
    {
     "name": "stdout",
     "output_type": "stream",
     "text": [
      "Ipl Team Name: kkr\n",
      "Ipl Team Name: rcb\n",
      "Ipl Team Name: csk\n",
      "Ipl Team Name: srh\n"
     ]
    }
   ],
   "source": [
    "Ipl=(\"kkr\",\"rcb\",\"csk\",\"srh\")\n",
    "\n",
    "for Ipl_team in Ipl:\n",
    "    \n",
    "    print(\"Ipl Team Name:\",Ipl_team)"
   ]
  },
  {
   "cell_type": "code",
   "execution_count": null,
   "id": "0ed888f5",
   "metadata": {},
   "outputs": [],
   "source": [
    "#dict"
   ]
  },
  {
   "cell_type": "code",
   "execution_count": 4,
   "id": "fdb7fbdc",
   "metadata": {},
   "outputs": [
    {
     "name": "stdout",
     "output_type": "stream",
     "text": [
      "Md. Ali\n",
      "Balkis Jaha\n",
      "Afzal Shaw\n",
      "Shahanaz Begum\n"
     ]
    }
   ],
   "source": [
    "Names={\"f_members\":[\"Md. Ali\",\"Balkis Jaha\",\"Afzal Shaw\",\"Shahanaz Begum\"]}\n",
    "\n",
    "for S in Names [\"f_members\"]:\n",
    "    \n",
    "    print(S)\n",
    "    "
   ]
  },
  {
   "cell_type": "code",
   "execution_count": 5,
   "id": "ba364765",
   "metadata": {},
   "outputs": [
    {
     "name": "stdout",
     "output_type": "stream",
     "text": [
      "Father\n",
      "Mother\n",
      "Brother\n",
      "Sister\n"
     ]
    }
   ],
   "source": [
    "Names={\"Relation\":[\"Father\",\"Mother\",\"Brother\",\"Sister\"]}\n",
    "\n",
    "for B in Names[\"Relation\"]:\n",
    "    \n",
    "    print(B)\n",
    "    "
   ]
  },
  {
   "cell_type": "code",
   "execution_count": null,
   "id": "cda162f5",
   "metadata": {},
   "outputs": [],
   "source": []
  }
 ],
 "metadata": {
  "kernelspec": {
   "display_name": "Python 3 (ipykernel)",
   "language": "python",
   "name": "python3"
  },
  "language_info": {
   "codemirror_mode": {
    "name": "ipython",
    "version": 3
   },
   "file_extension": ".py",
   "mimetype": "text/x-python",
   "name": "python",
   "nbconvert_exporter": "python",
   "pygments_lexer": "ipython3",
   "version": "3.10.9"
  }
 },
 "nbformat": 4,
 "nbformat_minor": 5
}
