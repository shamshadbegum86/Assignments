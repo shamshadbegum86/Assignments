{
 "cells": [
  {
   "cell_type": "code",
   "execution_count": null,
   "id": "e9e62f93",
   "metadata": {},
   "outputs": [],
   "source": [
    "#---------------------> For loop ------> list[]"
   ]
  },
  {
   "cell_type": "code",
   "execution_count": null,
   "id": "cffe7e82",
   "metadata": {},
   "outputs": [],
   "source": []
  },
  {
   "cell_type": "code",
   "execution_count": null,
   "id": "b8613fe5",
   "metadata": {},
   "outputs": [],
   "source": [
    "# 6. Create a list (friend_names) with your friends names (atlease 10 names)?\n",
    "#    print all names with in loop\n",
    "#    Expected Output: my friend name is \"ravi\"\n",
    "#               my friend name is \"shamker\""
   ]
  },
  {
   "cell_type": "code",
   "execution_count": 1,
   "id": "d4c09877",
   "metadata": {},
   "outputs": [
    {
     "name": "stdout",
     "output_type": "stream",
     "text": [
      "My friend name is: Shabana\n",
      "My friend name is: Hanima\n",
      "My friend name is: Rehana\n",
      "My friend name is: Mallika\n",
      "My friend name is: Aliya\n",
      "My friend name is: Hamida\n",
      "My friend name is: Sabera\n",
      "My friend name is: Sony\n",
      "My friend name is: Raziya\n",
      "My friend name is: Mallika\n",
      "My friend name is: Shafheka\n",
      "My friend name is: Hanima\n"
     ]
    }
   ],
   "source": [
    "friend_names=[\"Shabana\",\"Hanima\",\"Rehana\",\"Mallika\",\"Aliya\",\"Hamida\",\"Sabera\",\"Sony\",\"Raziya\",\"Mallika\",\"Shafheka\",\"Hanima\"]\n",
    "\n",
    "for S in friend_names:\n",
    "    print(\"My friend name is:\",S)\n",
    "    "
   ]
  },
  {
   "cell_type": "code",
   "execution_count": null,
   "id": "ffbd102b",
   "metadata": {},
   "outputs": [],
   "source": [
    "# 7. Create a list(family_members) with your family members names (at least 10 names)? \n",
    "# print all names with in loop"
   ]
  },
  {
   "cell_type": "code",
   "execution_count": 2,
   "id": "da59199f",
   "metadata": {},
   "outputs": [
    {
     "name": "stdout",
     "output_type": "stream",
     "text": [
      "Md.Ali\n",
      "Balkis Jaha\n",
      "Shahnaz Begum\n",
      "Irfan\n",
      "Afzal Shaw\n",
      "Shamshad Begum\n",
      "Shakeela Begum\n",
      "Shamshad Begum\n",
      "Irfan\n",
      "Md.Karamatulla\n",
      "Shannu\n",
      "Banu\n"
     ]
    }
   ],
   "source": [
    "family_members=[\"Md.Ali\",\"Balkis Jaha\",\"Shahnaz Begum\",\"Irfan\",\"Afzal Shaw\",\"Shamshad Begum\",\"Shakeela Begum\",\"Shamshad Begum\",\"Irfan\",\"Md.Karamatulla\",\"Shannu\",\"Banu\"]\n",
    "\n",
    "for SB in family_members:\n",
    "    print(SB)\n",
    "    "
   ]
  },
  {
   "cell_type": "code",
   "execution_count": 4,
   "id": "fc23b710",
   "metadata": {},
   "outputs": [
    {
     "name": "stdout",
     "output_type": "stream",
     "text": [
      "My family member: Md.Ali\n",
      "My family member: Balkis Jaha\n",
      "My family member: Shahnaz Begum\n",
      "My family member: Irfan\n",
      "My family member: Afzal Shaw\n",
      "My family member: Shamshad Begum\n",
      "My family member: Shakeela Begum\n",
      "My family member: Shamshad Begum\n",
      "My family member: Irfan\n",
      "My family member: Md.Karamatulla\n",
      "My family member: Shannu\n",
      "My family member: Banu\n"
     ]
    }
   ],
   "source": [
    "for SB in family_members:\n",
    "    print(\"My family member:\",SB)"
   ]
  },
  {
   "cell_type": "code",
   "execution_count": null,
   "id": "17f42e43",
   "metadata": {},
   "outputs": [],
   "source": [
    "# 8. Create  a list (food_names) with your favorite food names ( at leaste 10 names only veg)?\n",
    "# print all names with in loop"
   ]
  },
  {
   "cell_type": "code",
   "execution_count": 5,
   "id": "f6aaf44a",
   "metadata": {},
   "outputs": [
    {
     "name": "stdout",
     "output_type": "stream",
     "text": [
      "Idly\n",
      "Onion Dosa\n",
      "Minapa Bajji\n",
      "Masala Wada\n",
      "Masala Dosa\n",
      "Mysoor Bajji\n",
      "Pesarattu\n",
      "Punugulu\n",
      "Puri\n",
      "Semiya Upma\n"
     ]
    }
   ],
   "source": [
    "food_names=[\"Idly\",\"Onion Dosa\",\"Minapa Bajji\",\"Masala Wada\",\"Masala Dosa\",\"Mysoor Bajji\",\"Pesarattu\",\"Punugulu\",\"Puri\",\"Semiya Upma\"]\n",
    "\n",
    "for S in food_names:\n",
    "    print(S)"
   ]
  },
  {
   "cell_type": "code",
   "execution_count": 6,
   "id": "96685fb0",
   "metadata": {},
   "outputs": [
    {
     "name": "stdout",
     "output_type": "stream",
     "text": [
      "My favorite food name: Idly\n",
      "My favorite food name: Onion Dosa\n",
      "My favorite food name: Minapa Bajji\n",
      "My favorite food name: Masala Wada\n",
      "My favorite food name: Masala Dosa\n",
      "My favorite food name: Mysoor Bajji\n",
      "My favorite food name: Pesarattu\n",
      "My favorite food name: Punugulu\n",
      "My favorite food name: Puri\n",
      "My favorite food name: Semiya Upma\n"
     ]
    }
   ],
   "source": [
    "for S in food_names:\n",
    "    print(\"My favorite food name:\",S)"
   ]
  },
  {
   "cell_type": "code",
   "execution_count": null,
   "id": "91f39c3c",
   "metadata": {},
   "outputs": [],
   "source": []
  },
  {
   "cell_type": "code",
   "execution_count": null,
   "id": "e89b30d2",
   "metadata": {},
   "outputs": [],
   "source": [
    "#------------------------> For loop----------> tuple()"
   ]
  },
  {
   "cell_type": "code",
   "execution_count": null,
   "id": "3b097d50",
   "metadata": {},
   "outputs": [],
   "source": [
    "# 9. Create a tuple(food_names) with your favorite food names(at leaste 10 names only nonveg)?\n",
    "# print all names with in loop"
   ]
  },
  {
   "cell_type": "code",
   "execution_count": 7,
   "id": "d43a0ff4",
   "metadata": {},
   "outputs": [
    {
     "name": "stdout",
     "output_type": "stream",
     "text": [
      "Matton Curry\n",
      "Chicken Curry\n",
      "Matton Khurma\n",
      "Matton Biryani\n",
      "Chicken Biryani\n",
      "Chicken fry\n",
      "Matton fry\n",
      "Fish  Curry\n",
      "Fish fry\n",
      "Prawns fry\n"
     ]
    }
   ],
   "source": [
    "nonveg_fnames=(\"Matton Curry\",\"Chicken Curry\",\"Matton Khurma\",\"Matton Biryani\",\"Chicken Biryani\",\"Chicken fry\",\"Matton fry\",\"Fish  Curry\",\"Fish fry\",\"Prawns fry\")\n",
    "\n",
    "for Begum in nonveg_fnames:\n",
    "    print(Begum)"
   ]
  },
  {
   "cell_type": "code",
   "execution_count": 8,
   "id": "78bb2731",
   "metadata": {},
   "outputs": [
    {
     "name": "stdout",
     "output_type": "stream",
     "text": [
      "My favorite Non.Veg food name: Matton Curry\n",
      "My favorite Non.Veg food name: Chicken Curry\n",
      "My favorite Non.Veg food name: Matton Khurma\n",
      "My favorite Non.Veg food name: Matton Biryani\n",
      "My favorite Non.Veg food name: Chicken Biryani\n",
      "My favorite Non.Veg food name: Chicken fry\n",
      "My favorite Non.Veg food name: Matton fry\n",
      "My favorite Non.Veg food name: Fish  Curry\n",
      "My favorite Non.Veg food name: Fish fry\n",
      "My favorite Non.Veg food name: Prawns fry\n"
     ]
    }
   ],
   "source": [
    "for Begum in nonveg_fnames:\n",
    "    print(\"My favorite Non.Veg food name:\",Begum)"
   ]
  },
  {
   "cell_type": "code",
   "execution_count": null,
   "id": "65a6e873",
   "metadata": {},
   "outputs": [],
   "source": []
  },
  {
   "cell_type": "code",
   "execution_count": null,
   "id": "17172fe0",
   "metadata": {},
   "outputs": [],
   "source": [
    "#----------------------> For loop ---------> set{}"
   ]
  },
  {
   "cell_type": "code",
   "execution_count": null,
   "id": "dce8b5f6",
   "metadata": {},
   "outputs": [],
   "source": [
    "# 10. Create a set(colour_names) with your colour names(at leaste 10 names)?\n",
    "# print all names with in loop"
   ]
  },
  {
   "cell_type": "code",
   "execution_count": 9,
   "id": "037de0fb",
   "metadata": {},
   "outputs": [
    {
     "name": "stdout",
     "output_type": "stream",
     "text": [
      "Yellow\n",
      "Green\n",
      "Orange\n",
      "Voilet\n",
      "Red\n",
      "Brown\n",
      "White\n",
      "Pink\n",
      "Black\n",
      "Blue\n"
     ]
    }
   ],
   "source": [
    "Colour_names={\"Pink\",\"Yellow\",\"Red\",\"Blue\",\"Green\",\"Brown\",\"Voilet\",\"Orange\",\"White\",\"Black\"}\n",
    "\n",
    "for SBegum in Colour_names:\n",
    "    \n",
    "    print(SBegum)"
   ]
  },
  {
   "cell_type": "code",
   "execution_count": 10,
   "id": "3dcc3d27",
   "metadata": {
    "scrolled": true
   },
   "outputs": [
    {
     "name": "stdout",
     "output_type": "stream",
     "text": [
      "Colour Name: Yellow\n",
      "Colour Name: Green\n",
      "Colour Name: Orange\n",
      "Colour Name: Voilet\n",
      "Colour Name: Red\n",
      "Colour Name: Brown\n",
      "Colour Name: White\n",
      "Colour Name: Pink\n",
      "Colour Name: Black\n",
      "Colour Name: Blue\n"
     ]
    }
   ],
   "source": [
    "for SBegum in Colour_names:\n",
    "    \n",
    "    print(\"Colour Name:\",SBegum)"
   ]
  },
  {
   "cell_type": "code",
   "execution_count": null,
   "id": "35b5b30e",
   "metadata": {},
   "outputs": [],
   "source": []
  },
  {
   "cell_type": "code",
   "execution_count": null,
   "id": "8839645a",
   "metadata": {},
   "outputs": [],
   "source": [
    "#--------------------->For loop----------> list[]"
   ]
  },
  {
   "cell_type": "code",
   "execution_count": null,
   "id": "34505a48",
   "metadata": {},
   "outputs": [],
   "source": [
    "# 11. Cteatea list(month_names) with your month names(at leaste 10 names)?\n",
    "# print all names with in loop"
   ]
  },
  {
   "cell_type": "code",
   "execution_count": 11,
   "id": "6d0c19e9",
   "metadata": {},
   "outputs": [
    {
     "name": "stdout",
     "output_type": "stream",
     "text": [
      "January\n",
      "February\n",
      "March\n",
      "April\n",
      "May\n",
      "June\n",
      "July\n",
      "August\n",
      "September\n",
      "October\n",
      "November\n",
      "December\n"
     ]
    }
   ],
   "source": [
    "list=[\"January\",\"February\",\"March\",\"April\",\"May\",\"June\",\"July\",\"August\",\"September\",\"October\",\"November\",\"December\"]\n",
    "\n",
    "for Begum in list:\n",
    "    \n",
    "    print(Begum)\n"
   ]
  },
  {
   "cell_type": "code",
   "execution_count": 12,
   "id": "cfe44738",
   "metadata": {},
   "outputs": [],
   "source": [
    "# 12. print 9th table (1 to 90)"
   ]
  },
  {
   "cell_type": "code",
   "execution_count": 13,
   "id": "d942e555",
   "metadata": {},
   "outputs": [
    {
     "name": "stdout",
     "output_type": "stream",
     "text": [
      "0\n",
      "9\n",
      "18\n",
      "27\n",
      "36\n",
      "45\n",
      "54\n",
      "63\n",
      "72\n",
      "81\n",
      "90\n"
     ]
    }
   ],
   "source": [
    "range(0,91,9)\n",
    "\n",
    "for S in range(0,91,9):\n",
    "    \n",
    "    print(S)"
   ]
  },
  {
   "cell_type": "code",
   "execution_count": null,
   "id": "069fb0f5",
   "metadata": {},
   "outputs": [],
   "source": [
    "# 13. print 12th table (1 to 120)"
   ]
  },
  {
   "cell_type": "code",
   "execution_count": 14,
   "id": "7eb1d83e",
   "metadata": {},
   "outputs": [
    {
     "name": "stdout",
     "output_type": "stream",
     "text": [
      "0\n",
      "12\n",
      "24\n",
      "36\n",
      "48\n",
      "60\n",
      "72\n",
      "84\n",
      "96\n",
      "108\n",
      "120\n"
     ]
    }
   ],
   "source": [
    "range(0,121,12)\n",
    "\n",
    "for B in range(0,121,12):\n",
    "    \n",
    "    print(B)"
   ]
  },
  {
   "cell_type": "code",
   "execution_count": null,
   "id": "72cea7fc",
   "metadata": {},
   "outputs": [],
   "source": []
  }
 ],
 "metadata": {
  "kernelspec": {
   "display_name": "Python 3 (ipykernel)",
   "language": "python",
   "name": "python3"
  },
  "language_info": {
   "codemirror_mode": {
    "name": "ipython",
    "version": 3
   },
   "file_extension": ".py",
   "mimetype": "text/x-python",
   "name": "python",
   "nbconvert_exporter": "python",
   "pygments_lexer": "ipython3",
   "version": "3.10.9"
  }
 },
 "nbformat": 4,
 "nbformat_minor": 5
}
