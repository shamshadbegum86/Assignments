{
 "cells": [
  {
   "cell_type": "code",
   "execution_count": 2,
   "id": "9499eb6d",
   "metadata": {},
   "outputs": [
    {
     "name": "stdout",
     "output_type": "stream",
     "text": [
      "My Friends Names are:,Rajini,Swapna,Radhika,Jyothi,Harini,Lakshmi,Deepika,Gamya,Aliya,Komali\n"
     ]
    }
   ],
   "source": [
    "#1. Create a 10 variables with your friend names?\n",
    "\n",
    "N1 =\"Rajini\"\n",
    "N2 =\"Swapna\"\n",
    "N3 =\"Radhika\"\n",
    "N4 =\"Jyothi\"\n",
    "N5 =\"Harini\"\n",
    "N6 =\"Lakshmi\"\n",
    "N7 =\"Deepika\"\n",
    "N8 =\"Gamya\"\n",
    "N9 =\"Aliya\"\n",
    "N10=\"Komali\"\n",
    "print(\"My Friends Names are:\",N1,N2,N3,N4,N5,N6,N7,N8,N9,N10,sep=\",\")"
   ]
  },
  {
   "cell_type": "code",
   "execution_count": null,
   "id": "6b9c6f31",
   "metadata": {},
   "outputs": [],
   "source": []
  },
  {
   "cell_type": "code",
   "execution_count": null,
   "id": "02dd986c",
   "metadata": {},
   "outputs": [],
   "source": []
  },
  {
   "cell_type": "code",
   "execution_count": null,
   "id": "4f2a6d89",
   "metadata": {},
   "outputs": [],
   "source": []
  }
 ],
 "metadata": {
  "kernelspec": {
   "display_name": "Python 3 (ipykernel)",
   "language": "python",
   "name": "python3"
  },
  "language_info": {
   "codemirror_mode": {
    "name": "ipython",
    "version": 3
   },
   "file_extension": ".py",
   "mimetype": "text/x-python",
   "name": "python",
   "nbconvert_exporter": "python",
   "pygments_lexer": "ipython3",
   "version": "3.10.9"
  }
 },
 "nbformat": 4,
 "nbformat_minor": 5
}
