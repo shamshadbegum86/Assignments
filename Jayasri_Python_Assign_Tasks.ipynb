{
 "cells": [
  {
   "cell_type": "code",
   "execution_count": null,
   "id": "3088094b",
   "metadata": {},
   "outputs": [],
   "source": [
    "# 1.create a variables with your family members?\n",
    "# 2. create a set with your friends names?\n",
    "# 3.create a tuple with favourite places and print your favourite place?\n",
    "# 4.createa a list with your food names and print your favourite food name?\n",
    "\n",
    "#12. tollywood_heros=[\"chiru\", \"balaya\", \"nag\",\"venky\",\"powerstar\",\"superstar\",\"ntr\",\"ramcharan\"], write a program?\n",
    "# expected output:tollywood_heros=[\"chiranjeevi\", \"balakrishan\", \"nagarjuna\",\"venky\",\"pawan kalyan\",\"maheshbabu\",\"NT rama rao\",\"ramcharan\"]"
   ]
  },
  {
   "cell_type": "code",
   "execution_count": null,
   "id": "c35c8b21",
   "metadata": {},
   "outputs": [],
   "source": [
    "# 1. create a dict with your family names and relation?\n",
    "# 2.create a dict with month names and month number and print december month_name and december month number?\n",
    "# 3.create a dict with flower names and flower colour and print red colour flowers and red colour flower names?"
   ]
  },
  {
   "cell_type": "code",
   "execution_count": null,
   "id": "8f6007cf",
   "metadata": {},
   "outputs": [],
   "source": [
    "1.create a set with your family members and print your favourite one? \n",
    "2.cretae a tuple with colour names and print fav colour?"
   ]
  },
  {
   "cell_type": "code",
   "execution_count": null,
   "id": "bcae311c",
   "metadata": {},
   "outputs": [],
   "source": []
  },
  {
   "cell_type": "code",
   "execution_count": null,
   "id": "d202c4ac",
   "metadata": {},
   "outputs": [],
   "source": [
    "Jayasri_Task's"
   ]
  },
  {
   "cell_type": "code",
   "execution_count": null,
   "id": "11c7a77e",
   "metadata": {},
   "outputs": [],
   "source": [
    "# 1.create a variables with your family members?"
   ]
  },
  {
   "cell_type": "code",
   "execution_count": 1,
   "id": "f9a70611",
   "metadata": {},
   "outputs": [
    {
     "data": {
      "text/plain": [
       "'Md. Ali'"
      ]
     },
     "execution_count": 1,
     "metadata": {},
     "output_type": "execute_result"
    }
   ],
   "source": [
    "family_member1=\"Md. Ali\"\n",
    "family_member1"
   ]
  },
  {
   "cell_type": "code",
   "execution_count": 2,
   "id": "d8c91372",
   "metadata": {},
   "outputs": [
    {
     "data": {
      "text/plain": [
       "'Balkis Jaha'"
      ]
     },
     "execution_count": 2,
     "metadata": {},
     "output_type": "execute_result"
    }
   ],
   "source": [
    "family_member2=\"Balkis Jaha\"\n",
    "family_member2"
   ]
  },
  {
   "cell_type": "code",
   "execution_count": 3,
   "id": "76d7b6e9",
   "metadata": {},
   "outputs": [
    {
     "data": {
      "text/plain": [
       "'Shahnaz Begum'"
      ]
     },
     "execution_count": 3,
     "metadata": {},
     "output_type": "execute_result"
    }
   ],
   "source": [
    "family_member3=\"Shahnaz Begum\"\n",
    "family_member3"
   ]
  },
  {
   "cell_type": "code",
   "execution_count": 4,
   "id": "3f4f3647",
   "metadata": {},
   "outputs": [
    {
     "data": {
      "text/plain": [
       "'Afzal Shaw'"
      ]
     },
     "execution_count": 4,
     "metadata": {},
     "output_type": "execute_result"
    }
   ],
   "source": [
    "family_member4=\"Afzal Shaw\"\n",
    "family_member4"
   ]
  },
  {
   "cell_type": "code",
   "execution_count": 5,
   "id": "a8226e14",
   "metadata": {},
   "outputs": [
    {
     "data": {
      "text/plain": [
       "'Shakeela Begum'"
      ]
     },
     "execution_count": 5,
     "metadata": {},
     "output_type": "execute_result"
    }
   ],
   "source": [
    "family_member5=\"Shakeela Begum\"\n",
    "family_member5"
   ]
  },
  {
   "cell_type": "code",
   "execution_count": null,
   "id": "f8ff18f6",
   "metadata": {},
   "outputs": [],
   "source": []
  },
  {
   "cell_type": "code",
   "execution_count": null,
   "id": "585f4492",
   "metadata": {},
   "outputs": [],
   "source": [
    "#--------------->set{}"
   ]
  },
  {
   "cell_type": "code",
   "execution_count": null,
   "id": "de69353f",
   "metadata": {},
   "outputs": [],
   "source": [
    "# 2. create a set with your friends names?"
   ]
  },
  {
   "cell_type": "code",
   "execution_count": 6,
   "id": "47a5a75f",
   "metadata": {},
   "outputs": [
    {
     "data": {
      "text/plain": [
       "{'Aliya', 'Jameea', 'Jarina', 'Sharmila', 'Thabassum'}"
      ]
     },
     "execution_count": 6,
     "metadata": {},
     "output_type": "execute_result"
    }
   ],
   "source": [
    "friends_names={\"Aliya\",\"Jameea\",\"Thabassum\",\"Jarina\",\"Sharmila\"}\n",
    "friends_names"
   ]
  },
  {
   "cell_type": "code",
   "execution_count": null,
   "id": "48396c7f",
   "metadata": {},
   "outputs": [],
   "source": []
  },
  {
   "cell_type": "code",
   "execution_count": null,
   "id": "ee8edc18",
   "metadata": {},
   "outputs": [],
   "source": [
    "#---------------->tuple()"
   ]
  },
  {
   "cell_type": "code",
   "execution_count": null,
   "id": "31321fc6",
   "metadata": {},
   "outputs": [],
   "source": [
    "# 3.create a tuple with favourite places and print your favourite place?"
   ]
  },
  {
   "cell_type": "code",
   "execution_count": 7,
   "id": "bfc6127a",
   "metadata": {},
   "outputs": [
    {
     "data": {
      "text/plain": [
       "('Vijayawada', 'Hyderabad', 'Visakhapatnam', 'Kakinada', 'Bangalor')"
      ]
     },
     "execution_count": 7,
     "metadata": {},
     "output_type": "execute_result"
    }
   ],
   "source": [
    "favourite_places=(\"Vijayawada\",\"Hyderabad\",\"Visakhapatnam\",\"Kakinada\",\"Bangalor\")\n",
    "favourite_places"
   ]
  },
  {
   "cell_type": "code",
   "execution_count": 8,
   "id": "1e7b7743",
   "metadata": {},
   "outputs": [
    {
     "name": "stdout",
     "output_type": "stream",
     "text": [
      "My favourite place is: Hyderabad\n"
     ]
    }
   ],
   "source": [
    "print(\"My favourite place is:\",favourite_places[1])"
   ]
  },
  {
   "cell_type": "code",
   "execution_count": null,
   "id": "24931850",
   "metadata": {},
   "outputs": [],
   "source": []
  },
  {
   "cell_type": "code",
   "execution_count": null,
   "id": "cbc46c2c",
   "metadata": {},
   "outputs": [],
   "source": [
    "#-------------------->list[]"
   ]
  },
  {
   "cell_type": "code",
   "execution_count": null,
   "id": "070371aa",
   "metadata": {},
   "outputs": [],
   "source": [
    "# 4.createa a list with your food names and print your favourite food name?\n"
   ]
  },
  {
   "cell_type": "code",
   "execution_count": 9,
   "id": "df2c6bdc",
   "metadata": {},
   "outputs": [
    {
     "data": {
      "text/plain": [
       "['Dosa', 'Idly', 'Puri', 'Chapathi', 'Mysoor bajji']"
      ]
     },
     "execution_count": 9,
     "metadata": {},
     "output_type": "execute_result"
    }
   ],
   "source": [
    "Food_names=[\"Dosa\",\"Idly\",\"Puri\",\"Chapathi\",\"Mysoor bajji\"]\n",
    "Food_names "
   ]
  },
  {
   "cell_type": "code",
   "execution_count": 10,
   "id": "3c535b52",
   "metadata": {},
   "outputs": [
    {
     "name": "stdout",
     "output_type": "stream",
     "text": [
      "My Favourite Food name is: Puri\n"
     ]
    }
   ],
   "source": [
    " print (\"My Favourite Food name is:\",Food_names [2])"
   ]
  },
  {
   "cell_type": "code",
   "execution_count": null,
   "id": "27cfd4d6",
   "metadata": {},
   "outputs": [],
   "source": []
  },
  {
   "cell_type": "code",
   "execution_count": null,
   "id": "ca285292",
   "metadata": {},
   "outputs": [],
   "source": [
    "\n",
    "# 12. tollywood_heros=[\"chiru\", \"balaya\", \"nag\",\"venky\",\"powerstar\",\"superstar\",\"ntr\",\"ramcharan\"], write a program?\n",
    "# expected output:tollywood_heros=[\"chiranjeevi\", \"balakrishan\", \"nagarjuna\",\"venky\",\"pawan kalyan\",\"maheshbabu\",\"NT rama rao\",\"ramcharan\"]"
   ]
  },
  {
   "cell_type": "code",
   "execution_count": 11,
   "id": "e73a02e9",
   "metadata": {},
   "outputs": [
    {
     "data": {
      "text/plain": [
       "['chiru',\n",
       " 'balaya',\n",
       " 'nag',\n",
       " 'venky',\n",
       " 'powerstar',\n",
       " 'superstar',\n",
       " 'ntr',\n",
       " 'ramcharan']"
      ]
     },
     "execution_count": 11,
     "metadata": {},
     "output_type": "execute_result"
    }
   ],
   "source": [
    "Tollywood_heros=[\"chiru\", \"balaya\", \"nag\",\"venky\",\"powerstar\",\"superstar\",\"ntr\",\"ramcharan\"]\n",
    "Tollywood_heros"
   ]
  },
  {
   "cell_type": "code",
   "execution_count": 12,
   "id": "ee2b44c4",
   "metadata": {},
   "outputs": [
    {
     "data": {
      "text/plain": [
       "'chiranjeevi'"
      ]
     },
     "execution_count": 12,
     "metadata": {},
     "output_type": "execute_result"
    }
   ],
   "source": [
    "Tollywood_heros[0]=\"chiranjeevi\"\n",
    "Tollywood_heros[0]"
   ]
  },
  {
   "cell_type": "code",
   "execution_count": 13,
   "id": "290b8feb",
   "metadata": {},
   "outputs": [
    {
     "data": {
      "text/plain": [
       "'balakrishan'"
      ]
     },
     "execution_count": 13,
     "metadata": {},
     "output_type": "execute_result"
    }
   ],
   "source": [
    "Tollywood_heros[1]=\"balakrishan\"\n",
    "Tollywood_heros[1]"
   ]
  },
  {
   "cell_type": "code",
   "execution_count": 14,
   "id": "105508b1",
   "metadata": {},
   "outputs": [
    {
     "data": {
      "text/plain": [
       "'nagarjuna'"
      ]
     },
     "execution_count": 14,
     "metadata": {},
     "output_type": "execute_result"
    }
   ],
   "source": [
    "Tollywood_heros[2]=\"nagarjuna\"\n",
    "Tollywood_heros[2]"
   ]
  },
  {
   "cell_type": "code",
   "execution_count": 15,
   "id": "23013345",
   "metadata": {},
   "outputs": [
    {
     "data": {
      "text/plain": [
       "'venky'"
      ]
     },
     "execution_count": 15,
     "metadata": {},
     "output_type": "execute_result"
    }
   ],
   "source": [
    "Tollywood_heros[3]=\"venky\"\n",
    "Tollywood_heros[3]"
   ]
  },
  {
   "cell_type": "code",
   "execution_count": 16,
   "id": "7a6cb857",
   "metadata": {},
   "outputs": [
    {
     "data": {
      "text/plain": [
       "'pawan kalyan'"
      ]
     },
     "execution_count": 16,
     "metadata": {},
     "output_type": "execute_result"
    }
   ],
   "source": [
    "Tollywood_heros[4]=\"pawan kalyan\"\n",
    "Tollywood_heros[4]"
   ]
  },
  {
   "cell_type": "code",
   "execution_count": 17,
   "id": "1c704c1d",
   "metadata": {},
   "outputs": [
    {
     "data": {
      "text/plain": [
       "'maheshbabu'"
      ]
     },
     "execution_count": 17,
     "metadata": {},
     "output_type": "execute_result"
    }
   ],
   "source": [
    "Tollywood_heros[5]=\"maheshbabu\"\n",
    "Tollywood_heros[5]"
   ]
  },
  {
   "cell_type": "code",
   "execution_count": 18,
   "id": "1f5ccdaa",
   "metadata": {},
   "outputs": [
    {
     "data": {
      "text/plain": [
       "'NT rama rao'"
      ]
     },
     "execution_count": 18,
     "metadata": {},
     "output_type": "execute_result"
    }
   ],
   "source": [
    "Tollywood_heros[6]=\"NT rama rao\"\n",
    "Tollywood_heros[6]"
   ]
  },
  {
   "cell_type": "code",
   "execution_count": 19,
   "id": "467bf20f",
   "metadata": {},
   "outputs": [
    {
     "data": {
      "text/plain": [
       "'ramcharan'"
      ]
     },
     "execution_count": 19,
     "metadata": {},
     "output_type": "execute_result"
    }
   ],
   "source": [
    "Tollywood_heros[7]=\"ramcharan\"\n",
    "Tollywood_heros[7]"
   ]
  },
  {
   "cell_type": "code",
   "execution_count": 20,
   "id": "f430b7ce",
   "metadata": {},
   "outputs": [
    {
     "name": "stdout",
     "output_type": "stream",
     "text": [
      "['chiranjeevi', 'balakrishan', 'nagarjuna', 'venky', 'pawan kalyan', 'maheshbabu', 'NT rama rao', 'ramcharan']\n"
     ]
    }
   ],
   "source": [
    "print(Tollywood_heros)"
   ]
  },
  {
   "cell_type": "code",
   "execution_count": 21,
   "id": "335c8bc1",
   "metadata": {},
   "outputs": [
    {
     "data": {
      "text/plain": [
       "['chiranjeevi',\n",
       " 'balakrishan',\n",
       " 'nagarjuna',\n",
       " 'venky',\n",
       " 'pawan kalyan',\n",
       " 'maheshbabu',\n",
       " 'NT rama rao',\n",
       " 'ramcharan']"
      ]
     },
     "execution_count": 21,
     "metadata": {},
     "output_type": "execute_result"
    }
   ],
   "source": [
    "Tollywood_heros"
   ]
  },
  {
   "cell_type": "code",
   "execution_count": null,
   "id": "6db0933f",
   "metadata": {},
   "outputs": [],
   "source": []
  },
  {
   "cell_type": "code",
   "execution_count": null,
   "id": "4c61f176",
   "metadata": {},
   "outputs": [],
   "source": [
    "# 1. create a dict with your family names and relation?\n",
    "# 2.create a dict with month names and month number and print december month_name and december month number?\n",
    "# 3.create a dict with flower names and flower colour and print red colour flowers and red colour flower names?"
   ]
  },
  {
   "cell_type": "code",
   "execution_count": null,
   "id": "f2429841",
   "metadata": {},
   "outputs": [],
   "source": [
    "#----------------> dict={key:key values}"
   ]
  },
  {
   "cell_type": "code",
   "execution_count": null,
   "id": "1ddc5021",
   "metadata": {},
   "outputs": [],
   "source": [
    "# 1. create a dict with your family names and relation?"
   ]
  },
  {
   "cell_type": "code",
   "execution_count": 22,
   "id": "183a25e1",
   "metadata": {},
   "outputs": [
    {
     "data": {
      "text/plain": [
       "{'family_names': ['Md.Ali',\n",
       "  'Balkis Jaha',\n",
       "  'Shahnaz Begum',\n",
       "  'Afzal Shaw',\n",
       "  'Shakeela Begum'],\n",
       " 'Relations': ['Father', 'Mother', 'Sister', 'Brother', 'Sister']}"
      ]
     },
     "execution_count": 22,
     "metadata": {},
     "output_type": "execute_result"
    }
   ],
   "source": [
    "dict={\"family_names\":[\"Md.Ali\",\"Balkis Jaha\",\"Shahnaz Begum\",\"Afzal Shaw\",\"Shakeela Begum\"],\"Relations\":[\"Father\",\"Mother\",\"Sister\",\"Brother\",\"Sister\"]}\n",
    "dict"
   ]
  },
  {
   "cell_type": "code",
   "execution_count": null,
   "id": "ab19368a",
   "metadata": {},
   "outputs": [],
   "source": []
  },
  {
   "cell_type": "code",
   "execution_count": null,
   "id": "d864889c",
   "metadata": {},
   "outputs": [],
   "source": [
    "# 2.create a dict with month names and month number and print december month_name and december month number?"
   ]
  },
  {
   "cell_type": "code",
   "execution_count": 23,
   "id": "cbedc3f3",
   "metadata": {},
   "outputs": [
    {
     "data": {
      "text/plain": [
       "{'Month_names': ['January',\n",
       "  'February',\n",
       "  'March',\n",
       "  'April',\n",
       "  'May',\n",
       "  'June',\n",
       "  'July',\n",
       "  'August',\n",
       "  'September',\n",
       "  'October',\n",
       "  'November',\n",
       "  'December'],\n",
       " 'Numbers': [1, 2, 3, 4, 5, 6, 7, 8, 9, 10, 11, 12]}"
      ]
     },
     "execution_count": 23,
     "metadata": {},
     "output_type": "execute_result"
    }
   ],
   "source": [
    "dict1={\"Month_names\":[\"January\",\"February\",\"March\",\"April\",\"May\",\"June\",\"July\",\"August\",\"September\",\"October\",\"November\",\"December\"],\"Numbers\":[1,2,3,4,5,6,7,8,9,10,11,12]}\n",
    "dict1"
   ]
  },
  {
   "cell_type": "code",
   "execution_count": 24,
   "id": "9237f8c7",
   "metadata": {},
   "outputs": [
    {
     "name": "stdout",
     "output_type": "stream",
     "text": [
      "December Month Number is: 12\n"
     ]
    }
   ],
   "source": [
    "print(\"December Month Number is:\",dict1[\"Numbers\"][11])"
   ]
  },
  {
   "cell_type": "code",
   "execution_count": 25,
   "id": "6732108f",
   "metadata": {},
   "outputs": [
    {
     "name": "stdout",
     "output_type": "stream",
     "text": [
      "12th  Month Name is: December\n"
     ]
    }
   ],
   "source": [
    "print(\"12th  Month Name is:\",dict1[\"Month_names\"][11])"
   ]
  },
  {
   "cell_type": "code",
   "execution_count": null,
   "id": "3f59005e",
   "metadata": {},
   "outputs": [],
   "source": []
  },
  {
   "cell_type": "code",
   "execution_count": null,
   "id": "55845883",
   "metadata": {},
   "outputs": [],
   "source": [
    "# 3.create a dict with flower names and flower colour and print red colour flowers and red colour flower names?"
   ]
  },
  {
   "cell_type": "code",
   "execution_count": 1,
   "id": "d00be638",
   "metadata": {},
   "outputs": [
    {
     "data": {
      "text/plain": [
       "{'flower_names': ['Rose',\n",
       "  'Jasmine',\n",
       "  'Lotus',\n",
       "  'Lily',\n",
       "  'Mari Gold',\n",
       "  'Hibiscus',\n",
       "  'Tulip'],\n",
       " 'Colour': ['Red', 'White', 'Pink', 'White', 'Yellow', 'Red', 'Blue']}"
      ]
     },
     "execution_count": 1,
     "metadata": {},
     "output_type": "execute_result"
    }
   ],
   "source": [
    "dict3={\"flower_names\":[\"Rose\",\"Jasmine\",\"Lotus\",\"Lily\",\"Mari Gold\",\"Hibiscus\",\"Tulip\"],\"Colour\":[\"Red\",\"White\",\"Pink\",\"White\",\"Yellow\",\"Red\",\"Blue\"]}\n",
    "dict3"
   ]
  },
  {
   "cell_type": "code",
   "execution_count": 2,
   "id": "00b7c861",
   "metadata": {},
   "outputs": [
    {
     "name": "stdout",
     "output_type": "stream",
     "text": [
      "Red Colour Flowers Names: Rose Hibiscus\n"
     ]
    }
   ],
   "source": [
    "print(\"Red Colour Flowers Names:\",dict3[\"flower_names\"][0],  dict3[\"flower_names\"][5])"
   ]
  },
  {
   "cell_type": "code",
   "execution_count": 3,
   "id": "5e3df933",
   "metadata": {},
   "outputs": [
    {
     "name": "stdout",
     "output_type": "stream",
     "text": [
      "Flower Colours: Red Red\n"
     ]
    }
   ],
   "source": [
    "print(\"Flower Colours:\",dict3[\"Colour\"][0],  dict3[\"Colour\"][5])"
   ]
  },
  {
   "cell_type": "code",
   "execution_count": null,
   "id": "617e38e7",
   "metadata": {},
   "outputs": [],
   "source": []
  },
  {
   "cell_type": "code",
   "execution_count": null,
   "id": "4d6a2435",
   "metadata": {},
   "outputs": [],
   "source": [
    "# 1.create a list with your family members and print your favourite one in loop?\n",
    "# 2.cretae a tuple with colour names and print fav colour in loop?"
   ]
  },
  {
   "cell_type": "code",
   "execution_count": null,
   "id": "8e87f3dc",
   "metadata": {},
   "outputs": [],
   "source": [
    "#-----------------------> list[]"
   ]
  },
  {
   "cell_type": "code",
   "execution_count": null,
   "id": "f4b0fe67",
   "metadata": {},
   "outputs": [],
   "source": [
    "# 1.create a list with your family members and print your favourite one in loop?"
   ]
  },
  {
   "cell_type": "code",
   "execution_count": 4,
   "id": "86f6039f",
   "metadata": {},
   "outputs": [
    {
     "name": "stdout",
     "output_type": "stream",
     "text": [
      "My Family member name: Md.Ali\n",
      "My Family member name: Balkis Jaha\n",
      "My Family member name: Shahnaz Begum\n",
      "My Family member name: Afzal Shaw\n",
      "My Family member name: Shakeela Begum\n"
     ]
    }
   ],
   "source": [
    "Family_members=[\"Md.Ali\",\"Balkis Jaha\",\"Shahnaz Begum\",\"Afzal Shaw\",\"Shakeela Begum\"]\n",
    "\n",
    "for S_Begum in Family_members:\n",
    "    \n",
    "    print(\"My Family member name:\",S_Begum)\n"
   ]
  },
  {
   "cell_type": "code",
   "execution_count": 5,
   "id": "b7637ad8",
   "metadata": {},
   "outputs": [
    {
     "name": "stdout",
     "output_type": "stream",
     "text": [
      "My Favorite One is: Md.Ali\n"
     ]
    }
   ],
   "source": [
    "print(\"My Favorite One is:\",Family_members[0])"
   ]
  },
  {
   "cell_type": "code",
   "execution_count": null,
   "id": "e1471977",
   "metadata": {},
   "outputs": [],
   "source": [
    "#-------------------> tuple()"
   ]
  },
  {
   "cell_type": "code",
   "execution_count": null,
   "id": "cd547708",
   "metadata": {},
   "outputs": [],
   "source": [
    "# 2.cretae a tuple with colour names and print fav colour in loop?"
   ]
  },
  {
   "cell_type": "code",
   "execution_count": 6,
   "id": "9586e147",
   "metadata": {},
   "outputs": [
    {
     "name": "stdout",
     "output_type": "stream",
     "text": [
      "Colour Name: Pink\n",
      "Colour Name: Yellow\n",
      "Colour Name: Red\n",
      "Colour Name: Blue\n",
      "Colour Name: Green\n",
      "Colour Name: Brown\n",
      "Colour Name: Voilet\n",
      "Colour Name: Orange\n",
      "Colour Name: White\n",
      "Colour Name: Black\n"
     ]
    }
   ],
   "source": [
    "Colour_names=(\"Pink\",\"Yellow\",\"Red\",\"Blue\",\"Green\",\"Brown\",\"Voilet\",\"Orange\",\"White\",\"Black\")\n",
    "\n",
    "for Begum in Colour_names:\n",
    "    \n",
    "     print(\"Colour Name:\",Begum)\n"
   ]
  },
  {
   "cell_type": "code",
   "execution_count": 7,
   "id": "e9d23b19",
   "metadata": {},
   "outputs": [
    {
     "name": "stdout",
     "output_type": "stream",
     "text": [
      "My Favorite Colour is: Pink\n"
     ]
    }
   ],
   "source": [
    "print(\"My Favorite Colour is:\",Colour_names[0])"
   ]
  },
  {
   "cell_type": "code",
   "execution_count": null,
   "id": "6ca74d0f",
   "metadata": {},
   "outputs": [],
   "source": []
  }
 ],
 "metadata": {
  "kernelspec": {
   "display_name": "Python 3 (ipykernel)",
   "language": "python",
   "name": "python3"
  },
  "language_info": {
   "codemirror_mode": {
    "name": "ipython",
    "version": 3
   },
   "file_extension": ".py",
   "mimetype": "text/x-python",
   "name": "python",
   "nbconvert_exporter": "python",
   "pygments_lexer": "ipython3",
   "version": "3.10.9"
  }
 },
 "nbformat": 4,
 "nbformat_minor": 5
}
