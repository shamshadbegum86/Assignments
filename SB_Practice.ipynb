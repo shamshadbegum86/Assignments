{
 "cells": [
  {
   "cell_type": "code",
   "execution_count": null,
   "id": "58fbb74c",
   "metadata": {},
   "outputs": [],
   "source": [
    "#----------------->list[]"
   ]
  },
  {
   "cell_type": "code",
   "execution_count": 1,
   "id": "be6ac599",
   "metadata": {},
   "outputs": [
    {
     "data": {
      "text/plain": [
       "['Jaya', 'Lakshmi', 'Sunitha', 'Radha', 'Ganga']"
      ]
     },
     "execution_count": 1,
     "metadata": {},
     "output_type": "execute_result"
    }
   ],
   "source": [
    "Names=[\"Jaya\",\"Lakshmi\",\"Sunitha\",\"Radha\",\"Ganga\"]\n",
    "Names"
   ]
  },
  {
   "cell_type": "code",
   "execution_count": 2,
   "id": "6eed1564",
   "metadata": {},
   "outputs": [
    {
     "data": {
      "text/plain": [
       "['Jaya', 'Lakshmi', 'Sunitha', 'Radhika', 'Ganga']"
      ]
     },
     "execution_count": 2,
     "metadata": {},
     "output_type": "execute_result"
    }
   ],
   "source": [
    "Names[3]=\"Radhika\"\n",
    "Names"
   ]
  },
  {
   "cell_type": "code",
   "execution_count": 3,
   "id": "8b56cc82",
   "metadata": {},
   "outputs": [
    {
     "name": "stdout",
     "output_type": "stream",
     "text": [
      "My Friends Names are: ['Jaya', 'Lakshmi', 'Sunitha', 'Radhika', 'Ganga']\n"
     ]
    }
   ],
   "source": [
    "print(\"My Friends Names are:\",Names)"
   ]
  },
  {
   "cell_type": "code",
   "execution_count": 4,
   "id": "9650fb20",
   "metadata": {},
   "outputs": [
    {
     "data": {
      "text/plain": [
       "['Jaya', 'Lakshmi', 'Sunitha', 'Radhika']"
      ]
     },
     "execution_count": 4,
     "metadata": {},
     "output_type": "execute_result"
    }
   ],
   "source": [
    "Names[0:4]"
   ]
  },
  {
   "cell_type": "code",
   "execution_count": 5,
   "id": "b1cd6328",
   "metadata": {},
   "outputs": [
    {
     "data": {
      "text/plain": [
       "['Jaya', 'Lakshmi']"
      ]
     },
     "execution_count": 5,
     "metadata": {},
     "output_type": "execute_result"
    }
   ],
   "source": [
    "Names[0:2]"
   ]
  },
  {
   "cell_type": "code",
   "execution_count": 6,
   "id": "e3dab636",
   "metadata": {},
   "outputs": [
    {
     "data": {
      "text/plain": [
       "'Jaya'"
      ]
     },
     "execution_count": 6,
     "metadata": {},
     "output_type": "execute_result"
    }
   ],
   "source": [
    "Names[0]"
   ]
  },
  {
   "cell_type": "code",
   "execution_count": null,
   "id": "62c358da",
   "metadata": {},
   "outputs": [],
   "source": [
    "#------------------>tuple()"
   ]
  },
  {
   "cell_type": "code",
   "execution_count": 8,
   "id": "98915006",
   "metadata": {},
   "outputs": [
    {
     "data": {
      "text/plain": [
       "('Jaya', 'Lakshmi', 'Sunitha', 'Radha', 'Ganga')"
      ]
     },
     "execution_count": 8,
     "metadata": {},
     "output_type": "execute_result"
    }
   ],
   "source": [
    "Friends_Names=(\"Jaya\",\"Lakshmi\",\"Sunitha\",\"Radha\",\"Ganga\")\n",
    "Friends_Names"
   ]
  },
  {
   "cell_type": "code",
   "execution_count": null,
   "id": "5aa6bac1",
   "metadata": {},
   "outputs": [],
   "source": [
    "#-------------------->set{}"
   ]
  },
  {
   "cell_type": "code",
   "execution_count": 10,
   "id": "8d6e745b",
   "metadata": {},
   "outputs": [
    {
     "data": {
      "text/plain": [
       "{1, 2, 3, 4, 5, 6, 7, 8, 9, 10}"
      ]
     },
     "execution_count": 10,
     "metadata": {},
     "output_type": "execute_result"
    }
   ],
   "source": [
    "Numbers={5,3,7,2,9,1,4,6,10,8}\n",
    "Numbers"
   ]
  },
  {
   "cell_type": "code",
   "execution_count": 11,
   "id": "b5794cb9",
   "metadata": {},
   "outputs": [
    {
     "data": {
      "text/plain": [
       "{'Fruits': ['Apple', 'Banana', 'Grapes', 'Gueva', 'Orange'],\n",
       " 'Rating': [5, 10, 15, 20, 25]}"
      ]
     },
     "execution_count": 11,
     "metadata": {},
     "output_type": "execute_result"
    }
   ],
   "source": [
    "dict={\"Fruits\":[\"Apple\",\"Banana\",\"Grapes\",\"Gueva\",\"Orange\"],\"Rating\":[5,10,15,20,25]}\n",
    "dict"
   ]
  },
  {
   "cell_type": "code",
   "execution_count": 12,
   "id": "eec3ca97",
   "metadata": {},
   "outputs": [
    {
     "data": {
      "text/plain": [
       "{'Friends_Names': ['Jaya', 'Lakshmi', 'Sunitha', 'Radha', 'Ganga']}"
      ]
     },
     "execution_count": 12,
     "metadata": {},
     "output_type": "execute_result"
    }
   ],
   "source": [
    "dict={\"Friends_Names\":[\"Jaya\",\"Lakshmi\",\"Sunitha\",\"Radha\",\"Ganga\"]}\n",
    "dict\n",
    "                     "
   ]
  },
  {
   "cell_type": "code",
   "execution_count": null,
   "id": "7fb315b0",
   "metadata": {},
   "outputs": [],
   "source": []
  },
  {
   "cell_type": "code",
   "execution_count": null,
   "id": "246ada06",
   "metadata": {},
   "outputs": [],
   "source": [
    "#---------------->Conditions"
   ]
  },
  {
   "cell_type": "code",
   "execution_count": null,
   "id": "bd1abde6",
   "metadata": {},
   "outputs": [],
   "source": [
    "if condition:\n",
    "    statements\n",
    "    statements"
   ]
  },
  {
   "cell_type": "code",
   "execution_count": null,
   "id": "53c301a6",
   "metadata": {},
   "outputs": [],
   "source": [
    "conditions\n",
    "3"
   ]
  },
  {
   "cell_type": "code",
   "execution_count": null,
   "id": "13b04682",
   "metadata": {},
   "outputs": [],
   "source": [
    "if-------------->True\n",
    "if  else--------->True or False  &  Yes or No\n",
    "if  elif  else--->More than two values"
   ]
  },
  {
   "cell_type": "code",
   "execution_count": 13,
   "id": "3b1eca53",
   "metadata": {},
   "outputs": [
    {
     "data": {
      "text/plain": [
       "20"
      ]
     },
     "execution_count": 13,
     "metadata": {},
     "output_type": "execute_result"
    }
   ],
   "source": [
    "milk_sales=20\n",
    "milk_sales"
   ]
  },
  {
   "cell_type": "code",
   "execution_count": 14,
   "id": "33e347c8",
   "metadata": {},
   "outputs": [
    {
     "data": {
      "text/plain": [
       "25"
      ]
     },
     "execution_count": 14,
     "metadata": {},
     "output_type": "execute_result"
    }
   ],
   "source": [
    "comparision_value =25\n",
    "comparision_value"
   ]
  },
  {
   "cell_type": "code",
   "execution_count": 15,
   "id": "89590cad",
   "metadata": {},
   "outputs": [
    {
     "name": "stdout",
     "output_type": "stream",
     "text": [
      "Today Business is Profit\n"
     ]
    }
   ],
   "source": [
    "milk_sales=30\n",
    "\n",
    "if milk_sales>=comparision_value:\n",
    "    print(\"Today Business is Profit\")"
   ]
  },
  {
   "cell_type": "code",
   "execution_count": null,
   "id": "8aba485d",
   "metadata": {},
   "outputs": [],
   "source": [
    "Two Conditions\n",
    "\n",
    "if\n",
    "else"
   ]
  },
  {
   "cell_type": "code",
   "execution_count": null,
   "id": "16752387",
   "metadata": {},
   "outputs": [],
   "source": [
    "25 & above profit\n",
    "25 below loss"
   ]
  },
  {
   "cell_type": "code",
   "execution_count": 1,
   "id": "7811ff02",
   "metadata": {},
   "outputs": [
    {
     "name": "stdout",
     "output_type": "stream",
     "text": [
      "Business is Profit\n"
     ]
    }
   ],
   "source": [
    "milk_sales=30\n",
    "comparision_value=25\n",
    "\n",
    "if milk_sales>=comparision_value:\n",
    "    print(\"Business is Profit\")\n",
    "else:\n",
    "    print(\"Business is loss\")"
   ]
  },
  {
   "cell_type": "code",
   "execution_count": 2,
   "id": "468d7bce",
   "metadata": {},
   "outputs": [
    {
     "name": "stdout",
     "output_type": "stream",
     "text": [
      "Business is loss\n"
     ]
    }
   ],
   "source": [
    "milk_sales=20\n",
    "comparision_value=25\n",
    "\n",
    "if milk_sales>=comparision_value:\n",
    "    print(\"Business is Profit\")\n",
    "else:\n",
    "    print(\"Business is loss\")"
   ]
  },
  {
   "cell_type": "code",
   "execution_count": null,
   "id": "696fe5c9",
   "metadata": {},
   "outputs": [],
   "source": [
    "syntax;"
   ]
  },
  {
   "cell_type": "code",
   "execution_count": null,
   "id": "ef5dfd7e",
   "metadata": {},
   "outputs": [],
   "source": [
    "if condition:\n",
    "    statement\n",
    "elif condition:\n",
    "    statement\n",
    "elif condition:\n",
    "    statement\n",
    "elif condition:\n",
    "    statement\n",
    "else:    \n",
    "    statement"
   ]
  },
  {
   "cell_type": "code",
   "execution_count": null,
   "id": "9a7e53ca",
   "metadata": {},
   "outputs": [],
   "source": [
    "logical operators\n",
    "\n",
    "and  or  not"
   ]
  },
  {
   "cell_type": "code",
   "execution_count": 3,
   "id": "679b547f",
   "metadata": {},
   "outputs": [
    {
     "name": "stdout",
     "output_type": "stream",
     "text": [
      " Bussiness is Loss\n"
     ]
    }
   ],
   "source": [
    "milk_sales=10\n",
    "\n",
    "if milk_sales>=30:\n",
    "    print(\"Business is Profit\")\n",
    "elif milk_sales>25 and  milk_sales<30:\n",
    "    print(\"Business is above average\")\n",
    "elif milk_sales>20 and milk_sales<25:\n",
    "    print(\"Business is average\")\n",
    "else:\n",
    "    print(\" Bussiness is Loss\")"
   ]
  },
  {
   "cell_type": "code",
   "execution_count": null,
   "id": "ea456d11",
   "metadata": {},
   "outputs": [],
   "source": []
  },
  {
   "cell_type": "code",
   "execution_count": null,
   "id": "bfe1411f",
   "metadata": {},
   "outputs": [],
   "source": [
    "syntax:\n",
    "    for s in seq:\n",
    "        statement\n",
    "        statement1"
   ]
  },
  {
   "cell_type": "code",
   "execution_count": null,
   "id": "55ec0fc2",
   "metadata": {},
   "outputs": [],
   "source": [
    "list/tuple/dict/set"
   ]
  },
  {
   "cell_type": "code",
   "execution_count": 4,
   "id": "0cf3fc11",
   "metadata": {},
   "outputs": [
    {
     "data": {
      "text/plain": [
       "['Jaya', 'Lakshmi', 'Sunitha', 'Radha', 'Ganga']"
      ]
     },
     "execution_count": 4,
     "metadata": {},
     "output_type": "execute_result"
    }
   ],
   "source": [
    "lst=[\"Jaya\",\"Lakshmi\",\"Sunitha\",\"Radha\",\"Ganga\"]\n",
    "lst"
   ]
  },
  {
   "cell_type": "code",
   "execution_count": null,
   "id": "f5859176",
   "metadata": {},
   "outputs": [],
   "source": [
    "for:"
   ]
  },
  {
   "cell_type": "code",
   "execution_count": 5,
   "id": "6a0fa3cb",
   "metadata": {},
   "outputs": [
    {
     "name": "stdout",
     "output_type": "stream",
     "text": [
      "My friend name is: Jaya\n",
      "My friend name is: Lakshmi\n",
      "My friend name is: Sunitha\n",
      "My friend name is: Radha\n",
      "My friend name is: Ganga\n"
     ]
    }
   ],
   "source": [
    "for S in lst:\n",
    "    print(\"My friend name is:\",S)\n"
   ]
  },
  {
   "cell_type": "code",
   "execution_count": 6,
   "id": "99abda1a",
   "metadata": {},
   "outputs": [
    {
     "name": "stdout",
     "output_type": "stream",
     "text": [
      "Jaya\n",
      "Lakshmi\n",
      "Sunitha\n",
      "Radha\n",
      "Ganga\n"
     ]
    }
   ],
   "source": [
    "for S in lst:\n",
    "    print(S)\n"
   ]
  },
  {
   "cell_type": "code",
   "execution_count": 7,
   "id": "e4a4fd40",
   "metadata": {},
   "outputs": [
    {
     "name": "stdout",
     "output_type": "stream",
     "text": [
      "Jaya\n",
      "Lakshmi\n",
      "Sunitha\n",
      "Radha\n",
      "Gamya\n"
     ]
    }
   ],
   "source": [
    "F_Names=[\"Jaya\",\"Lakshmi\",\"Sunitha\",\"Radha\",\"Gamya\"]\n",
    "\n",
    "for SB in F_Names:\n",
    "    print(SB)"
   ]
  },
  {
   "cell_type": "code",
   "execution_count": 8,
   "id": "3d53e83d",
   "metadata": {},
   "outputs": [
    {
     "name": "stdout",
     "output_type": "stream",
     "text": [
      "Radha\n"
     ]
    }
   ],
   "source": [
    "F_Names=[\"Jaya\",\"Lakshmi\",\"Sunitha\",\"Radha\",\"Ganga\"]\n",
    "print(F_Names[3])"
   ]
  },
  {
   "cell_type": "code",
   "execution_count": 9,
   "id": "31954d4d",
   "metadata": {},
   "outputs": [
    {
     "name": "stdout",
     "output_type": "stream",
     "text": [
      "Radha\n"
     ]
    }
   ],
   "source": [
    "F_Names=[\"Jaya\",\"Lakshmi\",\"Sunitha\",\"Radha\",\"Ganga\"]\n",
    "print(F_Names[-2])"
   ]
  },
  {
   "cell_type": "code",
   "execution_count": 10,
   "id": "fff55210",
   "metadata": {},
   "outputs": [],
   "source": [
    "marks=[40,50,60,70,80]"
   ]
  },
  {
   "cell_type": "code",
   "execution_count": null,
   "id": "02068ace",
   "metadata": {},
   "outputs": [],
   "source": [
    "5 addition"
   ]
  },
  {
   "cell_type": "code",
   "execution_count": 11,
   "id": "f01db59f",
   "metadata": {},
   "outputs": [
    {
     "name": "stdout",
     "output_type": "stream",
     "text": [
      "Actual value is: 40\n",
      "Additional value is: 45\n",
      "Actual value is: 50\n",
      "Additional value is: 55\n",
      "Actual value is: 60\n",
      "Additional value is: 65\n",
      "Actual value is: 70\n",
      "Additional value is: 75\n",
      "Actual value is: 80\n",
      "Additional value is: 85\n"
     ]
    }
   ],
   "source": [
    "for marksupdate in marks:\n",
    "    print(\"Actual value is:\",marksupdate)\n",
    "    new_addition = marksupdate+5\n",
    "    print(\"Additional value is:\",new_addition)"
   ]
  },
  {
   "cell_type": "code",
   "execution_count": null,
   "id": "9ce703dc",
   "metadata": {},
   "outputs": [],
   "source": []
  },
  {
   "cell_type": "code",
   "execution_count": null,
   "id": "a1d138fc",
   "metadata": {},
   "outputs": [],
   "source": [
    "#------------------------------->1. list[]"
   ]
  },
  {
   "cell_type": "code",
   "execution_count": 12,
   "id": "2266dc18",
   "metadata": {},
   "outputs": [
    {
     "name": "stdout",
     "output_type": "stream",
     "text": [
      "['Rajini', 'Lakshmi', 'Sunitha', 'Radha', 'Gamya', 'Priya', 'Divya', 'Jyothi', 'Swapna', 'Revathi']\n"
     ]
    }
   ],
   "source": [
    "#1. Create a list (friend_names) with your friend names (10 names)\n",
    "\n",
    "lst=[\"Rajini\",\"Lakshmi\",\"Sunitha\",\"Radha\",\"Gamya\",\"Priya\",\"Divya\",\"Jyothi\",\"Swapna\",\"Revathi\"]\n",
    "\n",
    "print(lst)"
   ]
  },
  {
   "cell_type": "code",
   "execution_count": null,
   "id": "340ffa9d",
   "metadata": {},
   "outputs": [],
   "source": [
    "#------------------------------->2. tuple()"
   ]
  },
  {
   "cell_type": "code",
   "execution_count": 13,
   "id": "d95705ec",
   "metadata": {},
   "outputs": [
    {
     "name": "stdout",
     "output_type": "stream",
     "text": [
      "('Mohammad Ali', 'Balkis Jaha', 'Shahanaz Begum', 'Irfhan', 'Afzal Shaw', 'Shamshad', 'Md. Karamatulla', 'Shannu', 'Bhanu', 'Shakeeela')\n"
     ]
    }
   ],
   "source": [
    "#2. Create a tuple (family_members) with your family members?\n",
    "\n",
    "tuple=(\"Mohammad Ali\",\"Balkis Jaha\",\"Shahanaz Begum\",\"Irfhan\",\"Afzal Shaw\",\"Shamshad\",\"Md. Karamatulla\",\"Shannu\",\"Bhanu\",\"Shakeeela\")\n",
    "\n",
    "print(tuple)"
   ]
  },
  {
   "cell_type": "code",
   "execution_count": null,
   "id": "68dea8bc",
   "metadata": {},
   "outputs": [],
   "source": [
    "#-------------------------------->3. set{}"
   ]
  },
  {
   "cell_type": "code",
   "execution_count": 14,
   "id": "91b1b9cd",
   "metadata": {},
   "outputs": [
    {
     "name": "stdout",
     "output_type": "stream",
     "text": [
      "{'Green', 'Orange', 'Red', 'Voilet', 'Black', 'Yellow', 'White', 'Blue', 'Brown', 'Pink'}\n"
     ]
    }
   ],
   "source": [
    "#3. Create a set (colours) with colour names(10 names)?\n",
    "\n",
    "set={\"Red\",\"Green\",\"Yellow\",\"Brown\",\"White\",\"Blue\",\"Pink\",\"Voilet\",\"Orange\",\"Black\"}\n",
    "\n",
    "print(set)"
   ]
  },
  {
   "cell_type": "code",
   "execution_count": 15,
   "id": "db3c07ba",
   "metadata": {},
   "outputs": [
    {
     "name": "stdout",
     "output_type": "stream",
     "text": [
      "{1, 2, 3, 4, 5, 6, 7, 8, 9, 10}\n"
     ]
    }
   ],
   "source": [
    "#4. month_names=[1,9,10,5,3,2,7,8,6,4] , sort the list--> write a program?\n",
    "\n",
    "set={8,5,2,9,6,4,1,7,3,8,5,10}\n",
    "\n",
    "print(set)\n"
   ]
  },
  {
   "cell_type": "code",
   "execution_count": null,
   "id": "4b5d9668",
   "metadata": {},
   "outputs": [],
   "source": [
    "#--------------------------------->4. Dictionary {}"
   ]
  },
  {
   "cell_type": "code",
   "execution_count": 16,
   "id": "65d3bd74",
   "metadata": {},
   "outputs": [
    {
     "name": "stdout",
     "output_type": "stream",
     "text": [
      "{'family_members': ['Md. Ali', 'Balkis Jaha', 'Shahanaz Begum', 'Irfhan', 'Afzal Shaw', 'Shakeela Begum', 'Shamshad Begum', 'Md. Karamatulla', 'Shannu', 'Bhanu']}\n"
     ]
    }
   ],
   "source": [
    "#5. Create a dict with your family members(at least 10 names)?\n",
    "\n",
    "dict={\"family_members\":[\"Md. Ali\",\"Balkis Jaha\",\"Shahanaz Begum\",\"Irfhan\",\"Afzal Shaw\",\"Shakeela Begum\",\"Shamshad Begum\",\"Md. Karamatulla\",\"Shannu\",\"Bhanu\"]}\n",
    "\n",
    "print(dict)"
   ]
  },
  {
   "cell_type": "code",
   "execution_count": 17,
   "id": "057f4e6f",
   "metadata": {},
   "outputs": [
    {
     "name": "stdout",
     "output_type": "stream",
     "text": [
      "{'family_members': ['Md. Ali', 'Balkis Jaha', 'Shahanaz Begum', 'Irfhan', 'Afzal Shaw', 'Shakeela Begum', 'Shamshad Begum', 'Md. Karamatulla', 'Shannu', 'Bhanu'], 'Relation': ['Father', 'Mother', 'Sister', 'Brother', 'Sister', 'Me', 'Husband', 'Daughter', 'Daughter']}\n"
     ]
    }
   ],
   "source": [
    "dict={\"family_members\":[\"Md. Ali\",\"Balkis Jaha\",\"Shahanaz Begum\",\"Irfhan\",\"Afzal Shaw\",\"Shakeela Begum\",\"Shamshad Begum\",\"Md. Karamatulla\",\"Shannu\",\"Bhanu\"],\"Relation\":[\"Father\",\"Mother\",\"Sister\",\"Brother\",\"Sister\",\"Me\",\"Husband\",\"Daughter\",\"Daughter\"]}\n",
    "\n",
    "print(dict)"
   ]
  },
  {
   "cell_type": "code",
   "execution_count": 18,
   "id": "73fe10c8",
   "metadata": {},
   "outputs": [
    {
     "data": {
      "text/plain": [
       "{'family_members': ['Md. Ali',\n",
       "  'Balkis Jaha',\n",
       "  'Shahanaz Begum',\n",
       "  'Irfhan',\n",
       "  'Afzal Shaw',\n",
       "  'Shakeela Begum',\n",
       "  'Shamshad Begum',\n",
       "  'Md. Karamatulla',\n",
       "  'Shannu',\n",
       "  'Bhanu'],\n",
       " 'Relation': ['Father',\n",
       "  'Mother',\n",
       "  'Sister',\n",
       "  'Brother',\n",
       "  'Sister',\n",
       "  'Me',\n",
       "  'Husband',\n",
       "  'Daughter',\n",
       "  'Daughter']}"
      ]
     },
     "execution_count": 18,
     "metadata": {},
     "output_type": "execute_result"
    }
   ],
   "source": [
    "dict"
   ]
  },
  {
   "cell_type": "code",
   "execution_count": 1,
   "id": "6980715c",
   "metadata": {},
   "outputs": [
    {
     "name": "stdout",
     "output_type": "stream",
     "text": [
      "<class 'dict'>\n"
     ]
    }
   ],
   "source": [
    "print(dict)"
   ]
  },
  {
   "cell_type": "code",
   "execution_count": null,
   "id": "d2bc55d3",
   "metadata": {},
   "outputs": [],
   "source": [
    "import pandas as pd\n",
    "df=pd.DataFrame(dict)\n",
    "df"
   ]
  },
  {
   "cell_type": "code",
   "execution_count": null,
   "id": "d78b667f",
   "metadata": {},
   "outputs": [],
   "source": []
  }
 ],
 "metadata": {
  "kernelspec": {
   "display_name": "Python 3 (ipykernel)",
   "language": "python",
   "name": "python3"
  },
  "language_info": {
   "codemirror_mode": {
    "name": "ipython",
    "version": 3
   },
   "file_extension": ".py",
   "mimetype": "text/x-python",
   "name": "python",
   "nbconvert_exporter": "python",
   "pygments_lexer": "ipython3",
   "version": "3.10.9"
  }
 },
 "nbformat": 4,
 "nbformat_minor": 5
}
