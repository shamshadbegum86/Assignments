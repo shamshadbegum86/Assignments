{
 "cells": [
  {
   "cell_type": "code",
   "execution_count": null,
   "id": "e4df6878",
   "metadata": {},
   "outputs": [],
   "source": [
    "#-----------------Conditions"
   ]
  },
  {
   "cell_type": "code",
   "execution_count": null,
   "id": "10fb423a",
   "metadata": {},
   "outputs": [],
   "source": [
    "syntax:"
   ]
  },
  {
   "cell_type": "code",
   "execution_count": null,
   "id": "6008ed7b",
   "metadata": {
    "collapsed": true
   },
   "outputs": [],
   "source": [
    "if condition:\n",
    "    statements\n",
    "    statements"
   ]
  },
  {
   "cell_type": "code",
   "execution_count": null,
   "id": "53f9fea2",
   "metadata": {},
   "outputs": [],
   "source": [
    "conditions\n",
    "3"
   ]
  },
  {
   "cell_type": "code",
   "execution_count": null,
   "id": "5c7ed005",
   "metadata": {},
   "outputs": [],
   "source": [
    "if-------------->True\n",
    "if  else--------->True or False  &  Yes or No\n",
    "if  elif  else--->More than two values"
   ]
  },
  {
   "cell_type": "code",
   "execution_count": 1,
   "id": "eb675f4a",
   "metadata": {},
   "outputs": [
    {
     "data": {
      "text/plain": [
       "20"
      ]
     },
     "execution_count": 1,
     "metadata": {},
     "output_type": "execute_result"
    }
   ],
   "source": [
    "milk_sales=20\n",
    "milk_sales"
   ]
  },
  {
   "cell_type": "code",
   "execution_count": 2,
   "id": "71085d91",
   "metadata": {},
   "outputs": [
    {
     "data": {
      "text/plain": [
       "25"
      ]
     },
     "execution_count": 2,
     "metadata": {},
     "output_type": "execute_result"
    }
   ],
   "source": [
    "comparision_value =25\n",
    "comparision_value"
   ]
  },
  {
   "cell_type": "code",
   "execution_count": 3,
   "id": "d64f5414",
   "metadata": {},
   "outputs": [],
   "source": [
    "milk_sales=28"
   ]
  },
  {
   "cell_type": "code",
   "execution_count": 4,
   "id": "5385cfea",
   "metadata": {},
   "outputs": [
    {
     "name": "stdout",
     "output_type": "stream",
     "text": [
      "Today Bussiness is Profit\n"
     ]
    }
   ],
   "source": [
    "if milk_sales >=comparision_value:\n",
    "    print(\"Today Bussiness is Profit\")\n",
    "    "
   ]
  },
  {
   "cell_type": "code",
   "execution_count": 5,
   "id": "eefd10ab",
   "metadata": {},
   "outputs": [
    {
     "name": "stdout",
     "output_type": "stream",
     "text": [
      "Today Bussiness is Profit\n",
      "Bussiness is Started\n",
      "Bussiness is Ended\n"
     ]
    }
   ],
   "source": [
    "milk_sales =35\n",
    "\n",
    "if milk_sales >=comparision_value:\n",
    "    print(\"Today Bussiness is Profit\")\n",
    "print(\"Bussiness is Started\")\n",
    "print(\"Bussiness is Ended\")"
   ]
  },
  {
   "cell_type": "code",
   "execution_count": null,
   "id": "c5921aa8",
   "metadata": {},
   "outputs": [],
   "source": [
    "two conditions\n",
    "\n",
    "if\n",
    "else"
   ]
  },
  {
   "cell_type": "code",
   "execution_count": null,
   "id": "50e66e47",
   "metadata": {},
   "outputs": [],
   "source": [
    "milk_sales=28"
   ]
  },
  {
   "cell_type": "code",
   "execution_count": null,
   "id": "4c3f5240",
   "metadata": {},
   "outputs": [],
   "source": [
    "25 & above profit\n",
    "25 below loss"
   ]
  },
  {
   "cell_type": "code",
   "execution_count": 6,
   "id": "13fea759",
   "metadata": {},
   "outputs": [],
   "source": [
    "milk_sales=30\n",
    "comparision_value=25"
   ]
  },
  {
   "cell_type": "code",
   "execution_count": 7,
   "id": "57fa2f5a",
   "metadata": {},
   "outputs": [
    {
     "name": "stdout",
     "output_type": "stream",
     "text": [
      " Bussiness is Profit\n"
     ]
    }
   ],
   "source": [
    "if milk_sales >=comparision_value:\n",
    "    print(\" Bussiness is Profit\")\n",
    "else:\n",
    "     print(\" Bussiness is Loss\")"
   ]
  },
  {
   "cell_type": "code",
   "execution_count": 8,
   "id": "b0073ece",
   "metadata": {},
   "outputs": [],
   "source": [
    "milk_sales=20\n",
    "comparision_value=25"
   ]
  },
  {
   "cell_type": "code",
   "execution_count": 9,
   "id": "fca87216",
   "metadata": {},
   "outputs": [
    {
     "name": "stdout",
     "output_type": "stream",
     "text": [
      " Bussiness is Loss\n"
     ]
    }
   ],
   "source": [
    "if milk_sales >=comparision_value:\n",
    "    print(\" Bussiness is Profit\")\n",
    "else:\n",
    "     print(\" Bussiness is Loss\")"
   ]
  },
  {
   "cell_type": "code",
   "execution_count": null,
   "id": "bdc7158d",
   "metadata": {},
   "outputs": [],
   "source": [
    "syntax;"
   ]
  },
  {
   "cell_type": "code",
   "execution_count": null,
   "id": "bdfaff06",
   "metadata": {},
   "outputs": [],
   "source": [
    "if condition:\n",
    "    statement\n",
    "elif condition:\n",
    "    statement\n",
    "elif condition:\n",
    "    statement\n",
    "elif condition:\n",
    "    statement\n",
    "else:    \n",
    "    statement"
   ]
  },
  {
   "cell_type": "code",
   "execution_count": null,
   "id": "5d2c9cd7",
   "metadata": {},
   "outputs": [],
   "source": [
    "logical operators\n",
    "and  or  not"
   ]
  },
  {
   "cell_type": "code",
   "execution_count": 10,
   "id": "96416594",
   "metadata": {},
   "outputs": [],
   "source": [
    "milk_sale=24"
   ]
  },
  {
   "cell_type": "code",
   "execution_count": 11,
   "id": "e6798b15",
   "metadata": {},
   "outputs": [
    {
     "name": "stdout",
     "output_type": "stream",
     "text": [
      " Bussiness is Average\n"
     ]
    }
   ],
   "source": [
    "if milk_sale>=30:\n",
    "    print(\" Bussiness is Profit\")\n",
    "elif milk_sale>25 and milk_sales<30:\n",
    "    print(\" Bussiness is Above Average\")\n",
    "elif milk_sale>20 and milk_sales<25:\n",
    "    print(\" Bussiness is Average\")\n",
    "else:\n",
    "    print(\" Bussiness is Loss\")\n",
    "    "
   ]
  },
  {
   "cell_type": "code",
   "execution_count": 13,
   "id": "9b3903e2",
   "metadata": {},
   "outputs": [
    {
     "name": "stdout",
     "output_type": "stream",
     "text": [
      " Bussiness is Above Average\n"
     ]
    }
   ],
   "source": [
    "milk_sale=28\n",
    "\n",
    "if milk_sale>=30:\n",
    "    print(\" Bussiness is Profit\")\n",
    "elif milk_sale>25 and milk_sales<30:\n",
    "    print(\" Bussiness is Above Average\")\n",
    "elif milk_sale>20 and milk_sales<25:\n",
    "    print(\" Bussiness is Average\")\n",
    "else:\n",
    "    print(\" Bussiness is Loss\")"
   ]
  },
  {
   "cell_type": "code",
   "execution_count": 14,
   "id": "036ecc15",
   "metadata": {},
   "outputs": [
    {
     "name": "stdout",
     "output_type": "stream",
     "text": [
      " Bussiness is Profit\n"
     ]
    }
   ],
   "source": [
    "milk_sale=40\n",
    "\n",
    "if milk_sale>=30:\n",
    "    print(\" Bussiness is Profit\")\n",
    "elif milk_sale>25 and milk_sales<30:\n",
    "    print(\" Bussiness is Above Average\")\n",
    "elif milk_sale>20 and milk_sales<25:\n",
    "    print(\" Bussiness is Average\")\n",
    "else:\n",
    "    print(\" Bussiness is Loss\")"
   ]
  },
  {
   "cell_type": "code",
   "execution_count": 15,
   "id": "9a234dbd",
   "metadata": {},
   "outputs": [
    {
     "name": "stdout",
     "output_type": "stream",
     "text": [
      " Bussiness is Loss\n"
     ]
    }
   ],
   "source": [
    "milk_sale=15\n",
    "\n",
    "if milk_sale>=30:\n",
    "    print(\" Bussiness is Profit\")\n",
    "elif milk_sale>25 and milk_sales<30:\n",
    "    print(\" Bussiness is Above Average\")\n",
    "elif milk_sale>20 and milk_sales<25:\n",
    "    print(\" Bussiness is Average\")\n",
    "else:\n",
    "    print(\" Bussiness is Loss\")"
   ]
  },
  {
   "cell_type": "code",
   "execution_count": null,
   "id": "c9aeb7d8",
   "metadata": {},
   "outputs": [],
   "source": []
  }
 ],
 "metadata": {
  "kernelspec": {
   "display_name": "Python 3 (ipykernel)",
   "language": "python",
   "name": "python3"
  },
  "language_info": {
   "codemirror_mode": {
    "name": "ipython",
    "version": 3
   },
   "file_extension": ".py",
   "mimetype": "text/x-python",
   "name": "python",
   "nbconvert_exporter": "python",
   "pygments_lexer": "ipython3",
   "version": "3.10.9"
  }
 },
 "nbformat": 4,
 "nbformat_minor": 5
}
