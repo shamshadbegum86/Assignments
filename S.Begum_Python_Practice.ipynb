{
 "cells": [
  {
   "cell_type": "code",
   "execution_count": null,
   "id": "a5b3fab9",
   "metadata": {},
   "outputs": [],
   "source": [
    "#----------------->1.Dictionary slicing"
   ]
  },
  {
   "cell_type": "code",
   "execution_count": null,
   "id": "235e7640",
   "metadata": {},
   "outputs": [],
   "source": []
  },
  {
   "cell_type": "code",
   "execution_count": 1,
   "id": "39db5eb6",
   "metadata": {},
   "outputs": [
    {
     "name": "stdout",
     "output_type": "stream",
     "text": [
      "{'Friend_Names': ['Shabana', 'Hanima', 'Rehana', 'Mallika', 'Aliya', 'Hamida', 'Sabera', 'Sony', 'Raziya', 'Mallika', 'Shafheka', 'Hanima'], 'Quality': ['Intelligent', 'Active', 'Humanity', 'Claver', 'Good', 'Cool', 'Silent', 'Helpfull', 'Hard Working', 'Funny']}\n"
     ]
    }
   ],
   "source": [
    "dict={\"Friend_Names\":[\"Shabana\",\"Hanima\",\"Rehana\",\"Mallika\",\"Aliya\",\"Hamida\",\"Sabera\",\"Sony\",\"Raziya\",\"Mallika\",\"Shafheka\",\"Hanima\"],\"Quality\":[\"Intelligent\",\"Active\",\"Humanity\",\"Claver\",\"Good\",\"Cool\",\"Silent\",\"Helpfull\",\"Hard Working\",\"Funny\"]}\n",
    "print(dict)"
   ]
  },
  {
   "cell_type": "code",
   "execution_count": 9,
   "id": "2fa26a3a",
   "metadata": {},
   "outputs": [
    {
     "data": {
      "text/plain": [
       "{'Friend_Names': ['Shabana',\n",
       "  'Hanima',\n",
       "  'Rehana',\n",
       "  'Mallika',\n",
       "  'Aliya',\n",
       "  'Hamida',\n",
       "  'Sabera',\n",
       "  'Sony',\n",
       "  'Raziya',\n",
       "  'Mallika',\n",
       "  'Shafheka',\n",
       "  'Hanima'],\n",
       " 'Quality': ['Intelligent',\n",
       "  'Active',\n",
       "  'Humanity',\n",
       "  'Claver',\n",
       "  'Good',\n",
       "  'Cool',\n",
       "  'Silent',\n",
       "  'Helpfull',\n",
       "  'Hard Working',\n",
       "  'Funny']}"
      ]
     },
     "execution_count": 9,
     "metadata": {},
     "output_type": "execute_result"
    }
   ],
   "source": [
    "dict"
   ]
  },
  {
   "cell_type": "code",
   "execution_count": null,
   "id": "2738157a",
   "metadata": {},
   "outputs": [],
   "source": [
    "import pandas as pd\n",
    "df=pd.DataFrame(dict)\n",
    "df"
   ]
  },
  {
   "cell_type": "code",
   "execution_count": null,
   "id": "9d02cd9c",
   "metadata": {},
   "outputs": [],
   "source": [
    "df=pd.DataFrame(dict)\n",
    "df"
   ]
  },
  {
   "cell_type": "code",
   "execution_count": null,
   "id": "3efcdfaf",
   "metadata": {},
   "outputs": [],
   "source": [
    "df.keys()"
   ]
  },
  {
   "cell_type": "code",
   "execution_count": null,
   "id": "534c6e6c",
   "metadata": {},
   "outputs": [],
   "source": [
    "df[\"Friend_Names\"][0]"
   ]
  },
  {
   "cell_type": "code",
   "execution_count": null,
   "id": "5c57d2a0",
   "metadata": {},
   "outputs": [],
   "source": [
    "df[\"Friend_Names\"][0:5]"
   ]
  },
  {
   "cell_type": "code",
   "execution_count": null,
   "id": "37015c8c",
   "metadata": {},
   "outputs": [],
   "source": [
    "df[\"Friend_Names\"][6:10]"
   ]
  },
  {
   "cell_type": "code",
   "execution_count": null,
   "id": "280e8973",
   "metadata": {},
   "outputs": [],
   "source": [
    "df[\"Friend_Names\"][0:2]"
   ]
  },
  {
   "cell_type": "code",
   "execution_count": null,
   "id": "7dcfa90a",
   "metadata": {},
   "outputs": [],
   "source": [
    "df[\"Friend_Names\"][:-3]"
   ]
  },
  {
   "cell_type": "code",
   "execution_count": null,
   "id": "e91702ed",
   "metadata": {},
   "outputs": [],
   "source": [
    "df[\"Friend_Names\"][:-5]"
   ]
  },
  {
   "cell_type": "code",
   "execution_count": null,
   "id": "1fb1f75b",
   "metadata": {},
   "outputs": [],
   "source": [
    "df[\"Friend_Names\"][-5:]"
   ]
  },
  {
   "cell_type": "code",
   "execution_count": null,
   "id": "5bd021c9",
   "metadata": {},
   "outputs": [],
   "source": []
  },
  {
   "cell_type": "code",
   "execution_count": null,
   "id": "0b3ed62f",
   "metadata": {},
   "outputs": [],
   "source": [
    "#-------------------->2.⁠loops with dictionary"
   ]
  },
  {
   "cell_type": "code",
   "execution_count": null,
   "id": "ef96b2f2",
   "metadata": {},
   "outputs": [],
   "source": []
  },
  {
   "cell_type": "code",
   "execution_count": null,
   "id": "b447fe22",
   "metadata": {},
   "outputs": [],
   "source": [
    "df={\"Friend_Names\":[\"Shabana\",\"Hanima\",\"Rehana\",\"Mallika\",\"Aliya\",\"Hamida\",\"Sabera\",\"Sony\",\"Raziya\",\"Mallika\",\"Shafheka\",\"Hanima\"],\"Quality\":[\"Intelligent\",\"Active\",\"Humanity\",\"Claver\",\"Good\",\"Cool\",\"Silent\",\"Helpfull\",\"Hard Working\",\"Funny\"]}}\n",
    "for key,value in df.items(): \n",
    "    print(key,value)"
   ]
  },
  {
   "cell_type": "code",
   "execution_count": null,
   "id": "e40b3606",
   "metadata": {},
   "outputs": [],
   "source": [
    "#---------------------->3.loops conditions with dictionary"
   ]
  },
  {
   "cell_type": "code",
   "execution_count": null,
   "id": "0e5cd01a",
   "metadata": {},
   "outputs": [],
   "source": []
  },
  {
   "cell_type": "code",
   "execution_count": null,
   "id": "05ec5397",
   "metadata": {},
   "outputs": [],
   "source": [
    "df={\"Friend_Names\":[\"Shabana\",\"Hanima\",\"Rehana\",\"Mallika\",\"Aliya\",\"Hamida\",\"Sabera\",\"Sony\",\"Raziya\",\"Mallika\",\"Shafheka\",\"Hanima\"],\"Quality\":[\"Intelligent\",\"Active\",\"Humanity\",\"Claver\",\"Good\",\"Cool\",\"Silent\",\"Helpfull\",\"Hard Working\",\"Funny\"]}}\n",
    "for x in df:\n",
    "    print(df)"
   ]
  },
  {
   "cell_type": "code",
   "execution_count": null,
   "id": "078d8842",
   "metadata": {},
   "outputs": [],
   "source": [
    "#-------------------------->4.⁠user define function creation"
   ]
  },
  {
   "cell_type": "code",
   "execution_count": null,
   "id": "d47dc88e",
   "metadata": {},
   "outputs": [],
   "source": []
  },
  {
   "cell_type": "code",
   "execution_count": null,
   "id": "85901509",
   "metadata": {},
   "outputs": [],
   "source": [
    "def fun():\n",
    "    Friend_Names=(\"Shabana\",\"Hanima\")\n",
    "    Qulity=(\"Intelligent\",\"Active\")\n",
    "    return( Friend_Names,Qulity)\n",
    "\n",
    "(Friend_Names,Qulity)=fun()\n",
    "print(fun())"
   ]
  },
  {
   "cell_type": "code",
   "execution_count": null,
   "id": "4a58c990",
   "metadata": {},
   "outputs": [],
   "source": [
    "#-------------------------->5.⁠⁠pandas filter (row filters , columns filter , value filter)"
   ]
  },
  {
   "cell_type": "code",
   "execution_count": null,
   "id": "6d78357f",
   "metadata": {},
   "outputs": [],
   "source": []
  },
  {
   "cell_type": "code",
   "execution_count": null,
   "id": "2ad50601",
   "metadata": {},
   "outputs": [],
   "source": [
    "import pandas\n",
    "import pandas as pd\n",
    "df=pd.read_excel(r)\n",
    "df"
   ]
  },
  {
   "cell_type": "code",
   "execution_count": null,
   "id": "5eb9ae90",
   "metadata": {},
   "outputs": [],
   "source": [
    "df.s_no.unique()"
   ]
  },
  {
   "cell_type": "code",
   "execution_count": null,
   "id": "730e97c3",
   "metadata": {},
   "outputs": [],
   "source": [
    "df.friend_names.unique()"
   ]
  },
  {
   "cell_type": "code",
   "execution_count": null,
   "id": "700541d1",
   "metadata": {},
   "outputs": [],
   "source": [
    "df.quality.unique()"
   ]
  },
  {
   "cell_type": "code",
   "execution_count": null,
   "id": "f4d040bf",
   "metadata": {},
   "outputs": [],
   "source": [
    "df.columns"
   ]
  },
  {
   "cell_type": "code",
   "execution_count": null,
   "id": "fd707cc9",
   "metadata": {},
   "outputs": [],
   "source": [
    "df[df[\"friend_names\"]==\"Shabana\"]"
   ]
  },
  {
   "cell_type": "code",
   "execution_count": null,
   "id": "0b235395",
   "metadata": {},
   "outputs": [],
   "source": [
    "df[df[\"friend_names\"]!=\"Shabana\"]"
   ]
  },
  {
   "cell_type": "code",
   "execution_count": null,
   "id": "69b3a36b",
   "metadata": {},
   "outputs": [],
   "source": [
    "#---------------------------->6.⁠pandas group by"
   ]
  },
  {
   "cell_type": "code",
   "execution_count": null,
   "id": "17361ed2",
   "metadata": {},
   "outputs": [],
   "source": []
  },
  {
   "cell_type": "code",
   "execution_count": null,
   "id": "fa16e22c",
   "metadata": {},
   "outputs": [],
   "source": [
    "import pandas\n",
    "import pandas as pd\n",
    "df=pd.read_excel(r\"C:\\Users\\hp\\OneDrive\\Documents\\swathi_pandas_1\\students_markes.xlsx\")\n",
    "df"
   ]
  },
  {
   "cell_type": "code",
   "execution_count": null,
   "id": "feb5e8eb",
   "metadata": {},
   "outputs": [],
   "source": [
    "df1=df.groupby(\"names\")[\"markes\"].sum()\n",
    "df1"
   ]
  },
  {
   "cell_type": "code",
   "execution_count": null,
   "id": "251ec712",
   "metadata": {},
   "outputs": [],
   "source": [
    "df2=df.groupby(\"names\")[\"markes\"].count()\n",
    "df2"
   ]
  },
  {
   "cell_type": "code",
   "execution_count": null,
   "id": "2197baf3",
   "metadata": {},
   "outputs": [],
   "source": [
    "#---------------------->7.⁠pandas merges and joins"
   ]
  },
  {
   "cell_type": "code",
   "execution_count": null,
   "id": "309bc6d2",
   "metadata": {},
   "outputs": [],
   "source": []
  },
  {
   "cell_type": "code",
   "execution_count": null,
   "id": "5c1cf4a6",
   "metadata": {},
   "outputs": [],
   "source": [
    "import pandas\n",
    "import pandas as pd\n",
    "df1_sch=pd.read_excel(r\"C:\\Users\\hp\\OneDrive\\Documents\\antssignme_12\\school_mets_names.xlsx\")\n",
    "df1_sch"
   ]
  },
  {
   "cell_type": "code",
   "execution_count": null,
   "id": "b6763cef",
   "metadata": {},
   "outputs": [],
   "source": [
    "import pandas\n",
    "import pandas as pd\n",
    "df2_coll=pd.read_excel(r\"C:\\Users\\hp\\OneDrive\\Documents\\antssignme_12\\college_mets_names.xlsx\")\n",
    "df2_coll"
   ]
  },
  {
   "cell_type": "code",
   "execution_count": null,
   "id": "ea7462a9",
   "metadata": {},
   "outputs": [],
   "source": [
    "pd.concat([df1_sch,df2_coll], axis=1)"
   ]
  },
  {
   "cell_type": "code",
   "execution_count": null,
   "id": "1e391769",
   "metadata": {},
   "outputs": [],
   "source": [
    "pd.concat([df1_sch,df2_coll], axis=0)"
   ]
  },
  {
   "cell_type": "code",
   "execution_count": null,
   "id": "cf434d0d",
   "metadata": {},
   "outputs": [],
   "source": [
    "df_inner_merge=df1_sch.merge(df2_coll,how='inner',on='friend_names')\n",
    "df_inner_merge"
   ]
  },
  {
   "cell_type": "code",
   "execution_count": null,
   "id": "b3087331",
   "metadata": {},
   "outputs": [],
   "source": [
    "df_left_merge=df1_sch.merge(df2_coll,how='left',on='friend_names')\n",
    "df_left_merge"
   ]
  },
  {
   "cell_type": "code",
   "execution_count": null,
   "id": "6f043ce0",
   "metadata": {},
   "outputs": [],
   "source": [
    "df_right_merge=df1_sch.merge(df2_coll,how='left',on='friend_names')\n",
    "df_right_merge"
   ]
  },
  {
   "cell_type": "code",
   "execution_count": null,
   "id": "1bcbb0e4",
   "metadata": {},
   "outputs": [],
   "source": [
    "df_outer_merge=df1_sch.merge(df2_coll,how='outer',on='friend_names')\n",
    "df_outer_merge"
   ]
  },
  {
   "cell_type": "code",
   "execution_count": null,
   "id": "b163d045",
   "metadata": {},
   "outputs": [],
   "source": [
    "#-------------------------->pandas groupby"
   ]
  },
  {
   "cell_type": "code",
   "execution_count": null,
   "id": "12dccd01",
   "metadata": {},
   "outputs": [],
   "source": []
  },
  {
   "cell_type": "code",
   "execution_count": null,
   "id": "d219b1c0",
   "metadata": {},
   "outputs": [],
   "source": [
    "df1=pd.DataFrame(df)\n",
    "df1"
   ]
  },
  {
   "cell_type": "code",
   "execution_count": null,
   "id": "02d6c088",
   "metadata": {},
   "outputs": [],
   "source": [
    "df2=df.groupby(\"CarName\")[\"horsepower\"].count()\n",
    "df2"
   ]
  },
  {
   "cell_type": "code",
   "execution_count": null,
   "id": "f772b688",
   "metadata": {},
   "outputs": [],
   "source": [
    "df3=df.groupby(\"CarName\")[\"horsepower\"].sum()\n",
    "df3"
   ]
  },
  {
   "cell_type": "code",
   "execution_count": null,
   "id": "3c370dda",
   "metadata": {},
   "outputs": [],
   "source": [
    "df4=df.groupby([\"CarName\",\"fueltype\"])[\"price\"].count()\n",
    "df4"
   ]
  },
  {
   "cell_type": "code",
   "execution_count": null,
   "id": "9c5edccd",
   "metadata": {},
   "outputs": [],
   "source": [
    "df5=df.groupby([\"CarName\",\"fueltype\"])[\"price\"].sum()\n",
    "df5"
   ]
  },
  {
   "cell_type": "code",
   "execution_count": null,
   "id": "cf515fe7",
   "metadata": {},
   "outputs": [],
   "source": [
    "df6=df.groupby([\"CarName\",\"fueltype\"]).agg({\"horsepower\":[\"sum\",\"count\",\"mean\",\"median\"],\"enginesize\":[\"count\",\"sum\"]})\n",
    "df6"
   ]
  },
  {
   "cell_type": "code",
   "execution_count": null,
   "id": "253891b9",
   "metadata": {},
   "outputs": [],
   "source": [
    "df7=df.groupby([\"CarName\",\"doornumber\"]).agg({\"peakrpm\":[\"sum\",\"count\",\"mean\",\"median\"],\"highwaympg\":[\"count\",\"sum\"]})\n",
    "df7"
   ]
  },
  {
   "cell_type": "code",
   "execution_count": null,
   "id": "60c4d40a",
   "metadata": {},
   "outputs": [],
   "source": [
    "df8=df.groupby([\"CarName\",\"doornumber\"])[\"price\"].sum()\n",
    "df8"
   ]
  },
  {
   "cell_type": "code",
   "execution_count": null,
   "id": "453b7753",
   "metadata": {},
   "outputs": [],
   "source": [
    "df9=df.groupby([\"CarName\",\"doornumber\"])[\"price\"].count()\n",
    "df9"
   ]
  },
  {
   "cell_type": "code",
   "execution_count": null,
   "id": "c5ae0657",
   "metadata": {},
   "outputs": [],
   "source": [
    "#-------------------------------->pivot table"
   ]
  },
  {
   "cell_type": "code",
   "execution_count": null,
   "id": "b30138d6",
   "metadata": {},
   "outputs": [],
   "source": []
  },
  {
   "cell_type": "code",
   "execution_count": null,
   "id": "0a49f640",
   "metadata": {},
   "outputs": [],
   "source": [
    "df10=pd.pivot_table(df,values='doornumber',index='CarName',columns='horsepower',aggfunc='sum')\n",
    "df10"
   ]
  },
  {
   "cell_type": "code",
   "execution_count": null,
   "id": "3111627b",
   "metadata": {},
   "outputs": [],
   "source": [
    "df11=pd.pivot_table(df,values='doornumber',index='CarName',columns='horsepower',aggfunc='count')\n",
    "df11"
   ]
  },
  {
   "cell_type": "code",
   "execution_count": null,
   "id": "5e3457a8",
   "metadata": {},
   "outputs": [],
   "source": [
    "df12=pd.pivot_table(df,values='price',index='CarName',columns='carbody',aggfunc='sum')\n",
    "df12"
   ]
  },
  {
   "cell_type": "code",
   "execution_count": null,
   "id": "288a2199",
   "metadata": {},
   "outputs": [],
   "source": [
    "df12=pd.pivot_table(df,values='price',index='CarName',columns='carbody',aggfunc='count')\n",
    "df12"
   ]
  },
  {
   "cell_type": "code",
   "execution_count": null,
   "id": "6d82e344",
   "metadata": {},
   "outputs": [],
   "source": [
    "df13=pd.pivot_table(df,values='price',index='CarName',columns='enginelocation',aggfunc='sum')\n",
    "df13"
   ]
  },
  {
   "cell_type": "code",
   "execution_count": null,
   "id": "d1acc360",
   "metadata": {},
   "outputs": [],
   "source": [
    "df14=pd.pivot_table(df,values='price',index='CarName',columns='enginelocation',aggfunc='count')\n",
    "df14"
   ]
  },
  {
   "cell_type": "code",
   "execution_count": null,
   "id": "d70fda41",
   "metadata": {},
   "outputs": [],
   "source": [
    "df15=pd.pivot_table(df,values='price',index='CarName',columns='enginelocation',aggfunc='mean')\n",
    "df15"
   ]
  },
  {
   "cell_type": "code",
   "execution_count": null,
   "id": "3be4e45b",
   "metadata": {},
   "outputs": [],
   "source": [
    "df16=pd.pivot_table(df,values='price',index='CarName',columns='enginelocation',aggfunc='median')\n",
    "df16"
   ]
  },
  {
   "cell_type": "code",
   "execution_count": null,
   "id": "3c263d52",
   "metadata": {},
   "outputs": [],
   "source": [
    "df18=pd.pivot_table(df,values='price',index='CarName',columns='boreratio',aggfunc='sum')\n",
    "df18"
   ]
  },
  {
   "cell_type": "code",
   "execution_count": null,
   "id": "94332cf9",
   "metadata": {},
   "outputs": [],
   "source": [
    "df19=pd.pivot_table(df,values='price',index='CarName',columns='boreratio',aggfunc='count')\n",
    "df19"
   ]
  },
  {
   "cell_type": "code",
   "execution_count": null,
   "id": "f4c760fc",
   "metadata": {},
   "outputs": [],
   "source": [
    "df20=pd.pivot_table(df,values='price',index='CarName',columns='compressionratio',aggfunc='sum')\n",
    "df20"
   ]
  },
  {
   "cell_type": "code",
   "execution_count": null,
   "id": "0483be24",
   "metadata": {},
   "outputs": [],
   "source": []
  },
  {
   "cell_type": "code",
   "execution_count": null,
   "id": "9c72e0d2",
   "metadata": {},
   "outputs": [],
   "source": [
    "dict={\"Friend_Names\":[\"anitha\",\"vanaja\",\"devi\",\"durga\",\"jaya sri\",\"prasanna\",\"mallika\",\"anusha\",\"naveena\",\"fathima\"],\"Quality\":[\"intelligent\",\"active\",\"humanity\",\"clever\",\"thinkar\",\"cool\",\"silent\",\"helpfull\",\"hard working\",\"funny\"]}\n",
    "print(dict)"
   ]
  },
  {
   "cell_type": "code",
   "execution_count": null,
   "id": "5e355048",
   "metadata": {},
   "outputs": [],
   "source": []
  },
  {
   "cell_type": "code",
   "execution_count": null,
   "id": "d49da005",
   "metadata": {},
   "outputs": [],
   "source": []
  }
 ],
 "metadata": {
  "kernelspec": {
   "display_name": "Python 3 (ipykernel)",
   "language": "python",
   "name": "python3"
  },
  "language_info": {
   "codemirror_mode": {
    "name": "ipython",
    "version": 3
   },
   "file_extension": ".py",
   "mimetype": "text/x-python",
   "name": "python",
   "nbconvert_exporter": "python",
   "pygments_lexer": "ipython3",
   "version": "3.10.9"
  }
 },
 "nbformat": 4,
 "nbformat_minor": 5
}
