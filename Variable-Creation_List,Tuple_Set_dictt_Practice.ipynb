{
 "cells": [
  {
   "cell_type": "code",
   "execution_count": null,
   "id": "b897f0b1",
   "metadata": {},
   "outputs": [],
   "source": [
    "# ------------> Assignment_4(b)"
   ]
  },
  {
   "cell_type": "code",
   "execution_count": null,
   "id": "016690bf",
   "metadata": {},
   "outputs": [],
   "source": [
    "# -------->  Variable_Creation_List_Tuple_Set_Practice"
   ]
  },
  {
   "cell_type": "code",
   "execution_count": null,
   "id": "738b6bf3",
   "metadata": {},
   "outputs": [],
   "source": [
    "# Tasks:\n",
    "\n",
    "# 1. Create a 10 variables with your friend names?\n",
    "# 2. Create a 10 variables with your family member names?\n",
    "# 3. Create a 10 variables with favorite food names?\n",
    "# 4. Create a 10 variables with colour  names?\n",
    "# 5. Create a 12 variables with month  names?\n",
    "# 6. Create a 10 variables with game  names?\n",
    "# 7. Create a 10 variables with city  names?\n",
    "# 8. Create a list (friend_names) with your friend names (10 names)?\n",
    "# 9. Create a tuple (family_members) with your family members?\n",
    "# 10. Create a set (colours) with colour names(10 names)?\n",
    "# 11. month_names=[1,9,10,5,3,2,7,8,6,4] , sort the list--> write a program?\n",
    "      expected output: month_names=[1,2,3,4,5,6,7,8,9,10]\n",
    "\n",
    "# 12. tollywood_heros=[\"chiru\", \"balaya\", \"nag\",\"venky\",\"powerstar\",\"superstar\",\"ntr\",\"ramcharan\"], write a program?\n",
    "      expected output:tollywood_heros=[\"chiranjeevi\", \"balakrishan\", \"nagarjuna\",\"venky\",\"pawan kalyan\",\"maheshbabu\",\"NT rama rao\",\"ramcharan\"]\n",
    "\n",
    "# 13. s?bollywood_heros=[\"sharukkhan\", \"salmankhan\", \"salmankhan\",\"amirkhan\",\"HrithikRoshan\",\"Amitabh Bachchan\",\"Akshay Kumar\",\"amirkhan\"], write a program to remove duplicate\n",
    "\n",
    "# 14. breakfast_items=[\"upma\",\"dosa\",\"idly\",\"puri\",\"punugulu\",\"roti\",\"chapathi\", \"parota\",\"mysoor baji\",\"minapa baji\"], print your favorite breakfast itme?\n",
    "      example: My Favorite breakfast time is mysoor baji\n",
    "\n"
   ]
  },
  {
   "cell_type": "code",
   "execution_count": 1,
   "id": "14cd0eb0",
   "metadata": {},
   "outputs": [
    {
     "name": "stdout",
     "output_type": "stream",
     "text": [
      "Object `names` not found.\n"
     ]
    },
    {
     "data": {
      "text/plain": [
       "'Smitha'"
      ]
     },
     "execution_count": 1,
     "metadata": {},
     "output_type": "execute_result"
    }
   ],
   "source": [
    "1. Create a 10 variables with your friend names?\n",
    "\n",
    "F_name1=\"Smitha\"\n",
    "F_name1"
   ]
  },
  {
   "cell_type": "code",
   "execution_count": 2,
   "id": "1c462097",
   "metadata": {},
   "outputs": [
    {
     "data": {
      "text/plain": [
       "'Rajini'"
      ]
     },
     "execution_count": 2,
     "metadata": {},
     "output_type": "execute_result"
    }
   ],
   "source": [
    "F_name2=\"Rajini\"\n",
    "F_name2"
   ]
  },
  {
   "cell_type": "code",
   "execution_count": 3,
   "id": "5ebacdf3",
   "metadata": {},
   "outputs": [
    {
     "data": {
      "text/plain": [
       "'Asma'"
      ]
     },
     "execution_count": 3,
     "metadata": {},
     "output_type": "execute_result"
    }
   ],
   "source": [
    "F_name3=\"Asma\"\n",
    "F_name3"
   ]
  },
  {
   "cell_type": "code",
   "execution_count": 4,
   "id": "e6a03068",
   "metadata": {},
   "outputs": [
    {
     "data": {
      "text/plain": [
       "'Reshma'"
      ]
     },
     "execution_count": 4,
     "metadata": {},
     "output_type": "execute_result"
    }
   ],
   "source": [
    "F_name4=\"Reshma\"\n",
    "F_name4"
   ]
  },
  {
   "cell_type": "code",
   "execution_count": 5,
   "id": "45494b8d",
   "metadata": {},
   "outputs": [
    {
     "data": {
      "text/plain": [
       "'Jaya'"
      ]
     },
     "execution_count": 5,
     "metadata": {},
     "output_type": "execute_result"
    }
   ],
   "source": [
    "F_name5=\"Jaya\"\n",
    "F_name5"
   ]
  },
  {
   "cell_type": "code",
   "execution_count": 6,
   "id": "37d39621",
   "metadata": {},
   "outputs": [
    {
     "data": {
      "text/plain": [
       "'Lakshmi'"
      ]
     },
     "execution_count": 6,
     "metadata": {},
     "output_type": "execute_result"
    }
   ],
   "source": [
    "F_name6=\"Lakshmi\"\n",
    "F_name6"
   ]
  },
  {
   "cell_type": "code",
   "execution_count": 7,
   "id": "a2a56ffe",
   "metadata": {},
   "outputs": [
    {
     "data": {
      "text/plain": [
       "'Rehana'"
      ]
     },
     "execution_count": 7,
     "metadata": {},
     "output_type": "execute_result"
    }
   ],
   "source": [
    "F_name7=\"Rehana\"\n",
    "F_name7"
   ]
  },
  {
   "cell_type": "code",
   "execution_count": 8,
   "id": "26a55b82",
   "metadata": {},
   "outputs": [
    {
     "data": {
      "text/plain": [
       "'Jarina'"
      ]
     },
     "execution_count": 8,
     "metadata": {},
     "output_type": "execute_result"
    }
   ],
   "source": [
    "F_name8=\"Jarina\"\n",
    "F_name8"
   ]
  },
  {
   "cell_type": "code",
   "execution_count": 9,
   "id": "15070f99",
   "metadata": {},
   "outputs": [
    {
     "data": {
      "text/plain": [
       "'Divya'"
      ]
     },
     "execution_count": 9,
     "metadata": {},
     "output_type": "execute_result"
    }
   ],
   "source": [
    "F_name9=\"Divya\"\n",
    "F_name9"
   ]
  },
  {
   "cell_type": "code",
   "execution_count": 10,
   "id": "7adeeabc",
   "metadata": {},
   "outputs": [
    {
     "data": {
      "text/plain": [
       "'Munni'"
      ]
     },
     "execution_count": 10,
     "metadata": {},
     "output_type": "execute_result"
    }
   ],
   "source": [
    "F_name10=\"Munni\"\n",
    "F_name10"
   ]
  },
  {
   "cell_type": "code",
   "execution_count": null,
   "id": "f0bb8d7a",
   "metadata": {},
   "outputs": [],
   "source": []
  },
  {
   "cell_type": "code",
   "execution_count": null,
   "id": "3a9b05f2",
   "metadata": {},
   "outputs": [],
   "source": [
    "#2. Create a 10 variables with your family member names?"
   ]
  },
  {
   "cell_type": "code",
   "execution_count": 11,
   "id": "17716114",
   "metadata": {},
   "outputs": [
    {
     "data": {
      "text/plain": [
       "'Md.Ali'"
      ]
     },
     "execution_count": 11,
     "metadata": {},
     "output_type": "execute_result"
    }
   ],
   "source": [
    "F_member1=\"Md.Ali\"\n",
    "F_member1"
   ]
  },
  {
   "cell_type": "code",
   "execution_count": 12,
   "id": "41c58145",
   "metadata": {},
   "outputs": [
    {
     "data": {
      "text/plain": [
       "'Balkis jaha'"
      ]
     },
     "execution_count": 12,
     "metadata": {},
     "output_type": "execute_result"
    }
   ],
   "source": [
    "F_member2=\"Balkis jaha\"\n",
    "F_member2"
   ]
  },
  {
   "cell_type": "code",
   "execution_count": 13,
   "id": "5d9b0d21",
   "metadata": {},
   "outputs": [
    {
     "data": {
      "text/plain": [
       "'Shahanaz Begum'"
      ]
     },
     "execution_count": 13,
     "metadata": {},
     "output_type": "execute_result"
    }
   ],
   "source": [
    "F_member3=\"Shahanaz Begum\"\n",
    "F_member3"
   ]
  },
  {
   "cell_type": "code",
   "execution_count": 14,
   "id": "8a99473a",
   "metadata": {},
   "outputs": [
    {
     "data": {
      "text/plain": [
       "'Irfan'"
      ]
     },
     "execution_count": 14,
     "metadata": {},
     "output_type": "execute_result"
    }
   ],
   "source": [
    "F_member4=\"Irfan\"\n",
    "F_member4"
   ]
  },
  {
   "cell_type": "code",
   "execution_count": 15,
   "id": "d83c07d0",
   "metadata": {},
   "outputs": [
    {
     "data": {
      "text/plain": [
       "'Afzal Shaw'"
      ]
     },
     "execution_count": 15,
     "metadata": {},
     "output_type": "execute_result"
    }
   ],
   "source": [
    "F_member5=\"Afzal Shaw\"\n",
    "F_member5"
   ]
  },
  {
   "cell_type": "code",
   "execution_count": 17,
   "id": "ce25b12f",
   "metadata": {},
   "outputs": [
    {
     "data": {
      "text/plain": [
       "'Shakeela Begum'"
      ]
     },
     "execution_count": 17,
     "metadata": {},
     "output_type": "execute_result"
    }
   ],
   "source": [
    "F_member6=\"Shakeela Begum\"\n",
    "F_member6"
   ]
  },
  {
   "cell_type": "code",
   "execution_count": 18,
   "id": "8af26f46",
   "metadata": {},
   "outputs": [
    {
     "data": {
      "text/plain": [
       "'Shamshad Begum'"
      ]
     },
     "execution_count": 18,
     "metadata": {},
     "output_type": "execute_result"
    }
   ],
   "source": [
    "F_member7=\"Shamshad Begum\"\n",
    "F_member7"
   ]
  },
  {
   "cell_type": "code",
   "execution_count": 19,
   "id": "9b14adbe",
   "metadata": {},
   "outputs": [
    {
     "data": {
      "text/plain": [
       "'Md. Karamatulla'"
      ]
     },
     "execution_count": 19,
     "metadata": {},
     "output_type": "execute_result"
    }
   ],
   "source": [
    "F_member8=\"Md. Karamatulla\"\n",
    "F_member8"
   ]
  },
  {
   "cell_type": "code",
   "execution_count": 20,
   "id": "8578216a",
   "metadata": {},
   "outputs": [
    {
     "data": {
      "text/plain": [
       "'Abidunnisa Begum'"
      ]
     },
     "execution_count": 20,
     "metadata": {},
     "output_type": "execute_result"
    }
   ],
   "source": [
    "F_member9=\"Abidunnisa Begum\"\n",
    "F_member9"
   ]
  },
  {
   "cell_type": "code",
   "execution_count": 21,
   "id": "38ba31aa",
   "metadata": {},
   "outputs": [
    {
     "data": {
      "text/plain": [
       "'Shahnaz Banu'"
      ]
     },
     "execution_count": 21,
     "metadata": {},
     "output_type": "execute_result"
    }
   ],
   "source": [
    "F_member10=\"Shahnaz Banu\"\n",
    "F_member10"
   ]
  },
  {
   "cell_type": "code",
   "execution_count": null,
   "id": "c2fd3ca9",
   "metadata": {},
   "outputs": [],
   "source": []
  },
  {
   "cell_type": "code",
   "execution_count": 22,
   "id": "97900dc2",
   "metadata": {},
   "outputs": [
    {
     "data": {
      "text/plain": [
       "'Potato Fry'"
      ]
     },
     "execution_count": 22,
     "metadata": {},
     "output_type": "execute_result"
    }
   ],
   "source": [
    "#3. Create a 10 variables with favorite food names?\n",
    "\n",
    "Food_name1=\"Potato Fry\"\n",
    "Food_name1"
   ]
  },
  {
   "cell_type": "code",
   "execution_count": 23,
   "id": "f60ebd35",
   "metadata": {},
   "outputs": [
    {
     "data": {
      "text/plain": [
       "' Idly'"
      ]
     },
     "execution_count": 23,
     "metadata": {},
     "output_type": "execute_result"
    }
   ],
   "source": [
    "Food_name2=\" Idly\"\n",
    "Food_name2"
   ]
  },
  {
   "cell_type": "code",
   "execution_count": 24,
   "id": "d72facb0",
   "metadata": {},
   "outputs": [
    {
     "data": {
      "text/plain": [
       "'Onion Dosa'"
      ]
     },
     "execution_count": 24,
     "metadata": {},
     "output_type": "execute_result"
    }
   ],
   "source": [
    "Food_name3=\"Onion Dosa\"\n",
    "Food_name3"
   ]
  },
  {
   "cell_type": "code",
   "execution_count": 25,
   "id": "f2c482b3",
   "metadata": {},
   "outputs": [
    {
     "data": {
      "text/plain": [
       "' Mysoor Bajji'"
      ]
     },
     "execution_count": 25,
     "metadata": {},
     "output_type": "execute_result"
    }
   ],
   "source": [
    "Food_name4=\"Mysoor Bajji\"\n",
    "Food_name4"
   ]
  },
  {
   "cell_type": "code",
   "execution_count": 26,
   "id": "7ad75f6b",
   "metadata": {},
   "outputs": [
    {
     "data": {
      "text/plain": [
       "'Pesarattu'"
      ]
     },
     "execution_count": 26,
     "metadata": {},
     "output_type": "execute_result"
    }
   ],
   "source": [
    "Food_name5=\"Pesarattu\"\n",
    "Food_name5"
   ]
  },
  {
   "cell_type": "code",
   "execution_count": 27,
   "id": "8ebb463e",
   "metadata": {},
   "outputs": [
    {
     "data": {
      "text/plain": [
       "'Masala Dosa'"
      ]
     },
     "execution_count": 27,
     "metadata": {},
     "output_type": "execute_result"
    }
   ],
   "source": [
    "Food_name6=\"Masala Dosa\"\n",
    "Food_name6"
   ]
  },
  {
   "cell_type": "code",
   "execution_count": 28,
   "id": "fb9411fe",
   "metadata": {},
   "outputs": [
    {
     "data": {
      "text/plain": [
       "'Minapa Bajji'"
      ]
     },
     "execution_count": 28,
     "metadata": {},
     "output_type": "execute_result"
    }
   ],
   "source": [
    "Food_name7=\"Minapa Bajji\"\n",
    "Food_name7"
   ]
  },
  {
   "cell_type": "code",
   "execution_count": 29,
   "id": "96b27f6e",
   "metadata": {},
   "outputs": [
    {
     "data": {
      "text/plain": [
       "'Wada'"
      ]
     },
     "execution_count": 29,
     "metadata": {},
     "output_type": "execute_result"
    }
   ],
   "source": [
    "Food_name8=\"Wada\"\n",
    "Food_name8"
   ]
  },
  {
   "cell_type": "code",
   "execution_count": 30,
   "id": "29cd9c4c",
   "metadata": {},
   "outputs": [
    {
     "data": {
      "text/plain": [
       "'Semiya Payasam'"
      ]
     },
     "execution_count": 30,
     "metadata": {},
     "output_type": "execute_result"
    }
   ],
   "source": [
    "Food_name9=\"Semiya Payasam\"\n",
    "Food_name9"
   ]
  },
  {
   "cell_type": "code",
   "execution_count": 31,
   "id": "936e0bbb",
   "metadata": {},
   "outputs": [
    {
     "data": {
      "text/plain": [
       "'Gulab Jamoon'"
      ]
     },
     "execution_count": 31,
     "metadata": {},
     "output_type": "execute_result"
    }
   ],
   "source": [
    "Food_name10=\"Gulab Jamoon\"\n",
    "Food_name10"
   ]
  },
  {
   "cell_type": "code",
   "execution_count": null,
   "id": "1df1009e",
   "metadata": {},
   "outputs": [],
   "source": []
  },
  {
   "cell_type": "code",
   "execution_count": 32,
   "id": "b88530ea",
   "metadata": {},
   "outputs": [
    {
     "data": {
      "text/plain": [
       "'Pink'"
      ]
     },
     "execution_count": 32,
     "metadata": {},
     "output_type": "execute_result"
    }
   ],
   "source": [
    "#4. Create a 10 variables with colour  names?\n",
    "\n",
    "Colour_name1=\"Pink\"\n",
    "Colour_name1"
   ]
  },
  {
   "cell_type": "code",
   "execution_count": 33,
   "id": "54caac9b",
   "metadata": {},
   "outputs": [
    {
     "data": {
      "text/plain": [
       "'Yellow'"
      ]
     },
     "execution_count": 33,
     "metadata": {},
     "output_type": "execute_result"
    }
   ],
   "source": [
    "Colour_name2=\"Yellow\"\n",
    "Colour_name2"
   ]
  },
  {
   "cell_type": "code",
   "execution_count": 34,
   "id": "e9e1961c",
   "metadata": {},
   "outputs": [
    {
     "data": {
      "text/plain": [
       "'Blue'"
      ]
     },
     "execution_count": 34,
     "metadata": {},
     "output_type": "execute_result"
    }
   ],
   "source": [
    "Colour_name3=\"Blue\"\n",
    "Colour_name3"
   ]
  },
  {
   "cell_type": "code",
   "execution_count": 35,
   "id": "395d2805",
   "metadata": {},
   "outputs": [
    {
     "data": {
      "text/plain": [
       "'Red'"
      ]
     },
     "execution_count": 35,
     "metadata": {},
     "output_type": "execute_result"
    }
   ],
   "source": [
    "Colour_name4=\"Red\"\n",
    "Colour_name4"
   ]
  },
  {
   "cell_type": "code",
   "execution_count": 36,
   "id": "a726ef2c",
   "metadata": {},
   "outputs": [
    {
     "data": {
      "text/plain": [
       "'Green'"
      ]
     },
     "execution_count": 36,
     "metadata": {},
     "output_type": "execute_result"
    }
   ],
   "source": [
    "Colour_name5=\"Green\"\n",
    "Colour_name5"
   ]
  },
  {
   "cell_type": "code",
   "execution_count": 37,
   "id": "8c84b379",
   "metadata": {},
   "outputs": [
    {
     "data": {
      "text/plain": [
       "'Voilet'"
      ]
     },
     "execution_count": 37,
     "metadata": {},
     "output_type": "execute_result"
    }
   ],
   "source": [
    "Colour_name6=\"Voilet\"\n",
    "Colour_name6"
   ]
  },
  {
   "cell_type": "code",
   "execution_count": 38,
   "id": "980ff453",
   "metadata": {},
   "outputs": [
    {
     "data": {
      "text/plain": [
       "'Brown'"
      ]
     },
     "execution_count": 38,
     "metadata": {},
     "output_type": "execute_result"
    }
   ],
   "source": [
    "Colour_name7=\"Brown\"\n",
    "Colour_name7"
   ]
  },
  {
   "cell_type": "code",
   "execution_count": 39,
   "id": "050085d5",
   "metadata": {},
   "outputs": [
    {
     "data": {
      "text/plain": [
       "'White'"
      ]
     },
     "execution_count": 39,
     "metadata": {},
     "output_type": "execute_result"
    }
   ],
   "source": [
    "Colour_name8=\"White\"\n",
    "Colour_name8"
   ]
  },
  {
   "cell_type": "code",
   "execution_count": 40,
   "id": "7944eceb",
   "metadata": {},
   "outputs": [
    {
     "data": {
      "text/plain": [
       "'Black'"
      ]
     },
     "execution_count": 40,
     "metadata": {},
     "output_type": "execute_result"
    }
   ],
   "source": [
    "Colour_name9=\"Black\"\n",
    "Colour_name9"
   ]
  },
  {
   "cell_type": "code",
   "execution_count": 41,
   "id": "1ae7c848",
   "metadata": {},
   "outputs": [
    {
     "data": {
      "text/plain": [
       "'Perpule'"
      ]
     },
     "execution_count": 41,
     "metadata": {},
     "output_type": "execute_result"
    }
   ],
   "source": [
    "Colour_name10=\"Perpule\"\n",
    "Colour_name10"
   ]
  },
  {
   "cell_type": "code",
   "execution_count": null,
   "id": "e8b4ce8a",
   "metadata": {},
   "outputs": [],
   "source": []
  },
  {
   "cell_type": "code",
   "execution_count": 42,
   "id": "d040bc0b",
   "metadata": {},
   "outputs": [
    {
     "name": "stdout",
     "output_type": "stream",
     "text": [
      "Object `names` not found.\n"
     ]
    },
    {
     "data": {
      "text/plain": [
       "'January'"
      ]
     },
     "execution_count": 42,
     "metadata": {},
     "output_type": "execute_result"
    }
   ],
   "source": [
    "#5. Create a 12 variables with month  names?\n",
    "\n",
    "Month_name1=\"January\"\n",
    "Month_name1"
   ]
  },
  {
   "cell_type": "code",
   "execution_count": 43,
   "id": "da49505f",
   "metadata": {},
   "outputs": [
    {
     "data": {
      "text/plain": [
       "'February'"
      ]
     },
     "execution_count": 43,
     "metadata": {},
     "output_type": "execute_result"
    }
   ],
   "source": [
    "Month_name2=\"February\"\n",
    "Month_name2"
   ]
  },
  {
   "cell_type": "code",
   "execution_count": 44,
   "id": "84f1ad18",
   "metadata": {},
   "outputs": [
    {
     "data": {
      "text/plain": [
       "'March'"
      ]
     },
     "execution_count": 44,
     "metadata": {},
     "output_type": "execute_result"
    }
   ],
   "source": [
    "Month_name3=\"March\"\n",
    "Month_name3"
   ]
  },
  {
   "cell_type": "code",
   "execution_count": 45,
   "id": "34ace6c5",
   "metadata": {},
   "outputs": [
    {
     "data": {
      "text/plain": [
       "'April'"
      ]
     },
     "execution_count": 45,
     "metadata": {},
     "output_type": "execute_result"
    }
   ],
   "source": [
    "Month_name4=\"April\"\n",
    "Month_name4"
   ]
  },
  {
   "cell_type": "code",
   "execution_count": 46,
   "id": "34a9e160",
   "metadata": {},
   "outputs": [
    {
     "data": {
      "text/plain": [
       "'May'"
      ]
     },
     "execution_count": 46,
     "metadata": {},
     "output_type": "execute_result"
    }
   ],
   "source": [
    "Month_name5=\"May\"\n",
    "Month_name5"
   ]
  },
  {
   "cell_type": "code",
   "execution_count": 47,
   "id": "5a8b5a74",
   "metadata": {},
   "outputs": [
    {
     "data": {
      "text/plain": [
       "'June'"
      ]
     },
     "execution_count": 47,
     "metadata": {},
     "output_type": "execute_result"
    }
   ],
   "source": [
    "Month_name6=\"June\"\n",
    "Month_name6"
   ]
  },
  {
   "cell_type": "code",
   "execution_count": 48,
   "id": "d334f7fb",
   "metadata": {},
   "outputs": [
    {
     "data": {
      "text/plain": [
       "'July'"
      ]
     },
     "execution_count": 48,
     "metadata": {},
     "output_type": "execute_result"
    }
   ],
   "source": [
    "Month_name7=\"July\"\n",
    "Month_name7"
   ]
  },
  {
   "cell_type": "code",
   "execution_count": 49,
   "id": "2b8c559a",
   "metadata": {},
   "outputs": [
    {
     "data": {
      "text/plain": [
       "'August'"
      ]
     },
     "execution_count": 49,
     "metadata": {},
     "output_type": "execute_result"
    }
   ],
   "source": [
    "Month_name8=\"August\"\n",
    "Month_name8"
   ]
  },
  {
   "cell_type": "code",
   "execution_count": 50,
   "id": "490ed771",
   "metadata": {},
   "outputs": [
    {
     "data": {
      "text/plain": [
       "'September'"
      ]
     },
     "execution_count": 50,
     "metadata": {},
     "output_type": "execute_result"
    }
   ],
   "source": [
    "Month_name9=\"September\"\n",
    "Month_name9"
   ]
  },
  {
   "cell_type": "code",
   "execution_count": null,
   "id": "c9acbff9",
   "metadata": {},
   "outputs": [],
   "source": [
    "Month_name10=\"October\"\n",
    "Month_name10"
   ]
  },
  {
   "cell_type": "code",
   "execution_count": 51,
   "id": "a7995ae4",
   "metadata": {},
   "outputs": [
    {
     "data": {
      "text/plain": [
       "'November'"
      ]
     },
     "execution_count": 51,
     "metadata": {},
     "output_type": "execute_result"
    }
   ],
   "source": [
    "Month_name11=\"November\"\n",
    "Month_name11"
   ]
  },
  {
   "cell_type": "code",
   "execution_count": 52,
   "id": "14e943c1",
   "metadata": {},
   "outputs": [
    {
     "data": {
      "text/plain": [
       "'December'"
      ]
     },
     "execution_count": 52,
     "metadata": {},
     "output_type": "execute_result"
    }
   ],
   "source": [
    "Month_name12=\"December\"\n",
    "Month_name12"
   ]
  },
  {
   "cell_type": "code",
   "execution_count": null,
   "id": "64cfa33b",
   "metadata": {},
   "outputs": [],
   "source": []
  },
  {
   "cell_type": "code",
   "execution_count": 53,
   "id": "93fadc39",
   "metadata": {},
   "outputs": [
    {
     "data": {
      "text/plain": [
       "'Cricket'"
      ]
     },
     "execution_count": 53,
     "metadata": {},
     "output_type": "execute_result"
    }
   ],
   "source": [
    "#6. Create a 10 variables with game  names?\n",
    "\n",
    "G_Name1=\"Cricket\"\n",
    "G_Name1"
   ]
  },
  {
   "cell_type": "code",
   "execution_count": 54,
   "id": "95adc6ea",
   "metadata": {},
   "outputs": [
    {
     "data": {
      "text/plain": [
       "'Hockey'"
      ]
     },
     "execution_count": 54,
     "metadata": {},
     "output_type": "execute_result"
    }
   ],
   "source": [
    "G_Name2=\"Hockey\"\n",
    "G_Name2"
   ]
  },
  {
   "cell_type": "code",
   "execution_count": 55,
   "id": "c3a1ce6e",
   "metadata": {},
   "outputs": [
    {
     "data": {
      "text/plain": [
       "'Chess'"
      ]
     },
     "execution_count": 55,
     "metadata": {},
     "output_type": "execute_result"
    }
   ],
   "source": [
    "G_Name3=\"Chess\"\n",
    "G_Name3"
   ]
  },
  {
   "cell_type": "code",
   "execution_count": 56,
   "id": "98334a92",
   "metadata": {},
   "outputs": [
    {
     "data": {
      "text/plain": [
       "'Boxing'"
      ]
     },
     "execution_count": 56,
     "metadata": {},
     "output_type": "execute_result"
    }
   ],
   "source": [
    "G_Name4=\"Boxing\"\n",
    "G_Name4"
   ]
  },
  {
   "cell_type": "code",
   "execution_count": 57,
   "id": "4b6c1aaa",
   "metadata": {},
   "outputs": [
    {
     "data": {
      "text/plain": [
       "'Foot Ball'"
      ]
     },
     "execution_count": 57,
     "metadata": {},
     "output_type": "execute_result"
    }
   ],
   "source": [
    "G_Name5=\"Foot Ball\"\n",
    "G_Name5"
   ]
  },
  {
   "cell_type": "code",
   "execution_count": 58,
   "id": "7b5a0720",
   "metadata": {},
   "outputs": [
    {
     "data": {
      "text/plain": [
       "'Tennis'"
      ]
     },
     "execution_count": 58,
     "metadata": {},
     "output_type": "execute_result"
    }
   ],
   "source": [
    "G_Name6=\"Tennis\"\n",
    "G_Name6"
   ]
  },
  {
   "cell_type": "code",
   "execution_count": 59,
   "id": "0f091ddc",
   "metadata": {},
   "outputs": [
    {
     "data": {
      "text/plain": [
       "'Rugby'"
      ]
     },
     "execution_count": 59,
     "metadata": {},
     "output_type": "execute_result"
    }
   ],
   "source": [
    "G_Name7=\"Rugby\"\n",
    "G_Name7"
   ]
  },
  {
   "cell_type": "code",
   "execution_count": 60,
   "id": "222191aa",
   "metadata": {},
   "outputs": [
    {
     "data": {
      "text/plain": [
       "'Basket Ball'"
      ]
     },
     "execution_count": 60,
     "metadata": {},
     "output_type": "execute_result"
    }
   ],
   "source": [
    "G_Name8=\"Basket Ball\"\n",
    "G_Name8"
   ]
  },
  {
   "cell_type": "code",
   "execution_count": 61,
   "id": "0ddb2f74",
   "metadata": {},
   "outputs": [
    {
     "data": {
      "text/plain": [
       "'Golf'"
      ]
     },
     "execution_count": 61,
     "metadata": {},
     "output_type": "execute_result"
    }
   ],
   "source": [
    "G_Name9=\"Golf\"\n",
    "G_Name9"
   ]
  },
  {
   "cell_type": "code",
   "execution_count": 62,
   "id": "52011602",
   "metadata": {},
   "outputs": [
    {
     "data": {
      "text/plain": [
       "'Badminton'"
      ]
     },
     "execution_count": 62,
     "metadata": {},
     "output_type": "execute_result"
    }
   ],
   "source": [
    "G_Name10=\"Badminton\"\n",
    "G_Name10"
   ]
  },
  {
   "cell_type": "code",
   "execution_count": null,
   "id": "d9aad6fb",
   "metadata": {},
   "outputs": [],
   "source": []
  },
  {
   "cell_type": "code",
   "execution_count": 63,
   "id": "085af892",
   "metadata": {},
   "outputs": [
    {
     "data": {
      "text/plain": [
       "'Kolkata'"
      ]
     },
     "execution_count": 63,
     "metadata": {},
     "output_type": "execute_result"
    }
   ],
   "source": [
    "#7. Create a 10 variables with city  names?\n",
    "\n",
    "City_name1=\"Kolkata\"\n",
    "City_name1"
   ]
  },
  {
   "cell_type": "code",
   "execution_count": 64,
   "id": "40c0c3f0",
   "metadata": {},
   "outputs": [
    {
     "data": {
      "text/plain": [
       "'Delhi'"
      ]
     },
     "execution_count": 64,
     "metadata": {},
     "output_type": "execute_result"
    }
   ],
   "source": [
    "City_name2=\"Delhi\"\n",
    "City_name2"
   ]
  },
  {
   "cell_type": "code",
   "execution_count": 65,
   "id": "3c772473",
   "metadata": {},
   "outputs": [
    {
     "data": {
      "text/plain": [
       "'Chennai'"
      ]
     },
     "execution_count": 65,
     "metadata": {},
     "output_type": "execute_result"
    }
   ],
   "source": [
    "City_name3=\"Chennai\"\n",
    "City_name3"
   ]
  },
  {
   "cell_type": "code",
   "execution_count": 66,
   "id": "84708552",
   "metadata": {},
   "outputs": [
    {
     "data": {
      "text/plain": [
       "'Mumbai'"
      ]
     },
     "execution_count": 66,
     "metadata": {},
     "output_type": "execute_result"
    }
   ],
   "source": [
    "City_name4=\"Mumbai\"\n",
    "City_name4"
   ]
  },
  {
   "cell_type": "code",
   "execution_count": 67,
   "id": "3e8a1a01",
   "metadata": {},
   "outputs": [
    {
     "data": {
      "text/plain": [
       "'Hyderabad'"
      ]
     },
     "execution_count": 67,
     "metadata": {},
     "output_type": "execute_result"
    }
   ],
   "source": [
    "City_name5=\"Hyderabad\"\n",
    "City_name5"
   ]
  },
  {
   "cell_type": "code",
   "execution_count": 68,
   "id": "d1399b9c",
   "metadata": {},
   "outputs": [
    {
     "data": {
      "text/plain": [
       "'Surat'"
      ]
     },
     "execution_count": 68,
     "metadata": {},
     "output_type": "execute_result"
    }
   ],
   "source": [
    "City_name6=\"Surat\"\n",
    "City_name6"
   ]
  },
  {
   "cell_type": "code",
   "execution_count": 69,
   "id": "111a7aa4",
   "metadata": {},
   "outputs": [
    {
     "data": {
      "text/plain": [
       "'Lacknow'"
      ]
     },
     "execution_count": 69,
     "metadata": {},
     "output_type": "execute_result"
    }
   ],
   "source": [
    "City_name7=\"Lacknow\"\n",
    "City_name7"
   ]
  },
  {
   "cell_type": "code",
   "execution_count": 70,
   "id": "a4c96c83",
   "metadata": {},
   "outputs": [
    {
     "data": {
      "text/plain": [
       "'Bangalure'"
      ]
     },
     "execution_count": 70,
     "metadata": {},
     "output_type": "execute_result"
    }
   ],
   "source": [
    "City_name8=\"Bangalure\"\n",
    "City_name8"
   ]
  },
  {
   "cell_type": "code",
   "execution_count": 71,
   "id": "8426d30f",
   "metadata": {},
   "outputs": [
    {
     "data": {
      "text/plain": [
       "'Varanasi'"
      ]
     },
     "execution_count": 71,
     "metadata": {},
     "output_type": "execute_result"
    }
   ],
   "source": [
    "City_name9=\"Varanasi\"\n",
    "City_name9"
   ]
  },
  {
   "cell_type": "code",
   "execution_count": 72,
   "id": "367633a2",
   "metadata": {},
   "outputs": [
    {
     "data": {
      "text/plain": [
       "'Ahmedabad'"
      ]
     },
     "execution_count": 72,
     "metadata": {},
     "output_type": "execute_result"
    }
   ],
   "source": [
    "City_name10=\"Ahmedabad\"\n",
    "City_name10"
   ]
  },
  {
   "cell_type": "code",
   "execution_count": null,
   "id": "bad4ac35",
   "metadata": {},
   "outputs": [],
   "source": []
  },
  {
   "cell_type": "code",
   "execution_count": null,
   "id": "91995b41",
   "metadata": {},
   "outputs": [],
   "source": [
    "# -------> [List] ----> To Allow duplicate's"
   ]
  },
  {
   "cell_type": "code",
   "execution_count": null,
   "id": "edac0718",
   "metadata": {},
   "outputs": [],
   "source": []
  },
  {
   "cell_type": "code",
   "execution_count": 73,
   "id": "56d13838",
   "metadata": {
    "scrolled": true
   },
   "outputs": [
    {
     "data": {
      "text/plain": [
       "['Shabana',\n",
       " 'Rehana',\n",
       " 'Aliya',\n",
       " 'Hamida',\n",
       " 'Sabera',\n",
       " 'Sony',\n",
       " 'Raziya',\n",
       " 'Mallika',\n",
       " 'Shafheka',\n",
       " 'Hanima']"
      ]
     },
     "execution_count": 73,
     "metadata": {},
     "output_type": "execute_result"
    }
   ],
   "source": [
    "#8. Create a list (friend_names) with your friend names (10 names)?\n",
    "\n",
    "\n",
    "List_fnames=[\"Shabana\",\"Rehana\",\"Aliya\",\"Hamida\",\"Sabera\",\"Sony\",\"Raziya\",\"Mallika\",\"Shafheka\",\"Hanima\"]\n",
    "List_fnames"
   ]
  },
  {
   "cell_type": "code",
   "execution_count": null,
   "id": "a4b86881",
   "metadata": {},
   "outputs": [],
   "source": []
  },
  {
   "cell_type": "code",
   "execution_count": 76,
   "id": "9f5a73a0",
   "metadata": {},
   "outputs": [
    {
     "data": {
      "text/plain": [
       "['Shabana',\n",
       " 'Hanima',\n",
       " 'Rehana',\n",
       " 'Mallika',\n",
       " 'Aliya',\n",
       " 'Hamida',\n",
       " 'Sabera',\n",
       " 'Sony',\n",
       " 'Raziya',\n",
       " 'Mallika',\n",
       " 'Shafheka',\n",
       " 'Hanima']"
      ]
     },
     "execution_count": 76,
     "metadata": {},
     "output_type": "execute_result"
    }
   ],
   "source": [
    "List_dup=[\"Shabana\",\"Hanima\",\"Rehana\",\"Mallika\",\"Aliya\",\"Hamida\",\"Sabera\",\"Sony\",\"Raziya\",\"Mallika\",\"Shafheka\",\"Hanima\"]\n",
    "List_dup"
   ]
  },
  {
   "cell_type": "code",
   "execution_count": null,
   "id": "05c9a8ae",
   "metadata": {},
   "outputs": [],
   "source": []
  },
  {
   "cell_type": "code",
   "execution_count": null,
   "id": "4d5b7c92",
   "metadata": {},
   "outputs": [],
   "source": [
    "# ------> Tuple() ---> to Allow duplicate's"
   ]
  },
  {
   "cell_type": "code",
   "execution_count": 77,
   "id": "6c85021c",
   "metadata": {
    "scrolled": true
   },
   "outputs": [
    {
     "data": {
      "text/plain": [
       "('Md.Ali',\n",
       " 'Balkis Jaha',\n",
       " 'Shahnaz Begum',\n",
       " 'Irfan',\n",
       " 'Afzal Shaw',\n",
       " 'Shakeela Begum',\n",
       " 'Shamshad Begum',\n",
       " 'Md.Karamatulla',\n",
       " 'Shannu',\n",
       " 'Banu')"
      ]
     },
     "execution_count": 77,
     "metadata": {},
     "output_type": "execute_result"
    }
   ],
   "source": [
    "#9. Create a tuple (family_members) with your family members?\n",
    "\n",
    "\n",
    "tuple_fmembers=(\"Md.Ali\",\"Balkis Jaha\",\"Shahnaz Begum\",\"Irfan\",\"Afzal Shaw\",\"Shakeela Begum\",\"Shamshad Begum\",\"Md.Karamatulla\",\"Shannu\",\"Banu\")\n",
    "tuple_fmembers"
   ]
  },
  {
   "cell_type": "code",
   "execution_count": null,
   "id": "4011fa67",
   "metadata": {},
   "outputs": [],
   "source": []
  },
  {
   "cell_type": "code",
   "execution_count": null,
   "id": "ccca430a",
   "metadata": {},
   "outputs": [],
   "source": [
    "# -------> duplicate's"
   ]
  },
  {
   "cell_type": "code",
   "execution_count": 78,
   "id": "9f24878a",
   "metadata": {},
   "outputs": [
    {
     "data": {
      "text/plain": [
       "('Md.Ali',\n",
       " 'Balkis Jaha',\n",
       " 'Shahnaz Begum',\n",
       " 'Irfan',\n",
       " 'Afzal Shaw',\n",
       " 'Shamshad Begum',\n",
       " 'Shakeela Begum',\n",
       " 'Shamshad Begum',\n",
       " 'Irfan',\n",
       " 'Md.Karamatulla',\n",
       " 'Shannu',\n",
       " 'Banu')"
      ]
     },
     "execution_count": 78,
     "metadata": {},
     "output_type": "execute_result"
    }
   ],
   "source": [
    "tuple_dup=(\"Md.Ali\",\"Balkis Jaha\",\"Shahnaz Begum\",\"Irfan\",\"Afzal Shaw\",\"Shamshad Begum\",\"Shakeela Begum\",\"Shamshad Begum\",\"Irfan\",\"Md.Karamatulla\",\"Shannu\",\"Banu\")\n",
    "tuple_dup"
   ]
  },
  {
   "cell_type": "code",
   "execution_count": null,
   "id": "fab3a116",
   "metadata": {},
   "outputs": [],
   "source": []
  },
  {
   "cell_type": "code",
   "execution_count": null,
   "id": "e698e3d5",
   "metadata": {},
   "outputs": [],
   "source": [
    "# -------> set{} ------> Duplicates ni Allow Cheyadu"
   ]
  },
  {
   "cell_type": "code",
   "execution_count": 79,
   "id": "5723b79f",
   "metadata": {},
   "outputs": [
    {
     "data": {
      "text/plain": [
       "{'Black',\n",
       " 'Blue',\n",
       " 'Brown',\n",
       " 'Green',\n",
       " 'Orange',\n",
       " 'Pink',\n",
       " 'Red',\n",
       " 'Voilet',\n",
       " 'White',\n",
       " 'Yellow'}"
      ]
     },
     "execution_count": 79,
     "metadata": {},
     "output_type": "execute_result"
    }
   ],
   "source": [
    "#10. Create a set (colours) with colour names(10 names)?\n",
    "\n",
    "Set_Col_names={\"Pink\",\"Yellow\",\"Red\",\"Blue\",\"Green\",\"Brown\",\"Voilet\",\"Orange\",\"White\",\"Black\"}\n",
    "Set_Col_names"
   ]
  },
  {
   "cell_type": "code",
   "execution_count": null,
   "id": "a2c6f15b",
   "metadata": {},
   "outputs": [],
   "source": []
  },
  {
   "cell_type": "code",
   "execution_count": null,
   "id": "d3207d8d",
   "metadata": {},
   "outputs": [],
   "source": [
    "#-------> Set to Remove  duplicate's"
   ]
  },
  {
   "cell_type": "code",
   "execution_count": 81,
   "id": "6db0a122",
   "metadata": {},
   "outputs": [
    {
     "data": {
      "text/plain": [
       "{'Aliya',\n",
       " 'Hamida',\n",
       " 'Hanima',\n",
       " 'Mallika',\n",
       " 'Raziya',\n",
       " 'Rehana',\n",
       " 'Sabera',\n",
       " 'Shabana',\n",
       " 'Shafheka',\n",
       " 'Sony'}"
      ]
     },
     "execution_count": 81,
     "metadata": {},
     "output_type": "execute_result"
    }
   ],
   "source": [
    "Set_dup={\"Shabana\",\"Hanima\",\"Rehana\",\"Mallika\",\"Aliya\",\"Hamida\",\"Sabera\",\"Sony\",\"Raziya\",\"Mallika\",\"Shafheka\",\"Hanima\"}\n",
    "Set_dup"
   ]
  },
  {
   "cell_type": "code",
   "execution_count": null,
   "id": "a2f1e25e",
   "metadata": {},
   "outputs": [],
   "source": []
  },
  {
   "cell_type": "code",
   "execution_count": null,
   "id": "f1bb045b",
   "metadata": {},
   "outputs": [],
   "source": [
    "#------------> Sort"
   ]
  },
  {
   "cell_type": "code",
   "execution_count": 83,
   "id": "24cada7c",
   "metadata": {},
   "outputs": [
    {
     "data": {
      "text/plain": [
       "{1, 2, 3, 4, 5, 6, 7, 8, 9, 10}"
      ]
     },
     "execution_count": 83,
     "metadata": {},
     "output_type": "execute_result"
    }
   ],
   "source": [
    "# 11. month_names=[1,9,10,5,3,2,7,8,6,4] , sort the list--> write a program?\n",
    "# expected output: month_names=[1,2,3,4,5,6,7,8,9,10]\n",
    "\n",
    "\n",
    "Month_names={1,9,10,5,3,2,7,8,6,4} \n",
    "Month_names"
   ]
  },
  {
   "cell_type": "code",
   "execution_count": null,
   "id": "c69dda0c",
   "metadata": {},
   "outputs": [],
   "source": []
  },
  {
   "cell_type": "code",
   "execution_count": null,
   "id": "d329c1a9",
   "metadata": {},
   "outputs": [],
   "source": [
    "#12. tollywood_heros=[\"chiru\", \"balaya\", \"nag\",\"venky\",\"powerstar\",\"superstar\",\"ntr\",\"ramcharan\"], write a program?\n",
    "# expected output:tollywood_heros=[\"chiranjeevi\", \"balakrishan\", \"nagarjuna\",\"venky\",\"pawan kalyan\",\"maheshbabu\",\"NT rama rao\",\"ramcharan\"]\n"
   ]
  },
  {
   "cell_type": "code",
   "execution_count": 1,
   "id": "4c19ab7d",
   "metadata": {},
   "outputs": [],
   "source": [
    "chiru=\"chiranjeevi\""
   ]
  },
  {
   "cell_type": "code",
   "execution_count": 2,
   "id": "47e11776",
   "metadata": {},
   "outputs": [],
   "source": [
    "balaya=\"balakrishan\""
   ]
  },
  {
   "cell_type": "code",
   "execution_count": 3,
   "id": "f4d58db7",
   "metadata": {},
   "outputs": [],
   "source": [
    "nag=\"nagarjuna\""
   ]
  },
  {
   "cell_type": "code",
   "execution_count": 4,
   "id": "66c0b792",
   "metadata": {},
   "outputs": [],
   "source": [
    "venky=\"venky\""
   ]
  },
  {
   "cell_type": "code",
   "execution_count": 5,
   "id": "49faec99",
   "metadata": {},
   "outputs": [],
   "source": [
    "powerstar=\"pawan kalyan\""
   ]
  },
  {
   "cell_type": "code",
   "execution_count": 6,
   "id": "aad00470",
   "metadata": {},
   "outputs": [],
   "source": [
    "superstar=\"maheshbabu\""
   ]
  },
  {
   "cell_type": "code",
   "execution_count": 7,
   "id": "30c295b5",
   "metadata": {},
   "outputs": [],
   "source": [
    "ntr=\"NT rama rao\""
   ]
  },
  {
   "cell_type": "code",
   "execution_count": 8,
   "id": "22352515",
   "metadata": {},
   "outputs": [],
   "source": [
    "ramcharan=\"ramcharan\""
   ]
  },
  {
   "cell_type": "code",
   "execution_count": null,
   "id": "c077b2b4",
   "metadata": {},
   "outputs": [],
   "source": []
  },
  {
   "cell_type": "code",
   "execution_count": 9,
   "id": "f943116b",
   "metadata": {},
   "outputs": [
    {
     "data": {
      "text/plain": [
       "['chiranjeevi',\n",
       " 'balakrishan',\n",
       " 'nagarjuna',\n",
       " 'venky',\n",
       " 'pawan kalyan',\n",
       " 'maheshbabu',\n",
       " 'NT rama rao',\n",
       " 'ramcharan']"
      ]
     },
     "execution_count": 9,
     "metadata": {},
     "output_type": "execute_result"
    }
   ],
   "source": [
    "tollywood_heros=[chiru, balaya, nag, venky, powerstar, superstar, ntr, ramcharan]\n",
    "tollywood_heros"
   ]
  },
  {
   "cell_type": "code",
   "execution_count": null,
   "id": "c9a94aa4",
   "metadata": {},
   "outputs": [],
   "source": []
  },
  {
   "cell_type": "code",
   "execution_count": null,
   "id": "f8af60a2",
   "metadata": {},
   "outputs": [],
   "source": [
    "# ---------> Set{} ------> To Remove duplicates"
   ]
  },
  {
   "cell_type": "code",
   "execution_count": 10,
   "id": "9b6128bb",
   "metadata": {},
   "outputs": [
    {
     "data": {
      "text/plain": [
       "{'Akshay Kumar',\n",
       " 'Amitabh Bachchan',\n",
       " 'HrithikRoshan',\n",
       " 'amirkhan',\n",
       " 'salmankhan',\n",
       " 'sharukkhan'}"
      ]
     },
     "execution_count": 10,
     "metadata": {},
     "output_type": "execute_result"
    }
   ],
   "source": [
    "#13. bollywood_heros=[\"sharukkhan\", \"salmankhan\", \"salmankhan\",\"amirkhan\",\"HrithikRoshan\",\"Amitabh Bachchan\",\"Akshay Kumar\",\"amirkhan\"], write a program to remove duplicates?\n",
    "\n",
    "dup_bollywood_heros={\"sharukkhan\", \"salmankhan\", \"salmankhan\",\"amirkhan\",\"HrithikRoshan\",\"Amitabh Bachchan\",\"Akshay Kumar\",\"amirkhan\"}\n",
    "dup_bollywood_heros"
   ]
  },
  {
   "cell_type": "code",
   "execution_count": null,
   "id": "6e3f5704",
   "metadata": {},
   "outputs": [],
   "source": []
  },
  {
   "cell_type": "code",
   "execution_count": 11,
   "id": "176ad203",
   "metadata": {},
   "outputs": [
    {
     "data": {
      "text/plain": [
       "['upma',\n",
       " 'dosa',\n",
       " 'idly',\n",
       " 'puri',\n",
       " 'punugulu',\n",
       " 'roti',\n",
       " 'chapathi',\n",
       " 'parota',\n",
       " 'mysoor baji',\n",
       " 'minapa baji']"
      ]
     },
     "execution_count": 11,
     "metadata": {},
     "output_type": "execute_result"
    }
   ],
   "source": [
    "#14. breakfast_items=[\"upma\",\"dosa\",\"idly\",\"puri\",\"punugulu\",\"roti\",\"chapathi\", \"parota\",\"mysoor baji\",\"minapa baji\"], print your favorite breakfast itme?\n",
    "#example: My Favorite breakfast time is mysoor baji\n",
    "\n",
    "Breakfast_items=[\"upma\",\"dosa\",\"idly\",\"puri\",\"punugulu\",\"roti\",\"chapathi\", \"parota\",\"mysoor baji\",\"minapa baji\"]\n",
    "Breakfast_items "
   ]
  },
  {
   "cell_type": "code",
   "execution_count": null,
   "id": "6d882cc1",
   "metadata": {},
   "outputs": [],
   "source": []
  },
  {
   "cell_type": "code",
   "execution_count": 12,
   "id": "887ce0dd",
   "metadata": {},
   "outputs": [
    {
     "name": "stdout",
     "output_type": "stream",
     "text": [
      "My Favorite Breakfast iten is: mysoor baji\n"
     ]
    }
   ],
   "source": [
    "print(\"My Favorite Breakfast iten is:\",Breakfast_items[8])"
   ]
  },
  {
   "cell_type": "code",
   "execution_count": null,
   "id": "c7cfb330",
   "metadata": {},
   "outputs": [],
   "source": []
  },
  {
   "cell_type": "code",
   "execution_count": null,
   "id": "c6385c61",
   "metadata": {},
   "outputs": [],
   "source": []
  },
  {
   "cell_type": "code",
   "execution_count": null,
   "id": "c339dbd3",
   "metadata": {},
   "outputs": [],
   "source": []
  },
  {
   "cell_type": "code",
   "execution_count": null,
   "id": "025794d0",
   "metadata": {},
   "outputs": [],
   "source": []
  },
  {
   "cell_type": "code",
   "execution_count": null,
   "id": "22a3da31",
   "metadata": {},
   "outputs": [],
   "source": []
  },
  {
   "cell_type": "code",
   "execution_count": null,
   "id": "e4db89e4",
   "metadata": {},
   "outputs": [],
   "source": []
  },
  {
   "cell_type": "code",
   "execution_count": null,
   "id": "e09e2795",
   "metadata": {},
   "outputs": [],
   "source": []
  },
  {
   "cell_type": "code",
   "execution_count": null,
   "id": "43831609",
   "metadata": {},
   "outputs": [],
   "source": []
  },
  {
   "cell_type": "code",
   "execution_count": null,
   "id": "df402d09",
   "metadata": {},
   "outputs": [],
   "source": [
    "#---------> Assignment_5(a) --------> Dictionary"
   ]
  },
  {
   "cell_type": "code",
   "execution_count": null,
   "id": "c0b10000",
   "metadata": {},
   "outputs": [],
   "source": [
    "# Tasks:\n",
    "\n",
    "# 3. Create a dict with your family members(at least 10 names)?\n",
    "# expected output : { \"family_members\" : your family member details}\n",
    "\n",
    "# 4: Create a dict with your family members and relations(at least 10 names and relations)?\n",
    "# Expected output: { \"family_members\" : your family member details , \"relations\": your relation with your family member}\n",
    "# write a program to print your father name?\n",
    "# write a program to print your favorite family member name?\n",
    "\n",
    "# 5: Create a your friend names and their quality(at least 10 names)?\n",
    "# Expected output: {\"friend_names\" : your friend names, \"quality\" : your friend quality}\n",
    "# Example output: {\"friend_names\": [\"ravi\",\"shekar\", \"abbas\",\"jhonny\"], \"quality\" : [\"talk active\", \"anger\", \"intelligent\", \"funny\"]}\n",
    "# write a program to print your intelligent friend name?\n",
    "# write a program to print your best friend name?\n",
    "\n",
    "\n",
    "# 6: Create a your favorite food names and your rating(at least 10 names)?\n",
    "# Expected output: {\"veg_items\" : food names, \"rating\" : your rating}\n",
    "  {\"nonveg_items\" : food names, \"rating\" : your rating}\n",
    "# write a program to print your rating 1 food name?\n",
    "\n",
    "\n",
    "# 7: Create a your favorite destination(cities) names and your rating(at least 10 names)?\n",
    "# Expected output: {\"destination\" : cities name, \"rating\" : your rating}\n",
    "\n",
    "\n",
    "# 8: Create a your favorite destinatdiction(cities) names and your rating(at least 10 names)?\n",
    "# Expected output: {\"destination\" : cities name, \"rating\" : your rating}\n",
    "# write a program to print your rating 3 city name?"
   ]
  },
  {
   "cell_type": "code",
   "execution_count": null,
   "id": "69ed8ac8",
   "metadata": {},
   "outputs": [],
   "source": []
  },
  {
   "cell_type": "code",
   "execution_count": null,
   "id": "de3d1c54",
   "metadata": {},
   "outputs": [],
   "source": [
    "#  -----------> Dictionary={key:key values}"
   ]
  },
  {
   "cell_type": "code",
   "execution_count": null,
   "id": "754a447b",
   "metadata": {},
   "outputs": [],
   "source": [
    "# 3. Create a dict with your family members(at least 10 names)?\n",
    "expected output : { \"family_members\" : your family member details}"
   ]
  },
  {
   "cell_type": "code",
   "execution_count": 13,
   "id": "7c15617b",
   "metadata": {},
   "outputs": [
    {
     "data": {
      "text/plain": [
       "{'Family_members': ['Md.Ali',\n",
       "  'Balkis Jaha',\n",
       "  'Shahnaz Begum',\n",
       "  'Irfan',\n",
       "  'Afzal Shaw',\n",
       "  'Shakeela Begum',\n",
       "  'Shamshad Begum',\n",
       "  'Md.Karamatulla',\n",
       "  'Shannu',\n",
       "  'Banu']}"
      ]
     },
     "execution_count": 13,
     "metadata": {},
     "output_type": "execute_result"
    }
   ],
   "source": [
    "dict={\"Family_members\":[\"Md.Ali\",\"Balkis Jaha\",\"Shahnaz Begum\",\"Irfan\",\"Afzal Shaw\",\"Shakeela Begum\",\"Shamshad Begum\",\"Md.Karamatulla\",\"Shannu\",\"Banu\"]}\n",
    "dict "
   ]
  },
  {
   "cell_type": "code",
   "execution_count": 14,
   "id": "cd052d4a",
   "metadata": {},
   "outputs": [
    {
     "data": {
      "text/plain": [
       "{'Family_members': ['Md.Ali',\n",
       "  'Balkis Jaha',\n",
       "  'Shahnaz Begum',\n",
       "  'Irfan',\n",
       "  'Afzal Shaw',\n",
       "  'Shakeela Begum',\n",
       "  'Shamshad Begum',\n",
       "  'Md.Karamatulla',\n",
       "  'Shannu',\n",
       "  'Banu'],\n",
       " 'Relations': ['Father',\n",
       "  'Mother',\n",
       "  'Sister',\n",
       "  'Brother',\n",
       "  'Brother',\n",
       "  'Sister',\n",
       "  'Me',\n",
       "  'Husband',\n",
       "  'Daugher',\n",
       "  'Daughter']}"
      ]
     },
     "execution_count": 14,
     "metadata": {},
     "output_type": "execute_result"
    }
   ],
   "source": [
    "#  4: Create a dict with your family members and relations(at least 10 names and relations)?\n",
    "# Expected output: { \"family_members\" : your family member details , \"relations\": your relation with your family member}\n",
    "# write a program to print your father name?\n",
    "# write a program to print your favorite family member name?\n",
    "\n",
    "\n",
    "dict={\"Family_members\":[\"Md.Ali\",\"Balkis Jaha\",\"Shahnaz Begum\",\"Irfan\",\"Afzal Shaw\",\"Shakeela Begum\",\"Shamshad Begum\",\"Md.Karamatulla\",\"Shannu\",\"Banu\"], \"Relations\":[\"Father\",\"Mother\",\"Sister\",\"Brother\",\"Brother\",\"Sister\",\"Me\",\"Husband\",\"Daugher\",\"Daughter\"]}\n",
    "dict"
   ]
  },
  {
   "cell_type": "code",
   "execution_count": null,
   "id": "cace4cea",
   "metadata": {},
   "outputs": [],
   "source": []
  },
  {
   "cell_type": "code",
   "execution_count": 17,
   "id": "2d8d8a92",
   "metadata": {},
   "outputs": [
    {
     "name": "stdout",
     "output_type": "stream",
     "text": [
      "My Family Members details: {'Family_members': ['Md.Ali', 'Balkis Jaha', 'Shahnaz Begum', 'Irfan', 'Afzal Shaw', 'Shakeela Begum', 'Shamshad Begum', 'Md.Karamatulla', 'Shannu', 'Banu'], 'Relations': ['Father', 'Mother', 'Sister', 'Brother', 'Brother', 'Sister', 'Me', 'Husband', 'Daugher', 'Daughter']}\n"
     ]
    }
   ],
   "source": [
    "print(\"My Family Members details:\",dict)"
   ]
  },
  {
   "cell_type": "code",
   "execution_count": null,
   "id": "75b041e3",
   "metadata": {},
   "outputs": [],
   "source": []
  },
  {
   "cell_type": "code",
   "execution_count": 18,
   "id": "dce4d10b",
   "metadata": {},
   "outputs": [
    {
     "name": "stdout",
     "output_type": "stream",
     "text": [
      "My Father Name is: Md.Ali\n"
     ]
    }
   ],
   "source": [
    "# write a program to print your father name?\n",
    "\n",
    "print(\"My Father Name is:\",dict[\"Family_members\"][0])"
   ]
  },
  {
   "cell_type": "code",
   "execution_count": 19,
   "id": "25797cc6",
   "metadata": {},
   "outputs": [
    {
     "name": "stdout",
     "output_type": "stream",
     "text": [
      "MY Favorite Family Member Name is: Balkis Jaha\n"
     ]
    }
   ],
   "source": [
    "# write a program to print your favorite family member name?\n",
    "\n",
    "print(\"MY Favorite Family Member Name is:\",dict[\"Family_members\"][1])\n"
   ]
  },
  {
   "cell_type": "code",
   "execution_count": null,
   "id": "20193e1d",
   "metadata": {},
   "outputs": [],
   "source": []
  },
  {
   "cell_type": "code",
   "execution_count": null,
   "id": "6971ebc5",
   "metadata": {},
   "outputs": [],
   "source": [
    "# 5: Create a your friend names and their quality(at least 10 names)?\n",
    "# Expected output: {\"friend_names\" : your friend names, \"quality\" : your friend quality}\n",
    "# Example output: {\"friend_names\": [\"ravi\",\"shekar\", \"abbas\",\"jhonny\"], \"quality\" : [\"talk active\", \"anger\", \"intelligent\", \"funny\"]}\n",
    "# write a program to print your intelligent friend name?\n",
    "# write a program to print your best friend name?\n",
    "\n"
   ]
  },
  {
   "cell_type": "code",
   "execution_count": 29,
   "id": "9bb2a285",
   "metadata": {},
   "outputs": [
    {
     "data": {
      "text/plain": [
       "{'Friend_names': ['Ravi',\n",
       "  'Shekar',\n",
       "  'Aliya',\n",
       "  'Perveen',\n",
       "  'Khamurunnisa',\n",
       "  'Salma',\n",
       "  'Radha',\n",
       "  'Sridevi',\n",
       "  'Abbas',\n",
       "  'Jarina'],\n",
       " 'Quality': ['Talk Active',\n",
       "  'Anger',\n",
       "  'Intelligent',\n",
       "  'Funny',\n",
       "  'Good',\n",
       "  'Innocent',\n",
       "  'Claver',\n",
       "  'Singer',\n",
       "  'Hard Working',\n",
       "  'Help full']}"
      ]
     },
     "execution_count": 29,
     "metadata": {},
     "output_type": "execute_result"
    }
   ],
   "source": [
    "dict={\"Friend_names\": [\"Ravi\",\"Shekar\",\"Aliya\",\"Perveen\",\"Khamurunnisa\",\"Salma\",\"Radha\",\"Sridevi\",\"Abbas\",\"Jarina\"], \"Quality\" : [\"Talk Active\", \"Anger\", \"Intelligent\", \"Funny\", \"Good\", \"Innocent\", \"Claver\", \"Singer\",\"Hard Working\",\"Help full\"]}\n",
    "dict"
   ]
  },
  {
   "cell_type": "code",
   "execution_count": null,
   "id": "19d7cdea",
   "metadata": {},
   "outputs": [],
   "source": []
  },
  {
   "cell_type": "code",
   "execution_count": 30,
   "id": "5639e743",
   "metadata": {},
   "outputs": [
    {
     "name": "stdout",
     "output_type": "stream",
     "text": [
      "My Intelligent Friend Name is : Aliya\n"
     ]
    }
   ],
   "source": [
    "# write a program to print your intelligent friend name?\n",
    "\n",
    "print (\"My Intelligent Friend Name is :\",dict[\"Friend_names\"][2])"
   ]
  },
  {
   "cell_type": "code",
   "execution_count": null,
   "id": "c69dea3a",
   "metadata": {},
   "outputs": [],
   "source": []
  },
  {
   "cell_type": "code",
   "execution_count": 31,
   "id": "b01fe766",
   "metadata": {},
   "outputs": [
    {
     "name": "stdout",
     "output_type": "stream",
     "text": [
      "My Best Friend Name is : Khamurunnisa\n"
     ]
    }
   ],
   "source": [
    "# write a program to print your best friend name?\n",
    "\n",
    "print(\"My Best Friend Name is :\",dict[\"Friend_names\"][4])"
   ]
  },
  {
   "cell_type": "code",
   "execution_count": null,
   "id": "5241f995",
   "metadata": {},
   "outputs": [],
   "source": []
  },
  {
   "cell_type": "code",
   "execution_count": null,
   "id": "154ca4f1",
   "metadata": {},
   "outputs": [],
   "source": [
    "# 6: Create a your favorite food names and your rating(at least 10 names)?\n",
    "Expected output: {\"veg_items\" : food names, \"rating\" : your rating}\n",
    "{\"nonveg_items\" : food names, \"rating\" : your rating}\n",
    "write a program to print your rating 1 food name?\n"
   ]
  },
  {
   "cell_type": "code",
   "execution_count": 32,
   "id": "c006e9d5",
   "metadata": {},
   "outputs": [
    {
     "data": {
      "text/plain": [
       "{'Veg_items': ['Potato Fry',\n",
       "  'Tomato Dal',\n",
       "  'Pudina Chatny',\n",
       "  'Cabbage Dal',\n",
       "  \"Lady's Finger Fry\",\n",
       "  'Potato Tomato Curry',\n",
       "  'Brinjal Curry',\n",
       "  'Tomato Curry',\n",
       "  'Sambar',\n",
       "  'Ridge Guard Curry'],\n",
       " 'Rating': [2, 1, 5, 7, 3, 8, 4, 9, 6, 10]}"
      ]
     },
     "execution_count": 32,
     "metadata": {},
     "output_type": "execute_result"
    }
   ],
   "source": [
    "dict1={\"Veg_items\" : [\"Potato Fry\",\"Tomato Dal\",\"Pudina Chatny\",\"Cabbage Dal\",\"Lady's Finger Fry\",\"Potato Tomato Curry\",\"Brinjal Curry\",\"Tomato Curry\",\"Sambar\",\"Ridge Guard Curry\"],\"Rating\":[2,1,5,7,3,8,4,9,6,10]}\n",
    "dict1"
   ]
  },
  {
   "cell_type": "code",
   "execution_count": null,
   "id": "a9f07c5f",
   "metadata": {},
   "outputs": [],
   "source": []
  },
  {
   "cell_type": "code",
   "execution_count": 33,
   "id": "87449035",
   "metadata": {},
   "outputs": [
    {
     "data": {
      "text/plain": [
       "{'NVeg_items': ['Matton Curry',\n",
       "  'Chicken Curry',\n",
       "  'Matton Khurma',\n",
       "  'Matton Biryani',\n",
       "  'Chicken Biryani',\n",
       "  'Chicken fry',\n",
       "  'Matton fry',\n",
       "  'Fish  Curry',\n",
       "  'Fish fry',\n",
       "  'Prawns fry'],\n",
       " 'Rating': [4, 10, 3, 1, 2, 8, 5, 7, 6, 9]}"
      ]
     },
     "execution_count": 33,
     "metadata": {},
     "output_type": "execute_result"
    }
   ],
   "source": [
    "dict2={\"NVeg_items\" :[\"Matton Curry\",\"Chicken Curry\",\"Matton Khurma\",\"Matton Biryani\",\"Chicken Biryani\",\"Chicken fry\",\"Matton fry\",\"Fish  Curry\",\"Fish fry\",\"Prawns fry\"],\"Rating\":[4,10,3,1,2,8,5,7,6,9]}\n",
    "dict2"
   ]
  },
  {
   "cell_type": "code",
   "execution_count": null,
   "id": "77597ec2",
   "metadata": {},
   "outputs": [],
   "source": []
  },
  {
   "cell_type": "code",
   "execution_count": 43,
   "id": "9e1ddd46",
   "metadata": {},
   "outputs": [
    {
     "name": "stdout",
     "output_type": "stream",
     "text": [
      "Rating 1 Food Names : Tomato Dal Matton Biryani\n"
     ]
    }
   ],
   "source": [
    "print(\"Rating 1 Food Names :\",dict1[\"Veg_items\"][1],dict2[\"NVeg_items\"][3])"
   ]
  },
  {
   "cell_type": "code",
   "execution_count": null,
   "id": "a6c5a79e",
   "metadata": {},
   "outputs": [],
   "source": []
  },
  {
   "cell_type": "code",
   "execution_count": null,
   "id": "da5618ce",
   "metadata": {},
   "outputs": [],
   "source": [
    "# 7: Create a your favorite destination(cities) names and your rating(at least 10 names)?\n",
    "#  Expected output: {\"destination\" : cities name, \"rating\" : your rating"
   ]
  },
  {
   "cell_type": "code",
   "execution_count": 35,
   "id": "93292cc4",
   "metadata": {},
   "outputs": [
    {
     "data": {
      "text/plain": [
       "{'City_names': ['Delhi',\n",
       "  'Mumbai',\n",
       "  'Kolkata',\n",
       "  'Chennai',\n",
       "  'Lacknow',\n",
       "  'Hyderabad',\n",
       "  'Varanasi',\n",
       "  'Bangalure',\n",
       "  'Ahmedabad',\n",
       "  'Surat'],\n",
       " 'Rating': [4, 6, 3, 5, 8, 2, 7, 1, 9, 10]}"
      ]
     },
     "execution_count": 35,
     "metadata": {},
     "output_type": "execute_result"
    }
   ],
   "source": [
    "Fav_destination={\"City_names\" :[\"Delhi\",\"Mumbai\",\"Kolkata\",\"Chennai\",\"Lacknow\",\"Hyderabad\",\"Varanasi\",\"Bangalure\",\"Ahmedabad\",\"Surat\"],\"Rating\":[4,6,3,5,8,2,7,1,9,10]}\n",
    "Fav_destination"
   ]
  },
  {
   "cell_type": "code",
   "execution_count": null,
   "id": "5c026c3b",
   "metadata": {},
   "outputs": [],
   "source": []
  },
  {
   "cell_type": "code",
   "execution_count": 36,
   "id": "187be7b1",
   "metadata": {},
   "outputs": [
    {
     "name": "stdout",
     "output_type": "stream",
     "text": [
      "My Favorite Destination City Name is: Bangalure\n"
     ]
    }
   ],
   "source": [
    "print (\"My Favorite Destination City Name is:\",Fav_destination[\"City_names\"][7])"
   ]
  },
  {
   "cell_type": "code",
   "execution_count": null,
   "id": "c7efe7a6",
   "metadata": {},
   "outputs": [],
   "source": []
  },
  {
   "cell_type": "code",
   "execution_count": null,
   "id": "439bfbca",
   "metadata": {},
   "outputs": [],
   "source": [
    "# 8: Create a your favorite destinatdiction(cities) names and your rating(at least 10 names)?\n",
    "#Expected output: {\"destination\" : cities name, \"rating\" : your rating}\n",
    "write a program to print your rating 3 city name?"
   ]
  },
  {
   "cell_type": "code",
   "execution_count": 38,
   "id": "491880ee",
   "metadata": {},
   "outputs": [
    {
     "name": "stdout",
     "output_type": "stream",
     "text": [
      "My Rating 3 City name is: Kolkata\n"
     ]
    }
   ],
   "source": [
    "print(\"My Rating 3 City name is:\",Fav_destination[\"City_names\"][2])"
   ]
  },
  {
   "cell_type": "code",
   "execution_count": null,
   "id": "ce7e9401",
   "metadata": {},
   "outputs": [],
   "source": []
  },
  {
   "cell_type": "code",
   "execution_count": null,
   "id": "b36c59b4",
   "metadata": {},
   "outputs": [],
   "source": []
  },
  {
   "cell_type": "code",
   "execution_count": null,
   "id": "907f7dd0",
   "metadata": {},
   "outputs": [],
   "source": []
  },
  {
   "cell_type": "code",
   "execution_count": null,
   "id": "b16cc537",
   "metadata": {},
   "outputs": [],
   "source": []
  },
  {
   "cell_type": "code",
   "execution_count": null,
   "id": "72b7b1f9",
   "metadata": {},
   "outputs": [],
   "source": []
  },
  {
   "cell_type": "code",
   "execution_count": null,
   "id": "b1f2544e",
   "metadata": {},
   "outputs": [],
   "source": []
  }
 ],
 "metadata": {
  "kernelspec": {
   "display_name": "Python 3 (ipykernel)",
   "language": "python",
   "name": "python3"
  },
  "language_info": {
   "codemirror_mode": {
    "name": "ipython",
    "version": 3
   },
   "file_extension": ".py",
   "mimetype": "text/x-python",
   "name": "python",
   "nbconvert_exporter": "python",
   "pygments_lexer": "ipython3",
   "version": "3.10.9"
  }
 },
 "nbformat": 4,
 "nbformat_minor": 5
}
