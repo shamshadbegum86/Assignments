{
 "cells": [
  {
   "cell_type": "code",
   "execution_count": null,
   "id": "101710ac",
   "metadata": {},
   "outputs": [],
   "source": [
    "syntax:\n",
    "    for s in seq:\n",
    "        statement\n",
    "        statement1"
   ]
  },
  {
   "cell_type": "code",
   "execution_count": null,
   "id": "8b296306",
   "metadata": {},
   "outputs": [],
   "source": [
    "list/tuple/dict/set"
   ]
  },
  {
   "cell_type": "code",
   "execution_count": 1,
   "id": "c73f8d96",
   "metadata": {},
   "outputs": [
    {
     "data": {
      "text/plain": [
       "['Aadya', 'Bhavya', 'Chandana', 'Divya', 'Eswari']"
      ]
     },
     "execution_count": 1,
     "metadata": {},
     "output_type": "execute_result"
    }
   ],
   "source": [
    "lst=[\"Aadya\",\"Bhavya\",\"Chandana\",\"Divya\",\"Eswari\"]\n",
    "lst"
   ]
  },
  {
   "cell_type": "code",
   "execution_count": null,
   "id": "18310c51",
   "metadata": {},
   "outputs": [],
   "source": [
    "for:"
   ]
  },
  {
   "cell_type": "code",
   "execution_count": 2,
   "id": "e1cd395c",
   "metadata": {},
   "outputs": [
    {
     "name": "stdout",
     "output_type": "stream",
     "text": [
      "The student name is: Aadya\n",
      "The student name is: Bhavya\n",
      "The student name is: Chandana\n",
      "The student name is: Divya\n",
      "The student name is: Eswari\n"
     ]
    }
   ],
   "source": [
    "for Begum in lst:\n",
    "    print(\"The student name is:\",Begum)"
   ]
  },
  {
   "cell_type": "code",
   "execution_count": 3,
   "id": "c635fd2c",
   "metadata": {},
   "outputs": [
    {
     "name": "stdout",
     "output_type": "stream",
     "text": [
      "Asma\n",
      "Shabana\n",
      "Aliya\n",
      "Mallika\n",
      "Arshya\n",
      "Shakeela\n",
      "Rehyana\n",
      "Asmat\n"
     ]
    }
   ],
   "source": [
    "f_names=[\"Asma\",\"Shabana\",\"Aliya\",\"Mallika\",\"Arshya\",\"Shakeela\",\"Rehyana\",\"Asmat\"]\n",
    "for s in f_names:\n",
    "    print(s)"
   ]
  },
  {
   "cell_type": "code",
   "execution_count": 4,
   "id": "1f992ab9",
   "metadata": {},
   "outputs": [
    {
     "name": "stdout",
     "output_type": "stream",
     "text": [
      "My Friend Name is: Ramya\n",
      "My Friend Name is: Shafeeka\n",
      "My Friend Name is: Jaya\n",
      "My Friend Name is: Anitha\n",
      "My Friend Name is: Lakshmi\n",
      "My Friend Name is: Devika\n"
     ]
    }
   ],
   "source": [
    "friend_names=[\"Ramya\",\"Shafeeka\",\"Jaya\",\"Anitha\",\"Lakshmi\",\"Devika\"]\n",
    "for s in friend_names:\n",
    "    print(\"My Friend Name is:\",s)"
   ]
  },
  {
   "cell_type": "code",
   "execution_count": 5,
   "id": "c795eed5",
   "metadata": {},
   "outputs": [
    {
     "name": "stdout",
     "output_type": "stream",
     "text": [
      "Ramya\n",
      "Shafeeka\n",
      "Jaya\n",
      "Anitha\n",
      "Lakshmi\n",
      "Devika\n"
     ]
    }
   ],
   "source": [
    "friend_names=[\"Ramya\",\"Shafeeka\",\"Jaya\",\"Anitha\",\"Lakshmi\",\"Devika\"]\n",
    "for s in friend_names:\n",
    "    print(s)"
   ]
  },
  {
   "cell_type": "code",
   "execution_count": 6,
   "id": "8f835b8d",
   "metadata": {},
   "outputs": [
    {
     "name": "stdout",
     "output_type": "stream",
     "text": [
      "Anitha\n"
     ]
    }
   ],
   "source": [
    "friend_names=[\"Ramya\",\"Shafeeka\",\"Jaya\",\"Anitha\",\"Lakshmi\",\"Devika\"]\n",
    "print(friend_names[3])"
   ]
  },
  {
   "cell_type": "code",
   "execution_count": 7,
   "id": "450817cd",
   "metadata": {},
   "outputs": [
    {
     "name": "stdout",
     "output_type": "stream",
     "text": [
      "Jaya\n"
     ]
    }
   ],
   "source": [
    "print(friend_names[-4])"
   ]
  },
  {
   "cell_type": "code",
   "execution_count": 8,
   "id": "5aa0a5b0",
   "metadata": {},
   "outputs": [],
   "source": [
    "marks=[15,25,35,45]"
   ]
  },
  {
   "cell_type": "code",
   "execution_count": null,
   "id": "15d45bcd",
   "metadata": {},
   "outputs": [],
   "source": [
    "5 addition"
   ]
  },
  {
   "cell_type": "code",
   "execution_count": 9,
   "id": "bc1fb8fe",
   "metadata": {},
   "outputs": [
    {
     "name": "stdout",
     "output_type": "stream",
     "text": [
      "Actual value is: 15\n",
      "Additional value is: 20\n",
      "Actual value is: 25\n",
      "Additional value is: 30\n",
      "Actual value is: 35\n",
      "Additional value is: 40\n",
      "Actual value is: 45\n",
      "Additional value is: 50\n"
     ]
    }
   ],
   "source": [
    "for marksupdate in marks:\n",
    "    print (\"Actual value is:\",marksupdate)\n",
    "    new_addition = marksupdate+5\n",
    "    print(\"Additional value is:\",new_addition)\n",
    "    "
   ]
  },
  {
   "cell_type": "code",
   "execution_count": null,
   "id": "835f1631",
   "metadata": {},
   "outputs": [],
   "source": [
    "for conditions:"
   ]
  },
  {
   "cell_type": "code",
   "execution_count": 10,
   "id": "ac54a1ef",
   "metadata": {},
   "outputs": [],
   "source": [
    "marks=[11,22,33,44]"
   ]
  },
  {
   "cell_type": "code",
   "execution_count": null,
   "id": "02c67c91",
   "metadata": {},
   "outputs": [],
   "source": [
    "25 above 5\n",
    "25 below 2"
   ]
  },
  {
   "cell_type": "code",
   "execution_count": 11,
   "id": "850288ee",
   "metadata": {},
   "outputs": [
    {
     "name": "stdout",
     "output_type": "stream",
     "text": [
      "marks: 11\n",
      "Added value below 25  13\n",
      "marks: 22\n",
      "Added value below 25  24\n",
      "marks: 33\n",
      "Added value for above 25  38\n",
      "marks: 44\n",
      "Added value for above 25  49\n"
     ]
    }
   ],
   "source": [
    "for marksnum in marks:\n",
    "    print (\"marks:\",marksnum)\n",
    "    if marksnum>25:\n",
    "        print(\"Added value for above 25 \",marksnum+5)\n",
    "    else:\n",
    "        print(\"Added value below 25 \",marksnum+2)"
   ]
  },
  {
   "cell_type": "code",
   "execution_count": 1,
   "id": "af771756",
   "metadata": {},
   "outputs": [
    {
     "name": "stdout",
     "output_type": "stream",
     "text": [
      "Mango\n",
      "Apple\n",
      "Grapes\n",
      "Orange\n",
      "Banana\n"
     ]
    }
   ],
   "source": [
    "Fruits=[\"Mango\",\"Apple\",\"Grapes\",\"Orange\",\"Banana\"]\n",
    "\n",
    "for Shamshad in Fruits:\n",
    "    \n",
    "    print(Shamshad)"
   ]
  },
  {
   "cell_type": "code",
   "execution_count": 5,
   "id": "36c12afc",
   "metadata": {},
   "outputs": [
    {
     "name": "stdout",
     "output_type": "stream",
     "text": [
      "Delivery to Shabana\n",
      "Delivery to Jyothi\n",
      "Delivery to Suseela\n",
      "Delivery to Deepika\n",
      "Delivery to Gamya\n"
     ]
    }
   ],
   "source": [
    "Fruits=[\"Mango\",\"Apple\",\"Grapes\",\"Orange\",\"Banana\"]\n",
    "Customer=[\"Shabana\",\"Jyothi\",\"Suseela\",\"Deepika\",\"Gamya\"]\n",
    "\n",
    "for S in Fruits:\n",
    "    \n",
    "    if S==\"Mango\":\n",
    "        print(\"Delivery to Shabana\")\n",
    "        \n",
    "    elif S==\"Apple\":\n",
    "        print(\"Delivery to Jyothi\")\n",
    "        \n",
    "    elif S==\"Grapes\":\n",
    "        print(\"Delivery to Suseela\") \n",
    "        \n",
    "    elif S==\"Orange\":\n",
    "        print(\"Delivery to Deepika\")\n",
    "        \n",
    "    elif S==\"Banana\":\n",
    "        print(\"Delivery to Gamya\")\n",
    "        \n",
    "    else:\n",
    "        print(\"No Delivery\")"
   ]
  },
  {
   "cell_type": "code",
   "execution_count": null,
   "id": "f3a28b41",
   "metadata": {},
   "outputs": [],
   "source": []
  },
  {
   "cell_type": "code",
   "execution_count": null,
   "id": "26f7790e",
   "metadata": {},
   "outputs": [],
   "source": []
  }
 ],
 "metadata": {
  "kernelspec": {
   "display_name": "Python 3 (ipykernel)",
   "language": "python",
   "name": "python3"
  },
  "language_info": {
   "codemirror_mode": {
    "name": "ipython",
    "version": 3
   },
   "file_extension": ".py",
   "mimetype": "text/x-python",
   "name": "python",
   "nbconvert_exporter": "python",
   "pygments_lexer": "ipython3",
   "version": "3.10.9"
  }
 },
 "nbformat": 4,
 "nbformat_minor": 5
}
