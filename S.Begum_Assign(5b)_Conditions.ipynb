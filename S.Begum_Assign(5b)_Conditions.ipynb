{
 "cells": [
  {
   "cell_type": "code",
   "execution_count": null,
   "id": "c678d728",
   "metadata": {},
   "outputs": [],
   "source": [
    "#------------------------> Conditions"
   ]
  },
  {
   "cell_type": "code",
   "execution_count": null,
   "id": "e0db1d56",
   "metadata": {},
   "outputs": [],
   "source": [
    "syntax:"
   ]
  },
  {
   "cell_type": "code",
   "execution_count": null,
   "id": "e6552289",
   "metadata": {},
   "outputs": [],
   "source": [
    "if condition:\n",
    "    statements\n",
    "    statements"
   ]
  },
  {
   "cell_type": "code",
   "execution_count": null,
   "id": "ef3114ad",
   "metadata": {},
   "outputs": [],
   "source": [
    "conditions\n",
    "3"
   ]
  },
  {
   "cell_type": "code",
   "execution_count": null,
   "id": "e8ab5674",
   "metadata": {},
   "outputs": [],
   "source": [
    "if-------------->True\n",
    "if  else--------->True or False  &  Yes or No\n",
    "if  elif  else--->More than two values"
   ]
  },
  {
   "cell_type": "code",
   "execution_count": null,
   "id": "a96367d2",
   "metadata": {},
   "outputs": [],
   "source": []
  },
  {
   "cell_type": "code",
   "execution_count": 1,
   "id": "04c94a4c",
   "metadata": {},
   "outputs": [
    {
     "name": "stdout",
     "output_type": "stream",
     "text": [
      "You are Teen age\n"
     ]
    }
   ],
   "source": [
    "#Task_2:\n",
    "\n",
    "# Write a program,  my age is more than 20 print teen_age other wise print younge_age?\n",
    "# \ta.my_age is 20, who am i? Expected output: you are teen_age\n",
    "# \tb.my_age is 30, who am i? Expected output: you are younge_age\n",
    "# \tc.my_age is 10, who am i? \n",
    "# \td.my_age is 40, who am i? \n",
    "\n",
    "my_age=20\n",
    "\n",
    "if my_age==20:\n",
    "    print(\"You are Teen age\")\n",
    "elif my_age==30:\n",
    "    print(\"You are Young age\")\n",
    "elif my_age==10:\n",
    "    print(\"You are Child\")\n",
    "elif my_age==40:  \n",
    "    print(\"You are Middle age\")\n",
    "else:\n",
    "    print(\"You are Old age\")"
   ]
  },
  {
   "cell_type": "code",
   "execution_count": 2,
   "id": "a61a368e",
   "metadata": {},
   "outputs": [
    {
     "name": "stdout",
     "output_type": "stream",
     "text": [
      "You are Young age\n"
     ]
    }
   ],
   "source": [
    "my_age=30\n",
    "\n",
    "if my_age==20:\n",
    "    print(\"You are Teen age\")\n",
    "elif my_age==30:\n",
    "    print(\"You are Young age\")\n",
    "elif my_age==10:\n",
    "    print(\"You are Child\")\n",
    "elif my_age==40:  \n",
    "    print(\"You are Middle age\")\n",
    "else:\n",
    "    print(\"You are Old age\")"
   ]
  },
  {
   "cell_type": "code",
   "execution_count": 3,
   "id": "6732d973",
   "metadata": {},
   "outputs": [
    {
     "name": "stdout",
     "output_type": "stream",
     "text": [
      "You are Child\n"
     ]
    }
   ],
   "source": [
    "my_age=10\n",
    "\n",
    "if my_age==20:\n",
    "    print(\"You are Teen age\")\n",
    "elif my_age==30:\n",
    "    print(\"You are Young age\")\n",
    "elif my_age==10:\n",
    "    print(\"You are Child\")\n",
    "elif my_age==40:  \n",
    "    print(\"You are Middle age\")\n",
    "else:\n",
    "    print(\"You are Old age\")"
   ]
  },
  {
   "cell_type": "code",
   "execution_count": 4,
   "id": "87c419a7",
   "metadata": {},
   "outputs": [
    {
     "name": "stdout",
     "output_type": "stream",
     "text": [
      "You are Middle age\n"
     ]
    }
   ],
   "source": [
    "my_age=40\n",
    "\n",
    "if my_age==20:\n",
    "    print(\"You are Teen age\")\n",
    "elif my_age==30:\n",
    "    print(\"You are Young age\")\n",
    "elif my_age==10:\n",
    "    print(\"You are Child\")\n",
    "elif my_age==40:  \n",
    "    print(\"You are Middle age\")\n",
    "else:\n",
    "    print(\"You are Old age\")"
   ]
  },
  {
   "cell_type": "code",
   "execution_count": 5,
   "id": "850b5a49",
   "metadata": {},
   "outputs": [
    {
     "name": "stdout",
     "output_type": "stream",
     "text": [
      "You are Old age\n"
     ]
    }
   ],
   "source": [
    "my_age=60\n",
    "\n",
    "if my_age==20:\n",
    "    print(\"You are Teen age\")\n",
    "elif my_age==30:\n",
    "    print(\"You are Young age\")\n",
    "elif my_age==10:\n",
    "    print(\"You are Child\")\n",
    "elif my_age==40:  \n",
    "    print(\"You are Middle age\")\n",
    "else:\n",
    "    print(\"You are Old age\")"
   ]
  },
  {
   "cell_type": "code",
   "execution_count": null,
   "id": "90ae0e2d",
   "metadata": {},
   "outputs": [],
   "source": []
  },
  {
   "cell_type": "code",
   "execution_count": 6,
   "id": "bec7fed1",
   "metadata": {},
   "outputs": [],
   "source": [
    "# Write a program today is Monday/Tuesday/Wendsday/Thursday/Friday print weekday otherwise print weekend?"
   ]
  },
  {
   "cell_type": "code",
   "execution_count": 7,
   "id": "fcb80ddc",
   "metadata": {},
   "outputs": [
    {
     "name": "stdout",
     "output_type": "stream",
     "text": [
      "Weekday\n"
     ]
    }
   ],
   "source": [
    "Today=\"Monday\"\n",
    "\n",
    "if Today==\"Monday\":\n",
    "    print(\"Weekday\")\n",
    "    \n",
    "elif  Today==\"Tuesday\":\n",
    "    print(\"Weekday\")\n",
    "    \n",
    "elif  Today==\"Wednesday\":\n",
    "    print(\"Weekday\")\n",
    "    \n",
    "elif  Today==\"Thursday\":\n",
    "    print(\"Weekday\")\n",
    "          \n",
    "elif  Today==\"Friday\":\n",
    "    print(\"Weekday\")\n",
    "          \n",
    "else:\n",
    "    print(\"Weekend\")\n",
    "                    "
   ]
  },
  {
   "cell_type": "code",
   "execution_count": 8,
   "id": "05f11583",
   "metadata": {},
   "outputs": [
    {
     "name": "stdout",
     "output_type": "stream",
     "text": [
      "Weekend\n"
     ]
    }
   ],
   "source": [
    "Today=\"Saturday\"\n",
    "\n",
    "if Today==\"Monday\":\n",
    "    print(\"Weekday\")\n",
    "    \n",
    "elif  Today==\"Tuesday\":\n",
    "    print(\"Weekday\")\n",
    "    \n",
    "elif  Today==\"Wednesday\":\n",
    "    print(\"Weekday\")\n",
    "    \n",
    "elif  Today==\"Thursday\":\n",
    "    print(\"Weekday\")\n",
    "          \n",
    "elif  Today==\"Friday\":\n",
    "    print(\"Weekday\")\n",
    "          \n",
    "else:\n",
    "    print(\"Weekend\")"
   ]
  },
  {
   "cell_type": "code",
   "execution_count": 9,
   "id": "6e677cd7",
   "metadata": {},
   "outputs": [
    {
     "name": "stdout",
     "output_type": "stream",
     "text": [
      "Weekday\n"
     ]
    }
   ],
   "source": [
    "Today=\"Thursday\"\n",
    "\n",
    "if Today==\"Monday\":\n",
    "    print(\"Weekday\")\n",
    "    \n",
    "elif  Today==\"Tuesday\":\n",
    "    print(\"Weekday\")\n",
    "    \n",
    "elif  Today==\"Wednesday\":\n",
    "    print(\"Weekday\")\n",
    "    \n",
    "elif  Today==\"Thursday\":\n",
    "    print(\"Weekday\")\n",
    "          \n",
    "elif  Today==\"Friday\":\n",
    "    print(\"Weekday\")\n",
    "          \n",
    "else:\n",
    "    print(\"Weekend\")"
   ]
  },
  {
   "cell_type": "code",
   "execution_count": 10,
   "id": "311d7e56",
   "metadata": {},
   "outputs": [
    {
     "name": "stdout",
     "output_type": "stream",
     "text": [
      "Weekend\n"
     ]
    }
   ],
   "source": [
    "Today=\"Sunday\"\n",
    "\n",
    "if Today==\"Monday\":\n",
    "    print(\"Weekday\")\n",
    "    \n",
    "elif  Today==\"Tuesday\":\n",
    "    print(\"Weekday\")\n",
    "    \n",
    "elif  Today==\"Wednesday\":\n",
    "    print(\"Weekday\")\n",
    "    \n",
    "elif  Today==\"Thursday\":\n",
    "    print(\"Weekday\")\n",
    "          \n",
    "elif  Today==\"Friday\":\n",
    "    print(\"Weekday\")\n",
    "          \n",
    "else:\n",
    "    print(\"Weekend\")"
   ]
  },
  {
   "cell_type": "code",
   "execution_count": null,
   "id": "658af57f",
   "metadata": {},
   "outputs": [],
   "source": []
  },
  {
   "cell_type": "code",
   "execution_count": 11,
   "id": "ca78a366",
   "metadata": {},
   "outputs": [],
   "source": [
    "# Task_3:\n",
    "\n",
    "# Scenario1: Today my business income is 10/- if my income is more than 10/- then print \"i am profitable\" otherwise print \"i lost\"\n",
    "# ఈ రోజు నా ఆదాయం 10. నా ఆదాయం 10 కంటే ఎక్కువ ఉంటే ప్రింట్ నేను లాభదాయకంగా ఉన్నాను లేకపోతే నేను పోగొట్టుకున్నాను.\n"
   ]
  },
  {
   "cell_type": "code",
   "execution_count": 12,
   "id": "43268ad4",
   "metadata": {},
   "outputs": [
    {
     "name": "stdout",
     "output_type": "stream",
     "text": [
      "I am Profitable\n"
     ]
    }
   ],
   "source": [
    "My_income=20\n",
    "\n",
    "if My_income>10:\n",
    "    print(\"I am Profitable\")\n",
    "else:\n",
    "    print(\"I Lost\")"
   ]
  },
  {
   "cell_type": "code",
   "execution_count": 13,
   "id": "e4bd3dea",
   "metadata": {},
   "outputs": [
    {
     "name": "stdout",
     "output_type": "stream",
     "text": [
      "I Lost\n"
     ]
    }
   ],
   "source": [
    "My_income=9\n",
    "\n",
    "if My_income>10:\n",
    "    print(\"I am Profitable\")\n",
    "else:\n",
    "    print(\"I Lost\")"
   ]
  },
  {
   "cell_type": "code",
   "execution_count": 14,
   "id": "c9369f32",
   "metadata": {},
   "outputs": [
    {
     "name": "stdout",
     "output_type": "stream",
     "text": [
      "I Lost\n"
     ]
    }
   ],
   "source": [
    "My_income=10\n",
    "\n",
    "if My_income>10:\n",
    "    print(\"I am Profitable\")\n",
    "else:\n",
    "    print(\"I Lost\")"
   ]
  },
  {
   "cell_type": "code",
   "execution_count": null,
   "id": "0e85e303",
   "metadata": {},
   "outputs": [],
   "source": []
  },
  {
   "cell_type": "code",
   "execution_count": 15,
   "id": "dd397a5f",
   "metadata": {},
   "outputs": [
    {
     "name": "stdout",
     "output_type": "stream",
     "text": [
      "I am Elder\n"
     ]
    }
   ],
   "source": [
    "# cenario2: your age is more than your sister age then print \"i am elder\" otherwise print \"i am younger\"\n",
    "# మీ వయస్సు మీ సోదరి వయస్సు కంటే ఎక్కువగా ఉంటే, నేను పెద్దవాడిని అని ముద్రించండి లేకపోతే నేను చిన్నవాడిని అని ముద్రించండి\n",
    "\n",
    "my_age=35\n",
    "my_sis_age=25\n",
    "\n",
    "if my_age>my_sis_age:\n",
    "    \n",
    "    print(\"I am Elder\")\n",
    "else:\n",
    "    print(\"I am Younger\")"
   ]
  },
  {
   "cell_type": "code",
   "execution_count": 16,
   "id": "5adb62b4",
   "metadata": {},
   "outputs": [
    {
     "name": "stdout",
     "output_type": "stream",
     "text": [
      "I am Younger\n"
     ]
    }
   ],
   "source": [
    "my_age=20\n",
    "my_sis_age=25\n",
    "\n",
    "if my_age>my_sis_age:\n",
    "    \n",
    "    print(\"I am Elder\")\n",
    "else:\n",
    "    print(\"I am Younger\")"
   ]
  },
  {
   "cell_type": "code",
   "execution_count": null,
   "id": "01ef1570",
   "metadata": {},
   "outputs": [],
   "source": []
  },
  {
   "cell_type": "code",
   "execution_count": 17,
   "id": "6f2ce971",
   "metadata": {},
   "outputs": [],
   "source": [
    "# Scenario3:festival offer in my shop. \n",
    "# purchase amount more than 100 then print 30% discount.\n",
    "# purchase amount less than 50 then print 10% discount \n",
    "# otherwise print 20% discount.\t\n",
    "# నా దుకాణంలో పండుగ ఆఫర్. కొనుగోలు మొత్తం 100 కంటే ఎక్కువ, ఆపై ప్రింట్ 30% తగ్గింపు. 50 కంటే తక్కువ మొత్తాన్ని కొనుగోలు చేసి, ఆపై 10% తగ్గింపును ప్రింట్ చేయండి లేకపోతే 20% తగ్గింపును ప్రింట్ చేయండి\n",
    "# मेरी दुकान में त्योहार की पेशकश। खरीद राशि 100 से अधिक तो 30% छूट प्रिंट करें। खरीद राशि 50 से कम है तो 10% छूट प्रिंट करें अन्यथा 20% छूट प्रिंट करें।"
   ]
  },
  {
   "cell_type": "code",
   "execution_count": 18,
   "id": "eba5915f",
   "metadata": {},
   "outputs": [
    {
     "name": "stdout",
     "output_type": "stream",
     "text": [
      "30% discount\n"
     ]
    }
   ],
   "source": [
    "pur_amount=120\n",
    "\n",
    "if pur_amount>100:\n",
    "    print(\"30% discount\")\n",
    "    \n",
    "elif pur_amount<50:\n",
    "     print(\"10% discount\")\n",
    "    \n",
    "else:\n",
    "     print(\"20% discount\")"
   ]
  },
  {
   "cell_type": "code",
   "execution_count": 19,
   "id": "cd2628ef",
   "metadata": {},
   "outputs": [
    {
     "name": "stdout",
     "output_type": "stream",
     "text": [
      "10% discount\n"
     ]
    }
   ],
   "source": [
    "pur_amount=30\n",
    "\n",
    "if pur_amount>100:\n",
    "    print(\"30% discount\")\n",
    "    \n",
    "elif pur_amount<50:\n",
    "     print(\"10% discount\")\n",
    "    \n",
    "else:\n",
    "     print(\"20% discount\")"
   ]
  },
  {
   "cell_type": "code",
   "execution_count": 20,
   "id": "0db631ee",
   "metadata": {},
   "outputs": [
    {
     "name": "stdout",
     "output_type": "stream",
     "text": [
      "20% discount\n"
     ]
    }
   ],
   "source": [
    "pur_amount=80\n",
    "\n",
    "if pur_amount>100:\n",
    "    print(\"30% discount\")\n",
    "    \n",
    "elif pur_amount<50:\n",
    "     print(\"10% discount\")\n",
    "    \n",
    "else:\n",
    "     print(\"20% discount\")"
   ]
  },
  {
   "cell_type": "code",
   "execution_count": null,
   "id": "147c19be",
   "metadata": {},
   "outputs": [],
   "source": []
  },
  {
   "cell_type": "code",
   "execution_count": 21,
   "id": "96e49c70",
   "metadata": {},
   "outputs": [],
   "source": [
    " # Scenario4:my movie theater prices. price is 140 print balcony. price is 50 print chair. price is 100 print bench\n",
    " \n",
    "# నా సినిమా థియేటర్ ధరలు. ధర 140 ప్రింట్ బాల్కనీ. ధర 50 ప్రింట్ కుర్చీ. ధర 100 ప్రింట్ బెంచ్"
   ]
  },
  {
   "cell_type": "code",
   "execution_count": 22,
   "id": "754e6bc9",
   "metadata": {},
   "outputs": [
    {
     "name": "stdout",
     "output_type": "stream",
     "text": [
      "Balcony\n"
     ]
    }
   ],
   "source": [
    "price=140\n",
    "\n",
    "if price==140:\n",
    "    print(\"Balcony\")\n",
    "    \n",
    "elif price==50:\n",
    "    print(\"Chair\")\n",
    "    \n",
    "elif price==100:\n",
    "    print(\"Bench\")\n",
    "    \n",
    "else:\n",
    "    print(\"Not Available\")"
   ]
  },
  {
   "cell_type": "code",
   "execution_count": 23,
   "id": "f33f2a23",
   "metadata": {},
   "outputs": [
    {
     "name": "stdout",
     "output_type": "stream",
     "text": [
      "Bench\n"
     ]
    }
   ],
   "source": [
    "price=100\n",
    "\n",
    "if price==140:\n",
    "    print(\"Balcony\")\n",
    "    \n",
    "elif price==50:\n",
    "    print(\"Chair\")\n",
    "    \n",
    "elif price==100:\n",
    "    print(\"Bench\")\n",
    "    \n",
    "else:\n",
    "    print(\"Not Available\")"
   ]
  },
  {
   "cell_type": "code",
   "execution_count": 24,
   "id": "73002871",
   "metadata": {},
   "outputs": [
    {
     "name": "stdout",
     "output_type": "stream",
     "text": [
      "Chair\n"
     ]
    }
   ],
   "source": [
    "price=50\n",
    "\n",
    "if price==140:\n",
    "    print(\"Balcony\")\n",
    "    \n",
    "elif price==50:\n",
    "    print(\"Chair\")\n",
    "    \n",
    "elif price==100:\n",
    "    print(\"Bench\")\n",
    "    \n",
    "else:\n",
    "    print(\"Not Available\")"
   ]
  },
  {
   "cell_type": "code",
   "execution_count": 25,
   "id": "12625f85",
   "metadata": {},
   "outputs": [
    {
     "name": "stdout",
     "output_type": "stream",
     "text": [
      "Not Available\n"
     ]
    }
   ],
   "source": [
    "price=40\n",
    "\n",
    "if price==140:\n",
    "    print(\"Balcony\")\n",
    "    \n",
    "elif price==50:\n",
    "    print(\"Chair\")\n",
    "    \n",
    "elif price==100:\n",
    "    print(\"Bench\")\n",
    "    \n",
    "else:\n",
    "    print(\"Not Available\")"
   ]
  },
  {
   "cell_type": "code",
   "execution_count": null,
   "id": "ef0912f6",
   "metadata": {},
   "outputs": [],
   "source": []
  },
  {
   "cell_type": "code",
   "execution_count": 26,
   "id": "dabd967a",
   "metadata": {},
   "outputs": [],
   "source": [
    "# Scenario5: my showroom vehicle types. \n",
    "# if vehicle type is two wheeler print bike and scooty. \n",
    "# if vehicle type is four wheeler print car, loory, van and zeep\n",
    "# నా షోరూమ్ వాహనాల రకాలు. వాహనం రకం టూ వీలర్ ప్రింట్ బైక్ మరియు స్కూటీ అయితే. వాహనం రకం ఫోర్ వీలర్ ప్రింట్ కారు అయితే, లూరీ, వ్యాన్ మరియు జీప్\n"
   ]
  },
  {
   "cell_type": "code",
   "execution_count": 40,
   "id": "c4492266",
   "metadata": {},
   "outputs": [
    {
     "name": "stdout",
     "output_type": "stream",
     "text": [
      "Bike and Scooty\n"
     ]
    }
   ],
   "source": [
    "Vehicle_type=\"Two Wheeler\"\n",
    "\n",
    "if Vehicle_type==\"Two Wheeler\":\n",
    "    print(\"Bike and Scooty\")\n",
    "\n",
    "elif Vehicle_type==\"Four Wheeler\":\n",
    "    print(\"Car, Loory, Van and Zeep\")\n",
    "    \n",
    "else:\n",
    "    print(\"Not Available\")"
   ]
  },
  {
   "cell_type": "code",
   "execution_count": 41,
   "id": "0060aecd",
   "metadata": {},
   "outputs": [
    {
     "name": "stdout",
     "output_type": "stream",
     "text": [
      "Car, Loory, Van and Zeep\n"
     ]
    }
   ],
   "source": [
    "Vehicle_type=\"Four Wheeler\"\n",
    "\n",
    "if Vehicle_type==\"Two Wheeler\":\n",
    "    print(\"Bike and Scooty\")\n",
    "\n",
    "elif Vehicle_type==\"Four Wheeler\":\n",
    "    print(\"Car, Loory, Van and Zeep\")\n",
    "    \n",
    "else:\n",
    "    print(\"Not Available\")"
   ]
  },
  {
   "cell_type": "code",
   "execution_count": 42,
   "id": "083a4eea",
   "metadata": {},
   "outputs": [
    {
     "name": "stdout",
     "output_type": "stream",
     "text": [
      "Not Available\n"
     ]
    }
   ],
   "source": [
    "Vehicle_type=\"Three Wheeler\"\n",
    "\n",
    "if Vehicle_type==\"Two Wheeler\":\n",
    "    print(\"Bike and Scooty\")\n",
    "\n",
    "elif Vehicle_type==\"Four Wheeler\":\n",
    "    print(\"Car, Loory, Van and Zeep\")\n",
    "    \n",
    "else:\n",
    "    print(\"Not Available\")"
   ]
  },
  {
   "cell_type": "code",
   "execution_count": null,
   "id": "10e8cb5c",
   "metadata": {},
   "outputs": [],
   "source": []
  }
 ],
 "metadata": {
  "kernelspec": {
   "display_name": "Python 3 (ipykernel)",
   "language": "python",
   "name": "python3"
  },
  "language_info": {
   "codemirror_mode": {
    "name": "ipython",
    "version": 3
   },
   "file_extension": ".py",
   "mimetype": "text/x-python",
   "name": "python",
   "nbconvert_exporter": "python",
   "pygments_lexer": "ipython3",
   "version": "3.10.9"
  }
 },
 "nbformat": 4,
 "nbformat_minor": 5
}
