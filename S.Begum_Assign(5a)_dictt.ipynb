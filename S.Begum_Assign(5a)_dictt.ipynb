{
 "cells": [
  {
   "cell_type": "code",
   "execution_count": 1,
   "id": "c79aee4e",
   "metadata": {},
   "outputs": [],
   "source": [
    "#------------------> dictinary={key:key values}"
   ]
  },
  {
   "cell_type": "code",
   "execution_count": null,
   "id": "bc76c8a6",
   "metadata": {},
   "outputs": [],
   "source": []
  },
  {
   "cell_type": "code",
   "execution_count": 2,
   "id": "b4da2d8e",
   "metadata": {},
   "outputs": [],
   "source": [
    "#3. Create a dict with your family members(at least 10 names)?\n",
    "# expected output : { \"family_members\" : your family member details}\n"
   ]
  },
  {
   "cell_type": "code",
   "execution_count": 3,
   "id": "42ac9878",
   "metadata": {},
   "outputs": [
    {
     "data": {
      "text/plain": [
       "{'family_members': ['Md.Ali',\n",
       "  'Balkis Jaha',\n",
       "  'Shahnaz Begum',\n",
       "  'Irfan',\n",
       "  'Afzal Shaw',\n",
       "  'Shakeela Begum',\n",
       "  'Shamshad Begum',\n",
       "  'Md.Karamatulla',\n",
       "  'Shannu',\n",
       "  'Banu']}"
      ]
     },
     "execution_count": 3,
     "metadata": {},
     "output_type": "execute_result"
    }
   ],
   "source": [
    "dict={\"family_members\":[\"Md.Ali\",\"Balkis Jaha\",\"Shahnaz Begum\",\"Irfan\",\"Afzal Shaw\",\"Shakeela Begum\",\"Shamshad Begum\",\"Md.Karamatulla\",\"Shannu\",\"Banu\"]}\n",
    "dict"
   ]
  },
  {
   "cell_type": "code",
   "execution_count": null,
   "id": "2a316e3a",
   "metadata": {},
   "outputs": [],
   "source": []
  },
  {
   "cell_type": "code",
   "execution_count": 4,
   "id": "8977b5b8",
   "metadata": {},
   "outputs": [],
   "source": [
    "#4: Create a dict with your family members and relations(at least 10 names and relations)?\n",
    "# Expected output: { \"family_members\" : your family member details , \"relations\": your relation with your family member}\n",
    "# write a program to print your father name?\n",
    "# write a program to print your favorite family member name?\n"
   ]
  },
  {
   "cell_type": "code",
   "execution_count": 38,
   "id": "3c24091b",
   "metadata": {},
   "outputs": [
    {
     "data": {
      "text/plain": [
       "{'family_members': ['Md.Ali',\n",
       "  'Balkis Jaha',\n",
       "  'Shahnaz Begum',\n",
       "  'Irfan',\n",
       "  'Afzal Shaw',\n",
       "  'Shakeela Begum',\n",
       "  'Shamshad Begum',\n",
       "  'Md.Karamatulla',\n",
       "  'Shannu',\n",
       "  'Banu'],\n",
       " 'relations': ['Father',\n",
       "  'Mother',\n",
       "  'Sister',\n",
       "  'Brother',\n",
       "  'Brother',\n",
       "  'Sister',\n",
       "  'Me',\n",
       "  'Husband',\n",
       "  'Daugher',\n",
       "  'Daughter']}"
      ]
     },
     "execution_count": 38,
     "metadata": {},
     "output_type": "execute_result"
    }
   ],
   "source": [
    "dict={\"family_members\":[\"Md.Ali\",\"Balkis Jaha\",\"Shahnaz Begum\",\"Irfan\",\"Afzal Shaw\",\"Shakeela Begum\",\"Shamshad Begum\",\"Md.Karamatulla\",\"Shannu\",\"Banu\"], \"relations\":[\"Father\",\"Mother\",\"Sister\",\"Brother\",\"Brother\",\"Sister\",\"Me\",\"Husband\",\"Daugher\",\"Daughter\"]}\n",
    "dict"
   ]
  },
  {
   "cell_type": "code",
   "execution_count": 39,
   "id": "148e34db",
   "metadata": {},
   "outputs": [
    {
     "name": "stdout",
     "output_type": "stream",
     "text": [
      "my family member details: {'family_members': ['Md.Ali', 'Balkis Jaha', 'Shahnaz Begum', 'Irfan', 'Afzal Shaw', 'Shakeela Begum', 'Shamshad Begum', 'Md.Karamatulla', 'Shannu', 'Banu'], 'relations': ['Father', 'Mother', 'Sister', 'Brother', 'Brother', 'Sister', 'Me', 'Husband', 'Daugher', 'Daughter']}\n"
     ]
    }
   ],
   "source": [
    "print(\"my family member details:\",dict)"
   ]
  },
  {
   "cell_type": "code",
   "execution_count": 6,
   "id": "0d8f371e",
   "metadata": {},
   "outputs": [],
   "source": [
    "# write a program to print your father name?"
   ]
  },
  {
   "cell_type": "code",
   "execution_count": 7,
   "id": "842689cd",
   "metadata": {},
   "outputs": [
    {
     "name": "stdout",
     "output_type": "stream",
     "text": [
      "My father name is: Md.Ali\n"
     ]
    }
   ],
   "source": [
    "print(\"My father name is:\",dict[\"family_members\"][0])"
   ]
  },
  {
   "cell_type": "code",
   "execution_count": 8,
   "id": "76c5c72a",
   "metadata": {},
   "outputs": [],
   "source": [
    "# write a program to print your favorite family member name?"
   ]
  },
  {
   "cell_type": "code",
   "execution_count": 9,
   "id": "9d131180",
   "metadata": {},
   "outputs": [
    {
     "name": "stdout",
     "output_type": "stream",
     "text": [
      "MY favorite family member name is: Balkis Jaha\n"
     ]
    }
   ],
   "source": [
    "print(\"MY favorite family member name is:\",dict[\"family_members\"][1])"
   ]
  },
  {
   "cell_type": "code",
   "execution_count": null,
   "id": "8b1c4b30",
   "metadata": {},
   "outputs": [],
   "source": []
  },
  {
   "cell_type": "code",
   "execution_count": 10,
   "id": "26caec82",
   "metadata": {},
   "outputs": [],
   "source": [
    "#5: Create a your friend names and their quality(at least 10 names)?\n",
    "# Expected output: {\"friend_names\" : your friend names, \"quality\" : your friend quality}\n",
    "# Example output: {\"friend_names\": [\"ravi\",\"shekar\", \"abbas\",\"jhonny\"], \"quality\" : [\"talk active\", \"anger\", \"intelligent\", \"funny\"]}\n",
    "# write a program to print your intelligent friend name?\n",
    "# write a program to print your best friend name?"
   ]
  },
  {
   "cell_type": "code",
   "execution_count": 11,
   "id": "7df0c459",
   "metadata": {},
   "outputs": [
    {
     "data": {
      "text/plain": [
       "{'friend_names': ['Ravi',\n",
       "  'Shekar',\n",
       "  'Abbas',\n",
       "  'Jhonny',\n",
       "  'Shiva',\n",
       "  'Pradeep',\n",
       "  'Raju',\n",
       "  'Tony',\n",
       "  'Srinu',\n",
       "  'Sanjay'],\n",
       " 'Quality': ['Talk Active',\n",
       "  'Anger',\n",
       "  'Intelligent',\n",
       "  'Funny',\n",
       "  'Good',\n",
       "  'Innocent',\n",
       "  'Clever',\n",
       "  'Sadist',\n",
       "  'Hard Worker',\n",
       "  'Good Singer']}"
      ]
     },
     "execution_count": 11,
     "metadata": {},
     "output_type": "execute_result"
    }
   ],
   "source": [
    "dict={\"friend_names\": [\"Ravi\",\"Shekar\", \"Abbas\",\"Jhonny\",\"Shiva\",\"Pradeep\",\"Raju\",\"Tony\",\"Srinu\",\"Sanjay\"], \"Quality\" : [\"Talk Active\", \"Anger\", \"Intelligent\", \"Funny\", \"Good\", \"Innocent\", \"Clever\", \"Sadist\",\"Hard Worker\",\"Good Singer\"]}\n",
    "dict"
   ]
  },
  {
   "cell_type": "code",
   "execution_count": 12,
   "id": "69fdcbe2",
   "metadata": {},
   "outputs": [],
   "source": [
    "# write a program to print your intelligent friend name?"
   ]
  },
  {
   "cell_type": "code",
   "execution_count": 13,
   "id": "174a549d",
   "metadata": {},
   "outputs": [
    {
     "name": "stdout",
     "output_type": "stream",
     "text": [
      "My Intelligent friend name is : Abbas\n"
     ]
    }
   ],
   "source": [
    "print (\"My Intelligent friend name is :\",dict[\"friend_names\"][2])"
   ]
  },
  {
   "cell_type": "code",
   "execution_count": 14,
   "id": "fdeda0ca",
   "metadata": {},
   "outputs": [],
   "source": [
    "# write a program to print your best friend name?"
   ]
  },
  {
   "cell_type": "code",
   "execution_count": 15,
   "id": "ea0c782a",
   "metadata": {},
   "outputs": [
    {
     "name": "stdout",
     "output_type": "stream",
     "text": [
      "My best friend name is : Shiva\n"
     ]
    }
   ],
   "source": [
    "print(\"My best friend name is :\",dict[\"friend_names\"][4])"
   ]
  },
  {
   "cell_type": "code",
   "execution_count": null,
   "id": "da81579f",
   "metadata": {},
   "outputs": [],
   "source": []
  },
  {
   "cell_type": "code",
   "execution_count": 16,
   "id": "61b328ba",
   "metadata": {},
   "outputs": [],
   "source": [
    "#6: Create a your favorite food names and your rating(at least 10 names)?\n",
    "# Expected output: {\"veg_items\" : food names, \"rating\" : your rating}\n",
    "# {\"nonveg_items\" : food names, \"rating\" : your rating}\n",
    "# write a program to print your rating 1 food name?\n"
   ]
  },
  {
   "cell_type": "code",
   "execution_count": 26,
   "id": "d63a925a",
   "metadata": {},
   "outputs": [
    {
     "data": {
      "text/plain": [
       "{'veg_items': ['Potato fry',\n",
       "  'Tomato dal',\n",
       "  'Pudina Chatny',\n",
       "  'Cabbage dal',\n",
       "  \"Lady's finger fry\",\n",
       "  'Potato Tomato Curry',\n",
       "  'Brinjal Curry',\n",
       "  'Tomato Curry',\n",
       "  'Sambar',\n",
       "  'Snake guard Curry'],\n",
       " 'Rating': [2, 1, 5, 7, 3, 8, 4, 9, 6, 10]}"
      ]
     },
     "execution_count": 26,
     "metadata": {},
     "output_type": "execute_result"
    }
   ],
   "source": [
    "dict1={\"veg_items\" : [\"Potato fry\",\"Tomato dal\",\"Pudina Chatny\",\"Cabbage dal\",\"Lady's finger fry\",\"Potato Tomato Curry\",\"Brinjal Curry\",\"Tomato Curry\",\"Sambar\",\"Snake guard Curry\"],\"Rating\":[2,1,5,7,3,8,4,9,6,10]}\n",
    "dict1"
   ]
  },
  {
   "cell_type": "code",
   "execution_count": 27,
   "id": "cdd090d3",
   "metadata": {},
   "outputs": [
    {
     "data": {
      "text/plain": [
       "{'nonveg_items': ['Matton Curry',\n",
       "  'Chicken Curry',\n",
       "  'Matton Khurma',\n",
       "  'Matton Biryani',\n",
       "  'Chicken Biryani',\n",
       "  'Chicken fry',\n",
       "  'Matton fry',\n",
       "  'Fish  Curry',\n",
       "  'Fish fry',\n",
       "  'Prawns fry'],\n",
       " 'Rating': [4, 10, 3, 1, 2, 8, 5, 7, 6, 9]}"
      ]
     },
     "execution_count": 27,
     "metadata": {},
     "output_type": "execute_result"
    }
   ],
   "source": [
    "dict2={\"nonveg_items\" :[\"Matton Curry\",\"Chicken Curry\",\"Matton Khurma\",\"Matton Biryani\",\"Chicken Biryani\",\"Chicken fry\",\"Matton fry\",\"Fish  Curry\",\"Fish fry\",\"Prawns fry\"],\"Rating\":[4,10,3,1,2,8,5,7,6,9]}\n",
    "dict2"
   ]
  },
  {
   "cell_type": "code",
   "execution_count": 19,
   "id": "7613aebf",
   "metadata": {},
   "outputs": [],
   "source": [
    "# write a program to print your rating 1 food name?"
   ]
  },
  {
   "cell_type": "code",
   "execution_count": 28,
   "id": "67bc53d4",
   "metadata": {},
   "outputs": [
    {
     "name": "stdout",
     "output_type": "stream",
     "text": [
      "Rating 1 food name Tomato dal\n"
     ]
    }
   ],
   "source": [
    "print(\"Rating 1 food name\",dict1[\"veg_items\"][1])"
   ]
  },
  {
   "cell_type": "code",
   "execution_count": 29,
   "id": "e2713f4b",
   "metadata": {},
   "outputs": [
    {
     "name": "stdout",
     "output_type": "stream",
     "text": [
      "Rating 1 food name Matton Biryani\n"
     ]
    }
   ],
   "source": [
    "print(\"Rating 1 food name\",dict2[\"nonveg_items\"][3])"
   ]
  },
  {
   "cell_type": "code",
   "execution_count": 31,
   "id": "6f68d4a7",
   "metadata": {},
   "outputs": [
    {
     "name": "stdout",
     "output_type": "stream",
     "text": [
      "Rating 1 food names are: Tomato dal Matton Biryani\n"
     ]
    }
   ],
   "source": [
    "print(\"Rating 1 food names are:\",dict1[\"veg_items\"][1],dict2[\"nonveg_items\"][3])"
   ]
  },
  {
   "cell_type": "code",
   "execution_count": null,
   "id": "891b4d9a",
   "metadata": {},
   "outputs": [],
   "source": []
  },
  {
   "cell_type": "code",
   "execution_count": null,
   "id": "7fc2b863",
   "metadata": {},
   "outputs": [],
   "source": [
    "# 7: Create a your favorite destination(cities) names and your rating(at least 10 names)?\n",
    "Expected output: {\"destination\" : cities name, \"rating\" : your rating}"
   ]
  },
  {
   "cell_type": "code",
   "execution_count": 34,
   "id": "fccb362e",
   "metadata": {},
   "outputs": [
    {
     "data": {
      "text/plain": [
       "{'City_names': ['Delhi',\n",
       "  'Mumbai',\n",
       "  'Kolkata',\n",
       "  'Chennai',\n",
       "  'Lacknow',\n",
       "  'Hyderabad',\n",
       "  'Varanasi',\n",
       "  'Bangalure',\n",
       "  'Ahmedabad',\n",
       "  'Surat'],\n",
       " 'Rating': [4, 6, 3, 5, 8, 2, 7, 1, 9, 10]}"
      ]
     },
     "execution_count": 34,
     "metadata": {},
     "output_type": "execute_result"
    }
   ],
   "source": [
    "fav_destination={\"City_names\" :[\"Delhi\",\"Mumbai\",\"Kolkata\",\"Chennai\",\"Lacknow\",\"Hyderabad\",\"Varanasi\",\"Bangalure\",\"Ahmedabad\",\"Surat\"],\"Rating\":[4,6,3,5,8,2,7,1,9,10]}\n",
    "fav_destination"
   ]
  },
  {
   "cell_type": "code",
   "execution_count": 35,
   "id": "6c8750c2",
   "metadata": {},
   "outputs": [
    {
     "name": "stdout",
     "output_type": "stream",
     "text": [
      "My favorite destination city name is: Bangalure\n"
     ]
    }
   ],
   "source": [
    "print (\"My favorite destination city name is:\",fav_destination[\"City_names\"][7])"
   ]
  },
  {
   "cell_type": "code",
   "execution_count": null,
   "id": "228e16ad",
   "metadata": {},
   "outputs": [],
   "source": []
  },
  {
   "cell_type": "code",
   "execution_count": null,
   "id": "b6c75c0f",
   "metadata": {},
   "outputs": [],
   "source": [
    "# 8: Create a your favorite destination(cities) names and your rating(at least 10 names)?\n",
    "# Expected output: {\"destination\" : cities name, \"rating\" : your rating}\n",
    "# write a program to print your rating 3 city name?"
   ]
  },
  {
   "cell_type": "code",
   "execution_count": 36,
   "id": "33411e90",
   "metadata": {},
   "outputs": [
    {
     "name": "stdout",
     "output_type": "stream",
     "text": [
      "My Rating 3 City name is: Kolkata\n"
     ]
    }
   ],
   "source": [
    "# write a program to print your rating 3 city name?\n",
    "\n",
    "print(\"My Rating 3 City name is:\",fav_destination[\"City_names\"][2])"
   ]
  },
  {
   "cell_type": "code",
   "execution_count": null,
   "id": "793e3184",
   "metadata": {},
   "outputs": [],
   "source": []
  },
  {
   "cell_type": "code",
   "execution_count": null,
   "id": "e7051f92",
   "metadata": {},
   "outputs": [],
   "source": []
  }
 ],
 "metadata": {
  "kernelspec": {
   "display_name": "Python 3 (ipykernel)",
   "language": "python",
   "name": "python3"
  },
  "language_info": {
   "codemirror_mode": {
    "name": "ipython",
    "version": 3
   },
   "file_extension": ".py",
   "mimetype": "text/x-python",
   "name": "python",
   "nbconvert_exporter": "python",
   "pygments_lexer": "ipython3",
   "version": "3.10.9"
  }
 },
 "nbformat": 4,
 "nbformat_minor": 5
}
